{
 "cells": [
  {
   "cell_type": "code",
   "execution_count": 1,
   "metadata": {},
   "outputs": [],
   "source": [
    "import os\n",
    "\n",
    "os.chdir(os.path.dirname(\"../\"))"
   ]
  },
  {
   "cell_type": "code",
   "execution_count": 2,
   "metadata": {},
   "outputs": [],
   "source": [
    "import warnings\n",
    "\n",
    "warnings.filterwarnings(\"ignore\")"
   ]
  },
  {
   "cell_type": "markdown",
   "metadata": {},
   "source": [
    "# deepOF data exploration"
   ]
  },
  {
   "cell_type": "markdown",
   "metadata": {},
   "source": [
    "Given a dataset, this notebook allows the user to \n",
    "\n",
    "* Load and process the dataset using deepof.data\n",
    "* Visualize data quality with interactive plots\n",
    "* Visualize training instances as multi-timepoint scatter plots with interactive configurations\n",
    "* Visualize training instances as video clips with interactive configurations"
   ]
  },
  {
   "cell_type": "code",
   "execution_count": 3,
   "metadata": {},
   "outputs": [],
   "source": [
    "import deepof.data\n",
    "import deepof.utils\n",
    "import numpy as np\n",
    "import pandas as pd\n",
    "import ruptures as rpt\n",
    "import tensorflow as tf\n",
    "\n",
    "from ipywidgets import interact, widgets\n",
    "from IPython import display\n",
    "from matplotlib.animation import FuncAnimation\n",
    "from scipy.signal import savgol_filter\n",
    "import matplotlib.pyplot as plt\n",
    "import seaborn as sns"
   ]
  },
  {
   "cell_type": "markdown",
   "metadata": {},
   "source": [
    "### 1. Define and run project"
   ]
  },
  {
   "cell_type": "code",
   "execution_count": 4,
   "metadata": {},
   "outputs": [],
   "source": [
    "exclude_bodyparts = tuple([\"\"])"
   ]
  },
  {
   "cell_type": "code",
   "execution_count": 5,
   "metadata": {
    "scrolled": true
   },
   "outputs": [
    {
     "name": "stdout",
     "output_type": "stream",
     "text": [
      "Loading trajectories...\n",
      "Smoothing trajectories...\n",
      "Interpolating outliers...\n",
      "Iterative imputation of ocluded bodyparts...\n",
      "Computing distances...\n",
      "Computing angles...\n",
      "Done!\n"
     ]
    }
   ],
   "source": [
    "# Use deepof to load a project\n",
    "proj = deepof.data.project(\n",
    "    path=\"../../Desktop/deepoftesttemp/\",\n",
    "    arena_dims=[380],\n",
    "    arena_detection=\"rule-based\",\n",
    "    exclude_bodyparts=exclude_bodyparts,\n",
    "    interpolate_outliers=True,\n",
    "    smooth_alpha=9,\n",
    ").run()"
   ]
  },
  {
   "cell_type": "markdown",
   "metadata": {},
   "source": [
    "### 2. Inspect dataset quality"
   ]
  },
  {
   "cell_type": "code",
   "execution_count": 6,
   "metadata": {},
   "outputs": [],
   "source": [
    "all_quality = pd.concat([tab for tab in proj.get_quality().values()])"
   ]
  },
  {
   "cell_type": "code",
   "execution_count": 7,
   "metadata": {
    "scrolled": true
   },
   "outputs": [
    {
     "data": {
      "image/png": "[encoded data removed]",
      "text/plain": [
       "<Figure size 432x288 with 1 Axes>"
      ]
     },
     "metadata": {
      "needs_background": "light"
     },
     "output_type": "display_data"
    }
   ],
   "source": [
    "all_quality.boxplot(rot=45)\n",
    "plt.ylim(0.99985, 1.00001)\n",
    "plt.show()"
   ]
  },
  {
   "cell_type": "code",
   "execution_count": 8,
   "metadata": {
    "scrolled": true
   },
   "outputs": [
    {
     "data": {
      "application/vnd.jupyter.widget-view+json": {
       "model_id": "1f7fe7cb54c5465481415a3e8c9f7ed9",
       "version_major": 2,
       "version_minor": 0
      },
      "text/plain": [
       "interactive(children=(FloatSlider(value=0.5, description='quality_top', max=1.0, step=0.01), Output()), _dom_c…"
      ]
     },
     "metadata": {},
     "output_type": "display_data"
    }
   ],
   "source": [
    "@interact(quality_top=(0.0, 1.0, 0.01))\n",
    "def low_quality_tags(quality_top):\n",
    "    pd.DataFrame(\n",
    "        pd.melt(all_quality)\n",
    "        .groupby(\"bodyparts\")\n",
    "        .value.apply(lambda y: sum(y < quality_top) / len(y) * 100)\n",
    "    ).sort_values(by=\"value\", ascending=False).plot.bar(rot=45)\n",
    "\n",
    "    plt.xlabel(\"body part\")\n",
    "    plt.ylabel(\"Tags with quality under {} (%)\".format(quality_top * 100))\n",
    "    plt.tight_layout()\n",
    "    plt.legend([])\n",
    "    plt.show()"
   ]
  },
  {
   "cell_type": "markdown",
   "metadata": {},
   "source": [
    "In the cell above, you see the percentage of labels per body part which have a quality lower than the selected value (0.50 by default) **before** preprocessing. The values are taken directly from DeepLabCut."
   ]
  },
  {
   "cell_type": "markdown",
   "metadata": {},
   "source": [
    "### 3. Get coordinates, distances and angles"
   ]
  },
  {
   "cell_type": "markdown",
   "metadata": {},
   "source": [
    "And get speed, acceleration and jerk for each"
   ]
  },
  {
   "cell_type": "code",
   "execution_count": 9,
   "metadata": {},
   "outputs": [],
   "source": [
    "# Get coordinates, speeds, accelerations and jerks for positions\n",
    "position_coords = proj.get_coords(center=\"Center\", align=\"Spine_1\", align_inplace=True)\n",
    "position_speeds = proj.get_coords(center=\"Center\", speed=1)\n",
    "position_accels = proj.get_coords(center=\"Center\", speed=2)\n",
    "position_jerks = proj.get_coords(center=\"Center\", speed=3)"
   ]
  },
  {
   "cell_type": "code",
   "execution_count": 10,
   "metadata": {},
   "outputs": [],
   "source": [
    "# Get coordinates, speeds, accelerations and jerks for distances\n",
    "distance_coords = proj.get_distances()\n",
    "distance_speeds = proj.get_distances(speed=1)\n",
    "distance_accels = proj.get_distances(speed=2)\n",
    "distance_jerks = proj.get_distances(speed=3)"
   ]
  },
  {
   "cell_type": "code",
   "execution_count": 11,
   "metadata": {},
   "outputs": [],
   "source": [
    "# Get coordinates, speeds, accelerations and jerks for angles\n",
    "angle_coords = proj.get_angles()\n",
    "angle_speeds = proj.get_angles(speed=1)\n",
    "angle_accels = proj.get_angles(speed=2)\n",
    "angle_jerks = proj.get_angles(speed=3)"
   ]
  },
  {
   "cell_type": "markdown",
   "metadata": {},
   "source": [
    "### 4. Analyse smoothing"
   ]
  },
  {
   "cell_type": "code",
   "execution_count": 15,
   "metadata": {},
   "outputs": [
    {
     "data": {
      "application/vnd.jupyter.widget-view+json": {
       "model_id": "f5625690884e460b8b33478ab38764fe",
       "version_major": 2,
       "version_minor": 0
      },
      "text/plain": [
       "interactive(children=(Dropdown(description='test', options=('Test 1_s11', 'Test 1_s12'), value='Test 1_s11'), …"
      ]
     },
     "metadata": {},
     "output_type": "display_data"
    }
   ],
   "source": [
    "@interact(test=position_coords.keys(), \n",
    "          bpart = set([i[0] for i in list(position_coords.values())[0].columns]), \n",
    "          max_obs=(100, 1000), \n",
    "          smooth_degree=widgets.IntSlider(min=2, max=11, value=9), \n",
    "          smooth_wlen=widgets.IntSlider(min=11, max=101, step=2, value=11))\n",
    "def plot_smoothing(test, bpart, max_obs, smooth_degree, smooth_wlen):\n",
    "    \n",
    "    fig = plt.figure(figsize=(12, 8))\n",
    "    \n",
    "    no_smooth = deepof.data.project(\n",
    "    path=\"../../Desktop/deepoftesttemp/\",\n",
    "    arena_dims=[380],\n",
    "    arena_detection=\"rule-based\",\n",
    "    exclude_bodyparts=exclude_bodyparts,\n",
    "    interpolate_outliers=True,\n",
    "    smooth_alpha=None,\n",
    "    ).run(verbose=0).get_coords(center=\"Center\", align=\"Spine_1\", align_inplace=True)\n",
    "    \n",
    "    no_smooth_coords = no_smooth[test].iloc[:max_obs, :].loc[:, bpart]\n",
    "    smooth_coords = savgol_filter(no_smooth_coords, smooth_wlen, smooth_degree, axis=0)\n",
    "    \n",
    "    plt.plot(no_smooth_coords, linestyle=\"--\", label=\"no smoothing\")\n",
    "    plt.plot(smooth_coords, color=\"red\", label=\"savgol, poly={}, wlen={}\".format(smooth_degree, smooth_wlen))\n",
    "    \n",
    "    plt.title(\"SavGol smoothing exploration\")\n",
    "    plt.xlabel(\"Time\")\n",
    "    plt.ylabel(\"Coordinate value\")\n",
    "\n",
    "    plt.legend()\n",
    "    plt.tight_layout()\n",
    "    plt.show()"
   ]
  },
  {
   "cell_type": "markdown",
   "metadata": {},
   "source": [
    "### 5. Display training instances"
   ]
  },
  {
   "cell_type": "code",
   "execution_count": 16,
   "metadata": {},
   "outputs": [
    {
     "data": {
      "application/vnd.jupyter.widget-view+json": {
       "model_id": "6974e5c435f442f6b4db93a93118450e",
       "version_major": 2,
       "version_minor": 0
      },
      "text/plain": [
       "interactive(children=(FloatSlider(value=7500.0, description='time_slider', max=15000.0, step=25.0), IntSlider(…"
      ]
     },
     "metadata": {},
     "output_type": "display_data"
    }
   ],
   "source": [
    "random_exp = np.random.choice(list(position_coords.keys()), 1)[0]\n",
    "\n",
    "\n",
    "@interact(time_slider=(0.0, 15000, 25), length_slider=(10, 100, 5))\n",
    "def plot_mice_across_time(time_slider, length_slider):\n",
    "\n",
    "    plt.figure(figsize=(10, 10))\n",
    "\n",
    "    for bpart in position_coords[random_exp].columns.levels[0]:\n",
    "        if bpart != \"Center\":\n",
    "            sns.scatterplot(\n",
    "                data=position_coords[random_exp].loc[\n",
    "                    time_slider : time_slider + length_slider - 1, bpart\n",
    "                ],\n",
    "                x=\"x\",\n",
    "                y=\"y\",\n",
    "                label=bpart,\n",
    "                palette=sns.color_palette(\"tab10\"),\n",
    "            )\n",
    "\n",
    "    plt.title(\"Positions across time for centered data\")\n",
    "    plt.legend(\n",
    "        fontsize=15,\n",
    "        bbox_to_anchor=(1.5, 1),\n",
    "        title=\"Body part\",\n",
    "        title_fontsize=18,\n",
    "        shadow=False,\n",
    "        facecolor=\"white\",\n",
    "    )\n",
    "\n",
    "    plt.ylim(-100, 60)\n",
    "    plt.xlim(-60, 60)\n",
    "    plt.show()"
   ]
  },
  {
   "cell_type": "markdown",
   "metadata": {},
   "source": [
    "The figure above is a multi time-point scatter plot. The time_slider allows you to scroll across the video, and the length_slider selects the number of time-points to include. The idea is to intuitively visualize the data that goes into a training instance for a given preprocessing setting."
   ]
  },
  {
   "cell_type": "code",
   "execution_count": 17,
   "metadata": {},
   "outputs": [],
   "source": [
    "# Auxiliary animation functions\n",
    "\n",
    "\n",
    "def plot_mouse_graph(instant_x, instant_y, ax, edges):\n",
    "    \"\"\"Generates a graph plot of the mouse\"\"\"\n",
    "    plots = []\n",
    "    for edge in edges:\n",
    "        (temp_plot,) = ax.plot(\n",
    "            [float(instant_x[edge[0]]), float(instant_x[edge[1]])],\n",
    "            [float(instant_y[edge[0]]), float(instant_y[edge[1]])],\n",
    "            color=\"#006699\",\n",
    "            linewidth=2.0,\n",
    "        )\n",
    "        plots.append(temp_plot)\n",
    "    return plots\n",
    "\n",
    "\n",
    "def update_mouse_graph(x, y, plots, edges):\n",
    "    \"\"\"Updates the graph plot to enable animation\"\"\"\n",
    "\n",
    "    for plot, edge in zip(plots, edges):\n",
    "        plot.set_data(\n",
    "            [float(x[edge[0]]), float(x[edge[1]])],\n",
    "            [float(y[edge[0]]), float(y[edge[1]])],\n",
    "        )"
   ]
  },
  {
   "cell_type": "code",
   "execution_count": 18,
   "metadata": {},
   "outputs": [
    {
     "name": "stdout",
     "output_type": "stream",
     "text": [
      "Test 1_s11\n"
     ]
    },
    {
     "data": {
      "application/vnd.jupyter.widget-view+json": {
       "model_id": "44f6e3b30fe6431b88e832731a7a88d5",
       "version_major": 2,
       "version_minor": 0
      },
      "text/plain": [
       "interactive(children=(FloatSlider(value=7500.0, description='time_slider', max=15000.0, step=25.0), IntSlider(…"
      ]
     },
     "metadata": {},
     "output_type": "display_data"
    }
   ],
   "source": [
    "random_exp = np.random.choice(list(position_coords.keys()), 1)[0]\n",
    "print(random_exp)\n",
    "\n",
    "\n",
    "@interact(time_slider=(0.0, 15000, 25), length_slider=(10, 100, 5))\n",
    "def animate_mice_across_time(time_slider, length_slider):\n",
    "\n",
    "    fig, ax = plt.subplots(1, 1, figsize=(10, 10))\n",
    "\n",
    "    edges = deepof.utils.connect_mouse_topview()\n",
    "\n",
    "    for bpart in exclude_bodyparts:\n",
    "        if bpart:\n",
    "            edges.remove_node(bpart)\n",
    "\n",
    "    for limb in [\"Left_fhip\", \"Right_fhip\", \"Left_bhip\", \"Right_bhip\"]:\n",
    "        edges.remove_edge(\"Center\", limb)\n",
    "        if (\"Tail_base\", limb) in list(edges.edges()):\n",
    "            edges.remove_edge(\"Tail_base\", limb)\n",
    "\n",
    "    edges = edges.edges()\n",
    "\n",
    "    data = position_coords[random_exp].loc[\n",
    "        time_slider : time_slider + length_slider - 1, :\n",
    "    ]\n",
    "\n",
    "    data[\"Center\", \"x\"] = 0\n",
    "    data[\"Center\", \"y\"] = 0\n",
    "\n",
    "    init_x = data.xs(\"x\", level=1, axis=1, drop_level=False).iloc[0, :]\n",
    "    init_y = data.xs(\"y\", level=1, axis=1, drop_level=False).iloc[0, :]\n",
    "\n",
    "    plots = plot_mouse_graph(init_x, init_y, ax, edges)\n",
    "    scatter = ax.scatter(x=np.array(init_x), y=np.array(init_y), color=\"#006699\",)\n",
    "\n",
    "    # Update data in main plot\n",
    "    def animation_frame(i):\n",
    "        # Update scatter plot\n",
    "        x = data.xs(\"x\", level=1, axis=1, drop_level=False).iloc[i, :]\n",
    "        y = data.xs(\"y\", level=1, axis=1, drop_level=False).iloc[i, :]\n",
    "\n",
    "        scatter.set_offsets(np.c_[np.array(x), np.array(y)])\n",
    "        update_mouse_graph(x, y, plots, edges)\n",
    "\n",
    "        return scatter\n",
    "\n",
    "    animation = FuncAnimation(\n",
    "        fig, func=animation_frame, frames=length_slider, interval=75,\n",
    "    )\n",
    "\n",
    "    ax.set_title(\"Positions across time for centered data\")\n",
    "    ax.set_ylim(-90, 60)\n",
    "    ax.set_xlim(-60, 60)\n",
    "    ax.set_xlabel(\"x\")\n",
    "    ax.set_ylabel(\"y\")\n",
    "\n",
    "    video = animation.to_html5_video()\n",
    "    html = display.HTML(video)\n",
    "    display.display(html)\n",
    "    plt.close()"
   ]
  },
  {
   "cell_type": "markdown",
   "metadata": {},
   "source": [
    "The figure above displays exactly the same data as the multi time-point scatter plot, but in the form of a video (one training instance at the time)."
   ]
  },
  {
   "cell_type": "markdown",
   "metadata": {},
   "source": [
    "### 6. Detect changepoints"
   ]
  },
  {
   "cell_type": "code",
   "execution_count": null,
   "metadata": {},
   "outputs": [],
   "source": [
    "test_rupt = np.array(position_coords[\"Test 1_s11\"])"
   ]
  },
  {
   "cell_type": "code",
   "execution_count": null,
   "metadata": {},
   "outputs": [],
   "source": [
    "test_rupt.shape"
   ]
  },
  {
   "cell_type": "code",
   "execution_count": null,
   "metadata": {},
   "outputs": [],
   "source": [
    "algo = rpt.Pelt(model=\"rbf\", min_size=10, jump=1).fit(test_rupt)\n",
    "result = algo.predict(pen=3)"
   ]
  },
  {
   "cell_type": "code",
   "execution_count": null,
   "metadata": {},
   "outputs": [],
   "source": [
    "len(result)"
   ]
  },
  {
   "cell_type": "code",
   "execution_count": null,
   "metadata": {},
   "outputs": [],
   "source": [
    "cut = 1000\n",
    "cut = result[np.argmin(np.abs(np.array(result) - cut))]\n",
    "print(\"cut:\", cut)\n",
    "rpt.display(test_rupt[:cut], [i for i in result if i <= cut])\n",
    "plt.show()"
   ]
  },
  {
   "cell_type": "code",
   "execution_count": null,
   "metadata": {},
   "outputs": [],
   "source": []
  }
 ],
 "metadata": {
  "kernelspec": {
   "display_name": "Python 3",
   "language": "python",
   "name": "python3"
  },
  "language_info": {
   "codemirror_mode": {
    "name": "ipython",
    "version": 3
   },
   "file_extension": ".py",
   "mimetype": "text/x-python",
   "name": "python",
   "nbconvert_exporter": "python",
   "pygments_lexer": "ipython3",
   "version": "3.6.10"
  }
 },
 "nbformat": 4,
 "nbformat_minor": 4
}
