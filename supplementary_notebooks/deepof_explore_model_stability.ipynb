{
 "cells": [
  {
   "cell_type": "code",
   "execution_count": 1,
   "metadata": {},
   "outputs": [],
   "source": [
    "%load_ext autoreload\n",
    "%autoreload 2"
   ]
  },
  {
   "cell_type": "code",
   "execution_count": 2,
   "metadata": {},
   "outputs": [],
   "source": [
    "import warnings\n",
    "\n",
    "warnings.filterwarnings(\"ignore\")"
   ]
  },
  {
   "cell_type": "markdown",
   "metadata": {},
   "source": [
    "# deepOF model stability"
   ]
  },
  {
   "cell_type": "markdown",
   "metadata": {},
   "source": [
    "Given a dataset and a set of trained models, this notebook allows the user to \n",
    "\n",
    "* Group all weights according to their parameters\n",
    "* Load the corresponding models\n",
    "* Compute cluster assignment for a series of data points\n",
    "* Compute and visualize the Adjusted Rand Index for each group"
   ]
  },
  {
   "cell_type": "code",
   "execution_count": 3,
   "metadata": {},
   "outputs": [],
   "source": [
    "import os\n",
    "\n",
    "os.chdir(os.path.dirname(\"../\"))"
   ]
  },
  {
   "cell_type": "code",
   "execution_count": 4,
   "metadata": {},
   "outputs": [],
   "source": [
    "import deepof.data\n",
    "import deepof.utils\n",
    "import numpy as np\n",
    "import pandas as pd\n",
    "import re\n",
    "import tensorflow as tf\n",
    "from itertools import combinations\n",
    "from tqdm import tqdm_notebook as tqdm\n",
    "\n",
    "import matplotlib.pyplot as plt\n",
    "import seaborn as sns\n",
    "\n",
    "from sklearn.metrics import adjusted_rand_score"
   ]
  },
  {
   "cell_type": "markdown",
   "metadata": {},
   "source": [
    "### 1. Define and run project"
   ]
  },
  {
   "cell_type": "code",
   "execution_count": 5,
   "metadata": {},
   "outputs": [],
   "source": [
    "path = os.path.join(\"..\", \"..\", \"Desktop\", \"deepof-data\", \"deepof_single_topview\")\n",
    "trained_network = os.path.join(\"..\", \"..\", \"Desktop\", \"deepof_trained_weights_280521\", \"var_overlap_loss\")\n",
    "exclude_bodyparts = tuple([\"\"])\n",
    "window_size = 24"
   ]
  },
  {
   "cell_type": "code",
   "execution_count": 6,
   "metadata": {},
   "outputs": [
    {
     "name": "stdout",
     "output_type": "stream",
     "text": [
      "CPU times: user 43.9 s, sys: 2.86 s, total: 46.8 s\n",
      "Wall time: 39.1 s\n"
     ]
    }
   ],
   "source": [
    "%%time\n",
    "proj = deepof.data.project(\n",
    "    path=path, smooth_alpha=0.999, exclude_bodyparts=exclude_bodyparts, arena_dims=[380],\n",
    ")"
   ]
  },
  {
   "cell_type": "code",
   "execution_count": 7,
   "metadata": {
    "scrolled": true
   },
   "outputs": [
    {
     "name": "stdout",
     "output_type": "stream",
     "text": [
      "Loading trajectories...\n",
      "Smoothing trajectories...\n",
      "Interpolating outliers...\n",
      "Iterative imputation of ocluded bodyparts...\n",
      "Computing distances...\n",
      "Computing angles...\n",
      "Done!\n",
      "deepof analysis of 166 videos\n",
      "CPU times: user 12min 34s, sys: 24.4 s, total: 12min 58s\n",
      "Wall time: 3min 12s\n"
     ]
    }
   ],
   "source": [
    "%%time\n",
    "proj = proj.run(verbose=True)\n",
    "print(proj)"
   ]
  },
  {
   "cell_type": "code",
   "execution_count": 8,
   "metadata": {},
   "outputs": [],
   "source": [
    "coords = proj.get_coords(center=\"Center\", align=\"Spine_1\", align_inplace=True)\n",
    "data = coords.preprocess(test_videos=0, window_step=24, window_size=window_size, shuffle=False)[\n",
    "    0\n",
    "]"
   ]
  },
  {
   "cell_type": "code",
   "execution_count": 9,
   "metadata": {},
   "outputs": [],
   "source": [
    "rand_idx = np.random.choice(range(data.shape[0]), 10000, replace=False)\n",
    "data = data[rand_idx]"
   ]
  },
  {
   "cell_type": "markdown",
   "metadata": {},
   "source": [
    "### 2. Load and group model weights"
   ]
  },
  {
   "cell_type": "code",
   "execution_count": 10,
   "metadata": {},
   "outputs": [],
   "source": [
    "# Group based on training instance length\n",
    "trained_weights = [os.path.join(trained_network, i) for i in os.listdir(trained_network) if i.endswith(\"h5\")]\n",
    "trained_weights_dict = {}\n",
    "for tw in trained_weights:\n",
    "    added = False\n",
    "    warmup_mode = re.findall(\"_warmup_mode=(\\w*)_\", tw)[0]\n",
    "    length = re.findall(\"loss_warmup=(\\d*)_\", tw)[0]\n",
    "    rid = \"{}_{}\".format(warmup_mode, length)\n",
    "    for key in trained_weights_dict.keys():\n",
    "        if rid == key:\n",
    "            trained_weights_dict[key].append(tw)\n",
    "            added = True\n",
    "    if not added:\n",
    "        trained_weights_dict[rid] = [tw]"
   ]
  },
  {
   "cell_type": "markdown",
   "metadata": {},
   "source": [
    "### 3. Load models and predict clusters for sampled data"
   ]
  },
  {
   "cell_type": "code",
   "execution_count": 16,
   "metadata": {},
   "outputs": [],
   "source": [
    "groupings_dict = {}"
   ]
  },
  {
   "cell_type": "code",
   "execution_count": 17,
   "metadata": {},
   "outputs": [],
   "source": [
    "def load_model_and_get_groupings(data, weights):\n",
    "\n",
    "    # Set model parameters\n",
    "    encoding = int(re.findall(\"encoding=(\\d+)_\", weights)[0])\n",
    "    k = int(re.findall(\"k=(\\d+)_\", weights)[0])\n",
    "    loss = re.findall(\"loss=(.+?)_\", weights)[0]\n",
    "    NextSeqPred = float(re.findall(\"NextSeqPred=(.+?)_\", weights)[0])\n",
    "    PhenoPred = float(re.findall(\"PhenoPred=(.+?)_\", weights)[0])\n",
    "    RuleBasedPred = float(re.findall(\"RuleBasedPred=(.+?)_\", weights)[0])\n",
    "\n",
    "    (\n",
    "        encode_to_vector,\n",
    "        decoder,\n",
    "        grouper,\n",
    "        gmvaep,\n",
    "        prior,\n",
    "        posterior,\n",
    "    ) = deepof.models.SEQ_2_SEQ_GMVAE(\n",
    "        loss=loss,\n",
    "        number_of_components=k,\n",
    "        compile_model=True,\n",
    "        encoding=encoding,\n",
    "        next_sequence_prediction=NextSeqPred,\n",
    "        phenotype_prediction=PhenoPred,\n",
    "        rule_based_prediction=RuleBasedPred,\n",
    "    ).build(\n",
    "        data.shape\n",
    "    )\n",
    "\n",
    "    gmvaep.load_weights(os.path.join(weights))\n",
    "    groups = grouper.predict(data)\n",
    "    return groups"
   ]
  },
  {
   "cell_type": "code",
   "execution_count": 18,
   "metadata": {},
   "outputs": [
    {
     "name": "stdout",
     "output_type": "stream",
     "text": [
      "linear_25\n"
     ]
    },
    {
     "data": {
      "application/vnd.jupyter.widget-view+json": {
       "model_id": "9ba5c29655e1457d870267cb5a0fa7eb",
       "version_major": 2,
       "version_minor": 0
      },
      "text/plain": [
       "HBox(children=(HTML(value=''), FloatProgress(value=0.0, max=40.0), HTML(value='')))"
      ]
     },
     "metadata": {},
     "output_type": "display_data"
    },
    {
     "name": "stdout",
     "output_type": "stream",
     "text": [
      "\n",
      "linear_5\n"
     ]
    },
    {
     "data": {
      "application/vnd.jupyter.widget-view+json": {
       "model_id": "50f78d12b299455aba52e65109f89939",
       "version_major": 2,
       "version_minor": 0
      },
      "text/plain": [
       "HBox(children=(HTML(value=''), FloatProgress(value=0.0, max=40.0), HTML(value='')))"
      ]
     },
     "metadata": {},
     "output_type": "display_data"
    },
    {
     "name": "stdout",
     "output_type": "stream",
     "text": [
      "\n",
      "sigmoid_25\n"
     ]
    },
    {
     "data": {
      "application/vnd.jupyter.widget-view+json": {
       "model_id": "4b0746c152d0410db9a5695fa897ae7f",
       "version_major": 2,
       "version_minor": 0
      },
      "text/plain": [
       "HBox(children=(HTML(value=''), FloatProgress(value=0.0, max=40.0), HTML(value='')))"
      ]
     },
     "metadata": {},
     "output_type": "display_data"
    },
    {
     "name": "stdout",
     "output_type": "stream",
     "text": [
      "\n",
      "linear_20\n"
     ]
    },
    {
     "data": {
      "application/vnd.jupyter.widget-view+json": {
       "model_id": "f54ec92056d1457e9d9ead056d6f61ea",
       "version_major": 2,
       "version_minor": 0
      },
      "text/plain": [
       "HBox(children=(HTML(value=''), FloatProgress(value=0.0, max=40.0), HTML(value='')))"
      ]
     },
     "metadata": {},
     "output_type": "display_data"
    },
    {
     "name": "stdout",
     "output_type": "stream",
     "text": [
      "\n",
      "linear_15\n"
     ]
    },
    {
     "data": {
      "application/vnd.jupyter.widget-view+json": {
       "model_id": "495fb9fd2d294c038ca5e8d161f49255",
       "version_major": 2,
       "version_minor": 0
      },
      "text/plain": [
       "HBox(children=(HTML(value=''), FloatProgress(value=0.0, max=40.0), HTML(value='')))"
      ]
     },
     "metadata": {},
     "output_type": "display_data"
    },
    {
     "name": "stdout",
     "output_type": "stream",
     "text": [
      "\n",
      "sigmoid_5\n"
     ]
    },
    {
     "data": {
      "application/vnd.jupyter.widget-view+json": {
       "model_id": "4d2b083996cd4df0b9fe2756d56c4957",
       "version_major": 2,
       "version_minor": 0
      },
      "text/plain": [
       "HBox(children=(HTML(value=''), FloatProgress(value=0.0, max=40.0), HTML(value='')))"
      ]
     },
     "metadata": {},
     "output_type": "display_data"
    },
    {
     "name": "stdout",
     "output_type": "stream",
     "text": [
      "\n",
      "sigmoid_10\n"
     ]
    },
    {
     "data": {
      "application/vnd.jupyter.widget-view+json": {
       "model_id": "0274b4df9f3f424eb86c78a7641a3c36",
       "version_major": 2,
       "version_minor": 0
      },
      "text/plain": [
       "HBox(children=(HTML(value=''), FloatProgress(value=0.0, max=40.0), HTML(value='')))"
      ]
     },
     "metadata": {},
     "output_type": "display_data"
    },
    {
     "name": "stdout",
     "output_type": "stream",
     "text": [
      "\n",
      "linear_10\n"
     ]
    },
    {
     "data": {
      "application/vnd.jupyter.widget-view+json": {
       "model_id": "24c9d119a6864ae48962f1481add8a52",
       "version_major": 2,
       "version_minor": 0
      },
      "text/plain": [
       "HBox(children=(HTML(value=''), FloatProgress(value=0.0, max=40.0), HTML(value='')))"
      ]
     },
     "metadata": {},
     "output_type": "display_data"
    },
    {
     "name": "stdout",
     "output_type": "stream",
     "text": [
      "\n",
      "sigmoid_20\n"
     ]
    },
    {
     "data": {
      "application/vnd.jupyter.widget-view+json": {
       "model_id": "57e2b77a57334a6ba3cb5b3d73258079",
       "version_major": 2,
       "version_minor": 0
      },
      "text/plain": [
       "HBox(children=(HTML(value=''), FloatProgress(value=0.0, max=40.0), HTML(value='')))"
      ]
     },
     "metadata": {},
     "output_type": "display_data"
    },
    {
     "name": "stdout",
     "output_type": "stream",
     "text": [
      "\n",
      "sigmoid_15\n"
     ]
    },
    {
     "data": {
      "application/vnd.jupyter.widget-view+json": {
       "model_id": "723bd76cbed2439eb2af097dc86e7482",
       "version_major": 2,
       "version_minor": 0
      },
      "text/plain": [
       "HBox(children=(HTML(value=''), FloatProgress(value=0.0, max=40.0), HTML(value='')))"
      ]
     },
     "metadata": {},
     "output_type": "display_data"
    },
    {
     "name": "stdout",
     "output_type": "stream",
     "text": [
      "\n"
     ]
    }
   ],
   "source": [
    "for k,v in trained_weights_dict.items():\n",
    "    print(k)\n",
    "    for tw in tqdm(v):\n",
    "        if \"NextSeqPred=0.15\" in tw and \"PhenoPred=0.0\" in tw and \"RuleBasedPred=0.0\" in tw:\n",
    "            try:\n",
    "                groupings = load_model_and_get_groupings(data, tw)\n",
    "                try:\n",
    "                    groupings_dict[k].append(groupings)\n",
    "                except KeyError:\n",
    "                    groupings_dict[k] = [groupings]\n",
    "            except ValueError:\n",
    "                continue"
   ]
  },
  {
   "cell_type": "markdown",
   "metadata": {},
   "source": [
    "### 4. Obtain ARI score and plot"
   ]
  },
  {
   "cell_type": "code",
   "execution_count": 19,
   "metadata": {},
   "outputs": [],
   "source": [
    "hard_groups_dict = {\n",
    "    k: np.concatenate([np.argmax(i, axis=1)[:, np.newaxis] for i in v], axis=1)\n",
    "    for k, v in groupings_dict.items()\n",
    "}"
   ]
  },
  {
   "cell_type": "code",
   "execution_count": 20,
   "metadata": {},
   "outputs": [
    {
     "name": "stdout",
     "output_type": "stream",
     "text": [
      "linear_25\n",
      "Counter({3: 3850, 1: 2234, 4: 1231, 8: 1059, 10: 542, 13: 528, 11: 332, 9: 85, 14: 43, 12: 34, 2: 30, 6: 25, 0: 7})\n",
      "linear_5\n",
      "Counter({5: 2458, 1: 2404, 6: 2026, 10: 1207, 2: 745, 3: 461, 11: 368, 8: 114, 9: 64, 14: 63, 0: 36, 13: 31, 7: 14, 4: 9})\n",
      "sigmoid_25\n",
      "Counter({2: 4310, 1: 2665, 3: 1553, 12: 762, 7: 649, 5: 60, 0: 1})\n",
      "linear_20\n",
      "Counter({4: 4328, 7: 2692, 11: 861, 10: 819, 1: 432, 3: 346, 6: 343, 12: 112, 5: 37, 0: 10, 2: 10, 13: 6, 9: 4})\n",
      "linear_15\n",
      "Counter({10: 3242, 12: 2511, 8: 1811, 2: 1755, 7: 299, 3: 254, 1: 126, 9: 1, 0: 1})\n",
      "sigmoid_5\n",
      "Counter({11: 5779, 12: 1503, 13: 943, 9: 626, 5: 551, 3: 369, 1: 122, 2: 62, 0: 32, 8: 8, 4: 4, 14: 1})\n",
      "sigmoid_10\n",
      "Counter({1: 2079, 13: 2063, 0: 1967, 6: 854, 8: 824, 2: 703, 5: 495, 4: 378, 10: 267, 7: 175, 11: 80, 14: 57, 3: 43, 9: 15})\n",
      "linear_10\n",
      "Counter({2: 4258, 8: 2366, 14: 2324, 12: 286, 7: 247, 1: 162, 3: 128, 5: 66, 9: 59, 11: 53, 0: 35, 10: 9, 6: 6, 4: 1})\n",
      "sigmoid_20\n",
      "Counter({6: 3750, 1: 2603, 11: 1572, 14: 571, 9: 494, 8: 457, 2: 395, 12: 94, 3: 34, 5: 18, 13: 9, 7: 2, 4: 1})\n",
      "sigmoid_15\n",
      "Counter({6: 5090, 13: 2582, 0: 662, 9: 586, 2: 451, 12: 266, 1: 175, 14: 66, 3: 51, 10: 45, 8: 24, 5: 2})\n"
     ]
    }
   ],
   "source": [
    "from collections import Counter\n",
    "for k,v in hard_groups_dict.items():\n",
    "    print(k)\n",
    "    print(Counter(list(v[:,0])))"
   ]
  },
  {
   "cell_type": "code",
   "execution_count": 21,
   "metadata": {},
   "outputs": [],
   "source": [
    "def extended_ARI(groupings):\n",
    "    comparisons = list(combinations(range(groupings.shape[1]), 2))\n",
    "    ari = [\n",
    "        adjusted_rand_score(groupings[:, comp[0]], groupings[:, comp[1]])\n",
    "        for comp in comparisons\n",
    "    ]\n",
    "    return ari"
   ]
  },
  {
   "cell_type": "code",
   "execution_count": 22,
   "metadata": {},
   "outputs": [],
   "source": [
    "ari_dict = {k: extended_ARI(v) for k, v in hard_groups_dict.items()}\n",
    "simplified_keys = [\n",
    "    \"overlap_loss=0.1\",\n",
    "    \"overlap_loss=0.2\",\n",
    "    \"overlap_loss=0.5\",\n",
    "    \"overlap_loss=0.75\",\n",
    "    \"overlap_loss=1.0\",\n",
    "]\n",
    "ari_dict = {k:v for k,v in zip(simplified_keys, list(ari_dict.values()))}\n",
    "ari_dict = {k:[i for i in v if i > 0] for k,v in ari_dict.items()}"
   ]
  },
  {
   "cell_type": "code",
   "execution_count": 35,
   "metadata": {},
   "outputs": [],
   "source": [
    "for k,v in ari_dict.items():\n",
    "    if len(list(v)) < 45:\n",
    "        for i in range(45 - len(list(v))):\n",
    "            v.append(np.mean(np.array(v)))\n",
    "    ari_dict[k] = v"
   ]
  },
  {
   "cell_type": "code",
   "execution_count": 37,
   "metadata": {},
   "outputs": [
    {
     "data": {
      "image/png": "[encoded data removed]",
      "text/plain": [
       "<Figure size 864x576 with 1 Axes>"
      ]
     },
     "metadata": {
      "needs_background": "light"
     },
     "output_type": "display_data"
    }
   ],
   "source": [
    "plt.figure(figsize=(12,8))\n",
    "ari_df = pd.DataFrame(ari_dict).melt()\n",
    "sns.boxplot(data=ari_df, x=\"value\", y=\"variable\")\n",
    "#plt.xlim(0,1)\n",
    "plt.savefig(\"deepof_variable_warmup.svg\")\n",
    "plt.show()"
   ]
  },
  {
   "cell_type": "code",
   "execution_count": null,
   "metadata": {},
   "outputs": [],
   "source": []
  }
 ],
 "metadata": {
  "kernelspec": {
   "display_name": "Python 3",
   "language": "python",
   "name": "python3"
  },
  "language_info": {
   "codemirror_mode": {
    "name": "ipython",
    "version": 3
   },
   "file_extension": ".py",
   "mimetype": "text/x-python",
   "name": "python",
   "nbconvert_exporter": "python",
   "pygments_lexer": "ipython3",
   "version": "3.6.10"
  }
 },
 "nbformat": 4,
 "nbformat_minor": 4
}
