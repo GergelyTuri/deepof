{
 "cells": [
  {
   "cell_type": "code",
   "execution_count": 1,
   "metadata": {},
   "outputs": [],
   "source": [
    "%load_ext autoreload\n",
    "%autoreload 2"
   ]
  },
  {
   "cell_type": "code",
   "execution_count": 2,
   "metadata": {},
   "outputs": [],
   "source": [
    "import warnings\n",
    "\n",
    "warnings.filterwarnings(\"ignore\")"
   ]
  },
  {
   "cell_type": "markdown",
   "metadata": {},
   "source": [
    "# deepOF model stability"
   ]
  },
  {
   "cell_type": "markdown",
   "metadata": {},
   "source": [
    "Given a dataset and a set of trained models, this notebook allows the user to \n",
    "\n",
    "* Group all weights according to their parameters\n",
    "* Load the corresponding models\n",
    "* Compute cluster assignment for a series of data points\n",
    "* Compute and visualize the Adjusted Rand Index for each group"
   ]
  },
  {
   "cell_type": "code",
   "execution_count": 3,
   "metadata": {},
   "outputs": [],
   "source": [
    "import os\n",
    "\n",
    "os.chdir(os.path.dirname(\"../\"))"
   ]
  },
  {
   "cell_type": "code",
   "execution_count": 100,
   "metadata": {},
   "outputs": [],
   "source": [
    "import deepof.data\n",
    "import deepof.utils\n",
    "import numpy as np\n",
    "import pandas as pd\n",
    "import re\n",
    "import tensorflow as tf\n",
    "from itertools import combinations\n",
    "from tqdm import tqdm_notebook as tqdm\n",
    "\n",
    "import matplotlib.pyplot as plt\n",
    "import seaborn as sns\n",
    "\n",
    "from sklearn.metrics import adjusted_rand_score"
   ]
  },
  {
   "cell_type": "markdown",
   "metadata": {},
   "source": [
    "### 1. Define and run project"
   ]
  },
  {
   "cell_type": "code",
   "execution_count": 38,
   "metadata": {},
   "outputs": [],
   "source": [
    "path = os.path.join(\"..\", \"..\", \"Desktop\", \"deepof-data\", \"deepof_single_topview\")\n",
    "trained_network = os.path.join(\"..\", \"..\", \"Desktop\", \"deepof_trained_weights\")\n",
    "exclude_bodyparts = tuple([\"\"])\n",
    "window_size = 24"
   ]
  },
  {
   "cell_type": "code",
   "execution_count": 39,
   "metadata": {},
   "outputs": [
    {
     "name": "stdout",
     "output_type": "stream",
     "text": [
      "CPU times: user 40.9 s, sys: 2.97 s, total: 43.9 s\n",
      "Wall time: 36.3 s\n"
     ]
    }
   ],
   "source": [
    "%%time\n",
    "proj = deepof.data.project(\n",
    "    path=path, smooth_alpha=0.999, exclude_bodyparts=exclude_bodyparts, arena_dims=[380],\n",
    ")"
   ]
  },
  {
   "cell_type": "code",
   "execution_count": 40,
   "metadata": {
    "scrolled": true
   },
   "outputs": [
    {
     "name": "stdout",
     "output_type": "stream",
     "text": [
      "Loading trajectories...\n",
      "Smoothing trajectories...\n",
      "Interpolating outliers...\n",
      "Iterative imputation of ocluded bodyparts...\n",
      "Computing distances...\n",
      "Computing angles...\n",
      "Done!\n",
      "deepof analysis of 166 videos\n",
      "CPU times: user 11min 40s, sys: 10.4 s, total: 11min 51s\n",
      "Wall time: 2min 17s\n"
     ]
    }
   ],
   "source": [
    "%%time\n",
    "proj = proj.run(verbose=True)\n",
    "print(proj)"
   ]
  },
  {
   "cell_type": "code",
   "execution_count": 41,
   "metadata": {},
   "outputs": [],
   "source": [
    "coords = proj.get_coords(center=\"Center\", align=\"Spine_1\", align_inplace=True)\n",
    "data = coords.preprocess(test_videos=0, window_step=24, window_size=window_size, shuffle=False)[\n",
    "    0\n",
    "]"
   ]
  },
  {
   "cell_type": "code",
   "execution_count": 48,
   "metadata": {},
   "outputs": [],
   "source": [
    "rand_idx = np.random.choice(range(data.shape[0]), 10000, replace=False)\n",
    "data = data[rand_idx]"
   ]
  },
  {
   "cell_type": "markdown",
   "metadata": {},
   "source": [
    "### 2. Load and group model weights"
   ]
  },
  {
   "cell_type": "code",
   "execution_count": 27,
   "metadata": {},
   "outputs": [],
   "source": [
    "trained_weights = [os.path.join(trained_network, i) for i in os.listdir(trained_network) if i.endswith(\"h5\")]\n",
    "trained_weights_dict = {}\n",
    "for tw in trained_weights:\n",
    "    added = False\n",
    "    for key in trained_weights_dict.keys():\n",
    "        if tw[:-23] == key or tw[:-24] == key:\n",
    "            trained_weights_dict[key].append(tw)\n",
    "            added = True\n",
    "    if not added:\n",
    "        trained_weights_dict[tw[:-23]] = [tw]"
   ]
  },
  {
   "cell_type": "markdown",
   "metadata": {},
   "source": [
    "### 3. Load models and predict clusters for sampled data"
   ]
  },
  {
   "cell_type": "code",
   "execution_count": 68,
   "metadata": {},
   "outputs": [],
   "source": [
    "groupings_dict = {}"
   ]
  },
  {
   "cell_type": "code",
   "execution_count": 69,
   "metadata": {},
   "outputs": [],
   "source": [
    "def load_model_and_get_groupings(data, weights):\n",
    "\n",
    "    # Set model parameters\n",
    "    encoding = int(re.findall(\"encoding=(\\d+)_\", weights)[0])\n",
    "    k = int(re.findall(\"k=(\\d+)_\", weights)[0])\n",
    "    loss = re.findall(\"loss=(.+?)_\", weights)[0]\n",
    "    NextSeqPred = float(re.findall(\"NextSeqPred=(.+?)_\", weights)[0])\n",
    "    PhenoPred = float(re.findall(\"PhenoPred=(.+?)_\", weights)[0])\n",
    "    RuleBasedPred = float(re.findall(\"RuleBasedPred=(.+?)_\", weights)[0])\n",
    "\n",
    "    (\n",
    "        encode_to_vector,\n",
    "        decoder,\n",
    "        grouper,\n",
    "        gmvaep,\n",
    "        prior,\n",
    "        posterior,\n",
    "    ) = deepof.models.SEQ_2_SEQ_GMVAE(\n",
    "        loss=loss,\n",
    "        number_of_components=k,\n",
    "        compile_model=True,\n",
    "        encoding=encoding,\n",
    "        next_sequence_prediction=NextSeqPred,\n",
    "        phenotype_prediction=PhenoPred,\n",
    "        rule_based_prediction=RuleBasedPred,\n",
    "    ).build(\n",
    "        data.shape\n",
    "    )\n",
    "\n",
    "    gmvaep.load_weights(os.path.join(trained_network, weights))\n",
    "    groups = grouper.predict(data)\n",
    "    return groups"
   ]
  },
  {
   "cell_type": "code",
   "execution_count": 78,
   "metadata": {},
   "outputs": [
    {
     "name": "stdout",
     "output_type": "stream",
     "text": [
      "../../Desktop/deepof_trained_weights/GMVAE_input_type=coords_NextSeqPred=0.15_PhenoPred=0.0_RuleBasedPred=0.0_loss=ELBO_encoding=6_k=15_latreg=none_entknn=100\n"
     ]
    },
    {
     "data": {
      "application/vnd.jupyter.widget-view+json": {
       "model_id": "607560a518b841c2a4f4d2ac4bc11e6b",
       "version_major": 2,
       "version_minor": 0
      },
      "text/plain": [
       "HBox(children=(HTML(value=''), FloatProgress(value=0.0, max=10.0), HTML(value='')))"
      ]
     },
     "metadata": {},
     "output_type": "display_data"
    },
    {
     "name": "stdout",
     "output_type": "stream",
     "text": [
      "\n",
      "../../Desktop/deepof_trained_weights/GMVAE_input_type=coords_NextSeqPred=0.0_PhenoPred=0.0_RuleBasedPred=0.15_loss=ELBO_encoding=6_k=15_latreg=none_entknn=100\n"
     ]
    },
    {
     "data": {
      "application/vnd.jupyter.widget-view+json": {
       "model_id": "4034d16ac8f74df3969115e2dc9a9964",
       "version_major": 2,
       "version_minor": 0
      },
      "text/plain": [
       "HBox(children=(HTML(value=''), FloatProgress(value=0.0, max=10.0), HTML(value='')))"
      ]
     },
     "metadata": {},
     "output_type": "display_data"
    },
    {
     "name": "stdout",
     "output_type": "stream",
     "text": [
      "\n",
      "../../Desktop/deepof_trained_weights/GMVAE_input_type=coords_NextSeqPred=0.0_PhenoPred=0.0_RuleBasedPred=0.0_loss=ELBO_encoding=6_k=15_latreg=variance_entknn=100\n"
     ]
    },
    {
     "data": {
      "application/vnd.jupyter.widget-view+json": {
       "model_id": "7ba9410f4aa14d93927aca67c5b4cbb6",
       "version_major": 2,
       "version_minor": 0
      },
      "text/plain": [
       "HBox(children=(HTML(value=''), FloatProgress(value=0.0, max=10.0), HTML(value='')))"
      ]
     },
     "metadata": {},
     "output_type": "display_data"
    },
    {
     "name": "stdout",
     "output_type": "stream",
     "text": [
      "\n",
      "../../Desktop/deepof_trained_weights/GMVAE_input_type=coords_NextSeqPred=0.0_PhenoPred=0.0_RuleBasedPred=0.15_loss=ELBO_encoding=6_k=15_latreg=variance_entknn=100\n"
     ]
    },
    {
     "data": {
      "application/vnd.jupyter.widget-view+json": {
       "model_id": "9cb7ea7f15dc40c2ac04e469ea51c315",
       "version_major": 2,
       "version_minor": 0
      },
      "text/plain": [
       "HBox(children=(HTML(value=''), FloatProgress(value=0.0, max=10.0), HTML(value='')))"
      ]
     },
     "metadata": {},
     "output_type": "display_data"
    },
    {
     "name": "stdout",
     "output_type": "stream",
     "text": [
      "\n",
      "../../Desktop/deepof_trained_weights/GMVAE_input_type=coords_NextSeqPred=0.0_PhenoPred=0.0_RuleBasedPred=0.0_loss=ELBO_encoding=6_k=15_latreg=none_entknn=100\n"
     ]
    },
    {
     "data": {
      "application/vnd.jupyter.widget-view+json": {
       "model_id": "0ff4c830df0245aca8288df56db9f516",
       "version_major": 2,
       "version_minor": 0
      },
      "text/plain": [
       "HBox(children=(HTML(value=''), FloatProgress(value=0.0, max=10.0), HTML(value='')))"
      ]
     },
     "metadata": {},
     "output_type": "display_data"
    },
    {
     "name": "stdout",
     "output_type": "stream",
     "text": [
      "\n",
      "../../Desktop/deepof_trained_weights/GMVAE_input_type=coords_NextSeqPred=0.15_PhenoPred=0.0_RuleBasedPred=0.0_loss=ELBO_encoding=6_k=15_latreg=variance_entknn=100\n"
     ]
    },
    {
     "data": {
      "application/vnd.jupyter.widget-view+json": {
       "model_id": "20cf917381994acc946cef1ee2ba82f5",
       "version_major": 2,
       "version_minor": 0
      },
      "text/plain": [
       "HBox(children=(HTML(value=''), FloatProgress(value=0.0, max=10.0), HTML(value='')))"
      ]
     },
     "metadata": {},
     "output_type": "display_data"
    },
    {
     "name": "stdout",
     "output_type": "stream",
     "text": [
      "\n"
     ]
    }
   ],
   "source": [
    "for k,v in trained_weights_dict.items():\n",
    "    print(k)\n",
    "    for tw in tqdm(v):\n",
    "        try:\n",
    "            groupings = load_model_and_get_groupings(data, tw)\n",
    "            try:\n",
    "                groupings_dict[k].append(groupings)\n",
    "            except KeyError:\n",
    "                groupings_dict[k] = [groupings]\n",
    "        except ValueError:\n",
    "            continue"
   ]
  },
  {
   "cell_type": "markdown",
   "metadata": {},
   "source": [
    "### 4. Obtain ARI score and plot"
   ]
  },
  {
   "cell_type": "code",
   "execution_count": 88,
   "metadata": {},
   "outputs": [],
   "source": [
    "hard_groups_dict = {\n",
    "    k: np.concatenate([np.argmax(i, axis=1)[:, np.newaxis] for i in v], axis=1)\n",
    "    for k, v in groupings_dict.items()\n",
    "}"
   ]
  },
  {
   "cell_type": "code",
   "execution_count": 151,
   "metadata": {},
   "outputs": [
    {
     "name": "stdout",
     "output_type": "stream",
     "text": [
      "../../Desktop/deepof_trained_weights/GMVAE_input_type=coords_NextSeqPred=0.15_PhenoPred=0.0_RuleBasedPred=0.0_loss=ELBO_encoding=6_k=15_latreg=none_entknn=100\n",
      "Counter({4: 10000})\n",
      "../../Desktop/deepof_trained_weights/GMVAE_input_type=coords_NextSeqPred=0.0_PhenoPred=0.0_RuleBasedPred=0.15_loss=ELBO_encoding=6_k=15_latreg=none_entknn=100\n",
      "Counter({13: 8785, 0: 1135, 5: 61, 6: 19})\n",
      "../../Desktop/deepof_trained_weights/GMVAE_input_type=coords_NextSeqPred=0.0_PhenoPred=0.0_RuleBasedPred=0.0_loss=ELBO_encoding=6_k=15_latreg=none_entknn=100\n",
      "Counter({6: 3949, 11: 2344, 14: 2106, 3: 1580, 5: 21})\n",
      "../../Desktop/deepof_trained_weights/GMVAE_input_type=coords_NextSeqPred=0.0_PhenoPred=0.0_RuleBasedPred=0.0_loss=ELBO_encoding=6_k=15_latreg=variance_entknn=100\n",
      "Counter({6: 7566, 5: 811, 2: 745, 3: 720, 4: 106, 14: 15, 13: 12, 10: 10, 1: 7, 7: 4, 12: 2, 8: 2})\n",
      "../../Desktop/deepof_trained_weights/GMVAE_input_type=coords_NextSeqPred=0.0_PhenoPred=0.0_RuleBasedPred=0.15_loss=ELBO_encoding=6_k=15_latreg=variance_entknn=100\n",
      "Counter({7: 5958, 6: 2853, 3: 783, 5: 142, 1: 141, 10: 66, 0: 50, 2: 4, 13: 3})\n",
      "../../Desktop/deepof_trained_weights/GMVAE_input_type=coords_NextSeqPred=0.15_PhenoPred=0.0_RuleBasedPred=0.0_loss=ELBO_encoding=6_k=15_latreg=variance_entknn=100\n",
      "Counter({8: 4284, 9: 3709, 3: 1182, 10: 434, 14: 192, 7: 86, 2: 54, 4: 31, 5: 20, 0: 6, 6: 2})\n"
     ]
    }
   ],
   "source": [
    "from collections import Counter\n",
    "for k,v in hard_groups_dict.items():\n",
    "    print(k)\n",
    "    print(Counter(list(v[:,0])))"
   ]
  },
  {
   "cell_type": "code",
   "execution_count": 101,
   "metadata": {},
   "outputs": [],
   "source": [
    "def extended_ARI(groupings):\n",
    "    n_solutions = groupings.shape[1]\n",
    "    comparisons = list(combinations(range(10), 2))\n",
    "    ari = [\n",
    "        adjusted_rand_score(groupings[comp[0]], groupings[comp[1]])\n",
    "        for comp in comparisons\n",
    "    ]\n",
    "    return ari"
   ]
  },
  {
   "cell_type": "code",
   "execution_count": 152,
   "metadata": {},
   "outputs": [],
   "source": [
    "ari_dict = {k: extended_ARI(v) for k, v in hard_groups_dict.items()}\n",
    "simplified_keys = [\n",
    "    \"gmvae-nspred-noreg\",\n",
    "    \"gmvae-rbpred-noreg\",\n",
    "    \"gmvae-noreg\",\n",
    "    \"gmvae-varreg\",\n",
    "    \"gmvae-rbpred-varreg\",\n",
    "    \"gmvae-nspred-varreg\",\n",
    "]\n",
    "ari_dict = {k:v for k,v in zip(simplified_keys, list(ari_dict.values()))}"
   ]
  },
  {
   "cell_type": "code",
   "execution_count": 153,
   "metadata": {},
   "outputs": [
    {
     "data": {
      "image/png": "[encoded data removed]",
      "text/plain": [
       "<Figure size 864x576 with 1 Axes>"
      ]
     },
     "metadata": {
      "needs_background": "light"
     },
     "output_type": "display_data"
    }
   ],
   "source": [
    "plt.figure(figsize=(12,8))\n",
    "ari_df = pd.DataFrame(ari_dict).melt()\n",
    "sns.boxplot(data=ari_df, x=\"value\", y=\"variable\")\n",
    "plt.show()"
   ]
  },
  {
   "cell_type": "code",
   "execution_count": null,
   "metadata": {},
   "outputs": [],
   "source": []
  }
 ],
 "metadata": {
  "kernelspec": {
   "display_name": "Python 3",
   "language": "python",
   "name": "python3"
  },
  "language_info": {
   "codemirror_mode": {
    "name": "ipython",
    "version": 3
   },
   "file_extension": ".py",
   "mimetype": "text/x-python",
   "name": "python",
   "nbconvert_exporter": "python",
   "pygments_lexer": "ipython3",
   "version": "3.6.10"
  }
 },
 "nbformat": 4,
 "nbformat_minor": 4
}
