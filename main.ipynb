{
 "cells": [
  {
   "cell_type": "code",
   "execution_count": 1,
   "metadata": {},
   "outputs": [],
   "source": [
    "%load_ext autoreload\n",
    "%autoreload 2\n",
    "\n",
    "import warnings\n",
    "warnings.filterwarnings(\"ignore\")"
   ]
  },
  {
   "cell_type": "code",
   "execution_count": 2,
   "metadata": {},
   "outputs": [],
   "source": [
    "#from source.utils import *\n",
    "from source.preprocess import *\n",
    "import pickle\n",
    "import matplotlib.pyplot as plt\n",
    "import pandas as pd\n",
    "from collections import defaultdict\n",
    "from tqdm import tqdm_notebook as tqdm"
   ]
  },
  {
   "cell_type": "code",
   "execution_count": 3,
   "metadata": {
    "tags": [
     "parameters"
    ]
   },
   "outputs": [],
   "source": [
    "path = \"../../Desktop/DLC_social_1/\""
   ]
  },
  {
   "cell_type": "markdown",
   "metadata": {},
   "source": [
    "# Set up and design the project"
   ]
  },
  {
   "cell_type": "code",
   "execution_count": 4,
   "metadata": {},
   "outputs": [],
   "source": [
    "with open('{}DLC_social_1_exp_conditions.pickle'.format(path), 'rb') as handle:\n",
    "    Treatment_dict = pickle.load(handle)"
   ]
  },
  {
   "cell_type": "code",
   "execution_count": 5,
   "metadata": {},
   "outputs": [],
   "source": [
    "#Which angles to compute?\n",
    "bp_dict = {'B_Nose':['B_Left_ear','B_Right_ear'],\n",
    "          'B_Left_ear':['B_Nose','B_Right_ear','B_Center','B_Left_flank'],\n",
    "          'B_Right_ear':['B_Nose','B_Left_ear','B_Center','B_Right_flank'],\n",
    "          'B_Center':['B_Left_ear','B_Right_ear','B_Left_flank','B_Right_flank','B_Tail_base'],\n",
    "          'B_Left_flank':['B_Left_ear','B_Center','B_Tail_base'],\n",
    "          'B_Right_flank':['B_Right_ear','B_Center','B_Tail_base'],\n",
    "          'B_Tail_base':['B_Center','B_Left_flank','B_Right_flank']}"
   ]
  },
  {
   "cell_type": "code",
   "execution_count": 6,
   "metadata": {},
   "outputs": [
    {
     "name": "stdout",
     "output_type": "stream",
     "text": [
      "CPU times: user 2.74 s, sys: 808 ms, total: 3.54 s\n",
      "Wall time: 1.18 s\n"
     ]
    }
   ],
   "source": [
    "%%time\n",
    "DLC_social_1 = project(path=path,#Path where to find the required files\n",
    "                   smooth_alpha=0.85,                    #Alpha value for exponentially weighted smoothing\n",
    "                   distances=['B_Center','B_Nose','B_Left_ear','B_Right_ear','B_Left_flank',\n",
    "                              'B_Right_flank','B_Tail_base'],\n",
    "                   ego=False,\n",
    "                   angles=True,\n",
    "                   connectivity=bp_dict,\n",
    "                   arena='circular',                  #Type of arena used in the experiments\n",
    "                   arena_dims=[380],                  #Dimensions of the arena. Just one if it's circular\n",
    "                   video_format='.mp4',\n",
    "                   table_format='.h5',\n",
    "                   exp_conditions=Treatment_dict)"
   ]
  },
  {
   "cell_type": "markdown",
   "metadata": {},
   "source": [
    "# Run project"
   ]
  },
  {
   "cell_type": "code",
   "execution_count": 7,
   "metadata": {},
   "outputs": [
    {
     "name": "stdout",
     "output_type": "stream",
     "text": [
      "Loading trajectories...\n",
      "Smoothing trajectories...\n",
      "Computing distances...\n",
      "Computing angles...\n",
      "Done!\n",
      "Coordinates of 47 videos across 4 conditions\n",
      "CPU times: user 9.45 s, sys: 590 ms, total: 10 s\n",
      "Wall time: 10.3 s\n"
     ]
    },
    {
     "data": {
      "text/plain": [
       "source.preprocess.coordinates"
      ]
     },
     "execution_count": 7,
     "metadata": {},
     "output_type": "execute_result"
    }
   ],
   "source": [
    "%%time\n",
    "DLC_social_1_coords = DLC_social_1.run(verbose=True)\n",
    "print(DLC_social_1_coords)\n",
    "type(DLC_social_1_coords)"
   ]
  },
  {
   "cell_type": "markdown",
   "metadata": {},
   "source": [
    "# Generate coords"
   ]
  },
  {
   "cell_type": "code",
   "execution_count": 8,
   "metadata": {
    "scrolled": true
   },
   "outputs": [
    {
     "name": "stdout",
     "output_type": "stream",
     "text": [
      "CPU times: user 884 ms, sys: 68.5 ms, total: 953 ms\n",
      "Wall time: 892 ms\n"
     ]
    },
    {
     "data": {
      "text/plain": [
       "'coords'"
      ]
     },
     "execution_count": 8,
     "metadata": {},
     "output_type": "execute_result"
    }
   ],
   "source": [
    "%%time\n",
    "ptest = DLC_social_1_coords.get_coords(center=True, polar=False, speed=0, length='00:10:00')\n",
    "ptest._type"
   ]
  },
  {
   "cell_type": "code",
   "execution_count": 9,
   "metadata": {},
   "outputs": [
    {
     "name": "stdout",
     "output_type": "stream",
     "text": [
      "CPU times: user 554 ms, sys: 417 ms, total: 972 ms\n",
      "Wall time: 1.03 s\n"
     ]
    },
    {
     "data": {
      "text/plain": [
       "'dists'"
      ]
     },
     "execution_count": 9,
     "metadata": {},
     "output_type": "execute_result"
    }
   ],
   "source": [
    "%%time\n",
    "dtest = DLC_social_1_coords.get_distances(speed=0, length='00:10:00')\n",
    "dtest._type"
   ]
  },
  {
   "cell_type": "code",
   "execution_count": 10,
   "metadata": {},
   "outputs": [
    {
     "name": "stdout",
     "output_type": "stream",
     "text": [
      "CPU times: user 141 ms, sys: 88.1 ms, total: 229 ms\n",
      "Wall time: 248 ms\n"
     ]
    },
    {
     "data": {
      "text/plain": [
       "'angles'"
      ]
     },
     "execution_count": 10,
     "metadata": {},
     "output_type": "execute_result"
    }
   ],
   "source": [
    "%%time\n",
    "atest = DLC_social_1_coords.get_angles(degrees=True, speed=0, length='00:10:00')\n",
    "atest._type"
   ]
  },
  {
   "cell_type": "markdown",
   "metadata": {},
   "source": [
    "# Visualization playground"
   ]
  },
  {
   "cell_type": "code",
   "execution_count": 11,
   "metadata": {},
   "outputs": [],
   "source": [
    "#ptest.plot_heatmaps(['B_Center', 'W_Center'], i=1)"
   ]
  },
  {
   "cell_type": "code",
   "execution_count": 12,
   "metadata": {},
   "outputs": [],
   "source": [
    "#Plot animation of trajectory over time with different smoothings\n",
    "#plt.plot(ptest['Day2Test13DLC']['B_Center'].iloc[:5000]['x'],\n",
    "#         ptest['Day2Test13DLC']['B_Center'].iloc[:5000]['y'], label='alpha=0.85')\n",
    "\n",
    "#plt.xlabel('x')\n",
    "#plt.ylabel('y')\n",
    "#plt.title('Mouse Center Trajectory using different exponential smoothings')\n",
    "#plt.legend()\n",
    "#plt.show()"
   ]
  },
  {
   "cell_type": "markdown",
   "metadata": {},
   "source": [
    "# Dimensionality reduction playground"
   ]
  },
  {
   "cell_type": "code",
   "execution_count": 13,
   "metadata": {},
   "outputs": [],
   "source": [
    "#pca = ptest.pca(4, 1000)"
   ]
  },
  {
   "cell_type": "code",
   "execution_count": 14,
   "metadata": {},
   "outputs": [],
   "source": [
    "#plt.scatter(*pca[0].T)\n",
    "#plt.show()"
   ]
  },
  {
   "cell_type": "markdown",
   "metadata": {},
   "source": [
    "# Preprocessing playground"
   ]
  },
  {
   "cell_type": "code",
   "execution_count": 15,
   "metadata": {},
   "outputs": [],
   "source": [
    "mtest = merge_tables(DLC_social_1_coords.get_coords(center=True, polar=True, length='00:10:00'))#,\n",
    "#                      DLC_social_1_coords.get_distances(speed=0, length='00:10:00'),\n",
    "#                      DLC_social_1_coords.get_angles(degrees=True, speed=0, length='00:10:00'))"
   ]
  },
  {
   "cell_type": "code",
   "execution_count": 16,
   "metadata": {},
   "outputs": [],
   "source": [
    "#pptest = mtest.preprocess(window_size=51, filter='gaussian', sigma=10, shift=20)"
   ]
  },
  {
   "cell_type": "code",
   "execution_count": 17,
   "metadata": {},
   "outputs": [
    {
     "data": {
      "text/plain": [
       "(117507, 11, 28)"
      ]
     },
     "execution_count": 17,
     "metadata": {},
     "output_type": "execute_result"
    }
   ],
   "source": [
    "pttest = mtest.preprocess(window_size=11, window_step=6, filter=None, standard_scaler=True)\n",
    "pttest.shape"
   ]
  },
  {
   "cell_type": "code",
   "execution_count": 18,
   "metadata": {},
   "outputs": [],
   "source": [
    "#plt.plot(pttest[2,:,2], label='normal')\n",
    "#plt.plot(pptest[2,:,2], label='gaussian')\n",
    "#plt.legend()\n",
    "#plt.show()"
   ]
  },
  {
   "cell_type": "markdown",
   "metadata": {},
   "source": [
    "# Trained models playground"
   ]
  },
  {
   "cell_type": "markdown",
   "metadata": {},
   "source": [
    "### Seq 2 seq Variational Auto Encoder"
   ]
  },
  {
   "cell_type": "code",
   "execution_count": 19,
   "metadata": {},
   "outputs": [],
   "source": [
    "from datetime import datetime\n",
    "import tensorflow.keras as k\n",
    "import tensorflow as tf"
   ]
  },
  {
   "cell_type": "code",
   "execution_count": 20,
   "metadata": {},
   "outputs": [],
   "source": [
    "NAME = 'Baseline_VAE_short_512_10=warmup_begin_tfp'\n",
    "log_dir = os.path.abspath(\n",
    "    \"logs/fit/{}_{}\".format(NAME, datetime.now().strftime(\"%Y%m%d-%H%M%S\"))\n",
    ")\n",
    "tensorboard_callback = k.callbacks.TensorBoard(log_dir=log_dir, histogram_freq=1)"
   ]
  },
  {
   "cell_type": "code",
   "execution_count": 21,
   "metadata": {},
   "outputs": [
    {
     "name": "stderr",
     "output_type": "stream",
     "text": [
      "Using TensorFlow backend.\n"
     ]
    }
   ],
   "source": [
    "from source.models import SEQ_2_SEQ_AE, SEQ_2_SEQ_VAE, SEQ_2_SEQ_VAEP, SEQ_2_SEQ_MMVAEP"
   ]
  },
  {
   "cell_type": "code",
   "execution_count": 22,
   "metadata": {},
   "outputs": [],
   "source": [
    "encoder, decoder, ae = SEQ_2_SEQ_AE(pttest.shape).build()\n",
    "ae.build(pttest.shape)"
   ]
  },
  {
   "cell_type": "code",
   "execution_count": 23,
   "metadata": {},
   "outputs": [
    {
     "name": "stdout",
     "output_type": "stream",
     "text": [
      "Model: \"SEQ_2_SEQ_AE\"\n",
      "_________________________________________________________________\n",
      "Layer (type)                 Output Shape              Param #   \n",
      "=================================================================\n",
      "SEQ_2_SEQ_Encoder (Sequentia (None, 32)                1400736   \n",
      "_________________________________________________________________\n",
      "SEQ_2_SEQ_Decoder (Sequentia multiple                  2395580   \n",
      "=================================================================\n",
      "Total params: 3,781,820\n",
      "Trainable params: 3,778,236\n",
      "Non-trainable params: 3,584\n",
      "_________________________________________________________________\n"
     ]
    }
   ],
   "source": [
    "ae.summary()"
   ]
  },
  {
   "cell_type": "code",
   "execution_count": 24,
   "metadata": {},
   "outputs": [],
   "source": [
    "encoder, generator, vae, kl_warmup_callback, mmd_warmup_callback = SEQ_2_SEQ_VAE(pttest.shape,\n",
    "                                                                   loss='ELBO+MMD',\n",
    "                                                                   kl_warmup_epochs=10,\n",
    "                                                                   mmd_warmup_epochs=10).build()\n",
    "# vae.build(pttest.shape)"
   ]
  },
  {
   "cell_type": "code",
   "execution_count": 25,
   "metadata": {},
   "outputs": [
    {
     "name": "stdout",
     "output_type": "stream",
     "text": [
      "Model: \"SEQ_2_SEQ_VAE\"\n",
      "_________________________________________________________________\n",
      "Layer (type)                 Output Shape              Param #   \n",
      "=================================================================\n",
      "input_2 (InputLayer)         [(None, 11, 28)]          0         \n",
      "_________________________________________________________________\n",
      "conv1d_1 (Conv1D)            (None, 11, 256)           36096     \n",
      "_________________________________________________________________\n",
      "batch_normalization_14 (Batc (None, 11, 256)           1024      \n",
      "_________________________________________________________________\n",
      "bidirectional_4 (Bidirection (None, 11, 512)           1050624   \n",
      "_________________________________________________________________\n",
      "batch_normalization_15 (Batc (None, 11, 512)           2048      \n",
      "_________________________________________________________________\n",
      "bidirectional_5 (Bidirection (None, 128)               295424    \n",
      "_________________________________________________________________\n",
      "batch_normalization_16 (Batc (None, 128)               512       \n",
      "_________________________________________________________________\n",
      "dense_4 (Dense)              (None, 64)                8256      \n",
      "_________________________________________________________________\n",
      "batch_normalization_17 (Batc (None, 64)                256       \n",
      "_________________________________________________________________\n",
      "dropout_1 (Dropout)          (None, 64)                0         \n",
      "_________________________________________________________________\n",
      "dense_5 (Dense)              (None, 64)                4160      \n",
      "_________________________________________________________________\n",
      "batch_normalization_18 (Batc (None, 64)                256       \n",
      "_________________________________________________________________\n",
      "dense_6 (Dense)              (None, 32)                2080      \n",
      "_________________________________________________________________\n",
      "dense_7 (Dense)              (None, 64)                2112      \n",
      "_________________________________________________________________\n",
      "independent_normal (Independ ((None, 32), (None, 32))  0         \n",
      "_________________________________________________________________\n",
      "kl_divergence_layer (KLDiver (None, 32)                1         \n",
      "_________________________________________________________________\n",
      "mm_discrepancy_layer (MMDisc (None, 32)                1         \n",
      "_________________________________________________________________\n",
      "dense_transpose_3 (DenseTran (None, 64)                2144      \n",
      "_________________________________________________________________\n",
      "batch_normalization_9 (Batch (None, 64)                256       \n",
      "_________________________________________________________________\n",
      "dense_transpose_4 (DenseTran (None, 64)                4224      \n",
      "_________________________________________________________________\n",
      "batch_normalization_10 (Batc (None, 64)                256       \n",
      "_________________________________________________________________\n",
      "dense_transpose_5 (DenseTran (None, 128)               8384      \n",
      "_________________________________________________________________\n",
      "batch_normalization_11 (Batc (None, 128)               512       \n",
      "_________________________________________________________________\n",
      "repeat_vector_1 (RepeatVecto (None, 11, 128)           0         \n",
      "_________________________________________________________________\n",
      "bidirectional_6 (Bidirection (None, 11, 512)           788480    \n",
      "_________________________________________________________________\n",
      "batch_normalization_12 (Batc (None, 11, 512)           2048      \n",
      "_________________________________________________________________\n",
      "bidirectional_7 (Bidirection (None, 11, 512)           1574912   \n",
      "_________________________________________________________________\n",
      "batch_normalization_13 (Batc (None, 11, 512)           2048      \n",
      "_________________________________________________________________\n",
      "time_distributed_1 (TimeDist (None, 11, 28)            14364     \n",
      "=================================================================\n",
      "Total params: 3,785,982\n",
      "Trainable params: 3,781,372\n",
      "Non-trainable params: 4,610\n",
      "_________________________________________________________________\n"
     ]
    }
   ],
   "source": [
    "vae.summary()"
   ]
  },
  {
   "cell_type": "code",
   "execution_count": 26,
   "metadata": {},
   "outputs": [],
   "source": [
    "# encoder, generator, vaep, kl_warmup_callback, mmd_warmup_callback = SEQ_2_SEQ_VAEP(pttest.shape,\n",
    "#                                                                     loss='ELBO+MMD',\n",
    "#                                                                     kl_warmup_epochs=10,\n",
    "#                                                                     mmd_warmup_epochs=10).build()\n",
    "# vaep.build(pttest.shape)"
   ]
  },
  {
   "cell_type": "code",
   "execution_count": 27,
   "metadata": {},
   "outputs": [],
   "source": [
    "# vaep.summary()"
   ]
  },
  {
   "cell_type": "code",
   "execution_count": 28,
   "metadata": {},
   "outputs": [],
   "source": [
    "# encoder, generator, gmvaep, kl_warmup_callback, mmd_warmup_callback = SEQ_2_SEQ_MMVAEP(pttest.shape,\n",
    "#                                                                     loss='ELBO+MMD',\n",
    "#                                                                     number_of_components=2,\n",
    "#                                                                     kl_warmup_epochs=10,\n",
    "#                                                                     mmd_warmup_epochs=10).build()\n",
    "# gmvaep.build(pttest.shape)"
   ]
  },
  {
   "cell_type": "code",
   "execution_count": 29,
   "metadata": {},
   "outputs": [],
   "source": [
    "#np.random.shuffle(pttest)\n",
    "pttrain = pttest[:-15000]\n",
    "pttest  = pttest[-15000:]"
   ]
  },
  {
   "cell_type": "code",
   "execution_count": 30,
   "metadata": {},
   "outputs": [],
   "source": [
    "#lr_schedule = tf.keras.callbacks.LearningRateScheduler(\n",
    "#    lambda epoch: 1e-3 * 10**(epoch / 20))"
   ]
  },
  {
   "cell_type": "code",
   "execution_count": null,
   "metadata": {},
   "outputs": [
    {
     "name": "stdout",
     "output_type": "stream",
     "text": [
      "WARNING:tensorflow:Model failed to serialize as JSON. Ignoring... ('Not JSON Serializable:', <tf.Variable 'mmd_beta:0' shape=() dtype=float32, numpy=1.0>)\n",
      "Epoch 1/100\n"
     ]
    }
   ],
   "source": [
    "# tf.config.experimental_run_functions_eagerly(False)\n",
    "history = vae.fit(x=pttrain[:-1], y=pttrain[:-1], epochs=100, batch_size=512, verbose=1,\n",
    "                  validation_data=(pttest[:-1], pttest[:-1]),\n",
    "                  callbacks=[tensorboard_callback, kl_warmup_callback, mmd_warmup_callback])"
   ]
  },
  {
   "cell_type": "code",
   "execution_count": null,
   "metadata": {
    "scrolled": true
   },
   "outputs": [],
   "source": [
    "# tf.config.experimental_run_functions_eagerly(False)\n",
    "# history = vaep.fit(x=pttrain[:-1], y=[pttrain[:-1],pttrain[1:]], epochs=100, batch_size=512, verbose=1,\n",
    "#                    validation_data=(pttest[:-1], [pttest[:-1],pttest[1:]]),\n",
    "#                    callbacks=[tensorboard_callback, kl_warmup_callback, mmd_warmup_callback])"
   ]
  },
  {
   "cell_type": "code",
   "execution_count": null,
   "metadata": {},
   "outputs": [],
   "source": [
    "# tf.config.experimental_run_functions_eagerly(False)\n",
    "# history = gmvaep.fit(x=pttrain[:-1], y=[pttrain[:-1],pttrain[1:]], epochs=2, batch_size=512, verbose=1,\n",
    "#                      validation_data=(pttest[:-1], [pttest[:-1],pttest[1:]]),\n",
    "#                      callbacks=[tensorboard_callback, kl_warmup_callback, mmd_warmup_callback])"
   ]
  },
  {
   "cell_type": "markdown",
   "metadata": {},
   "source": [
    "## Probability playground"
   ]
  },
  {
   "cell_type": "code",
   "execution_count": null,
   "metadata": {},
   "outputs": [],
   "source": [
    "#I need to find a way of using DistributionLambda in my settings, \n",
    "#to build a gaussian mixture likelihhod with the proper categorical prior for clustering"
   ]
  },
  {
   "cell_type": "code",
   "execution_count": null,
   "metadata": {},
   "outputs": [],
   "source": []
  },
  {
   "cell_type": "code",
   "execution_count": null,
   "metadata": {},
   "outputs": [],
   "source": []
  }
 ],
 "metadata": {
  "kernelspec": {
   "display_name": "Python 3",
   "language": "python",
   "name": "python3"
  },
  "language_info": {
   "codemirror_mode": {
    "name": "ipython",
    "version": 3
   },
   "file_extension": ".py",
   "mimetype": "text/x-python",
   "name": "python",
   "nbconvert_exporter": "python",
   "pygments_lexer": "ipython3",
   "version": "3.6.10"
  }
 },
 "nbformat": 4,
 "nbformat_minor": 4
}
