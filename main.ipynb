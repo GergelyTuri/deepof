{
 "cells": [
  {
   "cell_type": "code",
   "execution_count": 1,
   "metadata": {},
   "outputs": [],
   "source": [
    "%load_ext autoreload\n",
    "%autoreload 2\n",
    "\n",
    "import warnings\n",
    "warnings.filterwarnings(\"ignore\")"
   ]
  },
  {
   "cell_type": "code",
   "execution_count": 2,
   "metadata": {},
   "outputs": [],
   "source": [
    "#from source.utils import *\n",
    "from source.classes import *\n",
    "import pickle\n",
    "import matplotlib.pyplot as plt\n",
    "import pandas as pd\n",
    "from collections import defaultdict\n",
    "from tqdm import tqdm_notebook as tqdm"
   ]
  },
  {
   "cell_type": "markdown",
   "metadata": {},
   "source": [
    "# Set up and design project"
   ]
  },
  {
   "cell_type": "code",
   "execution_count": 3,
   "metadata": {},
   "outputs": [],
   "source": [
    "with open('../../Desktop/DLC_social_1/DLC_social_1_exp_conditions.pickle', 'rb') as handle:\n",
    "    Treatment_dict = pickle.load(handle)"
   ]
  },
  {
   "cell_type": "code",
   "execution_count": 4,
   "metadata": {},
   "outputs": [],
   "source": [
    "#Which angles to compute?\n",
    "bp_dict = {'B_Nose':['B_Left_ear','B_Right_ear'],\n",
    "          'B_Left_ear':['B_Nose','B_Right_ear','B_Center','B_Left_flank'],\n",
    "          'B_Right_ear':['B_Nose','B_Left_ear','B_Center','B_Right_flank'],\n",
    "          'B_Center':['B_Left_ear','B_Right_ear','B_Left_flank','B_Right_flank','B_Tail_base'],\n",
    "          'B_Left_flank':['B_Left_ear','B_Center','B_Tail_base'],\n",
    "          'B_Right_flank':['B_Right_ear','B_Center','B_Tail_base'],\n",
    "          'B_Tail_base':['B_Center','B_Left_flank','B_Right_flank']}"
   ]
  },
  {
   "cell_type": "code",
   "execution_count": 92,
   "metadata": {},
   "outputs": [
    {
     "name": "stdout",
     "output_type": "stream",
     "text": [
      "CPU times: user 2.7 s, sys: 869 ms, total: 3.57 s\n",
      "Wall time: 1.16 s\n"
     ]
    }
   ],
   "source": [
    "%%time\n",
    "DLC_social_1 = project(path='../../Desktop/DLC_social_1/',#Path where to find the required files\n",
    "                   smooth_alpha=0.85,                    #Alpha value for exponentially weighted smoothing\n",
    "                   distances=['B_Center','B_Nose','B_Left_ear','B_Right_ear','B_Left_flank',\n",
    "                              'B_Right_flank','B_Tail_base'],\n",
    "                   ego='B_Center',\n",
    "                   angles=True,\n",
    "                   connectivity=bp_dict,\n",
    "                   arena='circular',                  #Type of arena used in the experiments\n",
    "                   arena_dims=[380],                  #Dimensions of the arena. Just one if it's circular\n",
    "                   video_format='.mp4',\n",
    "                   table_format='.h5',\n",
    "                   exp_conditions=Treatment_dict)"
   ]
  },
  {
   "cell_type": "markdown",
   "metadata": {},
   "source": [
    "# Run project"
   ]
  },
  {
   "cell_type": "code",
   "execution_count": 93,
   "metadata": {},
   "outputs": [
    {
     "name": "stdout",
     "output_type": "stream",
     "text": [
      "Loading trajectories...\n",
      "Smoothing trajectories...\n",
      "Computing distances...\n",
      "Computing angles...\n",
      "Done!\n",
      "Coordinates of 47 videos across 4 conditions\n",
      "CPU times: user 9.06 s, sys: 804 ms, total: 9.86 s\n",
      "Wall time: 9.91 s\n"
     ]
    },
    {
     "data": {
      "text/plain": [
       "source.classes.coordinates"
      ]
     },
     "execution_count": 93,
     "metadata": {},
     "output_type": "execute_result"
    }
   ],
   "source": [
    "%%time\n",
    "DLC_social_1_coords = DLC_social_1.run(verbose=True)\n",
    "print(DLC_social_1_coords)\n",
    "type(DLC_social_1_coords)"
   ]
  },
  {
   "cell_type": "markdown",
   "metadata": {},
   "source": [
    "# Generate coords"
   ]
  },
  {
   "cell_type": "code",
   "execution_count": 94,
   "metadata": {
    "scrolled": true
   },
   "outputs": [
    {
     "name": "stdout",
     "output_type": "stream",
     "text": [
      "CPU times: user 793 ms, sys: 63 ms, total: 856 ms\n",
      "Wall time: 822 ms\n"
     ]
    },
    {
     "data": {
      "text/plain": [
       "'coords'"
      ]
     },
     "execution_count": 94,
     "metadata": {},
     "output_type": "execute_result"
    }
   ],
   "source": [
    "%%time\n",
    "ptest = DLC_social_1_coords.get_coords(center=True, polar=False, speed=0)\n",
    "ptest._type"
   ]
  },
  {
   "cell_type": "code",
   "execution_count": 88,
   "metadata": {},
   "outputs": [
    {
     "name": "stdout",
     "output_type": "stream",
     "text": [
      "CPU times: user 27.5 ms, sys: 22.6 ms, total: 50.1 ms\n",
      "Wall time: 55.7 ms\n"
     ]
    },
    {
     "data": {
      "text/plain": [
       "'dists'"
      ]
     },
     "execution_count": 88,
     "metadata": {},
     "output_type": "execute_result"
    }
   ],
   "source": [
    "%%time\n",
    "dtest = DLC_social_1_coords.get_distances(speed=0)\n",
    "dtest._type"
   ]
  },
  {
   "cell_type": "code",
   "execution_count": 89,
   "metadata": {},
   "outputs": [
    {
     "name": "stdout",
     "output_type": "stream",
     "text": [
      "CPU times: user 119 ms, sys: 85.1 ms, total: 204 ms\n",
      "Wall time: 208 ms\n"
     ]
    },
    {
     "data": {
      "text/plain": [
       "'angles'"
      ]
     },
     "execution_count": 89,
     "metadata": {},
     "output_type": "execute_result"
    }
   ],
   "source": [
    "%%time\n",
    "atest = DLC_social_1_coords.get_angles(degrees=True, speed=0)\n",
    "atest._type"
   ]
  },
  {
   "cell_type": "markdown",
   "metadata": {},
   "source": [
    "# Visualization playground"
   ]
  },
  {
   "cell_type": "code",
   "execution_count": 10,
   "metadata": {},
   "outputs": [
    {
     "data": {
      "image/png": "[encoded data removed]",
      "text/plain": [
       "<Figure size 576x396 with 2 Axes>"
      ]
     },
     "metadata": {},
     "output_type": "display_data"
    }
   ],
   "source": [
    "ptest.plot_heatmaps(['B_Center', 'W_Center'], i=1)"
   ]
  },
  {
   "cell_type": "code",
   "execution_count": 95,
   "metadata": {},
   "outputs": [
    {
     "data": {
      "application/vnd.plotly.v1+json": {
       "config": {
        "plotlyServerURL": "https://plot.ly"
       },
       "data": [
        {
         "hovertemplate": "x=%{x}<br>y=%{y}<extra></extra>",
         "legendgroup": "",
         "line": {
          "color": "#636efa",
          "dash": "solid"
         },
         "mode": "lines",
         "name": "",
         "showlegend": false,
         "type": "scattergl",
         "x": [
          117.59243774414062,
          117.59243774414062,
          117.37013244628906,
          117.40533294677732,
          117.40482711791992,
          117.41827827453608,
          117.36611499786375,
          117.41568058395382,
          117.36479578971858,
          117.12359628925321,
          116.72543775224682,
          117.16847230471609,
          117.4061758923292,
          117.49649582129331,
          117.49920763384932,
          117.53415607485414,
          117.6571550098235,
          117.65147656064215,
          117.71918634961804,
          117.49820823946743,
          117.73424971757947,
          117.65049417537318,
          117.76120404699236,
          117.7238161917357,
          117.53368133947072,
          117.52586826616272,
          117.56691896117451,
          117.57415154119394,
          117.56614593743791,
          117.73752653977283,
          117.57331910741254,
          117.65272187647372,
          117.7849236473619,
          117.77872798361949,
          117.77612019993626,
          118.01721050369525,
          118.1061305544045,
          118.1512693196949,
          118.06857766421535,
          118.43355312988785,
          118.70757821457369,
          119.33383332348706,
          119.92823603638521,
          120.46154503026133,
          121.59733019305543,
          122.69129291176574,
          124.90526115005207,
          127.44651772826876,
          128.67940336928513,
          130.1285911235958,
          131.19395152101777,
          131.07823489656676,
          131.64080842639487,
          132.17013519786394,
          132.36131596610767,
          132.36522975233584,
          132.12939728505285,
          131.5008629540613,
          131.29874614060952,
          130.93948948949594,
          129.61277151581794,
          129.52056972469393,
          129.23339216780238,
          129.2969148044072,
          129.15243893991646,
          129.57791429585643,
          130.05361535270623,
          129.8579853621519,
          129.69471375065984,
          129.77556212317046,
          130.0119234322279,
          130.03121011193258,
          130.38160113690446,
          130.67481396307898,
          130.6699934664341,
          130.83049760715716,
          130.9362839320745,
          131.40580022701107,
          131.7105872431315,
          131.80174070055557,
          131.8767449468213,
          131.8622731290091,
          132.20983510628105,
          132.3235380518709,
          131.98776646467263,
          131.40636151832751,
          130.63808196188842,
          129.97549737960463,
          129.2978515765098,
          129.14925582031958,
          128.99352417202334,
          129.05341254296985,
          128.78248199494413,
          128.71652475986343,
          128.4636705170151,
          128.175259780874,
          128.19769388809914,
          128.0910350608811,
          128.08882308956254,
          128.23946244907359,
          127.96370035552422,
          127.64087999968524,
          127.37549835166851,
          127.61282969282388,
          127.79213713067992,
          128.3259134065603,
          128.58927802809808,
          128.58101896899188,
          128.69753934825764,
          128.8213569469113,
          128.89128556532455,
          129.11338298539607,
          129.27593221468152,
          129.2706222549383,
          129.08445013493656,
          128.82695198081888,
          128.65140195627566,
          128.29044752124395,
          128.06359927049215,
          127.96087059498348,
          127.67844247846443,
          127.55086887049748,
          127.41766297821499,
          127.15687044287932,
          127.46624899507208,
          127.19818419192018,
          126.87764456361629,
          126.87886092956927,
          126.87658992184708,
          127.37596060916195,
          127.96308181103092,
          128.43209294391335,
          128.23181273552183,
          128.5593329845558,
          128.6865907579845,
          128.94043681291777,
          129.03892763957657,
          128.68598587105873,
          128.6841060526748,
          128.28323235331504,
          128.41610009979576,
          128.21763133737227,
          128.03427017854358,
          128.113810777266,
          128.0080198602776,
          127.95683907264458,
          128.04413358206898,
          128.07233140288884,
          128.208432781451,
          128.2140632114099,
          128.31043056663168,
          128.266736251731,
          128.35182581546349,
          127.95313757399009,
          128.26716748804216,
          128.34347112437973,
          128.9684137462532,
          129.55704892793432,
          130.7236922377192,
          132.26939718294017,
          132.6430676906383,
          133.09082156474574,
          133.74766712381057,
          134.17251605697749,
          134.62740580587626,
          136.54871828989428,
          138.0118721013502,
          139.18057434504664,
          138.98007976539787,
          139.10801876894448,
          138.12174646187998,
          138.07263744668933,
          138.6426882388132,
          139.25038383721824,
          141.44649478855632,
          142.76847340810224,
          143.42769046584203,
          144.07848359666457,
          144.44872388237627,
          145.5723972343239,
          145.91257225423146,
          146.4781081203048,
          146.68814621411127,
          151.30533285622926,
          150.89028247899165,
          152.29727240157894,
          152.82247669802064,
          153.25681620203375,
          153.92085380450777,
          153.8389771422191,
          154.3987314031957,
          154.22481812895006,
          155.70100386331137,
          155.49686511436204,
          155.91004102139124,
          155.89750034820895,
          156.01685588465403,
          155.9753385532079,
          155.4022781385575,
          155.16713055593044,
          155.3465889742016,
          156.16149841639736,
          156.54799664691149,
          156.72893515064322,
          156.83425027828673,
          156.4413715225965,
          156.46282369896954,
          156.9690972689168,
          158.91602084488449,
          157.27045766895077,
          157.2419044695061,
          157.16596232710043,
          157.2801989394689,
          157.14504815765883,
          157.5251871895531,
          157.66779146437148,
          156.720443727847,
          156.11092311418696,
          156.34090347323956,
          155.8632037137101,
          155.42204006200154,
          155.00644741496666,
          154.60593296242524,
          154.55355500286998,
          153.74998723440285,
          153.77699382171954,
          151.3032649918987,
          150.6930062876134,
          149.81614404565977,
          148.3212544099389,
          146.9456195438607,
          146.4565911766275,
          145.3854083002314,
          143.44048727268552,
          141.80286739737846,
          141.18962960945748,
          140.3044892526732,
          140.94543662891863,
          141.82551652754944,
          144.2249697912128,
          145.2405480601871,
          145.59411076409208,
          145.552131403364,
          145.57263712242633,
          145.61858326030926,
          145.50428088330534,
          145.36256287967137,
          144.81235172722234,
          143.65284939777104,
          142.7710821902357,
          142.81388505126722,
          141.96243509464864,
          140.38130516979948,
          138.74834475638477,
          136.88035709138785,
          134.8187611128718,
          133.36574039232147,
          132.66242140570034,
          130.97953604664121,
          129.7181284696441,
          129.0626927360977,
          128.73908676312237,
          128.5828475139303,
          128.27226132989801,
          126.83081854554655,
          124.320766262473,
          121.03800779159758,
          117.25893189493735,
          113.56301318045843,
          110.922020021057,
          108.93496925001801,
          106.21096993431092,
          104.50574831719018,
          102.45483884952165,
          101.04594739162144,
          99.89144970438139,
          98.96687135679008,
          95.97599650839157,
          92.17394153115521,
          88.2864522716689,
          83.4028765079936,
          79.62888092668783,
          77.63657130774203,
          73.99783403109302,
          73.67849503454022,
          71.88061535124598,
          70.61107296123572,
          67.42340699995253,
          64.76434923764236,
          60.527398073918675,
          54.6079491996112,
          48.919837707913985,
          44.94834875201198,
          41.29455219427305,
          37.683492242000995,
          34.15989098954134,
          29.880558809444665,
          24.172642400872604,
          19.933897328496784,
          18.481506253929723,
          17.951205204743246,
          18.213481889017203,
          17.026651422801308,
          14.810553930081085,
          10.700864321086215,
          7.608219442051222,
          4.737714792205878,
          3.6649816956045527,
          1.7390851057937766,
          0.42523553559067295,
          -3.481544460693442,
          -5.8353853544758465,
          -7.986838907873562,
          -8.39122424604247,
          -9.424411334227926,
          -10.043374493839963,
          -10.993411761169341,
          -11.958746164310384,
          -12.867764052993778,
          -14.738361485193451,
          -16.212631496376815,
          -16.546851940064187,
          -17.121839182464328,
          -17.360049794183453,
          -17.656372496022016,
          -18.73255513758454,
          -19.382130495985336,
          -20.335011444465806,
          -21.358685236018886,
          -24.423583168085884,
          -26.84981032324464,
          -27.621265288933614,
          -28.56338768618201,
          -26.73035486292011,
          -24.81841013046636,
          -22.148550116645026,
          -20.203171523232072,
          -18.933483994547544,
          -18.92153026339693,
          -18.79464296051026,
          -18.83397767793727,
          -19.10095837644957,
          -19.322730776446434,
          -19.191911487180306,
          -18.371701395031437,
          -17.29824244207117,
          -16.232125448512534,
          -16.633471565285276,
          -16.15606210340971,
          -14.012289869314287,
          -11.61613545076537,
          -9.4087877552995,
          -8.315445830310097,
          -7.229841570277358,
          -6.660658396763324,
          -6.860989907416609,
          -7.12043207250278,
          -7.152505114530442,
          -7.811087729576599,
          -8.531867008634634,
          -9.599576062268511,
          -9.466840598170194,
          -11.230124245033636,
          -12.324788357791931,
          -14.140761770299974,
          -15.902719108160994,
          -16.958514320476638,
          -17.297605742200687,
          -17.481435076538304,
          -17.567641959962913,
          -17.377281942388947,
          -17.54049602543975,
          -17.48343402719817,
          -16.99405887036869,
          -16.66262511994887,
          -15.628260747059187,
          -16.015400237718893,
          -15.219113989988557,
          -14.903675697278942,
          -14.452227450060775,
          -13.862131402199253,
          -12.955529430009136,
          -10.714077705935352,
          -7.593256172313886,
          -3.9450266949528157,
          1.7274529193677495,
          5.514443352934791,
          7.714659167153201,
          9.633244841563254,
          14.252290885571028,
          16.262776185462997,
          18.648901677269265,
          20.456780929772577,
          22.322640427371653,
          24.60188505938777,
          28.57583212977957,
          30.91938737316596,
          33.96969620008218,
          36.553996973162384,
          40.07104265633069,
          44.01192797615016,
          47.794610255871476,
          55.57191096155924,
          60.626949106740085,
          67.49350911737838,
          73.62740265653838,
          76.2099959110638,
          80.6483660747503,
          82.74636449896423,
          85.66573025300943,
          91.75160006058684,
          97.88993674742409,
          106.417590778131,
          111.96706442568785,
          115.85462927834072,
          118.46282089432191,
          119.61170574429013,
          119.81855338317172,
          120.12074145734664,
          120.80454722866716,
          122.00985773959809,
          125.39336427424149,
          130.2158539661155,
          132.67074322756196,
          137.60370225263216,
          138.33301962622414,
          140.12360892676196,
          142.06999536336724,
          142.94425545034244,
          143.6645077883918,
          143.45697492643808,
          141.73575404911816,
          140.63187784296963,
          140.18173914496538,
          138.58933123699234,
          136.97078351578773,
          135.0834131132832,
          133.69424118459472,
          132.20407233076202,
          131.83987531343138,
          131.01809711670415,
          130.72212234926081,
          130.44970095666577,
          130.04707415072897,
          129.16272186713263,
          129.09547970171093,
          127.7814181677652,
          125.21178594451442,
          121.99487843561394,
          118.64634003523184,
          116.72649769551788,
          114.07480745059729,
          111.00759983743313,
          108.96930064639821,
          107.0505906592087,
          105.86823140067071,
          104.21258585229924,
          102.16065615785448,
          101.41600042667301,
          99.76192801352192,
          98.16615372611034,
          96.70934535437203,
          95.67383052961964,
          94.70927655901517,
          93.65917699643512,
          93.0414271894187,
          92.60184133218013,
          91.43658822392064,
          90.08952851916297,
          87.36772364618577,
          82.27323610160494,
          81.31493485308022,
          81.27622406270166,
          82.35305687835262,
          82.14670857278418,
          81.2134642080224,
          79.49358831716762,
          76.62526456528536,
          74.35590012501655,
          68.21082307102324,
          65.45061097090093,
          59.314791490438665,
          50.45470178357459,
          45.004281254083395,
          40.357406622516635,
          34.23024881653046,
          28.49487686251814,
          23.020178801971753,
          17.625221061848436,
          14.416672755354341,
          10.16299397470695,
          4.9734048439672165,
          2.5025405268701206,
          -2.6480230868814942,
          -7.850213250803449,
          -12.286166017963865,
          -18.281175023509206,
          -20.360554144637945,
          -24.58867817613381,
          -27.792447532096077,
          -29.180000945170093,
          -29.40027200652341,
          -28.592220783865343,
          -28.99394583027538,
          -29.940970873927455,
          -33.16290641921904,
          -39.581803437485604,
          -46.568470539298886,
          -52.67548081225371,
          -56.833602032310836,
          -58.792140908459146,
          -57.43660265225873,
          -55.026442901405574,
          -55.14657026234076,
          -54.306389530913975,
          -54.3728385056597,
          -53.78989229804529,
          -53.813815332733725,
          -53.93957378000951,
          -53.84925964732216,
          -54.35915353526315,
          -56.09079379328972,
          -57.268376509293375,
          -58.047855214013,
          -58.22071835993893,
          -57.766079496701565,
          -55.75884933113926,
          -54.14028805365561,
          -52.996687201916984,
          -53.18030376713037,
          -54.13342870894965,
          -56.53271191638791,
          -62.38696834686979,
          -68.90515855747773,
          -72.97604337519942,
          -77.10344498723495,
          -79.88766322014709,
          -81.21746300663017,
          -81.65005660277305,
          -81.74548795075039,
          -81.00126482281343,
          -80.87115241624537,
          -80.95024885122965,
          -80.88052523365262,
          -80.92148782817273,
          -80.8735136452774,
          -81.1527537375804,
          -81.1354215780416,
          -80.76859139010483,
          -81.50063664674042,
          -81.41075532228525,
          -81.00542081439387,
          -77.81504805176075,
          -76.01027967489345,
          -74.35904385937543,
          -74.45288205438342,
          -74.06004973991706,
          -73.59665545268876,
          -72.84742985478638,
          -71.75954455203419,
          -70.59603537665546,
          -70.19851115057855,
          -68.26870675913503,
          -65.9894492189735,
          -61.009051436233534,
          -56.77126894534604,
          -50.30202681333543,
          -45.09934741577649,
          -41.89274359719562,
          -38.60838508355789,
          -36.920396067167246,
          -34.372352122885246,
          -29.01640413663759,
          -24.260905003491388,
          -18.176283404919445,
          -11.905780037633065,
          -4.011701757564083,
          5.422738951386293,
          11.592416641882949,
          18.453465926936474,
          24.160712319280492,
          28.78754503552483,
          31.671058904776828,
          34.53965504024083,
          37.07985423976925,
          40.57831992962011,
          45.284108720682184,
          51.88973260858364,
          57.671658361325,
          64.56905254265473,
          69.14450790947217,
          74.2976793535662,
          83.26809952626456,
          87.73450786006617,
          93.31214638645918,
          96.99687356670523,
          99.03645818843762,
          100.07439980941984,
          100.81394956322657,
          101.1763821393817,
          102.29106063516758,
          103.14639903233308,
          104.84390171002121,
          107.58225343395151,
          111.08321062271415,
          114.94228949214352,
          119.59076833657116,
          122.68627140233718,
          125.86288282861068,
          128.6249423582998,
          131.4848477685299,
          133.98688100218249,
          137.35864940649043,
          139.75623222356955,
          140.71970775032906,
          140.8535120430081,
          140.56911644086972,
          140.1546671262754,
          140.82667911163827,
          141.739205012789,
          142.3559003652809,
          143.95721864254335,
          145.56466740342495,
          146.43196322851043,
          146.3874558478184,
          146.996168080468,
          147.9861304621337,
          148.78850297085927,
          149.60168238670286,
          150.74988250129297,
          151.99179044394293,
          151.21729041962755,
          152.0283919796774,
          153.62570574556133,
          155.0199066851352,
          155.2230062524592,
          156.1868071087273,
          156.85088105261502,
          157.17957288515674,
          157.59155275115398,
          158.15176961197272,
          157.66755676521217,
          156.6750557860342,
          156.46221847571934,
          155.98120831907698,
          155.9371168900102,
          155.70281479278344,
          155.5905217571343,
          155.66632157194488,
          155.39246467714435,
          155.692131158155,
          155.47411628360294,
          154.98851663417247,
          154.81488270132945,
          154.1724535205165,
          153.4366138138908,
          152.6808820661634,
          152.00042401788437,
          152.04010991002218,
          151.76738232826858,
          151.6489272531049,
          151.82140007384965,
          151.79255545759463,
          151.8647291761165,
          151.92551173660797,
          151.87431539448392,
          150.7272636501396,
          150.5289775093679,
          149.95070026529436,
          146.68515717328017,
          143.7812860700676,
          139.48666182062095,
          136.32248465855702,
          133.43897369936263,
          128.7402611265179,
          126.20032176291221,
          125.23878727688782,
          121.16057652371416,
          118.29145926584954,
          116.96272173246336,
          116.33308351390087,
          116.34012511777968,
          116.15859900169448,
          115.21551919491304,
          114.63408342935577,
          114.1878012068737,
          113.74829549780179,
          113.81950929235921,
          113.03229742525616,
          111.77314154277968,
          108.9146346528509,
          107.20062241549897,
          105.8434818190214,
          105.14060209035216,
          106.12443181875165,
          106.49849967634577,
          105.92766745835962,
          105.51685869168625,
          104.62732913486724,
          103.63586468021782,
          102.1907302296051,
          100.42356573718894,
          99.63969657057356,
          99.45581391331268,
          97.71714284007822,
          95.97521565389144,
          96.16221620140237,
          95.72526184027123,
          96.4884239219096,
          98.01849844352114,
          99.18621219668489,
          101.77190013273912,
          101.93891205411205,
          102.5829740457898,
          103.00539979639808,
          103.60267590423177,
          103.69449588254565,
          103.60471260389647,
          103.46629596441312,
          103.08318430757669,
          102.81583672864633,
          102.44421134974976,
          102.1437500210157,
          102.07840843586092,
          101.33804504709764,
          100.3257169538557,
          99.08547085618574,
          99.169908568469,
          98.99059009864271,
          99.52335158068053,
          99.30187830971829,
          98.71160820585209,
          98.28420386559839,
          97.90505818644425,
          97.92509670532803,
          97.65764440911897,
          97.49842179339686,
          97.5355271545319,
          97.47117745357986,
          97.39204934905865,
          97.43368015807602,
          97.56510317872596,
          97.34595564919971,
          97.40896286450419,
          96.9337887941573,
          96.69146680516394,
          96.14681270388922,
          95.92097313356754,
          95.66734508673574,
          95.38361563556248,
          94.38799849152599,
          92.53986351232658,
          90.26961945146326,
          89.07892416796227,
          89.27355448998514,
          87.80861444306544,
          87.6277992257439,
          87.26881261323717,
          87.28923824323658,
          87.26996819325512,
          87.49876140787222,
          87.49981377146872,
          87.44715613012613,
          86.9592021072242,
          86.2938556460814,
          86.09996399528285,
          85.94693326634581,
          86.06246469206587,
          86.67695820284251,
          87.01456837324349,
          87.66087142818031,
          88.20351582239277,
          88.42388352184423,
          89.1022619924995,
          89.16045295063992,
          88.98952905717573,
          88.87504297921708,
          88.81202493963104,
          88.40269199375757,
          88.11931350656965,
          87.85363652611443,
          88.11758422080965,
          88.55502759561637,
          89.05147399786756,
          88.33788060418618,
          87.2677735899145,
          86.27875063310842,
          85.22379946133873,
          84.19680832250532,
          83.78627377662269,
          83.54223944905937,
          83.9297834126848,
          83.00359391296439,
          82.84953678680506,
          82.53886000979622,
          82.314405615677,
          82.4412644873093,
          82.7926228784844,
          82.81977091088936,
          82.53159789954611,
          82.52174035587171,
          83.21645385729522,
          82.48455835562686,
          82.56292919919974,
          82.48795627531666,
          82.57571593017292,
          83.20713203993029,
          82.77677486999471,
          82.75356431282546,
          82.6439789990539,
          82.65920011323243,
          83.27971757739715,
          83.2777465941333,
          83.37502648426585,
          83.30783172788949,
          83.29544617234689,
          83.12171186855846,
          83.33173147663331,
          83.18878595508846,
          83.35382771465908,
          83.18707033466956,
          83.30855664010903,
          83.244555301177,
          83.65301872550856,
          84.0237758855086,
          85.62349144408017,
          90.31550638526772,
          93.85144455401434,
          96.6092491755636,
          99.58904480810213,
          100.3429178328775,
          100.87891305666454,
          100.41283293860346,
          100.16628520068718,
          99.54273701354441,
          99.16277694758355,
          98.58126254177779,
          97.64085788735235,
          97.20481633439164,
          96.54902937890364,
          95.57406504049078,
          94.9135006470699,
          93.021601699433,
          90.4609981805566,
          87.64339986184854,
          84.9808745805991,
          84.09466213992181,
          83.411370689043,
          83.47633463592967,
          83.53905240511426,
          83.33826843269412,
          83.09470978947809,
          83.19359152222836,
          83.00945945914441,
          83.1081296096819,
          82.96575149943806,
          83.07787868217497,
          82.92977941192743,
          83.08563657527543,
          83.08713079118365,
          82.87004610884992,
          83.09553269240803,
          82.9510650828314,
          82.90387763335343,
          82.41043777756141,
          81.95151182078428,
          80.68267620130217,
          79.26016146550046,
          77.36646393019532,
          74.7899061778329,
          71.22128428679491,
          67.97621908097182,
          62.79643116840987,
          59.21187170491919,
          55.38319911129662,
          51.031176507691015,
          47.16824875707533,
          42.97079128328255,
          40.18757251863943,
          37.85608622178927,
          34.53322620982715,
          31.91565200797544,
          26.05778468220649,
          21.971508415209996,
          16.311500496520438,
          11.586767064283436,
          5.78847693605033,
          1.0434731284901773,
          -6.873542882199871,
          -12.876263301966702,
          -19.733288207232334,
          -24.884889507502038,
          -29.24828211047938,
          -31.58583630088117,
          -34.49128360685512,
          -38.81621406817905,
          -44.07853339185837,
          -47.93916947594951,
          -53.108476480946706,
          -57.82141283594319,
          -62.092215991184986,
          -65.34254175937585,
          -66.35785171630471,
          -67.57428699510754,
          -67.97379113024843,
          -68.80874970820167,
          -69.50159692881462,
          -68.97526829729469,
          -69.88453977125579,
          -71.7903721232563,
          -72.041378475454,
          -73.08279303162323,
          -73.58047587532201,
          -76.14546453274642,
          -77.04289947578073,
          -77.68132743137681,
          -78.57491293345207,
          -79.84868768587351,
          -80.51687429963695,
          -81.68505919536149,
          -82.36881265434496,
          -83.64421815359623,
          -84.77050744502675,
          -84.04211764735584,
          -81.73434786052843,
          -80.71460393250376,
          -79.99192021496793,
          -79.61889064785896,
          -78.57737003297761,
          -78.20817135047474,
          -78.22985883136266,
          -78.19646312932903,
          -78.20146071252178,
          -78.08291223368158,
          -77.40294592877768,
          -75.92040650057957,
          -76.05048324063502,
          -74.54638388158108,
          -74.05151932447416,
          -71.69671512007895,
          -70.10828026683518,
          -70.7486890917423,
          -70.62746487938074,
          -71.34209004589025,
          -72.5008923454325,
          -78.0707265012683,
          -79.60090098743498,
          -84.86944076229962,
          -90.37541690165529,
          -95.7920410227922,
          -101.86495854660083,
          -108.16011818039638,
          -112.4040010604325,
          -117.19273644654187,
          -122.44933917273676,
          -126.4818920343641,
          -131.7443997772777,
          -134.19116121604327,
          -135.99329753983383,
          -137.69050546597583,
          -140.03130340020115,
          -140.96065704243057,
          -141.82533245003262,
          -142.48569058212144,
          -142.81074234949952,
          -143.2962168914564,
          -144.04334597156554,
          -144.535087479092,
          -144.8700295751782,
          -145.1249715645518,
          -145.95728914239245,
          -145.2784629130275,
          -145.43772312447166,
          -145.57585661804544,
          -146.29836663670054,
          -148.1137382644353,
          -147.9088932172458,
          -147.8076670476487,
          -147.51136068546774,
          -146.82235759956674,
          -147.04087780124544,
          -146.15193297037933,
          -145.80186340541633,
          -145.21431654925564,
          -143.16998177369086,
          -143.42357604836735,
          -144.2622228825087,
          -144.2932712095012,
          -143.74204224890462,
          -141.92047898556336,
          -139.89696498296559,
          -137.8695743807935,
          -136.02044181165382,
          -133.8506418455956,
          -131.46379701515627,
          -129.30377654417333,
          -125.83710075649708,
          -122.06058875945803,
          -116.82503677790328,
          -109.61278589997826,
          -104.07532717195893
         ],
         "xaxis": "x",
         "y": [
          -98.4764633178711,
          -98.4764633178711,
          -98.44565963745117,
          -98.59194793701172,
          -98.57638721466066,
          -98.49418159484864,
          -98.57849337577821,
          -98.55681118392944,
          -98.52157281923294,
          -98.62471316013337,
          -99.25113631350995,
          -98.37392967604637,
          -98.10137474695325,
          -97.52574734935618,
          -97.3395874681465,
          -97.28872271336535,
          -97.14206513438214,
          -97.00611053102824,
          -96.86524211268662,
          -97.28517294256928,
          -96.83755761817253,
          -97.04727652121939,
          -96.70228502517217,
          -96.81293750174248,
          -97.05680683458637,
          -97.03274384791763,
          -97.04390310526608,
          -96.97730499454605,
          -97.13012443673718,
          -96.75697554044167,
          -96.77445106907503,
          -96.59899936451352,
          -96.5937090116796,
          -96.43980565418875,
          -96.3970866709658,
          -96.19390663914393,
          -95.88167336746616,
          -95.65811889382081,
          -95.60757449144805,
          -95.09376979024988,
          -94.51223450135392,
          -92.9898226859447,
          -91.10408546512008,
          -89.02335247698839,
          -85.0402435570727,
          -81.64775259689006,
          -78.2282216684486,
          -75.71750438123273,
          -71.43375679457881,
          -68.22435844527084,
          -65.05345615834699,
          -62.65957234589217,
          -61.52340233488485,
          -60.23965164167876,
          -59.415915745740534,
          -58.69817308804869,
          -58.97839383158765,
          -58.53313706550222,
          -58.502175181915874,
          -59.08607712720814,
          -60.805673719914324,
          -60.6127963652238,
          -60.43053504846566,
          -60.70628102704919,
          -62.994159419867515,
          -62.50494575513159,
          -62.597508770157845,
          -62.72531690599436,
          -62.77613983481078,
          -62.59192894459056,
          -62.15412468005562,
          -62.03522336268469,
          -61.80653316123687,
          -61.61601577368981,
          -61.700166985904275,
          -61.32373476351441,
          -61.48014254056142,
          -61.123137546070126,
          -60.98376073044943,
          -60.43714357502574,
          -59.88734758735063,
          -58.63403695983786,
          -57.20671129947954,
          -55.6780218037413,
          -54.6551285516114,
          -54.04558449614714,
          -53.24865838186281,
          -51.42343999986153,
          -49.85496080561927,
          -48.77847953147338,
          -47.815242106682746,
          -48.173956530551095,
          -47.663808532799294,
          -47.41490955013933,
          -47.52029118958785,
          -47.32459299990373,
          -47.88307679001045,
          -47.7943325657082,
          -48.09208371088437,
          -48.55667658773709,
          -48.5415476945721,
          -48.28091741223284,
          -48.14277466517214,
          -47.94866303297749,
          -47.95753909406292,
          -47.76821727110874,
          -48.04650943466606,
          -47.934156540861636,
          -48.363546849770216,
          -48.44791156706674,
          -48.731214308959665,
          -49.21448440351705,
          -49.037735430035355,
          -48.60044124573264,
          -49.174957342093194,
          -49.04238628573685,
          -49.366770182124526,
          -49.21986960057535,
          -49.21020122678158,
          -48.97687234682459,
          -48.33636569427114,
          -48.412168821994385,
          -48.47627196229496,
          -48.43113226909995,
          -48.578605558748535,
          -47.4126305032068,
          -47.196480164866955,
          -46.73824192655525,
          -46.47759977131207,
          -47.18026601310439,
          -49.896691845579625,
          -51.27605418419222,
          -51.42889159421975,
          -52.95415455707217,
          -53.41938210949428,
          -52.87334550411745,
          -53.818862058855785,
          -53.96732918767816,
          -54.683298364004145,
          -54.64473927072984,
          -55.03279184322366,
          -55.26773063548251,
          -54.97436152550699,
          -54.5662757757423,
          -54.81951619782018,
          -54.58908412759183,
          -54.285765411850775,
          -54.79481098339659,
          -54.88294278418974,
          -55.075536497363004,
          -55.58732194131011,
          -55.73526235937007,
          -56.01440062884302,
          -56.12898976284106,
          -56.823496459072544,
          -58.109563003000375,
          -59.21512450548198,
          -61.18065335303794,
          -61.7873239126387,
          -62.141685405299455,
          -62.30675749192511,
          -63.42849463208398,
          -63.87497404248995,
          -65.07266118822079,
          -66.49541007732077,
          -68.22155057593818,
          -68.91276366003564,
          -70.3729050564835,
          -70.58031435979636,
          -70.65892266643151,
          -70.40260654117648,
          -70.48022687347546,
          -69.26430714938937,
          -68.05454211817954,
          -67.49794456484005,
          -65.78104279843981,
          -65.27958288956,
          -64.73759022713901,
          -62.50864275569961,
          -60.497606765272025,
          -59.437140834741655,
          -57.18419225380447,
          -51.73932753390267,
          -50.746959434994494,
          -47.66351982710688,
          -42.524247894741364,
          -40.73474831098011,
          -36.690470375129166,
          -36.26470672296537,
          -36.18190917931625,
          -35.66866108656981,
          -33.60114959711228,
          -32.450456328512814,
          -32.17275453185198,
          -31.9225512068453,
          -32.577409304045375,
          -32.70293727697407,
          -32.30135520053844,
          -31.763604043694556,
          -31.19314105473896,
          -30.802003222520966,
          -28.869886075203027,
          -28.61639347043871,
          -28.909563111475762,
          -30.29783392901308,
          -28.01232481706316,
          -27.893657328121492,
          -27.526097227198136,
          -27.03044447324166,
          -27.102078951755487,
          -27.05227022323237,
          -27.117281752431268,
          -26.696626086463368,
          -26.81552011931001,
          -25.71342335632886,
          -24.434117721265636,
          -23.249960128205174,
          -23.44476395945938,
          -22.213641480168263,
          -20.27599193766892,
          -18.37122011118538,
          -16.751539781861283,
          -15.133107638259844,
          -12.140353190179582,
          -8.431285878404992,
          -4.940032623302329,
          -3.099995616135743,
          -1.1167190048234659,
          0.9503227706167365,
          2.7609040145108565,
          5.696575210026111,
          7.876032117069201,
          9.227471358408224,
          10.396906221368994,
          11.721485663478035,
          12.295688582131106,
          13.170435221347873,
          14.134049027065743,
          14.30264047851469,
          14.867163170710256,
          14.399281722411956,
          14.283625958760837,
          14.20452040167234,
          14.138949686050466,
          14.614495351510612,
          14.565736862087277,
          14.51655174413284,
          14.61579925001621,
          15.397605289696116,
          16.11621708598875,
          16.758110336911443,
          17.536579291413943,
          18.886774106689074,
          20.764970231114432,
          22.60459509549554,
          24.000535787352703,
          25.48778399088684,
          26.179204055847038,
          27.35996798315449,
          27.90931621628721,
          28.756329792199722,
          29.030493044015344,
          29.50765646956239,
          29.81387418853589,
          30.82415033200664,
          34.24921430699132,
          36.70161556127562,
          42.790465184378775,
          47.05407656270697,
          49.838322280098225,
          51.44233694827324,
          53.092782491184664,
          53.155008684330824,
          53.27932188417577,
          54.88784023087226,
          55.76559213028261,
          56.386137765587875,
          56.922580366173236,
          58.614665049603786,
          59.75392202807052,
          61.82142949376873,
          62.60247734229648,
          63.773991096428574,
          65.80061330056321,
          66.50196139639786,
          67.1010215605142,
          67.40007295701827,
          66.70701267011225,
          66.4419658996074,
          65.51213100207934,
          65.71452333953096,
          66.15241932072206,
          65.81051407221872,
          65.67285526871376,
          64.88928493553982,
          64.25769861501408,
          63.2450016270497,
          62.68912934059193,
          61.92771398917466,
          62.34611537276851,
          61.784283441149626,
          61.93897480103249,
          62.89113037017637,
          65.12921597113143,
          67.99856060777256,
          69.83022986881423,
          71.50336227720106,
          72.80621630405261,
          72.58816608474422,
          72.81316572197505,
          72.56046154601245,
          71.19851294423376,
          69.75959108248782,
          69.51797121653738,
          69.42921271022476,
          69.51696265025407,
          69.93479664042042,
          69.59647292537011,
          68.0478885634459,
          66.065911368493,
          64.74170782064971,
          63.7743306750005,
          62.58951545044124,
          61.44112976482427,
          59.62140919012478,
          57.1978497625752,
          53.65367051548159,
          50.36153018655423,
          44.70418384758591,
          40.82044046548313,
          36.18166288597578,
          32.64582607958812,
          28.10372572073817,
          23.18061567219212,
          18.23129829902868,
          13.06258810888545,
          7.9519692199519625,
          2.983250673608211,
          0.16404324676233273,
          -2.326646462679463,
          -2.7592550547336714,
          -3.6391153776050373,
          -4.079253858795994,
          -5.957509762695423,
          -8.968051103721763,
          -13.99091039995119,
          -19.517511437530914,
          -23.143283013850095,
          -26.870322333305438,
          -30.641298360280643,
          -30.955935160298537,
          -30.869918356337024,
          -32.12872962951354,
          -33.49179833084315,
          -34.43461629867508,
          -35.468337620720234,
          -36.33131869602198,
          -39.34804529032482,
          -43.79312050337791,
          -49.49442099642957,
          -53.11644198297739,
          -56.97782983647613,
          -58.81181367903841,
          -63.07436383704368,
          -66.28712086777372,
          -68.8360721780956,
          -69.97894840970707,
          -71.53565061858447,
          -73.46193854441503,
          -75.64538818116657,
          -77.50031266276577,
          -78.46608885156463,
          -79.6122974182137,
          -79.92718719248079,
          -79.25712094940198,
          -79.03908608973637,
          -77.75720637178041,
          -77.88547144922705,
          -77.89229151179734,
          -77.92345716147585,
          -77.91289150203815,
          -78.27053113220478,
          -79.70570127291315,
          -82.06226279055826,
          -83.5705082060737,
          -87.87834843652809,
          -91.38617590132122,
          -97.02460390427316,
          -99.37665158966595,
          -101.12356935456188,
          -100.73226334819111,
          -100.00861566441475,
          -99.06158701504604,
          -97.50993607219638,
          -95.87134819019637,
          -96.27415505316344,
          -96.6945110511613,
          -98.34032941947353,
          -99.09679636287439,
          -100.1087093250304,
          -101.49520793099366,
          -101.92265214765594,
          -103.65859324714417,
          -104.88596709705074,
          -106.89996315088999,
          -106.50529725571973,
          -108.71208874143232,
          -109.5579658377476,
          -111.77779490911524,
          -111.88743289751272,
          -109.0284196483546,
          -105.19822495049605,
          -99.1950676194944,
          -94.02372139821405,
          -90.97524555552181,
          -91.0723383458405,
          -90.77485700849917,
          -91.43906730461046,
          -91.44504744470748,
          -90.53103686876285,
          -88.59822150269245,
          -83.49380271659372,
          -78.36292963653668,
          -75.88004269752813,
          -72.05897969816604,
          -67.9355144002347,
          -67.07849417152178,
          -66.27067765441996,
          -64.98372465673413,
          -63.78893691427626,
          -61.82631007180112,
          -58.491627738069155,
          -57.263279091336585,
          -56.299127919255284,
          -54.8368665890423,
          -51.96644893031993,
          -49.15950978571962,
          -47.90103499701871,
          -46.67598564144194,
          -45.507047797160226,
          -43.98386854934128,
          -41.79736530556036,
          -39.571681539725404,
          -37.754429167171935,
          -34.75588315136898,
          -32.36730942512463,
          -28.123564662646743,
          -25.4721877833976,
          -22.414028778986847,
          -19.71109153420886,
          -17.386948677199598,
          -16.231519534574687,
          -15.300909580632691,
          -14.735785364268253,
          -13.408767113364433,
          -12.495502692335549,
          -11.40607443590116,
          -9.59112075297142,
          -7.790740572123468,
          -5.951789908600006,
          -5.548103273318503,
          -5.334296043663045,
          -5.594231024445037,
          -5.396637173883448,
          -5.187485941508555,
          -5.108288605867671,
          -5.303838528433317,
          -5.209729313829371,
          -4.883023136442745,
          -3.5589008033244056,
          -1.2653376867750126,
          0.6196751639251659,
          1.3825618652942921,
          1.2381218678504808,
          0.8700849328702986,
          1.142928058009602,
          2.373824812684461,
          3.621075286582311,
          4.11436916257648,
          5.371206947284236,
          7.368193734982185,
          9.667945293801637,
          14.08762499530593,
          17.238173971804628,
          20.947810955106434,
          23.783742453192588,
          25.998359845170256,
          26.760800198545297,
          27.262341714812635,
          28.958940433834528,
          32.21117895497582,
          34.99133709779002,
          37.02872121580495,
          41.700180667207576,
          45.58162217773207,
          48.633654114241295,
          51.02761960839808,
          52.321715139841274,
          55.36060046079095,
          59.733276191874666,
          61.56262888747801,
          62.657382175851524,
          63.26674754357094,
          63.83170669161211,
          65.1169972999927,
          68.21080031526526,
          74.89892929470597,
          82.02876055021949,
          88.56670737516293,
          92.92671551075557,
          95.6700265530518,
          97.26935705805863,
          96.79456373637572,
          97.70179424474395,
          97.80058562246808,
          98.23261899022725,
          98.00798609776473,
          98.19826259951066,
          98.09956217247719,
          98.03858490994611,
          98.12484185760985,
          99.721118241863,
          100.53819496760633,
          101.85894288276381,
          102.45467486281672,
          102.34820025809813,
          101.70483453020375,
          101.93490368373426,
          101.10147102913993,
          101.00768245197423,
          101.0070755127694,
          101.55854982873365,
          103.21809623902482,
          106.44691723993509,
          107.26935536602946,
          108.68479271294336,
          110.64517320236536,
          112.34854257637505,
          113.10427872693685,
          113.3934541769836,
          113.57423250728272,
          113.5586213980319,
          113.50612846740103,
          113.40093493333762,
          113.36335976083285,
          113.30724412183662,
          113.12039141529675,
          113.94570972618567,
          114.85761559706015,
          114.37169502093957,
          113.60756079659023,
          112.93501908468392,
          111.87255349204713,
          111.12013872696042,
          110.94390792615081,
          110.72466601168077,
          110.7651823803289,
          110.34794398134193,
          109.82731092638528,
          108.04807172415445,
          105.51105190018825,
          103.35008337825207,
          100.59229041442273,
          98.91784148622997,
          96.12804796890168,
          94.31539991678216,
          93.18788853078445,
          91.8869279074392,
          90.20944548664892,
          88.59040612947524,
          87.17825672778247,
          84.6654484316283,
          82.30940452479234,
          79.18028143710751,
          77.1636058081134,
          75.10720578978487,
          72.78585068567014,
          69.79037591241303,
          67.76837198761615,
          65.05763261977211,
          62.01567083720494,
          59.71163103798534,
          58.19639054257294,
          56.32905682000444,
          55.10622173446211,
          53.35173431645771,
          49.99734576627284,
          46.93131010474406,
          44.729202389843294,
          41.58098527303582,
          40.656994646806595,
          37.442067224549135,
          31.091708681884285,
          26.39050670843821,
          19.78914158670645,
          16.940621752115362,
          16.06038936544735,
          16.947112092163024,
          17.418090082063202,
          17.180092479107657,
          16.585898479350476,
          15.374055955606394,
          14.073077642996338,
          12.003885187774529,
          8.379166907679917,
          4.753170668791171,
          0.2224420527535358,
          -2.2617909402086696,
          -5.049941339792042,
          -5.121309809244195,
          -5.299769490763737,
          -6.700077422314365,
          -10.219438995391897,
          -12.960095078923331,
          -14.120402116398651,
          -14.476935862180284,
          -14.803184524002774,
          -15.328940129082923,
          -16.39459343177424,
          -18.7554971778097,
          -21.30986116442432,
          -26.127651053722246,
          -30.100491473247644,
          -33.35973603696459,
          -35.878045217569195,
          -37.59752272243924,
          -38.27641884928579,
          -38.80764369767252,
          -38.557784391113586,
          -39.697296304406734,
          -40.50586156735844,
          -36.276466393903206,
          -33.22849993212523,
          -30.034453967874526,
          -26.644281703685976,
          -24.609556522915568,
          -25.00484309173453,
          -24.885468054853362,
          -23.015892937148863,
          -23.079217608130364,
          -22.73578619276958,
          -22.449193432235177,
          -22.1342326750092,
          -22.06028444086067,
          -22.053350996222093,
          -21.934309694937696,
          -22.14558809865207,
          -22.20970211830317,
          -21.920451953811494,
          -21.727685633907583,
          -21.41985337656783,
          -21.80312409752753,
          -21.935921884659024,
          -22.126328752568583,
          -22.620871528548463,
          -22.887146181781787,
          -22.701824424350633,
          -22.591586331564145,
          -22.41643623079125,
          -22.402922520047127,
          -22.59269080693315,
          -22.384882195145735,
          -22.35644817670405,
          -22.19987023820741,
          -22.247485018253656,
          -22.235541601404947,
          -23.118779399466547,
          -23.888234224829887,
          -24.023262008796934,
          -23.50355373724011,
          -23.2721126533703,
          -22.649028543984457,
          -22.599487704890322,
          -23.485218966656248,
          -24.67144018454215,
          -25.43373255202971,
          -23.715352258150062,
          -20.646605903312263,
          -19.300370007911965,
          -16.876832499266357,
          -15.552190510952443,
          -14.789885165417274,
          -14.323709161359659,
          -13.641810411531338,
          -13.69541001189927,
          -12.898699998009022,
          -11.603971230788801,
          -10.915511023871261,
          -9.660863934130049,
          -7.9003179865885045,
          -5.457667645539431,
          -4.140955901113273,
          -1.784212585795757,
          -0.12873844742284746,
          1.6616642241911848,
          4.397262566626807,
          7.930027374107198,
          11.004632567367054,
          15.679257066321156,
          20.58131393417733,
          27.442504404674736,
          33.02676618192348,
          43.969879078669976,
          48.83353992118501,
          56.70781706687862,
          62.101808637103545,
          64.6481952651099,
          66.0161181583585,
          66.85059843039147,
          66.45652233801161,
          66.08484074112118,
          66.57861323839705,
          68.08148831819943,
          68.82166594816192,
          70.20604191228068,
          70.86816261195082,
          71.54631766379521,
          71.70262582001527,
          72.75421785220601,
          73.55565479829522,
          75.48794499472541,
          75.88826002394347,
          75.65562125360339,
          77.2100685324001,
          76.49816618608736,
          75.73025905915688,
          74.67409779168264,
          74.33510190818993,
          74.00173875322503,
          73.1708493926738,
          73.2161482641556,
          73.75433224288543,
          74.2060748885491,
          74.84331798828828,
          75.11561582312612,
          75.8193123344737,
          76.3352989164377,
          76.6005396724367,
          76.77884403180161,
          76.76483070672487,
          76.88669812576632,
          76.91432329985639,
          77.25991359337667,
          76.99111730601362,
          77.3615761503346,
          77.5964794855505,
          78.169783602726,
          78.58283434959037,
          79.65768647351433,
          79.85959006943074,
          80.98957093977714,
          82.89674093961384,
          84.76053128305642,
          86.19377475178192,
          87.50437815437249,
          88.98741277038448,
          90.38790190137854,
          90.75032901760846,
          90.93500718462082,
          90.96631064414521,
          90.78628531841576,
          90.84695923089913,
          91.09992521963738,
          91.7064231570958,
          92.47312476927374,
          92.79626193547841,
          93.02555855914107,
          92.95924489334914,
          92.80790940642976,
          92.48440034484224,
          92.53119312483165,
          92.6818076957693,
          93.09102540427165,
          92.85541141315446,
          93.1857653218712,
          93.42984827203179,
          93.38772960540956,
          93.50332916951572,
          93.75648860340908,
          93.54431193646252,
          93.25645424754259,
          92.7654389047272,
          92.23409649406494,
          92.30563004469343,
          93.31058139305503,
          94.786762475454,
          97.27443449899732,
          97.64335616819312,
          97.9791534560996,
          98.15596845208444,
          98.79623825278992,
          98.3318730510158,
          98.61781983215678,
          98.57651740784769,
          98.88682428097587,
          98.90506434213421,
          98.78297481402137,
          98.5867255326678,
          98.63313225725943,
          98.9749473064627,
          98.82022466036625,
          98.42123141481704,
          99.04024408723853,
          99.0357509353671,
          99.21018395195296,
          99.18131326286363,
          98.47317035402341,
          99.07139864958583,
          98.94087148816209,
          99.13187526374645,
          98.90485447810715,
          98.39190500782365,
          98.4711834939817,
          98.10093815595872,
          97.77156405974182,
          97.86279544751488,
          98.07815831501597,
          97.90367468822097,
          98.26157726287738,
          98.18554815147536,
          98.20198378181442,
          98.40403919293612,
          98.1030072230339,
          97.78483836185057,
          97.9743103363848,
          96.32808799792991,
          92.8054345753601,
          90.47204797752153,
          88.6543051765384,
          87.73024628354227,
          87.44907656261358,
          86.98899403481653,
          87.1669189795092,
          87.73146372924595,
          88.18419006860609,
          88.9495358435666,
          88.90839328079875,
          89.46409633112484,
          89.09240523235417,
          89.59614338033276,
          89.53655060418907,
          89.55644421212804,
          89.42665110869478,
          88.79755659763953,
          88.9668525857378,
          89.41084595302482,
          89.2109519601263,
          89.44133575525842,
          89.5111944907963,
          89.46780253614031,
          89.60453104129522,
          89.45081308061634,
          89.41819735638961,
          89.308059278987,
          89.46150432269673,
          89.5954093313012,
          89.55808978414672,
          89.66906909012488,
          89.38980477621578,
          89.28832117894842,
          89.52100581164723,
          89.25681171443989,
          89.32489159440331,
          89.1771966839238,
          89.0429750721683,
          88.19753897524481,
          87.25363254012211,
          85.88621348788831,
          84.94391341129176,
          83.90618031419888,
          83.11869730222111,
          82.91779807984466,
          83.87491213927848,
          84.95041537848061,
          85.50842493124333,
          85.73763524378381,
          84.94451477728416,
          82.96764296723165,
          81.304496125284,
          79.99973171119802,
          78.70947141586294,
          76.88410587484378,
          74.46836987009425,
          72.49241202380472,
          71.82678776811179,
          72.25279551939104,
          72.58744589959178,
          71.96461305349459,
          71.54667248796613,
          69.11037799318046,
          66.10793928872226,
          64.8002786228052,
          64.01170786108179,
          64.41355223043251,
          63.83480671627166,
          64.00618414071721,
          63.73916754064385,
          64.45186756251383,
          63.289445687737214,
          63.10120603769735,
          63.58716990491837,
          62.50610955555692,
          61.85507225087446,
          60.97118620872419,
          60.287910495834296,
          59.76900404214848,
          59.34586906949232,
          58.8700884603262,
          59.621884632884814,
          59.83186214600204,
          60.393444438096765,
          60.86125087951751,
          61.32107263495283,
          61.29713349374401,
          61.18673206223508,
          61.20093599085851,
          60.87109910376887,
          60.410201738960836,
          59.88742603499895,
          58.02362361411559,
          57.67417378073813,
          58.02587783166814,
          58.452804533907624,
          57.2604688939885,
          56.84743346695137,
          56.30233708824866,
          55.97255187917355,
          57.30645972461426,
          57.65684317005963,
          58.85354189570387,
          59.133540818770655,
          60.05518735125008,
          60.66348205054999,
          61.28592397671093,
          62.084628203578575,
          62.59124369904572,
          64.28036390827117,
          64.68766116423188,
          65.1275892542094,
          66.88155035871682,
          68.81293263861971,
          70.99425953134659,
          72.5831169587812,
          73.75958967433087,
          74.44805409166872,
          74.5710108998801,
          73.48044663914095,
          73.58021187668123,
          71.04633915163288,
          70.90556052906078,
          68.89826709588948,
          69.86683688697627,
          70.21872901702017,
          69.69328542074174,
          66.4544722553851,
          65.20374104309172,
          61.942734436940555,
          59.480788512420816,
          56.62186823438873,
          54.89685124805453,
          53.46540853105674,
          52.69934854902459,
          52.13248446691438,
          50.87838403284198,
          48.13866081700982,
          46.17179208978959,
          45.23208681176044,
          44.883399733878605,
          44.85458230887343,
          44.87411991491578,
          45.05643517958296,
          44.67352216204205,
          44.9364819395351,
          45.989871097743816,
          44.75785586636971,
          43.38426633971039,
          42.794982548656634,
          42.586194485868646,
          41.43416055978875,
          38.59186059988227,
          35.09294543406597,
          29.483216498429613,
          25.848219158859905,
          21.83080309244022,
          19.175961816700067,
          17.741688945311353,
          16.65815544193859,
          16.149231704833795,
          15.788663196661872,
          14.831819265002423,
          14.03403586865943,
          12.451893098490586,
          11.290295962574305,
          8.821750486990368,
          7.696889883888076,
          5.187833953663784,
          3.335602665932811,
          1.50654270779566,
          -0.27969957813741075,
          -1.2495602808423882,
          -2.499310435988207
         ],
         "yaxis": "y"
        }
       ],
       "layout": {
        "legend": {
         "tracegroupgap": 0
        },
        "margin": {
         "t": 60
        },
        "template": {
         "data": {
          "bar": [
           {
            "error_x": {
             "color": "#2a3f5f"
            },
            "error_y": {
             "color": "#2a3f5f"
            },
            "marker": {
             "line": {
              "color": "#E5ECF6",
              "width": 0.5
             }
            },
            "type": "bar"
           }
          ],
          "barpolar": [
           {
            "marker": {
             "line": {
              "color": "#E5ECF6",
              "width": 0.5
             }
            },
            "type": "barpolar"
           }
          ],
          "carpet": [
           {
            "aaxis": {
             "endlinecolor": "#2a3f5f",
             "gridcolor": "white",
             "linecolor": "white",
             "minorgridcolor": "white",
             "startlinecolor": "#2a3f5f"
            },
            "baxis": {
             "endlinecolor": "#2a3f5f",
             "gridcolor": "white",
             "linecolor": "white",
             "minorgridcolor": "white",
             "startlinecolor": "#2a3f5f"
            },
            "type": "carpet"
           }
          ],
          "choropleth": [
           {
            "colorbar": {
             "outlinewidth": 0,
             "ticks": ""
            },
            "type": "choropleth"
           }
          ],
          "contour": [
           {
            "colorbar": {
             "outlinewidth": 0,
             "ticks": ""
            },
            "colorscale": [
             [
              0,
              "#0d0887"
             ],
             [
              0.1111111111111111,
              "#46039f"
             ],
             [
              0.2222222222222222,
              "#7201a8"
             ],
             [
              0.3333333333333333,
              "#9c179e"
             ],
             [
              0.4444444444444444,
              "#bd3786"
             ],
             [
              0.5555555555555556,
              "#d8576b"
             ],
             [
              0.6666666666666666,
              "#ed7953"
             ],
             [
              0.7777777777777778,
              "#fb9f3a"
             ],
             [
              0.8888888888888888,
              "#fdca26"
             ],
             [
              1,
              "#f0f921"
             ]
            ],
            "type": "contour"
           }
          ],
          "contourcarpet": [
           {
            "colorbar": {
             "outlinewidth": 0,
             "ticks": ""
            },
            "type": "contourcarpet"
           }
          ],
          "heatmap": [
           {
            "colorbar": {
             "outlinewidth": 0,
             "ticks": ""
            },
            "colorscale": [
             [
              0,
              "#0d0887"
             ],
             [
              0.1111111111111111,
              "#46039f"
             ],
             [
              0.2222222222222222,
              "#7201a8"
             ],
             [
              0.3333333333333333,
              "#9c179e"
             ],
             [
              0.4444444444444444,
              "#bd3786"
             ],
             [
              0.5555555555555556,
              "#d8576b"
             ],
             [
              0.6666666666666666,
              "#ed7953"
             ],
             [
              0.7777777777777778,
              "#fb9f3a"
             ],
             [
              0.8888888888888888,
              "#fdca26"
             ],
             [
              1,
              "#f0f921"
             ]
            ],
            "type": "heatmap"
           }
          ],
          "heatmapgl": [
           {
            "colorbar": {
             "outlinewidth": 0,
             "ticks": ""
            },
            "colorscale": [
             [
              0,
              "#0d0887"
             ],
             [
              0.1111111111111111,
              "#46039f"
             ],
             [
              0.2222222222222222,
              "#7201a8"
             ],
             [
              0.3333333333333333,
              "#9c179e"
             ],
             [
              0.4444444444444444,
              "#bd3786"
             ],
             [
              0.5555555555555556,
              "#d8576b"
             ],
             [
              0.6666666666666666,
              "#ed7953"
             ],
             [
              0.7777777777777778,
              "#fb9f3a"
             ],
             [
              0.8888888888888888,
              "#fdca26"
             ],
             [
              1,
              "#f0f921"
             ]
            ],
            "type": "heatmapgl"
           }
          ],
          "histogram": [
           {
            "marker": {
             "colorbar": {
              "outlinewidth": 0,
              "ticks": ""
             }
            },
            "type": "histogram"
           }
          ],
          "histogram2d": [
           {
            "colorbar": {
             "outlinewidth": 0,
             "ticks": ""
            },
            "colorscale": [
             [
              0,
              "#0d0887"
             ],
             [
              0.1111111111111111,
              "#46039f"
             ],
             [
              0.2222222222222222,
              "#7201a8"
             ],
             [
              0.3333333333333333,
              "#9c179e"
             ],
             [
              0.4444444444444444,
              "#bd3786"
             ],
             [
              0.5555555555555556,
              "#d8576b"
             ],
             [
              0.6666666666666666,
              "#ed7953"
             ],
             [
              0.7777777777777778,
              "#fb9f3a"
             ],
             [
              0.8888888888888888,
              "#fdca26"
             ],
             [
              1,
              "#f0f921"
             ]
            ],
            "type": "histogram2d"
           }
          ],
          "histogram2dcontour": [
           {
            "colorbar": {
             "outlinewidth": 0,
             "ticks": ""
            },
            "colorscale": [
             [
              0,
              "#0d0887"
             ],
             [
              0.1111111111111111,
              "#46039f"
             ],
             [
              0.2222222222222222,
              "#7201a8"
             ],
             [
              0.3333333333333333,
              "#9c179e"
             ],
             [
              0.4444444444444444,
              "#bd3786"
             ],
             [
              0.5555555555555556,
              "#d8576b"
             ],
             [
              0.6666666666666666,
              "#ed7953"
             ],
             [
              0.7777777777777778,
              "#fb9f3a"
             ],
             [
              0.8888888888888888,
              "#fdca26"
             ],
             [
              1,
              "#f0f921"
             ]
            ],
            "type": "histogram2dcontour"
           }
          ],
          "mesh3d": [
           {
            "colorbar": {
             "outlinewidth": 0,
             "ticks": ""
            },
            "type": "mesh3d"
           }
          ],
          "parcoords": [
           {
            "line": {
             "colorbar": {
              "outlinewidth": 0,
              "ticks": ""
             }
            },
            "type": "parcoords"
           }
          ],
          "pie": [
           {
            "automargin": true,
            "type": "pie"
           }
          ],
          "scatter": [
           {
            "marker": {
             "colorbar": {
              "outlinewidth": 0,
              "ticks": ""
             }
            },
            "type": "scatter"
           }
          ],
          "scatter3d": [
           {
            "line": {
             "colorbar": {
              "outlinewidth": 0,
              "ticks": ""
             }
            },
            "marker": {
             "colorbar": {
              "outlinewidth": 0,
              "ticks": ""
             }
            },
            "type": "scatter3d"
           }
          ],
          "scattercarpet": [
           {
            "marker": {
             "colorbar": {
              "outlinewidth": 0,
              "ticks": ""
             }
            },
            "type": "scattercarpet"
           }
          ],
          "scattergeo": [
           {
            "marker": {
             "colorbar": {
              "outlinewidth": 0,
              "ticks": ""
             }
            },
            "type": "scattergeo"
           }
          ],
          "scattergl": [
           {
            "marker": {
             "colorbar": {
              "outlinewidth": 0,
              "ticks": ""
             }
            },
            "type": "scattergl"
           }
          ],
          "scattermapbox": [
           {
            "marker": {
             "colorbar": {
              "outlinewidth": 0,
              "ticks": ""
             }
            },
            "type": "scattermapbox"
           }
          ],
          "scatterpolar": [
           {
            "marker": {
             "colorbar": {
              "outlinewidth": 0,
              "ticks": ""
             }
            },
            "type": "scatterpolar"
           }
          ],
          "scatterpolargl": [
           {
            "marker": {
             "colorbar": {
              "outlinewidth": 0,
              "ticks": ""
             }
            },
            "type": "scatterpolargl"
           }
          ],
          "scatterternary": [
           {
            "marker": {
             "colorbar": {
              "outlinewidth": 0,
              "ticks": ""
             }
            },
            "type": "scatterternary"
           }
          ],
          "surface": [
           {
            "colorbar": {
             "outlinewidth": 0,
             "ticks": ""
            },
            "colorscale": [
             [
              0,
              "#0d0887"
             ],
             [
              0.1111111111111111,
              "#46039f"
             ],
             [
              0.2222222222222222,
              "#7201a8"
             ],
             [
              0.3333333333333333,
              "#9c179e"
             ],
             [
              0.4444444444444444,
              "#bd3786"
             ],
             [
              0.5555555555555556,
              "#d8576b"
             ],
             [
              0.6666666666666666,
              "#ed7953"
             ],
             [
              0.7777777777777778,
              "#fb9f3a"
             ],
             [
              0.8888888888888888,
              "#fdca26"
             ],
             [
              1,
              "#f0f921"
             ]
            ],
            "type": "surface"
           }
          ],
          "table": [
           {
            "cells": {
             "fill": {
              "color": "#EBF0F8"
             },
             "line": {
              "color": "white"
             }
            },
            "header": {
             "fill": {
              "color": "#C8D4E3"
             },
             "line": {
              "color": "white"
             }
            },
            "type": "table"
           }
          ]
         },
         "layout": {
          "annotationdefaults": {
           "arrowcolor": "#2a3f5f",
           "arrowhead": 0,
           "arrowwidth": 1
          },
          "coloraxis": {
           "colorbar": {
            "outlinewidth": 0,
            "ticks": ""
           }
          },
          "colorscale": {
           "diverging": [
            [
             0,
             "#8e0152"
            ],
            [
             0.1,
             "#c51b7d"
            ],
            [
             0.2,
             "#de77ae"
            ],
            [
             0.3,
             "#f1b6da"
            ],
            [
             0.4,
             "#fde0ef"
            ],
            [
             0.5,
             "#f7f7f7"
            ],
            [
             0.6,
             "#e6f5d0"
            ],
            [
             0.7,
             "#b8e186"
            ],
            [
             0.8,
             "#7fbc41"
            ],
            [
             0.9,
             "#4d9221"
            ],
            [
             1,
             "#276419"
            ]
           ],
           "sequential": [
            [
             0,
             "#0d0887"
            ],
            [
             0.1111111111111111,
             "#46039f"
            ],
            [
             0.2222222222222222,
             "#7201a8"
            ],
            [
             0.3333333333333333,
             "#9c179e"
            ],
            [
             0.4444444444444444,
             "#bd3786"
            ],
            [
             0.5555555555555556,
             "#d8576b"
            ],
            [
             0.6666666666666666,
             "#ed7953"
            ],
            [
             0.7777777777777778,
             "#fb9f3a"
            ],
            [
             0.8888888888888888,
             "#fdca26"
            ],
            [
             1,
             "#f0f921"
            ]
           ],
           "sequentialminus": [
            [
             0,
             "#0d0887"
            ],
            [
             0.1111111111111111,
             "#46039f"
            ],
            [
             0.2222222222222222,
             "#7201a8"
            ],
            [
             0.3333333333333333,
             "#9c179e"
            ],
            [
             0.4444444444444444,
             "#bd3786"
            ],
            [
             0.5555555555555556,
             "#d8576b"
            ],
            [
             0.6666666666666666,
             "#ed7953"
            ],
            [
             0.7777777777777778,
             "#fb9f3a"
            ],
            [
             0.8888888888888888,
             "#fdca26"
            ],
            [
             1,
             "#f0f921"
            ]
           ]
          },
          "colorway": [
           "#636efa",
           "#EF553B",
           "#00cc96",
           "#ab63fa",
           "#FFA15A",
           "#19d3f3",
           "#FF6692",
           "#B6E880",
           "#FF97FF",
           "#FECB52"
          ],
          "font": {
           "color": "#2a3f5f"
          },
          "geo": {
           "bgcolor": "white",
           "lakecolor": "white",
           "landcolor": "#E5ECF6",
           "showlakes": true,
           "showland": true,
           "subunitcolor": "white"
          },
          "hoverlabel": {
           "align": "left"
          },
          "hovermode": "closest",
          "mapbox": {
           "style": "light"
          },
          "paper_bgcolor": "white",
          "plot_bgcolor": "#E5ECF6",
          "polar": {
           "angularaxis": {
            "gridcolor": "white",
            "linecolor": "white",
            "ticks": ""
           },
           "bgcolor": "#E5ECF6",
           "radialaxis": {
            "gridcolor": "white",
            "linecolor": "white",
            "ticks": ""
           }
          },
          "scene": {
           "xaxis": {
            "backgroundcolor": "#E5ECF6",
            "gridcolor": "white",
            "gridwidth": 2,
            "linecolor": "white",
            "showbackground": true,
            "ticks": "",
            "zerolinecolor": "white"
           },
           "yaxis": {
            "backgroundcolor": "#E5ECF6",
            "gridcolor": "white",
            "gridwidth": 2,
            "linecolor": "white",
            "showbackground": true,
            "ticks": "",
            "zerolinecolor": "white"
           },
           "zaxis": {
            "backgroundcolor": "#E5ECF6",
            "gridcolor": "white",
            "gridwidth": 2,
            "linecolor": "white",
            "showbackground": true,
            "ticks": "",
            "zerolinecolor": "white"
           }
          },
          "shapedefaults": {
           "line": {
            "color": "#2a3f5f"
           }
          },
          "ternary": {
           "aaxis": {
            "gridcolor": "white",
            "linecolor": "white",
            "ticks": ""
           },
           "baxis": {
            "gridcolor": "white",
            "linecolor": "white",
            "ticks": ""
           },
           "bgcolor": "#E5ECF6",
           "caxis": {
            "gridcolor": "white",
            "linecolor": "white",
            "ticks": ""
           }
          },
          "title": {
           "x": 0.05
          },
          "xaxis": {
           "automargin": true,
           "gridcolor": "white",
           "linecolor": "white",
           "ticks": "",
           "title": {
            "standoff": 15
           },
           "zerolinecolor": "white",
           "zerolinewidth": 2
          },
          "yaxis": {
           "automargin": true,
           "gridcolor": "white",
           "linecolor": "white",
           "ticks": "",
           "title": {
            "standoff": 15
           },
           "zerolinecolor": "white",
           "zerolinewidth": 2
          }
         }
        },
        "xaxis": {
         "anchor": "y",
         "domain": [
          0,
          1
         ],
         "title": {
          "text": "x"
         }
        },
        "yaxis": {
         "anchor": "x",
         "domain": [
          0,
          1
         ],
         "title": {
          "text": "y"
         }
        }
       }
      },
      "text/html": [
       "<div>\n",
       "        \n",
       "        \n",
       "            <div id=\"0a6f005e-bf82-4738-a045-22132c0ee7a1\" class=\"plotly-graph-div\" style=\"height:525px; width:100%;\"></div>\n",
       "            <script type=\"text/javascript\">\n",
       "                require([\"plotly\"], function(Plotly) {\n",
       "                    window.PLOTLYENV=window.PLOTLYENV || {};\n",
       "                    \n",
       "                if (document.getElementById(\"0a6f005e-bf82-4738-a045-22132c0ee7a1\")) {\n",
       "                    Plotly.newPlot(\n",
       "                        '0a6f005e-bf82-4738-a045-22132c0ee7a1',\n",
       "                        [{\"hovertemplate\": \"x=%{x}<br>y=%{y}<extra></extra>\", \"legendgroup\": \"\", \"line\": {\"color\": \"#636efa\", \"dash\": \"solid\"}, \"mode\": \"lines\", \"name\": \"\", \"showlegend\": false, \"type\": \"scattergl\", \"x\": [117.59243774414062, 117.59243774414062, 117.37013244628906, 117.40533294677732, 117.40482711791992, 117.41827827453608, 117.36611499786375, 117.41568058395382, 117.36479578971858, 117.12359628925321, 116.72543775224682, 117.16847230471609, 117.4061758923292, 117.49649582129331, 117.49920763384932, 117.53415607485414, 117.6571550098235, 117.65147656064215, 117.71918634961804, 117.49820823946743, 117.73424971757947, 117.65049417537318, 117.76120404699236, 117.7238161917357, 117.53368133947072, 117.52586826616272, 117.56691896117451, 117.57415154119394, 117.56614593743791, 117.73752653977283, 117.57331910741254, 117.65272187647372, 117.7849236473619, 117.77872798361949, 117.77612019993626, 118.01721050369525, 118.1061305544045, 118.1512693196949, 118.06857766421535, 118.43355312988785, 118.70757821457369, 119.33383332348706, 119.92823603638521, 120.46154503026133, 121.59733019305543, 122.69129291176574, 124.90526115005207, 127.44651772826876, 128.67940336928513, 130.1285911235958, 131.19395152101777, 131.07823489656676, 131.64080842639487, 132.17013519786394, 132.36131596610767, 132.36522975233584, 132.12939728505285, 131.5008629540613, 131.29874614060952, 130.93948948949594, 129.61277151581794, 129.52056972469393, 129.23339216780238, 129.2969148044072, 129.15243893991646, 129.57791429585643, 130.05361535270623, 129.8579853621519, 129.69471375065984, 129.77556212317046, 130.0119234322279, 130.03121011193258, 130.38160113690446, 130.67481396307898, 130.6699934664341, 130.83049760715716, 130.9362839320745, 131.40580022701107, 131.7105872431315, 131.80174070055557, 131.8767449468213, 131.8622731290091, 132.20983510628105, 132.3235380518709, 131.98776646467263, 131.40636151832751, 130.63808196188842, 129.97549737960463, 129.2978515765098, 129.14925582031958, 128.99352417202334, 129.05341254296985, 128.78248199494413, 128.71652475986343, 128.4636705170151, 128.175259780874, 128.19769388809914, 128.0910350608811, 128.08882308956254, 128.23946244907359, 127.96370035552422, 127.64087999968524, 127.37549835166851, 127.61282969282388, 127.79213713067992, 128.3259134065603, 128.58927802809808, 128.58101896899188, 128.69753934825764, 128.8213569469113, 128.89128556532455, 129.11338298539607, 129.27593221468152, 129.2706222549383, 129.08445013493656, 128.82695198081888, 128.65140195627566, 128.29044752124395, 128.06359927049215, 127.96087059498348, 127.67844247846443, 127.55086887049748, 127.41766297821499, 127.15687044287932, 127.46624899507208, 127.19818419192018, 126.87764456361629, 126.87886092956927, 126.87658992184708, 127.37596060916195, 127.96308181103092, 128.43209294391335, 128.23181273552183, 128.5593329845558, 128.6865907579845, 128.94043681291777, 129.03892763957657, 128.68598587105873, 128.6841060526748, 128.28323235331504, 128.41610009979576, 128.21763133737227, 128.03427017854358, 128.113810777266, 128.0080198602776, 127.95683907264458, 128.04413358206898, 128.07233140288884, 128.208432781451, 128.2140632114099, 128.31043056663168, 128.266736251731, 128.35182581546349, 127.95313757399009, 128.26716748804216, 128.34347112437973, 128.9684137462532, 129.55704892793432, 130.7236922377192, 132.26939718294017, 132.6430676906383, 133.09082156474574, 133.74766712381057, 134.17251605697749, 134.62740580587626, 136.54871828989428, 138.0118721013502, 139.18057434504664, 138.98007976539787, 139.10801876894448, 138.12174646187998, 138.07263744668933, 138.6426882388132, 139.25038383721824, 141.44649478855632, 142.76847340810224, 143.42769046584203, 144.07848359666457, 144.44872388237627, 145.5723972343239, 145.91257225423146, 146.4781081203048, 146.68814621411127, 151.30533285622926, 150.89028247899165, 152.29727240157894, 152.82247669802064, 153.25681620203375, 153.92085380450777, 153.8389771422191, 154.3987314031957, 154.22481812895006, 155.70100386331137, 155.49686511436204, 155.91004102139124, 155.89750034820895, 156.01685588465403, 155.9753385532079, 155.4022781385575, 155.16713055593044, 155.3465889742016, 156.16149841639736, 156.54799664691149, 156.72893515064322, 156.83425027828673, 156.4413715225965, 156.46282369896954, 156.9690972689168, 158.91602084488449, 157.27045766895077, 157.2419044695061, 157.16596232710043, 157.2801989394689, 157.14504815765883, 157.5251871895531, 157.66779146437148, 156.720443727847, 156.11092311418696, 156.34090347323956, 155.8632037137101, 155.42204006200154, 155.00644741496666, 154.60593296242524, 154.55355500286998, 153.74998723440285, 153.77699382171954, 151.3032649918987, 150.6930062876134, 149.81614404565977, 148.3212544099389, 146.9456195438607, 146.4565911766275, 145.3854083002314, 143.44048727268552, 141.80286739737846, 141.18962960945748, 140.3044892526732, 140.94543662891863, 141.82551652754944, 144.2249697912128, 145.2405480601871, 145.59411076409208, 145.552131403364, 145.57263712242633, 145.61858326030926, 145.50428088330534, 145.36256287967137, 144.81235172722234, 143.65284939777104, 142.7710821902357, 142.81388505126722, 141.96243509464864, 140.38130516979948, 138.74834475638477, 136.88035709138785, 134.8187611128718, 133.36574039232147, 132.66242140570034, 130.97953604664121, 129.7181284696441, 129.0626927360977, 128.73908676312237, 128.5828475139303, 128.27226132989801, 126.83081854554655, 124.320766262473, 121.03800779159758, 117.25893189493735, 113.56301318045843, 110.922020021057, 108.93496925001801, 106.21096993431092, 104.50574831719018, 102.45483884952165, 101.04594739162144, 99.89144970438139, 98.96687135679008, 95.97599650839157, 92.17394153115521, 88.2864522716689, 83.4028765079936, 79.62888092668783, 77.63657130774203, 73.99783403109302, 73.67849503454022, 71.88061535124598, 70.61107296123572, 67.42340699995253, 64.76434923764236, 60.527398073918675, 54.6079491996112, 48.919837707913985, 44.94834875201198, 41.29455219427305, 37.683492242000995, 34.15989098954134, 29.880558809444665, 24.172642400872604, 19.933897328496784, 18.481506253929723, 17.951205204743246, 18.213481889017203, 17.026651422801308, 14.810553930081085, 10.700864321086215, 7.608219442051222, 4.737714792205878, 3.6649816956045527, 1.7390851057937766, 0.42523553559067295, -3.481544460693442, -5.8353853544758465, -7.986838907873562, -8.39122424604247, -9.424411334227926, -10.043374493839963, -10.993411761169341, -11.958746164310384, -12.867764052993778, -14.738361485193451, -16.212631496376815, -16.546851940064187, -17.121839182464328, -17.360049794183453, -17.656372496022016, -18.73255513758454, -19.382130495985336, -20.335011444465806, -21.358685236018886, -24.423583168085884, -26.84981032324464, -27.621265288933614, -28.56338768618201, -26.73035486292011, -24.81841013046636, -22.148550116645026, -20.203171523232072, -18.933483994547544, -18.92153026339693, -18.79464296051026, -18.83397767793727, -19.10095837644957, -19.322730776446434, -19.191911487180306, -18.371701395031437, -17.29824244207117, -16.232125448512534, -16.633471565285276, -16.15606210340971, -14.012289869314287, -11.61613545076537, -9.4087877552995, -8.315445830310097, -7.229841570277358, -6.660658396763324, -6.860989907416609, -7.12043207250278, -7.152505114530442, -7.811087729576599, -8.531867008634634, -9.599576062268511, -9.466840598170194, -11.230124245033636, -12.324788357791931, -14.140761770299974, -15.902719108160994, -16.958514320476638, -17.297605742200687, -17.481435076538304, -17.567641959962913, -17.377281942388947, -17.54049602543975, -17.48343402719817, -16.99405887036869, -16.66262511994887, -15.628260747059187, -16.015400237718893, -15.219113989988557, -14.903675697278942, -14.452227450060775, -13.862131402199253, -12.955529430009136, -10.714077705935352, -7.593256172313886, -3.9450266949528157, 1.7274529193677495, 5.514443352934791, 7.714659167153201, 9.633244841563254, 14.252290885571028, 16.262776185462997, 18.648901677269265, 20.456780929772577, 22.322640427371653, 24.60188505938777, 28.57583212977957, 30.91938737316596, 33.96969620008218, 36.553996973162384, 40.07104265633069, 44.01192797615016, 47.794610255871476, 55.57191096155924, 60.626949106740085, 67.49350911737838, 73.62740265653838, 76.2099959110638, 80.6483660747503, 82.74636449896423, 85.66573025300943, 91.75160006058684, 97.88993674742409, 106.417590778131, 111.96706442568785, 115.85462927834072, 118.46282089432191, 119.61170574429013, 119.81855338317172, 120.12074145734664, 120.80454722866716, 122.00985773959809, 125.39336427424149, 130.2158539661155, 132.67074322756196, 137.60370225263216, 138.33301962622414, 140.12360892676196, 142.06999536336724, 142.94425545034244, 143.6645077883918, 143.45697492643808, 141.73575404911816, 140.63187784296963, 140.18173914496538, 138.58933123699234, 136.97078351578773, 135.0834131132832, 133.69424118459472, 132.20407233076202, 131.83987531343138, 131.01809711670415, 130.72212234926081, 130.44970095666577, 130.04707415072897, 129.16272186713263, 129.09547970171093, 127.7814181677652, 125.21178594451442, 121.99487843561394, 118.64634003523184, 116.72649769551788, 114.07480745059729, 111.00759983743313, 108.96930064639821, 107.0505906592087, 105.86823140067071, 104.21258585229924, 102.16065615785448, 101.41600042667301, 99.76192801352192, 98.16615372611034, 96.70934535437203, 95.67383052961964, 94.70927655901517, 93.65917699643512, 93.0414271894187, 92.60184133218013, 91.43658822392064, 90.08952851916297, 87.36772364618577, 82.27323610160494, 81.31493485308022, 81.27622406270166, 82.35305687835262, 82.14670857278418, 81.2134642080224, 79.49358831716762, 76.62526456528536, 74.35590012501655, 68.21082307102324, 65.45061097090093, 59.314791490438665, 50.45470178357459, 45.004281254083395, 40.357406622516635, 34.23024881653046, 28.49487686251814, 23.020178801971753, 17.625221061848436, 14.416672755354341, 10.16299397470695, 4.9734048439672165, 2.5025405268701206, -2.6480230868814942, -7.850213250803449, -12.286166017963865, -18.281175023509206, -20.360554144637945, -24.58867817613381, -27.792447532096077, -29.180000945170093, -29.40027200652341, -28.592220783865343, -28.99394583027538, -29.940970873927455, -33.16290641921904, -39.581803437485604, -46.568470539298886, -52.67548081225371, -56.833602032310836, -58.792140908459146, -57.43660265225873, -55.026442901405574, -55.14657026234076, -54.306389530913975, -54.3728385056597, -53.78989229804529, -53.813815332733725, -53.93957378000951, -53.84925964732216, -54.35915353526315, -56.09079379328972, -57.268376509293375, -58.047855214013, -58.22071835993893, -57.766079496701565, -55.75884933113926, -54.14028805365561, -52.996687201916984, -53.18030376713037, -54.13342870894965, -56.53271191638791, -62.38696834686979, -68.90515855747773, -72.97604337519942, -77.10344498723495, -79.88766322014709, -81.21746300663017, -81.65005660277305, -81.74548795075039, -81.00126482281343, -80.87115241624537, -80.95024885122965, -80.88052523365262, -80.92148782817273, -80.8735136452774, -81.1527537375804, -81.1354215780416, -80.76859139010483, -81.50063664674042, -81.41075532228525, -81.00542081439387, -77.81504805176075, -76.01027967489345, -74.35904385937543, -74.45288205438342, -74.06004973991706, -73.59665545268876, -72.84742985478638, -71.75954455203419, -70.59603537665546, -70.19851115057855, -68.26870675913503, -65.9894492189735, -61.009051436233534, -56.77126894534604, -50.30202681333543, -45.09934741577649, -41.89274359719562, -38.60838508355789, -36.920396067167246, -34.372352122885246, -29.01640413663759, -24.260905003491388, -18.176283404919445, -11.905780037633065, -4.011701757564083, 5.422738951386293, 11.592416641882949, 18.453465926936474, 24.160712319280492, 28.78754503552483, 31.671058904776828, 34.53965504024083, 37.07985423976925, 40.57831992962011, 45.284108720682184, 51.88973260858364, 57.671658361325, 64.56905254265473, 69.14450790947217, 74.2976793535662, 83.26809952626456, 87.73450786006617, 93.31214638645918, 96.99687356670523, 99.03645818843762, 100.07439980941984, 100.81394956322657, 101.1763821393817, 102.29106063516758, 103.14639903233308, 104.84390171002121, 107.58225343395151, 111.08321062271415, 114.94228949214352, 119.59076833657116, 122.68627140233718, 125.86288282861068, 128.6249423582998, 131.4848477685299, 133.98688100218249, 137.35864940649043, 139.75623222356955, 140.71970775032906, 140.8535120430081, 140.56911644086972, 140.1546671262754, 140.82667911163827, 141.739205012789, 142.3559003652809, 143.95721864254335, 145.56466740342495, 146.43196322851043, 146.3874558478184, 146.996168080468, 147.9861304621337, 148.78850297085927, 149.60168238670286, 150.74988250129297, 151.99179044394293, 151.21729041962755, 152.0283919796774, 153.62570574556133, 155.0199066851352, 155.2230062524592, 156.1868071087273, 156.85088105261502, 157.17957288515674, 157.59155275115398, 158.15176961197272, 157.66755676521217, 156.6750557860342, 156.46221847571934, 155.98120831907698, 155.9371168900102, 155.70281479278344, 155.5905217571343, 155.66632157194488, 155.39246467714435, 155.692131158155, 155.47411628360294, 154.98851663417247, 154.81488270132945, 154.1724535205165, 153.4366138138908, 152.6808820661634, 152.00042401788437, 152.04010991002218, 151.76738232826858, 151.6489272531049, 151.82140007384965, 151.79255545759463, 151.8647291761165, 151.92551173660797, 151.87431539448392, 150.7272636501396, 150.5289775093679, 149.95070026529436, 146.68515717328017, 143.7812860700676, 139.48666182062095, 136.32248465855702, 133.43897369936263, 128.7402611265179, 126.20032176291221, 125.23878727688782, 121.16057652371416, 118.29145926584954, 116.96272173246336, 116.33308351390087, 116.34012511777968, 116.15859900169448, 115.21551919491304, 114.63408342935577, 114.1878012068737, 113.74829549780179, 113.81950929235921, 113.03229742525616, 111.77314154277968, 108.9146346528509, 107.20062241549897, 105.8434818190214, 105.14060209035216, 106.12443181875165, 106.49849967634577, 105.92766745835962, 105.51685869168625, 104.62732913486724, 103.63586468021782, 102.1907302296051, 100.42356573718894, 99.63969657057356, 99.45581391331268, 97.71714284007822, 95.97521565389144, 96.16221620140237, 95.72526184027123, 96.4884239219096, 98.01849844352114, 99.18621219668489, 101.77190013273912, 101.93891205411205, 102.5829740457898, 103.00539979639808, 103.60267590423177, 103.69449588254565, 103.60471260389647, 103.46629596441312, 103.08318430757669, 102.81583672864633, 102.44421134974976, 102.1437500210157, 102.07840843586092, 101.33804504709764, 100.3257169538557, 99.08547085618574, 99.169908568469, 98.99059009864271, 99.52335158068053, 99.30187830971829, 98.71160820585209, 98.28420386559839, 97.90505818644425, 97.92509670532803, 97.65764440911897, 97.49842179339686, 97.5355271545319, 97.47117745357986, 97.39204934905865, 97.43368015807602, 97.56510317872596, 97.34595564919971, 97.40896286450419, 96.9337887941573, 96.69146680516394, 96.14681270388922, 95.92097313356754, 95.66734508673574, 95.38361563556248, 94.38799849152599, 92.53986351232658, 90.26961945146326, 89.07892416796227, 89.27355448998514, 87.80861444306544, 87.6277992257439, 87.26881261323717, 87.28923824323658, 87.26996819325512, 87.49876140787222, 87.49981377146872, 87.44715613012613, 86.9592021072242, 86.2938556460814, 86.09996399528285, 85.94693326634581, 86.06246469206587, 86.67695820284251, 87.01456837324349, 87.66087142818031, 88.20351582239277, 88.42388352184423, 89.1022619924995, 89.16045295063992, 88.98952905717573, 88.87504297921708, 88.81202493963104, 88.40269199375757, 88.11931350656965, 87.85363652611443, 88.11758422080965, 88.55502759561637, 89.05147399786756, 88.33788060418618, 87.2677735899145, 86.27875063310842, 85.22379946133873, 84.19680832250532, 83.78627377662269, 83.54223944905937, 83.9297834126848, 83.00359391296439, 82.84953678680506, 82.53886000979622, 82.314405615677, 82.4412644873093, 82.7926228784844, 82.81977091088936, 82.53159789954611, 82.52174035587171, 83.21645385729522, 82.48455835562686, 82.56292919919974, 82.48795627531666, 82.57571593017292, 83.20713203993029, 82.77677486999471, 82.75356431282546, 82.6439789990539, 82.65920011323243, 83.27971757739715, 83.2777465941333, 83.37502648426585, 83.30783172788949, 83.29544617234689, 83.12171186855846, 83.33173147663331, 83.18878595508846, 83.35382771465908, 83.18707033466956, 83.30855664010903, 83.244555301177, 83.65301872550856, 84.0237758855086, 85.62349144408017, 90.31550638526772, 93.85144455401434, 96.6092491755636, 99.58904480810213, 100.3429178328775, 100.87891305666454, 100.41283293860346, 100.16628520068718, 99.54273701354441, 99.16277694758355, 98.58126254177779, 97.64085788735235, 97.20481633439164, 96.54902937890364, 95.57406504049078, 94.9135006470699, 93.021601699433, 90.4609981805566, 87.64339986184854, 84.9808745805991, 84.09466213992181, 83.411370689043, 83.47633463592967, 83.53905240511426, 83.33826843269412, 83.09470978947809, 83.19359152222836, 83.00945945914441, 83.1081296096819, 82.96575149943806, 83.07787868217497, 82.92977941192743, 83.08563657527543, 83.08713079118365, 82.87004610884992, 83.09553269240803, 82.9510650828314, 82.90387763335343, 82.41043777756141, 81.95151182078428, 80.68267620130217, 79.26016146550046, 77.36646393019532, 74.7899061778329, 71.22128428679491, 67.97621908097182, 62.79643116840987, 59.21187170491919, 55.38319911129662, 51.031176507691015, 47.16824875707533, 42.97079128328255, 40.18757251863943, 37.85608622178927, 34.53322620982715, 31.91565200797544, 26.05778468220649, 21.971508415209996, 16.311500496520438, 11.586767064283436, 5.78847693605033, 1.0434731284901773, -6.873542882199871, -12.876263301966702, -19.733288207232334, -24.884889507502038, -29.24828211047938, -31.58583630088117, -34.49128360685512, -38.81621406817905, -44.07853339185837, -47.93916947594951, -53.108476480946706, -57.82141283594319, -62.092215991184986, -65.34254175937585, -66.35785171630471, -67.57428699510754, -67.97379113024843, -68.80874970820167, -69.50159692881462, -68.97526829729469, -69.88453977125579, -71.7903721232563, -72.041378475454, -73.08279303162323, -73.58047587532201, -76.14546453274642, -77.04289947578073, -77.68132743137681, -78.57491293345207, -79.84868768587351, -80.51687429963695, -81.68505919536149, -82.36881265434496, -83.64421815359623, -84.77050744502675, -84.04211764735584, -81.73434786052843, -80.71460393250376, -79.99192021496793, -79.61889064785896, -78.57737003297761, -78.20817135047474, -78.22985883136266, -78.19646312932903, -78.20146071252178, -78.08291223368158, -77.40294592877768, -75.92040650057957, -76.05048324063502, -74.54638388158108, -74.05151932447416, -71.69671512007895, -70.10828026683518, -70.7486890917423, -70.62746487938074, -71.34209004589025, -72.5008923454325, -78.0707265012683, -79.60090098743498, -84.86944076229962, -90.37541690165529, -95.7920410227922, -101.86495854660083, -108.16011818039638, -112.4040010604325, -117.19273644654187, -122.44933917273676, -126.4818920343641, -131.7443997772777, -134.19116121604327, -135.99329753983383, -137.69050546597583, -140.03130340020115, -140.96065704243057, -141.82533245003262, -142.48569058212144, -142.81074234949952, -143.2962168914564, -144.04334597156554, -144.535087479092, -144.8700295751782, -145.1249715645518, -145.95728914239245, -145.2784629130275, -145.43772312447166, -145.57585661804544, -146.29836663670054, -148.1137382644353, -147.9088932172458, -147.8076670476487, -147.51136068546774, -146.82235759956674, -147.04087780124544, -146.15193297037933, -145.80186340541633, -145.21431654925564, -143.16998177369086, -143.42357604836735, -144.2622228825087, -144.2932712095012, -143.74204224890462, -141.92047898556336, -139.89696498296559, -137.8695743807935, -136.02044181165382, -133.8506418455956, -131.46379701515627, -129.30377654417333, -125.83710075649708, -122.06058875945803, -116.82503677790328, -109.61278589997826, -104.07532717195893], \"xaxis\": \"x\", \"y\": [-98.4764633178711, -98.4764633178711, -98.44565963745117, -98.59194793701172, -98.57638721466066, -98.49418159484864, -98.57849337577821, -98.55681118392944, -98.52157281923294, -98.62471316013337, -99.25113631350995, -98.37392967604637, -98.10137474695325, -97.52574734935618, -97.3395874681465, -97.28872271336535, -97.14206513438214, -97.00611053102824, -96.86524211268662, -97.28517294256928, -96.83755761817253, -97.04727652121939, -96.70228502517217, -96.81293750174248, -97.05680683458637, -97.03274384791763, -97.04390310526608, -96.97730499454605, -97.13012443673718, -96.75697554044167, -96.77445106907503, -96.59899936451352, -96.5937090116796, -96.43980565418875, -96.3970866709658, -96.19390663914393, -95.88167336746616, -95.65811889382081, -95.60757449144805, -95.09376979024988, -94.51223450135392, -92.9898226859447, -91.10408546512008, -89.02335247698839, -85.0402435570727, -81.64775259689006, -78.2282216684486, -75.71750438123273, -71.43375679457881, -68.22435844527084, -65.05345615834699, -62.65957234589217, -61.52340233488485, -60.23965164167876, -59.415915745740534, -58.69817308804869, -58.97839383158765, -58.53313706550222, -58.502175181915874, -59.08607712720814, -60.805673719914324, -60.6127963652238, -60.43053504846566, -60.70628102704919, -62.994159419867515, -62.50494575513159, -62.597508770157845, -62.72531690599436, -62.77613983481078, -62.59192894459056, -62.15412468005562, -62.03522336268469, -61.80653316123687, -61.61601577368981, -61.700166985904275, -61.32373476351441, -61.48014254056142, -61.123137546070126, -60.98376073044943, -60.43714357502574, -59.88734758735063, -58.63403695983786, -57.20671129947954, -55.6780218037413, -54.6551285516114, -54.04558449614714, -53.24865838186281, -51.42343999986153, -49.85496080561927, -48.77847953147338, -47.815242106682746, -48.173956530551095, -47.663808532799294, -47.41490955013933, -47.52029118958785, -47.32459299990373, -47.88307679001045, -47.7943325657082, -48.09208371088437, -48.55667658773709, -48.5415476945721, -48.28091741223284, -48.14277466517214, -47.94866303297749, -47.95753909406292, -47.76821727110874, -48.04650943466606, -47.934156540861636, -48.363546849770216, -48.44791156706674, -48.731214308959665, -49.21448440351705, -49.037735430035355, -48.60044124573264, -49.174957342093194, -49.04238628573685, -49.366770182124526, -49.21986960057535, -49.21020122678158, -48.97687234682459, -48.33636569427114, -48.412168821994385, -48.47627196229496, -48.43113226909995, -48.578605558748535, -47.4126305032068, -47.196480164866955, -46.73824192655525, -46.47759977131207, -47.18026601310439, -49.896691845579625, -51.27605418419222, -51.42889159421975, -52.95415455707217, -53.41938210949428, -52.87334550411745, -53.818862058855785, -53.96732918767816, -54.683298364004145, -54.64473927072984, -55.03279184322366, -55.26773063548251, -54.97436152550699, -54.5662757757423, -54.81951619782018, -54.58908412759183, -54.285765411850775, -54.79481098339659, -54.88294278418974, -55.075536497363004, -55.58732194131011, -55.73526235937007, -56.01440062884302, -56.12898976284106, -56.823496459072544, -58.109563003000375, -59.21512450548198, -61.18065335303794, -61.7873239126387, -62.141685405299455, -62.30675749192511, -63.42849463208398, -63.87497404248995, -65.07266118822079, -66.49541007732077, -68.22155057593818, -68.91276366003564, -70.3729050564835, -70.58031435979636, -70.65892266643151, -70.40260654117648, -70.48022687347546, -69.26430714938937, -68.05454211817954, -67.49794456484005, -65.78104279843981, -65.27958288956, -64.73759022713901, -62.50864275569961, -60.497606765272025, -59.437140834741655, -57.18419225380447, -51.73932753390267, -50.746959434994494, -47.66351982710688, -42.524247894741364, -40.73474831098011, -36.690470375129166, -36.26470672296537, -36.18190917931625, -35.66866108656981, -33.60114959711228, -32.450456328512814, -32.17275453185198, -31.9225512068453, -32.577409304045375, -32.70293727697407, -32.30135520053844, -31.763604043694556, -31.19314105473896, -30.802003222520966, -28.869886075203027, -28.61639347043871, -28.909563111475762, -30.29783392901308, -28.01232481706316, -27.893657328121492, -27.526097227198136, -27.03044447324166, -27.102078951755487, -27.05227022323237, -27.117281752431268, -26.696626086463368, -26.81552011931001, -25.71342335632886, -24.434117721265636, -23.249960128205174, -23.44476395945938, -22.213641480168263, -20.27599193766892, -18.37122011118538, -16.751539781861283, -15.133107638259844, -12.140353190179582, -8.431285878404992, -4.940032623302329, -3.099995616135743, -1.1167190048234659, 0.9503227706167365, 2.7609040145108565, 5.696575210026111, 7.876032117069201, 9.227471358408224, 10.396906221368994, 11.721485663478035, 12.295688582131106, 13.170435221347873, 14.134049027065743, 14.30264047851469, 14.867163170710256, 14.399281722411956, 14.283625958760837, 14.20452040167234, 14.138949686050466, 14.614495351510612, 14.565736862087277, 14.51655174413284, 14.61579925001621, 15.397605289696116, 16.11621708598875, 16.758110336911443, 17.536579291413943, 18.886774106689074, 20.764970231114432, 22.60459509549554, 24.000535787352703, 25.48778399088684, 26.179204055847038, 27.35996798315449, 27.90931621628721, 28.756329792199722, 29.030493044015344, 29.50765646956239, 29.81387418853589, 30.82415033200664, 34.24921430699132, 36.70161556127562, 42.790465184378775, 47.05407656270697, 49.838322280098225, 51.44233694827324, 53.092782491184664, 53.155008684330824, 53.27932188417577, 54.88784023087226, 55.76559213028261, 56.386137765587875, 56.922580366173236, 58.614665049603786, 59.75392202807052, 61.82142949376873, 62.60247734229648, 63.773991096428574, 65.80061330056321, 66.50196139639786, 67.1010215605142, 67.40007295701827, 66.70701267011225, 66.4419658996074, 65.51213100207934, 65.71452333953096, 66.15241932072206, 65.81051407221872, 65.67285526871376, 64.88928493553982, 64.25769861501408, 63.2450016270497, 62.68912934059193, 61.92771398917466, 62.34611537276851, 61.784283441149626, 61.93897480103249, 62.89113037017637, 65.12921597113143, 67.99856060777256, 69.83022986881423, 71.50336227720106, 72.80621630405261, 72.58816608474422, 72.81316572197505, 72.56046154601245, 71.19851294423376, 69.75959108248782, 69.51797121653738, 69.42921271022476, 69.51696265025407, 69.93479664042042, 69.59647292537011, 68.0478885634459, 66.065911368493, 64.74170782064971, 63.7743306750005, 62.58951545044124, 61.44112976482427, 59.62140919012478, 57.1978497625752, 53.65367051548159, 50.36153018655423, 44.70418384758591, 40.82044046548313, 36.18166288597578, 32.64582607958812, 28.10372572073817, 23.18061567219212, 18.23129829902868, 13.06258810888545, 7.9519692199519625, 2.983250673608211, 0.16404324676233273, -2.326646462679463, -2.7592550547336714, -3.6391153776050373, -4.079253858795994, -5.957509762695423, -8.968051103721763, -13.99091039995119, -19.517511437530914, -23.143283013850095, -26.870322333305438, -30.641298360280643, -30.955935160298537, -30.869918356337024, -32.12872962951354, -33.49179833084315, -34.43461629867508, -35.468337620720234, -36.33131869602198, -39.34804529032482, -43.79312050337791, -49.49442099642957, -53.11644198297739, -56.97782983647613, -58.81181367903841, -63.07436383704368, -66.28712086777372, -68.8360721780956, -69.97894840970707, -71.53565061858447, -73.46193854441503, -75.64538818116657, -77.50031266276577, -78.46608885156463, -79.6122974182137, -79.92718719248079, -79.25712094940198, -79.03908608973637, -77.75720637178041, -77.88547144922705, -77.89229151179734, -77.92345716147585, -77.91289150203815, -78.27053113220478, -79.70570127291315, -82.06226279055826, -83.5705082060737, -87.87834843652809, -91.38617590132122, -97.02460390427316, -99.37665158966595, -101.12356935456188, -100.73226334819111, -100.00861566441475, -99.06158701504604, -97.50993607219638, -95.87134819019637, -96.27415505316344, -96.6945110511613, -98.34032941947353, -99.09679636287439, -100.1087093250304, -101.49520793099366, -101.92265214765594, -103.65859324714417, -104.88596709705074, -106.89996315088999, -106.50529725571973, -108.71208874143232, -109.5579658377476, -111.77779490911524, -111.88743289751272, -109.0284196483546, -105.19822495049605, -99.1950676194944, -94.02372139821405, -90.97524555552181, -91.0723383458405, -90.77485700849917, -91.43906730461046, -91.44504744470748, -90.53103686876285, -88.59822150269245, -83.49380271659372, -78.36292963653668, -75.88004269752813, -72.05897969816604, -67.9355144002347, -67.07849417152178, -66.27067765441996, -64.98372465673413, -63.78893691427626, -61.82631007180112, -58.491627738069155, -57.263279091336585, -56.299127919255284, -54.8368665890423, -51.96644893031993, -49.15950978571962, -47.90103499701871, -46.67598564144194, -45.507047797160226, -43.98386854934128, -41.79736530556036, -39.571681539725404, -37.754429167171935, -34.75588315136898, -32.36730942512463, -28.123564662646743, -25.4721877833976, -22.414028778986847, -19.71109153420886, -17.386948677199598, -16.231519534574687, -15.300909580632691, -14.735785364268253, -13.408767113364433, -12.495502692335549, -11.40607443590116, -9.59112075297142, -7.790740572123468, -5.951789908600006, -5.548103273318503, -5.334296043663045, -5.594231024445037, -5.396637173883448, -5.187485941508555, -5.108288605867671, -5.303838528433317, -5.209729313829371, -4.883023136442745, -3.5589008033244056, -1.2653376867750126, 0.6196751639251659, 1.3825618652942921, 1.2381218678504808, 0.8700849328702986, 1.142928058009602, 2.373824812684461, 3.621075286582311, 4.11436916257648, 5.371206947284236, 7.368193734982185, 9.667945293801637, 14.08762499530593, 17.238173971804628, 20.947810955106434, 23.783742453192588, 25.998359845170256, 26.760800198545297, 27.262341714812635, 28.958940433834528, 32.21117895497582, 34.99133709779002, 37.02872121580495, 41.700180667207576, 45.58162217773207, 48.633654114241295, 51.02761960839808, 52.321715139841274, 55.36060046079095, 59.733276191874666, 61.56262888747801, 62.657382175851524, 63.26674754357094, 63.83170669161211, 65.1169972999927, 68.21080031526526, 74.89892929470597, 82.02876055021949, 88.56670737516293, 92.92671551075557, 95.6700265530518, 97.26935705805863, 96.79456373637572, 97.70179424474395, 97.80058562246808, 98.23261899022725, 98.00798609776473, 98.19826259951066, 98.09956217247719, 98.03858490994611, 98.12484185760985, 99.721118241863, 100.53819496760633, 101.85894288276381, 102.45467486281672, 102.34820025809813, 101.70483453020375, 101.93490368373426, 101.10147102913993, 101.00768245197423, 101.0070755127694, 101.55854982873365, 103.21809623902482, 106.44691723993509, 107.26935536602946, 108.68479271294336, 110.64517320236536, 112.34854257637505, 113.10427872693685, 113.3934541769836, 113.57423250728272, 113.5586213980319, 113.50612846740103, 113.40093493333762, 113.36335976083285, 113.30724412183662, 113.12039141529675, 113.94570972618567, 114.85761559706015, 114.37169502093957, 113.60756079659023, 112.93501908468392, 111.87255349204713, 111.12013872696042, 110.94390792615081, 110.72466601168077, 110.7651823803289, 110.34794398134193, 109.82731092638528, 108.04807172415445, 105.51105190018825, 103.35008337825207, 100.59229041442273, 98.91784148622997, 96.12804796890168, 94.31539991678216, 93.18788853078445, 91.8869279074392, 90.20944548664892, 88.59040612947524, 87.17825672778247, 84.6654484316283, 82.30940452479234, 79.18028143710751, 77.1636058081134, 75.10720578978487, 72.78585068567014, 69.79037591241303, 67.76837198761615, 65.05763261977211, 62.01567083720494, 59.71163103798534, 58.19639054257294, 56.32905682000444, 55.10622173446211, 53.35173431645771, 49.99734576627284, 46.93131010474406, 44.729202389843294, 41.58098527303582, 40.656994646806595, 37.442067224549135, 31.091708681884285, 26.39050670843821, 19.78914158670645, 16.940621752115362, 16.06038936544735, 16.947112092163024, 17.418090082063202, 17.180092479107657, 16.585898479350476, 15.374055955606394, 14.073077642996338, 12.003885187774529, 8.379166907679917, 4.753170668791171, 0.2224420527535358, -2.2617909402086696, -5.049941339792042, -5.121309809244195, -5.299769490763737, -6.700077422314365, -10.219438995391897, -12.960095078923331, -14.120402116398651, -14.476935862180284, -14.803184524002774, -15.328940129082923, -16.39459343177424, -18.7554971778097, -21.30986116442432, -26.127651053722246, -30.100491473247644, -33.35973603696459, -35.878045217569195, -37.59752272243924, -38.27641884928579, -38.80764369767252, -38.557784391113586, -39.697296304406734, -40.50586156735844, -36.276466393903206, -33.22849993212523, -30.034453967874526, -26.644281703685976, -24.609556522915568, -25.00484309173453, -24.885468054853362, -23.015892937148863, -23.079217608130364, -22.73578619276958, -22.449193432235177, -22.1342326750092, -22.06028444086067, -22.053350996222093, -21.934309694937696, -22.14558809865207, -22.20970211830317, -21.920451953811494, -21.727685633907583, -21.41985337656783, -21.80312409752753, -21.935921884659024, -22.126328752568583, -22.620871528548463, -22.887146181781787, -22.701824424350633, -22.591586331564145, -22.41643623079125, -22.402922520047127, -22.59269080693315, -22.384882195145735, -22.35644817670405, -22.19987023820741, -22.247485018253656, -22.235541601404947, -23.118779399466547, -23.888234224829887, -24.023262008796934, -23.50355373724011, -23.2721126533703, -22.649028543984457, -22.599487704890322, -23.485218966656248, -24.67144018454215, -25.43373255202971, -23.715352258150062, -20.646605903312263, -19.300370007911965, -16.876832499266357, -15.552190510952443, -14.789885165417274, -14.323709161359659, -13.641810411531338, -13.69541001189927, -12.898699998009022, -11.603971230788801, -10.915511023871261, -9.660863934130049, -7.9003179865885045, -5.457667645539431, -4.140955901113273, -1.784212585795757, -0.12873844742284746, 1.6616642241911848, 4.397262566626807, 7.930027374107198, 11.004632567367054, 15.679257066321156, 20.58131393417733, 27.442504404674736, 33.02676618192348, 43.969879078669976, 48.83353992118501, 56.70781706687862, 62.101808637103545, 64.6481952651099, 66.0161181583585, 66.85059843039147, 66.45652233801161, 66.08484074112118, 66.57861323839705, 68.08148831819943, 68.82166594816192, 70.20604191228068, 70.86816261195082, 71.54631766379521, 71.70262582001527, 72.75421785220601, 73.55565479829522, 75.48794499472541, 75.88826002394347, 75.65562125360339, 77.2100685324001, 76.49816618608736, 75.73025905915688, 74.67409779168264, 74.33510190818993, 74.00173875322503, 73.1708493926738, 73.2161482641556, 73.75433224288543, 74.2060748885491, 74.84331798828828, 75.11561582312612, 75.8193123344737, 76.3352989164377, 76.6005396724367, 76.77884403180161, 76.76483070672487, 76.88669812576632, 76.91432329985639, 77.25991359337667, 76.99111730601362, 77.3615761503346, 77.5964794855505, 78.169783602726, 78.58283434959037, 79.65768647351433, 79.85959006943074, 80.98957093977714, 82.89674093961384, 84.76053128305642, 86.19377475178192, 87.50437815437249, 88.98741277038448, 90.38790190137854, 90.75032901760846, 90.93500718462082, 90.96631064414521, 90.78628531841576, 90.84695923089913, 91.09992521963738, 91.7064231570958, 92.47312476927374, 92.79626193547841, 93.02555855914107, 92.95924489334914, 92.80790940642976, 92.48440034484224, 92.53119312483165, 92.6818076957693, 93.09102540427165, 92.85541141315446, 93.1857653218712, 93.42984827203179, 93.38772960540956, 93.50332916951572, 93.75648860340908, 93.54431193646252, 93.25645424754259, 92.7654389047272, 92.23409649406494, 92.30563004469343, 93.31058139305503, 94.786762475454, 97.27443449899732, 97.64335616819312, 97.9791534560996, 98.15596845208444, 98.79623825278992, 98.3318730510158, 98.61781983215678, 98.57651740784769, 98.88682428097587, 98.90506434213421, 98.78297481402137, 98.5867255326678, 98.63313225725943, 98.9749473064627, 98.82022466036625, 98.42123141481704, 99.04024408723853, 99.0357509353671, 99.21018395195296, 99.18131326286363, 98.47317035402341, 99.07139864958583, 98.94087148816209, 99.13187526374645, 98.90485447810715, 98.39190500782365, 98.4711834939817, 98.10093815595872, 97.77156405974182, 97.86279544751488, 98.07815831501597, 97.90367468822097, 98.26157726287738, 98.18554815147536, 98.20198378181442, 98.40403919293612, 98.1030072230339, 97.78483836185057, 97.9743103363848, 96.32808799792991, 92.8054345753601, 90.47204797752153, 88.6543051765384, 87.73024628354227, 87.44907656261358, 86.98899403481653, 87.1669189795092, 87.73146372924595, 88.18419006860609, 88.9495358435666, 88.90839328079875, 89.46409633112484, 89.09240523235417, 89.59614338033276, 89.53655060418907, 89.55644421212804, 89.42665110869478, 88.79755659763953, 88.9668525857378, 89.41084595302482, 89.2109519601263, 89.44133575525842, 89.5111944907963, 89.46780253614031, 89.60453104129522, 89.45081308061634, 89.41819735638961, 89.308059278987, 89.46150432269673, 89.5954093313012, 89.55808978414672, 89.66906909012488, 89.38980477621578, 89.28832117894842, 89.52100581164723, 89.25681171443989, 89.32489159440331, 89.1771966839238, 89.0429750721683, 88.19753897524481, 87.25363254012211, 85.88621348788831, 84.94391341129176, 83.90618031419888, 83.11869730222111, 82.91779807984466, 83.87491213927848, 84.95041537848061, 85.50842493124333, 85.73763524378381, 84.94451477728416, 82.96764296723165, 81.304496125284, 79.99973171119802, 78.70947141586294, 76.88410587484378, 74.46836987009425, 72.49241202380472, 71.82678776811179, 72.25279551939104, 72.58744589959178, 71.96461305349459, 71.54667248796613, 69.11037799318046, 66.10793928872226, 64.8002786228052, 64.01170786108179, 64.41355223043251, 63.83480671627166, 64.00618414071721, 63.73916754064385, 64.45186756251383, 63.289445687737214, 63.10120603769735, 63.58716990491837, 62.50610955555692, 61.85507225087446, 60.97118620872419, 60.287910495834296, 59.76900404214848, 59.34586906949232, 58.8700884603262, 59.621884632884814, 59.83186214600204, 60.393444438096765, 60.86125087951751, 61.32107263495283, 61.29713349374401, 61.18673206223508, 61.20093599085851, 60.87109910376887, 60.410201738960836, 59.88742603499895, 58.02362361411559, 57.67417378073813, 58.02587783166814, 58.452804533907624, 57.2604688939885, 56.84743346695137, 56.30233708824866, 55.97255187917355, 57.30645972461426, 57.65684317005963, 58.85354189570387, 59.133540818770655, 60.05518735125008, 60.66348205054999, 61.28592397671093, 62.084628203578575, 62.59124369904572, 64.28036390827117, 64.68766116423188, 65.1275892542094, 66.88155035871682, 68.81293263861971, 70.99425953134659, 72.5831169587812, 73.75958967433087, 74.44805409166872, 74.5710108998801, 73.48044663914095, 73.58021187668123, 71.04633915163288, 70.90556052906078, 68.89826709588948, 69.86683688697627, 70.21872901702017, 69.69328542074174, 66.4544722553851, 65.20374104309172, 61.942734436940555, 59.480788512420816, 56.62186823438873, 54.89685124805453, 53.46540853105674, 52.69934854902459, 52.13248446691438, 50.87838403284198, 48.13866081700982, 46.17179208978959, 45.23208681176044, 44.883399733878605, 44.85458230887343, 44.87411991491578, 45.05643517958296, 44.67352216204205, 44.9364819395351, 45.989871097743816, 44.75785586636971, 43.38426633971039, 42.794982548656634, 42.586194485868646, 41.43416055978875, 38.59186059988227, 35.09294543406597, 29.483216498429613, 25.848219158859905, 21.83080309244022, 19.175961816700067, 17.741688945311353, 16.65815544193859, 16.149231704833795, 15.788663196661872, 14.831819265002423, 14.03403586865943, 12.451893098490586, 11.290295962574305, 8.821750486990368, 7.696889883888076, 5.187833953663784, 3.335602665932811, 1.50654270779566, -0.27969957813741075, -1.2495602808423882, -2.499310435988207], \"yaxis\": \"y\"}],\n",
       "                        {\"legend\": {\"tracegroupgap\": 0}, \"margin\": {\"t\": 60}, \"template\": {\"data\": {\"bar\": [{\"error_x\": {\"color\": \"#2a3f5f\"}, \"error_y\": {\"color\": \"#2a3f5f\"}, \"marker\": {\"line\": {\"color\": \"#E5ECF6\", \"width\": 0.5}}, \"type\": \"bar\"}], \"barpolar\": [{\"marker\": {\"line\": {\"color\": \"#E5ECF6\", \"width\": 0.5}}, \"type\": \"barpolar\"}], \"carpet\": [{\"aaxis\": {\"endlinecolor\": \"#2a3f5f\", \"gridcolor\": \"white\", \"linecolor\": \"white\", \"minorgridcolor\": \"white\", \"startlinecolor\": \"#2a3f5f\"}, \"baxis\": {\"endlinecolor\": \"#2a3f5f\", \"gridcolor\": \"white\", \"linecolor\": \"white\", \"minorgridcolor\": \"white\", \"startlinecolor\": \"#2a3f5f\"}, \"type\": \"carpet\"}], \"choropleth\": [{\"colorbar\": {\"outlinewidth\": 0, \"ticks\": \"\"}, \"type\": \"choropleth\"}], \"contour\": [{\"colorbar\": {\"outlinewidth\": 0, \"ticks\": \"\"}, \"colorscale\": [[0.0, \"#0d0887\"], [0.1111111111111111, \"#46039f\"], [0.2222222222222222, \"#7201a8\"], [0.3333333333333333, \"#9c179e\"], [0.4444444444444444, \"#bd3786\"], [0.5555555555555556, \"#d8576b\"], [0.6666666666666666, \"#ed7953\"], [0.7777777777777778, \"#fb9f3a\"], [0.8888888888888888, \"#fdca26\"], [1.0, \"#f0f921\"]], \"type\": \"contour\"}], \"contourcarpet\": [{\"colorbar\": {\"outlinewidth\": 0, \"ticks\": \"\"}, \"type\": \"contourcarpet\"}], \"heatmap\": [{\"colorbar\": {\"outlinewidth\": 0, \"ticks\": \"\"}, \"colorscale\": [[0.0, \"#0d0887\"], [0.1111111111111111, \"#46039f\"], [0.2222222222222222, \"#7201a8\"], [0.3333333333333333, \"#9c179e\"], [0.4444444444444444, \"#bd3786\"], [0.5555555555555556, \"#d8576b\"], [0.6666666666666666, \"#ed7953\"], [0.7777777777777778, \"#fb9f3a\"], [0.8888888888888888, \"#fdca26\"], [1.0, \"#f0f921\"]], \"type\": \"heatmap\"}], \"heatmapgl\": [{\"colorbar\": {\"outlinewidth\": 0, \"ticks\": \"\"}, \"colorscale\": [[0.0, \"#0d0887\"], [0.1111111111111111, \"#46039f\"], [0.2222222222222222, \"#7201a8\"], [0.3333333333333333, \"#9c179e\"], [0.4444444444444444, \"#bd3786\"], [0.5555555555555556, \"#d8576b\"], [0.6666666666666666, \"#ed7953\"], [0.7777777777777778, \"#fb9f3a\"], [0.8888888888888888, \"#fdca26\"], [1.0, \"#f0f921\"]], \"type\": \"heatmapgl\"}], \"histogram\": [{\"marker\": {\"colorbar\": {\"outlinewidth\": 0, \"ticks\": \"\"}}, \"type\": \"histogram\"}], \"histogram2d\": [{\"colorbar\": {\"outlinewidth\": 0, \"ticks\": \"\"}, \"colorscale\": [[0.0, \"#0d0887\"], [0.1111111111111111, \"#46039f\"], [0.2222222222222222, \"#7201a8\"], [0.3333333333333333, \"#9c179e\"], [0.4444444444444444, \"#bd3786\"], [0.5555555555555556, \"#d8576b\"], [0.6666666666666666, \"#ed7953\"], [0.7777777777777778, \"#fb9f3a\"], [0.8888888888888888, \"#fdca26\"], [1.0, \"#f0f921\"]], \"type\": \"histogram2d\"}], \"histogram2dcontour\": [{\"colorbar\": {\"outlinewidth\": 0, \"ticks\": \"\"}, \"colorscale\": [[0.0, \"#0d0887\"], [0.1111111111111111, \"#46039f\"], [0.2222222222222222, \"#7201a8\"], [0.3333333333333333, \"#9c179e\"], [0.4444444444444444, \"#bd3786\"], [0.5555555555555556, \"#d8576b\"], [0.6666666666666666, \"#ed7953\"], [0.7777777777777778, \"#fb9f3a\"], [0.8888888888888888, \"#fdca26\"], [1.0, \"#f0f921\"]], \"type\": \"histogram2dcontour\"}], \"mesh3d\": [{\"colorbar\": {\"outlinewidth\": 0, \"ticks\": \"\"}, \"type\": \"mesh3d\"}], \"parcoords\": [{\"line\": {\"colorbar\": {\"outlinewidth\": 0, \"ticks\": \"\"}}, \"type\": \"parcoords\"}], \"pie\": [{\"automargin\": true, \"type\": \"pie\"}], \"scatter\": [{\"marker\": {\"colorbar\": {\"outlinewidth\": 0, \"ticks\": \"\"}}, \"type\": \"scatter\"}], \"scatter3d\": [{\"line\": {\"colorbar\": {\"outlinewidth\": 0, \"ticks\": \"\"}}, \"marker\": {\"colorbar\": {\"outlinewidth\": 0, \"ticks\": \"\"}}, \"type\": \"scatter3d\"}], \"scattercarpet\": [{\"marker\": {\"colorbar\": {\"outlinewidth\": 0, \"ticks\": \"\"}}, \"type\": \"scattercarpet\"}], \"scattergeo\": [{\"marker\": {\"colorbar\": {\"outlinewidth\": 0, \"ticks\": \"\"}}, \"type\": \"scattergeo\"}], \"scattergl\": [{\"marker\": {\"colorbar\": {\"outlinewidth\": 0, \"ticks\": \"\"}}, \"type\": \"scattergl\"}], \"scattermapbox\": [{\"marker\": {\"colorbar\": {\"outlinewidth\": 0, \"ticks\": \"\"}}, \"type\": \"scattermapbox\"}], \"scatterpolar\": [{\"marker\": {\"colorbar\": {\"outlinewidth\": 0, \"ticks\": \"\"}}, \"type\": \"scatterpolar\"}], \"scatterpolargl\": [{\"marker\": {\"colorbar\": {\"outlinewidth\": 0, \"ticks\": \"\"}}, \"type\": \"scatterpolargl\"}], \"scatterternary\": [{\"marker\": {\"colorbar\": {\"outlinewidth\": 0, \"ticks\": \"\"}}, \"type\": \"scatterternary\"}], \"surface\": [{\"colorbar\": {\"outlinewidth\": 0, \"ticks\": \"\"}, \"colorscale\": [[0.0, \"#0d0887\"], [0.1111111111111111, \"#46039f\"], [0.2222222222222222, \"#7201a8\"], [0.3333333333333333, \"#9c179e\"], [0.4444444444444444, \"#bd3786\"], [0.5555555555555556, \"#d8576b\"], [0.6666666666666666, \"#ed7953\"], [0.7777777777777778, \"#fb9f3a\"], [0.8888888888888888, \"#fdca26\"], [1.0, \"#f0f921\"]], \"type\": \"surface\"}], \"table\": [{\"cells\": {\"fill\": {\"color\": \"#EBF0F8\"}, \"line\": {\"color\": \"white\"}}, \"header\": {\"fill\": {\"color\": \"#C8D4E3\"}, \"line\": {\"color\": \"white\"}}, \"type\": \"table\"}]}, \"layout\": {\"annotationdefaults\": {\"arrowcolor\": \"#2a3f5f\", \"arrowhead\": 0, \"arrowwidth\": 1}, \"coloraxis\": {\"colorbar\": {\"outlinewidth\": 0, \"ticks\": \"\"}}, \"colorscale\": {\"diverging\": [[0, \"#8e0152\"], [0.1, \"#c51b7d\"], [0.2, \"#de77ae\"], [0.3, \"#f1b6da\"], [0.4, \"#fde0ef\"], [0.5, \"#f7f7f7\"], [0.6, \"#e6f5d0\"], [0.7, \"#b8e186\"], [0.8, \"#7fbc41\"], [0.9, \"#4d9221\"], [1, \"#276419\"]], \"sequential\": [[0.0, \"#0d0887\"], [0.1111111111111111, \"#46039f\"], [0.2222222222222222, \"#7201a8\"], [0.3333333333333333, \"#9c179e\"], [0.4444444444444444, \"#bd3786\"], [0.5555555555555556, \"#d8576b\"], [0.6666666666666666, \"#ed7953\"], [0.7777777777777778, \"#fb9f3a\"], [0.8888888888888888, \"#fdca26\"], [1.0, \"#f0f921\"]], \"sequentialminus\": [[0.0, \"#0d0887\"], [0.1111111111111111, \"#46039f\"], [0.2222222222222222, \"#7201a8\"], [0.3333333333333333, \"#9c179e\"], [0.4444444444444444, \"#bd3786\"], [0.5555555555555556, \"#d8576b\"], [0.6666666666666666, \"#ed7953\"], [0.7777777777777778, \"#fb9f3a\"], [0.8888888888888888, \"#fdca26\"], [1.0, \"#f0f921\"]]}, \"colorway\": [\"#636efa\", \"#EF553B\", \"#00cc96\", \"#ab63fa\", \"#FFA15A\", \"#19d3f3\", \"#FF6692\", \"#B6E880\", \"#FF97FF\", \"#FECB52\"], \"font\": {\"color\": \"#2a3f5f\"}, \"geo\": {\"bgcolor\": \"white\", \"lakecolor\": \"white\", \"landcolor\": \"#E5ECF6\", \"showlakes\": true, \"showland\": true, \"subunitcolor\": \"white\"}, \"hoverlabel\": {\"align\": \"left\"}, \"hovermode\": \"closest\", \"mapbox\": {\"style\": \"light\"}, \"paper_bgcolor\": \"white\", \"plot_bgcolor\": \"#E5ECF6\", \"polar\": {\"angularaxis\": {\"gridcolor\": \"white\", \"linecolor\": \"white\", \"ticks\": \"\"}, \"bgcolor\": \"#E5ECF6\", \"radialaxis\": {\"gridcolor\": \"white\", \"linecolor\": \"white\", \"ticks\": \"\"}}, \"scene\": {\"xaxis\": {\"backgroundcolor\": \"#E5ECF6\", \"gridcolor\": \"white\", \"gridwidth\": 2, \"linecolor\": \"white\", \"showbackground\": true, \"ticks\": \"\", \"zerolinecolor\": \"white\"}, \"yaxis\": {\"backgroundcolor\": \"#E5ECF6\", \"gridcolor\": \"white\", \"gridwidth\": 2, \"linecolor\": \"white\", \"showbackground\": true, \"ticks\": \"\", \"zerolinecolor\": \"white\"}, \"zaxis\": {\"backgroundcolor\": \"#E5ECF6\", \"gridcolor\": \"white\", \"gridwidth\": 2, \"linecolor\": \"white\", \"showbackground\": true, \"ticks\": \"\", \"zerolinecolor\": \"white\"}}, \"shapedefaults\": {\"line\": {\"color\": \"#2a3f5f\"}}, \"ternary\": {\"aaxis\": {\"gridcolor\": \"white\", \"linecolor\": \"white\", \"ticks\": \"\"}, \"baxis\": {\"gridcolor\": \"white\", \"linecolor\": \"white\", \"ticks\": \"\"}, \"bgcolor\": \"#E5ECF6\", \"caxis\": {\"gridcolor\": \"white\", \"linecolor\": \"white\", \"ticks\": \"\"}}, \"title\": {\"x\": 0.05}, \"xaxis\": {\"automargin\": true, \"gridcolor\": \"white\", \"linecolor\": \"white\", \"ticks\": \"\", \"title\": {\"standoff\": 15}, \"zerolinecolor\": \"white\", \"zerolinewidth\": 2}, \"yaxis\": {\"automargin\": true, \"gridcolor\": \"white\", \"linecolor\": \"white\", \"ticks\": \"\", \"title\": {\"standoff\": 15}, \"zerolinecolor\": \"white\", \"zerolinewidth\": 2}}}, \"xaxis\": {\"anchor\": \"y\", \"domain\": [0.0, 1.0], \"title\": {\"text\": \"x\"}}, \"yaxis\": {\"anchor\": \"x\", \"domain\": [0.0, 1.0], \"title\": {\"text\": \"y\"}}},\n",
       "                        {\"responsive\": true}\n",
       "                    ).then(function(){\n",
       "                            \n",
       "var gd = document.getElementById('0a6f005e-bf82-4738-a045-22132c0ee7a1');\n",
       "var x = new MutationObserver(function (mutations, observer) {{\n",
       "        var display = window.getComputedStyle(gd).display;\n",
       "        if (!display || display === 'none') {{\n",
       "            console.log([gd, 'removed!']);\n",
       "            Plotly.purge(gd);\n",
       "            observer.disconnect();\n",
       "        }}\n",
       "}});\n",
       "\n",
       "// Listen for the removal of the full notebook cells\n",
       "var notebookContainer = gd.closest('#notebook-container');\n",
       "if (notebookContainer) {{\n",
       "    x.observe(notebookContainer, {childList: true});\n",
       "}}\n",
       "\n",
       "// Listen for the clearing of the current output cell\n",
       "var outputEl = gd.closest('.output');\n",
       "if (outputEl) {{\n",
       "    x.observe(outputEl, {childList: true});\n",
       "}}\n",
       "\n",
       "                        })\n",
       "                };\n",
       "                });\n",
       "            </script>\n",
       "        </div>"
      ]
     },
     "metadata": {},
     "output_type": "display_data"
    }
   ],
   "source": [
    "#Plot animation of trajectory over time with different smoothings\n",
    "import plotly.express as px\n",
    "px.line(ptest['Day2Test13DLC']['B_Center'].loc[:1000], x='x', y='y')"
   ]
  },
  {
   "cell_type": "markdown",
   "metadata": {},
   "source": [
    "# Dimensionality reduction playground"
   ]
  },
  {
   "cell_type": "code",
   "execution_count": 11,
   "metadata": {},
   "outputs": [],
   "source": [
    "pca = ptest.pca(4, 1000)"
   ]
  },
  {
   "cell_type": "code",
   "execution_count": 12,
   "metadata": {},
   "outputs": [
    {
     "data": {
      "image/png": "[encoded data removed]",
      "text/plain": [
       "<Figure size 576x396 with 1 Axes>"
      ]
     },
     "metadata": {},
     "output_type": "display_data"
    }
   ],
   "source": [
    "plt.scatter(*pca[0].T)\n",
    "plt.show()"
   ]
  },
  {
   "cell_type": "markdown",
   "metadata": {},
   "source": [
    "# Preprocessing playground"
   ]
  },
  {
   "cell_type": "code",
   "execution_count": 14,
   "metadata": {},
   "outputs": [],
   "source": [
    "mtest = merge_tables(DLC_social_1_coords.get_coords(center=True, polar=True),\n",
    "                 DLC_social_1_coords.get_distances(speed=0),\n",
    "                 DLC_social_1_coords.get_angles(degrees=True, speed=2))"
   ]
  },
  {
   "cell_type": "code",
   "execution_count": 19,
   "metadata": {},
   "outputs": [],
   "source": [
    "ptest = mtest.preprocess(window_size=51, filter='gaussian', sigma=10, shift=20)"
   ]
  },
  {
   "cell_type": "code",
   "execution_count": 25,
   "metadata": {},
   "outputs": [],
   "source": [
    "ttest = mtest.preprocess(window_size=501, filter=None)"
   ]
  },
  {
   "cell_type": "code",
   "execution_count": 39,
   "metadata": {},
   "outputs": [
    {
     "data": {
      "image/png": "[encoded data removed]",
      "text/plain": [
       "<Figure size 576x396 with 1 Axes>"
      ]
     },
     "metadata": {},
     "output_type": "display_data"
    }
   ],
   "source": [
    "plt.plot(ttest[2,:,2], label='normal')\n",
    "plt.plot(ptest[2,:,2], label='gaussian')\n",
    "plt.legend()\n",
    "plt.show()"
   ]
  },
  {
   "cell_type": "code",
   "execution_count": null,
   "metadata": {},
   "outputs": [],
   "source": []
  }
 ],
 "metadata": {
  "kernelspec": {
   "display_name": "Python 3",
   "language": "python",
   "name": "python3"
  },
  "language_info": {
   "codemirror_mode": {
    "name": "ipython",
    "version": 3
   },
   "file_extension": ".py",
   "mimetype": "text/x-python",
   "name": "python",
   "nbconvert_exporter": "python",
   "pygments_lexer": "ipython3",
   "version": "3.6.10"
  }
 },
 "nbformat": 4,
 "nbformat_minor": 4
}
