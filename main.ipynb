{
 "cells": [
  {
   "cell_type": "code",
   "execution_count": 1,
   "metadata": {},
   "outputs": [],
   "source": [
    "%load_ext autoreload\n",
    "%autoreload 2\n",
    "\n",
    "import warnings\n",
    "warnings.filterwarnings(\"ignore\")"
   ]
  },
  {
   "cell_type": "code",
   "execution_count": 2,
   "metadata": {},
   "outputs": [],
   "source": [
    "#from source.utils import *\n",
    "from source.classes import *\n",
    "import pickle\n",
    "import matplotlib.pyplot as plt\n",
    "import pandas as pd\n",
    "from collections import defaultdict\n",
    "from tqdm import tqdm_notebook as tqdm"
   ]
  },
  {
   "cell_type": "markdown",
   "metadata": {},
   "source": [
    "# Set up and design the project"
   ]
  },
  {
   "cell_type": "code",
   "execution_count": 3,
   "metadata": {},
   "outputs": [],
   "source": [
    "with open('../../Desktop/DLC_social_1/DLC_social_1_exp_conditions.pickle', 'rb') as handle:\n",
    "    Treatment_dict = pickle.load(handle)"
   ]
  },
  {
   "cell_type": "code",
   "execution_count": 4,
   "metadata": {},
   "outputs": [],
   "source": [
    "#Which angles to compute?\n",
    "bp_dict = {'B_Nose':['B_Left_ear','B_Right_ear'],\n",
    "          'B_Left_ear':['B_Nose','B_Right_ear','B_Center','B_Left_flank'],\n",
    "          'B_Right_ear':['B_Nose','B_Left_ear','B_Center','B_Right_flank'],\n",
    "          'B_Center':['B_Left_ear','B_Right_ear','B_Left_flank','B_Right_flank','B_Tail_base'],\n",
    "          'B_Left_flank':['B_Left_ear','B_Center','B_Tail_base'],\n",
    "          'B_Right_flank':['B_Right_ear','B_Center','B_Tail_base'],\n",
    "          'B_Tail_base':['B_Center','B_Left_flank','B_Right_flank']}"
   ]
  },
  {
   "cell_type": "code",
   "execution_count": 5,
   "metadata": {},
   "outputs": [
    {
     "name": "stdout",
     "output_type": "stream",
     "text": [
      "CPU times: user 2.76 s, sys: 828 ms, total: 3.58 s\n",
      "Wall time: 1.23 s\n"
     ]
    }
   ],
   "source": [
    "%%time\n",
    "DLC_social_1 = project(path='../../Desktop/DLC_social_1/',#Path where to find the required files\n",
    "                   smooth_alpha=0.85,                    #Alpha value for exponentially weighted smoothing\n",
    "                   distances=['B_Center','B_Nose','B_Left_ear','B_Right_ear','B_Left_flank',\n",
    "                              'B_Right_flank','B_Tail_base'],\n",
    "                   ego=False,\n",
    "                   angles=True,\n",
    "                   connectivity=bp_dict,\n",
    "                   arena='circular',                  #Type of arena used in the experiments\n",
    "                   arena_dims=[380],                  #Dimensions of the arena. Just one if it's circular\n",
    "                   video_format='.mp4',\n",
    "                   table_format='.h5',\n",
    "                   exp_conditions=Treatment_dict)"
   ]
  },
  {
   "cell_type": "markdown",
   "metadata": {},
   "source": [
    "# Run project"
   ]
  },
  {
   "cell_type": "code",
   "execution_count": 6,
   "metadata": {},
   "outputs": [
    {
     "name": "stdout",
     "output_type": "stream",
     "text": [
      "Loading trajectories...\n",
      "Smoothing trajectories...\n",
      "Computing distances...\n",
      "Computing angles...\n",
      "Done!\n",
      "Coordinates of 47 videos across 4 conditions\n",
      "CPU times: user 10.3 s, sys: 684 ms, total: 11 s\n",
      "Wall time: 11.3 s\n"
     ]
    },
    {
     "data": {
      "text/plain": [
       "source.classes.coordinates"
      ]
     },
     "execution_count": 6,
     "metadata": {},
     "output_type": "execute_result"
    }
   ],
   "source": [
    "%%time\n",
    "DLC_social_1_coords = DLC_social_1.run(verbose=True)\n",
    "print(DLC_social_1_coords)\n",
    "type(DLC_social_1_coords)"
   ]
  },
  {
   "cell_type": "markdown",
   "metadata": {},
   "source": [
    "# Generate coords"
   ]
  },
  {
   "cell_type": "code",
   "execution_count": 7,
   "metadata": {
    "scrolled": true
   },
   "outputs": [
    {
     "name": "stdout",
     "output_type": "stream",
     "text": [
      "CPU times: user 932 ms, sys: 73.1 ms, total: 1.01 s\n",
      "Wall time: 931 ms\n"
     ]
    },
    {
     "data": {
      "text/plain": [
       "'coords'"
      ]
     },
     "execution_count": 7,
     "metadata": {},
     "output_type": "execute_result"
    }
   ],
   "source": [
    "%%time\n",
    "ptest = DLC_social_1_coords.get_coords(center=True, polar=False, speed=0, length='00:10:00')\n",
    "ptest._type"
   ]
  },
  {
   "cell_type": "code",
   "execution_count": 8,
   "metadata": {},
   "outputs": [
    {
     "name": "stdout",
     "output_type": "stream",
     "text": [
      "CPU times: user 557 ms, sys: 397 ms, total: 953 ms\n",
      "Wall time: 954 ms\n"
     ]
    },
    {
     "data": {
      "text/plain": [
       "'dists'"
      ]
     },
     "execution_count": 8,
     "metadata": {},
     "output_type": "execute_result"
    }
   ],
   "source": [
    "%%time\n",
    "dtest = DLC_social_1_coords.get_distances(speed=0, length='00:10:00')\n",
    "dtest._type"
   ]
  },
  {
   "cell_type": "code",
   "execution_count": 9,
   "metadata": {},
   "outputs": [
    {
     "name": "stdout",
     "output_type": "stream",
     "text": [
      "CPU times: user 138 ms, sys: 83.8 ms, total: 222 ms\n",
      "Wall time: 222 ms\n"
     ]
    },
    {
     "data": {
      "text/plain": [
       "'angles'"
      ]
     },
     "execution_count": 9,
     "metadata": {},
     "output_type": "execute_result"
    }
   ],
   "source": [
    "%%time\n",
    "atest = DLC_social_1_coords.get_angles(degrees=True, speed=0, length='00:10:00')\n",
    "atest._type"
   ]
  },
  {
   "cell_type": "markdown",
   "metadata": {},
   "source": [
    "# Visualization playground"
   ]
  },
  {
   "cell_type": "code",
   "execution_count": null,
   "metadata": {},
   "outputs": [],
   "source": [
    "ptest.plot_heatmaps(['B_Center', 'W_Center'], i=1)"
   ]
  },
  {
   "cell_type": "code",
   "execution_count": null,
   "metadata": {},
   "outputs": [],
   "source": [
    "#Plot animation of trajectory over time with different smoothings\n",
    "plt.plot(ptest['Day2Test13DLC']['B_Center'].iloc[:5000]['x'],\n",
    "         ptest['Day2Test13DLC']['B_Center'].iloc[:5000]['y'], label='alpha=0.85')\n",
    "\n",
    "plt.xlabel('x')\n",
    "plt.ylabel('y')\n",
    "plt.title('Mouse Center Trajectory using different exponential smoothings')\n",
    "plt.legend()\n",
    "plt.show()"
   ]
  },
  {
   "cell_type": "markdown",
   "metadata": {},
   "source": [
    "# Dimensionality reduction playground"
   ]
  },
  {
   "cell_type": "code",
   "execution_count": null,
   "metadata": {},
   "outputs": [],
   "source": [
    "pca = ptest.pca(4, 1000)"
   ]
  },
  {
   "cell_type": "code",
   "execution_count": null,
   "metadata": {},
   "outputs": [],
   "source": [
    "plt.scatter(*pca[0].T)\n",
    "plt.show()"
   ]
  },
  {
   "cell_type": "markdown",
   "metadata": {},
   "source": [
    "# Preprocessing playground"
   ]
  },
  {
   "cell_type": "code",
   "execution_count": 10,
   "metadata": {},
   "outputs": [],
   "source": [
    "mtest = merge_tables(DLC_social_1_coords.get_coords(center=True, polar=True, length='00:10:00'))#,\n",
    "#                      DLC_social_1_coords.get_distances(speed=0, length='00:10:00'),\n",
    "#                      DLC_social_1_coords.get_angles(degrees=True, speed=0, length='00:10:00'))"
   ]
  },
  {
   "cell_type": "code",
   "execution_count": 11,
   "metadata": {},
   "outputs": [],
   "source": [
    "#pptest = mtest.preprocess(window_size=51, filter='gaussian', sigma=10, shift=20)"
   ]
  },
  {
   "cell_type": "code",
   "execution_count": 12,
   "metadata": {},
   "outputs": [
    {
     "data": {
      "text/plain": [
       "(704997, 51, 28)"
      ]
     },
     "execution_count": 12,
     "metadata": {},
     "output_type": "execute_result"
    }
   ],
   "source": [
    "pttest = mtest.preprocess(window_size=51, filter=None)\n",
    "pttest.shape"
   ]
  },
  {
   "cell_type": "code",
   "execution_count": 13,
   "metadata": {},
   "outputs": [
    {
     "ename": "NameError",
     "evalue": "name 'pptest' is not defined",
     "output_type": "error",
     "traceback": [
      "\u001b[0;31m---------------------------------------------------------------------------\u001b[0m",
      "\u001b[0;31mNameError\u001b[0m                                 Traceback (most recent call last)",
      "\u001b[0;32m<ipython-input-13-695c5b6cd604>\u001b[0m in \u001b[0;36m<module>\u001b[0;34m\u001b[0m\n\u001b[1;32m      1\u001b[0m \u001b[0mplt\u001b[0m\u001b[0;34m.\u001b[0m\u001b[0mplot\u001b[0m\u001b[0;34m(\u001b[0m\u001b[0mpttest\u001b[0m\u001b[0;34m[\u001b[0m\u001b[0;36m2\u001b[0m\u001b[0;34m,\u001b[0m\u001b[0;34m:\u001b[0m\u001b[0;34m,\u001b[0m\u001b[0;36m2\u001b[0m\u001b[0;34m]\u001b[0m\u001b[0;34m,\u001b[0m \u001b[0mlabel\u001b[0m\u001b[0;34m=\u001b[0m\u001b[0;34m'normal'\u001b[0m\u001b[0;34m)\u001b[0m\u001b[0;34m\u001b[0m\u001b[0;34m\u001b[0m\u001b[0m\n\u001b[0;32m----> 2\u001b[0;31m \u001b[0mplt\u001b[0m\u001b[0;34m.\u001b[0m\u001b[0mplot\u001b[0m\u001b[0;34m(\u001b[0m\u001b[0mpptest\u001b[0m\u001b[0;34m[\u001b[0m\u001b[0;36m2\u001b[0m\u001b[0;34m,\u001b[0m\u001b[0;34m:\u001b[0m\u001b[0;34m,\u001b[0m\u001b[0;36m2\u001b[0m\u001b[0;34m]\u001b[0m\u001b[0;34m,\u001b[0m \u001b[0mlabel\u001b[0m\u001b[0;34m=\u001b[0m\u001b[0;34m'gaussian'\u001b[0m\u001b[0;34m)\u001b[0m\u001b[0;34m\u001b[0m\u001b[0;34m\u001b[0m\u001b[0m\n\u001b[0m\u001b[1;32m      3\u001b[0m \u001b[0mplt\u001b[0m\u001b[0;34m.\u001b[0m\u001b[0mlegend\u001b[0m\u001b[0;34m(\u001b[0m\u001b[0;34m)\u001b[0m\u001b[0;34m\u001b[0m\u001b[0;34m\u001b[0m\u001b[0m\n\u001b[1;32m      4\u001b[0m \u001b[0mplt\u001b[0m\u001b[0;34m.\u001b[0m\u001b[0mshow\u001b[0m\u001b[0;34m(\u001b[0m\u001b[0;34m)\u001b[0m\u001b[0;34m\u001b[0m\u001b[0;34m\u001b[0m\u001b[0m\n",
      "\u001b[0;31mNameError\u001b[0m: name 'pptest' is not defined"
     ]
    },
    {
     "data": {
      "image/png": "[encoded data removed]",
      "text/plain": [
       "<Figure size 576x396 with 1 Axes>"
      ]
     },
     "metadata": {},
     "output_type": "display_data"
    }
   ],
   "source": [
    "plt.plot(pttest[2,:,2], label='normal')\n",
    "plt.plot(pptest[2,:,2], label='gaussian')\n",
    "plt.legend()\n",
    "plt.show()"
   ]
  },
  {
   "cell_type": "markdown",
   "metadata": {},
   "source": [
    "# Trained models playground"
   ]
  },
  {
   "cell_type": "markdown",
   "metadata": {},
   "source": [
    "### Seq 2 seq Variational Auto Encoder"
   ]
  },
  {
   "cell_type": "code",
   "execution_count": 35,
   "metadata": {},
   "outputs": [],
   "source": [
    "pttest = pttest[:1000]"
   ]
  },
  {
   "cell_type": "code",
   "execution_count": 36,
   "metadata": {},
   "outputs": [],
   "source": [
    "CONV_filters = 64\n",
    "LSTM_units_1 = 128\n",
    "LSTM_units_2 = 64\n",
    "DENSE_1 = 64\n",
    "DENSE_2 = 32\n",
    "ENCODING = 20\n",
    "DROPOUT_RATE = 0.2\n",
    "\n",
    "original_dim = pttest.shape[1:]\n",
    "batch_size = 256"
   ]
  },
  {
   "cell_type": "code",
   "execution_count": 64,
   "metadata": {},
   "outputs": [],
   "source": [
    "from source.hypermodels import *\n",
    "import tensorflow as tf\n",
    "from tensorflow.keras import Input, Model\n",
    "from tensorflow.keras.layers import Dense, Lambda, Bidirectional, LSTM\n",
    "from tensorflow.keras import backend as K\n",
    "\n",
    "# Encoder Layers\n",
    "Model_E0 = tf.keras.layers.Conv1D(\n",
    "    filters=CONV_filters,\n",
    "    kernel_size=5,\n",
    "    strides=1,\n",
    "    padding=\"causal\",\n",
    "    activation=\"relu\",\n",
    ")\n",
    "Model_E1 = Bidirectional(\n",
    "    LSTM(\n",
    "        LSTM_units_1,\n",
    "        activation=\"tanh\",\n",
    "        return_sequences=True,\n",
    "        kernel_constraint=UnitNorm(axis=0),\n",
    "    )\n",
    ")\n",
    "Model_E2 = Bidirectional(\n",
    "    LSTM(\n",
    "        LSTM_units_2,\n",
    "        activation=\"tanh\",\n",
    "        return_sequences=False,\n",
    "        kernel_constraint=UnitNorm(axis=0),\n",
    "    )\n",
    ")\n",
    "Model_E3 = Dense(DENSE_1, activation=\"relu\", kernel_constraint=UnitNorm(axis=0))\n",
    "Model_E4 = Dense(DENSE_2, activation=\"relu\", kernel_constraint=UnitNorm(axis=0))\n",
    "Model_E5 = Dense(\n",
    "            ENCODING,\n",
    "            activation=\"relu\",\n",
    "            kernel_constraint=UnitNorm(axis=1),\n",
    "            activity_regularizer=UncorrelatedFeaturesConstraint(3, weightage=1.0),\n",
    "        )\n",
    "\n",
    "# Decoder layers\n",
    "Model_D4 = Bidirectional(\n",
    "    LSTM(\n",
    "        LSTM_units_1,\n",
    "        activation=\"tanh\",\n",
    "        return_sequences=True,\n",
    "        kernel_constraint=UnitNorm(axis=1),\n",
    "    )\n",
    ")\n",
    "Model_D5 = Bidirectional(\n",
    "    LSTM(\n",
    "        LSTM_units_1,\n",
    "        activation=\"sigmoid\",\n",
    "        return_sequences=True,\n",
    "        kernel_constraint=UnitNorm(axis=1),\n",
    "    )\n",
    ")\n",
    "\n",
    "# Define and instanciate encoder\n",
    "x = Input(shape=original_dim)\n",
    "encoder = Model_E0(x)\n",
    "encoder = Model_E1(encoder)\n",
    "encoder = Model_E2(encoder)\n",
    "encoder = Model_E3(encoder)\n",
    "encoder = Dropout(DROPOUT_RATE)(encoder)\n",
    "encoder = Model_E4(encoder)\n",
    "encoder = Model_E5(encoder)\n",
    "z_mean = Dense(ENCODING)(encoder)\n",
    "z_log_sigma = Dense(ENCODING)(encoder)"
   ]
  },
  {
   "cell_type": "code",
   "execution_count": 65,
   "metadata": {},
   "outputs": [],
   "source": [
    "def sampling(args, epsilon_std=1.):\n",
    "    z_mean, z_log_sigma = args\n",
    "    epsilon = K.random_normal(shape=K.shape(z_mean),\n",
    "                              mean=0., stddev=epsilon_std)\n",
    "    return z_mean + K.exp(z_log_sigma) * epsilon\n",
    "\n",
    "# note that \"output_shape\" isn't necessary with the TensorFlow backend\n",
    "# so you could write `Lambda(sampling)([z_mean, z_log_sigma])`\n",
    "z = Lambda(sampling)([z_mean, z_log_sigma])\n",
    "true_samples = K.random_normal(K.shape(z_mean), mean=0., stddev=1.)"
   ]
  },
  {
   "cell_type": "code",
   "execution_count": 66,
   "metadata": {},
   "outputs": [],
   "source": [
    "# Define and instanciate decoder\n",
    "decoder = DenseTranspose(Model_E5, activation=\"relu\", output_dim=ENCODING)(z)\n",
    "decoder = DenseTranspose(Model_E4, activation=\"relu\", output_dim=DENSE_2)(decoder)\n",
    "decoder = DenseTranspose(Model_E3, activation=\"relu\", output_dim=DENSE_1)(decoder)\n",
    "decoder = RepeatVector(pttest.shape[1])(decoder)\n",
    "decoder = Model_D4(decoder)\n",
    "decoder = Model_D5(decoder)\n",
    "x_decoded_mean = TimeDistributed(Dense(original_dim[1]))(decoder)"
   ]
  },
  {
   "cell_type": "code",
   "execution_count": 67,
   "metadata": {},
   "outputs": [],
   "source": [
    "# end-to-end autoencoder\n",
    "ivae = Model(x, x_decoded_mean)\n",
    "\n",
    "# encoder, from inputs to latent space\n",
    "encoder = Model(x, z_mean)\n",
    "\n",
    "# generator, from latent space to reconstructed inputs\n",
    "decoder_input = Input(shape=(ENCODING,))\n",
    "decoder = DenseTranspose(Model_E5, activation=\"relu\", output_dim=ENCODING)(decoder_input)\n",
    "decoder = DenseTranspose(Model_E4, activation=\"relu\", output_dim=DENSE_2)(decoder)\n",
    "decoder = DenseTranspose(Model_E3, activation=\"relu\", output_dim=DENSE_1)(decoder)\n",
    "decoder = RepeatVector(pttest.shape[1])(decoder)\n",
    "decoder = Model_D4(decoder)\n",
    "decoder = Model_D5(decoder)\n",
    "x_decoded_mean = TimeDistributed(Dense(original_dim[1]))(decoder)\n",
    "generator = Model(decoder_input, x_decoded_mean)"
   ]
  },
  {
   "cell_type": "code",
   "execution_count": 68,
   "metadata": {},
   "outputs": [
    {
     "name": "stdout",
     "output_type": "stream",
     "text": [
      "Model: \"model_3\"\n",
      "__________________________________________________________________________________________________\n",
      "Layer (type)                    Output Shape         Param #     Connected to                     \n",
      "==================================================================================================\n",
      "input_3 (InputLayer)            [(None, 51, 28)]     0                                            \n",
      "__________________________________________________________________________________________________\n",
      "conv1d_1 (Conv1D)               (None, 51, 64)       9024        input_3[0][0]                    \n",
      "__________________________________________________________________________________________________\n",
      "bidirectional_4 (Bidirectional) (None, 51, 256)      197632      conv1d_1[0][0]                   \n",
      "__________________________________________________________________________________________________\n",
      "bidirectional_5 (Bidirectional) (None, 128)          164352      bidirectional_4[0][0]            \n",
      "__________________________________________________________________________________________________\n",
      "dense_7 (Dense)                 (None, 64)           8256        bidirectional_5[0][0]            \n",
      "__________________________________________________________________________________________________\n",
      "dropout_1 (Dropout)             (None, 64)           0           dense_7[0][0]                    \n",
      "__________________________________________________________________________________________________\n",
      "dense_8 (Dense)                 (None, 32)           2080        dropout_1[0][0]                  \n",
      "__________________________________________________________________________________________________\n",
      "dense_9 (Dense)                 (None, 20)           660         dense_8[0][0]                    \n",
      "__________________________________________________________________________________________________\n",
      "dense_10 (Dense)                (None, 20)           420         dense_9[0][0]                    \n",
      "__________________________________________________________________________________________________\n",
      "dense_11 (Dense)                (None, 20)           420         dense_9[0][0]                    \n",
      "__________________________________________________________________________________________________\n",
      "lambda_5 (Lambda)               (None, 20)           0           dense_10[0][0]                   \n",
      "                                                                 dense_11[0][0]                   \n",
      "__________________________________________________________________________________________________\n",
      "dense_transpose_6 (DenseTranspo (None, 32)           692         lambda_5[0][0]                   \n",
      "__________________________________________________________________________________________________\n",
      "dense_transpose_7 (DenseTranspo (None, 64)           2144        dense_transpose_6[0][0]          \n",
      "__________________________________________________________________________________________________\n",
      "dense_transpose_8 (DenseTranspo (None, 128)          8384        dense_transpose_7[0][0]          \n",
      "__________________________________________________________________________________________________\n",
      "repeat_vector_2 (RepeatVector)  (None, 51, 128)      0           dense_transpose_8[0][0]          \n",
      "__________________________________________________________________________________________________\n",
      "bidirectional_6 (Bidirectional) (None, 51, 256)      263168      repeat_vector_2[0][0]            \n",
      "__________________________________________________________________________________________________\n",
      "bidirectional_7 (Bidirectional) (None, 51, 256)      394240      bidirectional_6[0][0]            \n",
      "__________________________________________________________________________________________________\n",
      "time_distributed_2 (TimeDistrib (None, 51, 28)       7196        bidirectional_7[0][0]            \n",
      "==================================================================================================\n",
      "Total params: 1,047,672\n",
      "Trainable params: 1,047,672\n",
      "Non-trainable params: 0\n",
      "__________________________________________________________________________________________________\n"
     ]
    }
   ],
   "source": [
    "vae.summary()"
   ]
  },
  {
   "cell_type": "code",
   "execution_count": 69,
   "metadata": {},
   "outputs": [
    {
     "name": "stdout",
     "output_type": "stream",
     "text": [
      "Failed to import pydot. You must install pydot and graphviz for `pydotprint` to work.\n"
     ]
    }
   ],
   "source": [
    "tf.keras.utils.plot_model(vae)"
   ]
  },
  {
   "cell_type": "code",
   "execution_count": 70,
   "metadata": {},
   "outputs": [],
   "source": [
    "def compute_kernel(x, y):\n",
    "    x_size = K.shape(x)[0]\n",
    "    y_size = K.shape(y)[0]\n",
    "    dim = K.shape(x)[1]\n",
    "    tiled_x = K.tile(K.reshape(x, K.stack([x_size, 1, dim])), K.stack([1, y_size, 1]))\n",
    "    tiled_y = K.tile(K.reshape(y, K.stack([1, y_size, dim])), K.stack([x_size, 1, 1]))\n",
    "    return K.exp(-tf.reduce_mean(K.square(tiled_x - tiled_y), axis=2) / K.cast(dim, tf.float32))\n",
    "\n",
    "def compute_mmd(x, y, sigma_sqr=1.0):\n",
    "    x_kernel = compute_kernel(x, x)\n",
    "    y_kernel = compute_kernel(y, y)\n",
    "    xy_kernel = compute_kernel(x, y)\n",
    "    return tf.reduce_mean(x_kernel) + tf.reduce_mean(y_kernel) - 2 * tf.reduce_mean(xy_kernel)"
   ]
  },
  {
   "cell_type": "code",
   "execution_count": 71,
   "metadata": {},
   "outputs": [],
   "source": [
    "from tensorflow.keras.losses import Huber\n",
    "\n",
    "def vae_loss(x, x_decoded_mean):\n",
    "    huber_loss = Huber(reduction=\"sum\", delta=100.0)\n",
    "    huber_loss = original_dim * huber_loss(x, x_decoded_mean)\n",
    "    kl_loss = - 0.5 * K.mean(1 + z_log_sigma - K.square(z_mean) - K.exp(z_log_sigma), axis=-1)\n",
    "    return K.mean(huber_loss + kl_loss[:, None])\n",
    "\n",
    "def vae_mmd_loss(x, x_decoded_mean):\n",
    "    huber_loss = Huber(reduction=\"sum\", delta=100.0)\n",
    "    huber_loss = original_dim * huber_loss(x, x_decoded_mean)\n",
    "    mmd_loss = compute_mmd(z, true_samples)\n",
    "    return huber_loss + mmd_loss\n",
    "\n",
    "ivae.compile(optimizer='adam', loss=vae_mmd_loss, experimental_run_tf_function=False, metrics=['mae'])"
   ]
  },
  {
   "cell_type": "code",
   "execution_count": 72,
   "metadata": {
    "scrolled": true
   },
   "outputs": [
    {
     "name": "stdout",
     "output_type": "stream",
     "text": [
      "Train on 1000 samples\n",
      "Epoch 1/50\n",
      "1000/1000 [==============================] - ETA: 10s - loss: 10293381.0000 - mae: 0.908 - ETA: 4s - loss: 9885601.5000 - mae: 0.8885  - ETA: 1s - loss: 9387039.0000 - mae: 0.865 - 7s 7ms/sample - loss: 8822595.9920 - mae: 0.8454\n",
      "Epoch 2/50\n",
      "1000/1000 [==============================] - ETA: 3s - loss: 6865892.5000 - mae: 0.748 - ETA: 2s - loss: 6481052.0000 - mae: 0.736 - ETA: 1s - loss: 6259415.0000 - mae: 0.730 - 4s 4ms/sample - loss: 6099693.6720 - mae: 0.7348\n",
      "Epoch 3/50\n",
      "1000/1000 [==============================] - ETA: 3s - loss: 6092866.0000 - mae: 0.740 - ETA: 2s - loss: 6046017.0000 - mae: 0.737 - ETA: 1s - loss: 6056085.6667 - mae: 0.737 - 5s 5ms/sample - loss: 5878872.6600 - mae: 0.7339\n",
      "Epoch 4/50\n",
      "1000/1000 [==============================] - ETA: 3s - loss: 6139734.0000 - mae: 0.733 - ETA: 2s - loss: 5875562.5000 - mae: 0.717 - ETA: 1s - loss: 5900987.6667 - mae: 0.718 - 4s 4ms/sample - loss: 5732568.2720 - mae: 0.7160\n",
      "Epoch 5/50\n",
      "1000/1000 [==============================] - ETA: 3s - loss: 5749432.0000 - mae: 0.703 - ETA: 2s - loss: 5632395.2500 - mae: 0.698 - ETA: 0s - loss: 5667285.1667 - mae: 0.704 - 4s 4ms/sample - loss: 5528735.7720 - mae: 0.7033\n",
      "Epoch 6/50\n",
      "1000/1000 [==============================] - ETA: 3s - loss: 5295916.0000 - mae: 0.686 - ETA: 2s - loss: 5329202.0000 - mae: 0.688 - ETA: 0s - loss: 5317585.8333 - mae: 0.687 - 4s 4ms/sample - loss: 5248008.7240 - mae: 0.6918\n",
      "Epoch 7/50\n",
      "1000/1000 [==============================] - ETA: 3s - loss: 4960832.5000 - mae: 0.662 - ETA: 2s - loss: 5018276.0000 - mae: 0.665 - ETA: 0s - loss: 5133424.3333 - mae: 0.672 - 4s 4ms/sample - loss: 4927982.1080 - mae: 0.6657\n",
      "Epoch 8/50\n",
      "1000/1000 [==============================] - ETA: 3s - loss: 4726684.5000 - mae: 0.643 - ETA: 2s - loss: 4837850.0000 - mae: 0.651 - ETA: 1s - loss: 4776302.1667 - mae: 0.646 - 4s 4ms/sample - loss: 4692629.9360 - mae: 0.6474\n",
      "Epoch 9/50\n",
      "1000/1000 [==============================] - ETA: 3s - loss: 4520725.5000 - mae: 0.619 - ETA: 2s - loss: 4669531.0000 - mae: 0.631 - ETA: 0s - loss: 4620783.5000 - mae: 0.629 - 4s 4ms/sample - loss: 4571211.3640 - mae: 0.6352\n",
      "Epoch 10/50\n",
      "1000/1000 [==============================] - ETA: 3s - loss: 4743327.5000 - mae: 0.646 - ETA: 2s - loss: 4816528.5000 - mae: 0.648 - ETA: 0s - loss: 4718852.1667 - mae: 0.640 - 4s 4ms/sample - loss: 4513303.2600 - mae: 0.6327\n",
      "Epoch 11/50\n",
      "1000/1000 [==============================] - ETA: 3s - loss: 4751833.5000 - mae: 0.645 - ETA: 2s - loss: 4610613.5000 - mae: 0.634 - ETA: 0s - loss: 4478641.8333 - mae: 0.624 - 4s 4ms/sample - loss: 4426995.5400 - mae: 0.6284\n",
      "Epoch 12/50\n",
      "1000/1000 [==============================] - ETA: 3s - loss: 4339637.5000 - mae: 0.613 - ETA: 2s - loss: 4506178.0000 - mae: 0.627 - ETA: 1s - loss: 4436685.1667 - mae: 0.621 - 4s 4ms/sample - loss: 4365285.6200 - mae: 0.6237\n",
      "Epoch 13/50\n",
      "1000/1000 [==============================] - ETA: 3s - loss: 4343802.0000 - mae: 0.613 - ETA: 2s - loss: 4297053.5000 - mae: 0.609 - ETA: 1s - loss: 4366759.8333 - mae: 0.615 - 5s 5ms/sample - loss: 4316138.0520 - mae: 0.6185\n",
      "Epoch 14/50\n",
      "1000/1000 [==============================] - ETA: 4s - loss: 4569769.5000 - mae: 0.627 - ETA: 2s - loss: 4405033.2500 - mae: 0.617 - ETA: 1s - loss: 4384900.8333 - mae: 0.615 - 6s 6ms/sample - loss: 4251694.1280 - mae: 0.6114\n",
      "Epoch 15/50\n",
      "1000/1000 [==============================] - ETA: 4s - loss: 4540643.5000 - mae: 0.624 - ETA: 2s - loss: 4405008.0000 - mae: 0.614 - ETA: 1s - loss: 4298201.0000 - mae: 0.606 - 6s 6ms/sample - loss: 4218473.7360 - mae: 0.6083\n",
      "Epoch 16/50\n",
      "1000/1000 [==============================] - ETA: 5s - loss: 4261552.5000 - mae: 0.603 - ETA: 3s - loss: 4228240.7500 - mae: 0.598 - ETA: 1s - loss: 4255866.5000 - mae: 0.600 - 7s 7ms/sample - loss: 4165116.8000 - mae: 0.5986\n",
      "Epoch 17/50\n",
      "1000/1000 [==============================] - ETA: 5s - loss: 4160599.7500 - mae: 0.587 - ETA: 3s - loss: 4255002.8750 - mae: 0.595 - ETA: 1s - loss: 4187478.4167 - mae: 0.589 - 7s 7ms/sample - loss: 4116035.1380 - mae: 0.5904\n",
      "Epoch 18/50\n",
      "1000/1000 [==============================] - ETA: 5s - loss: 4158029.2500 - mae: 0.586 - ETA: 3s - loss: 4214873.3750 - mae: 0.589 - ETA: 1s - loss: 4141156.6667 - mae: 0.581 - 7s 7ms/sample - loss: 4046181.2220 - mae: 0.5808\n",
      "Epoch 19/50\n",
      "1000/1000 [==============================] - ETA: 5s - loss: 4181937.7500 - mae: 0.584 - ETA: 3s - loss: 4241271.6250 - mae: 0.586 - ETA: 1s - loss: 4174892.8333 - mae: 0.580 - 7s 7ms/sample - loss: 3990183.7520 - mae: 0.5731\n",
      "Epoch 20/50\n",
      "1000/1000 [==============================] - ETA: 5s - loss: 4006270.7500 - mae: 0.567 - ETA: 3s - loss: 3976038.0000 - mae: 0.563 - ETA: 1s - loss: 3978873.4167 - mae: 0.563 - 7s 7ms/sample - loss: 3895850.8440 - mae: 0.5629\n",
      "Epoch 21/50\n",
      "1000/1000 [==============================] - ETA: 4s - loss: 4083641.7500 - mae: 0.570 - ETA: 3s - loss: 4060064.7500 - mae: 0.566 - ETA: 1s - loss: 4058341.5000 - mae: 0.566 - 6s 6ms/sample - loss: 3859276.5680 - mae: 0.5548\n",
      "Epoch 22/50\n",
      "1000/1000 [==============================] - ETA: 4s - loss: 3818492.0000 - mae: 0.540 - ETA: 2s - loss: 3837045.1250 - mae: 0.541 - ETA: 1s - loss: 3888747.9167 - mae: 0.546 - 6s 6ms/sample - loss: 3793284.0540 - mae: 0.5463\n",
      "Epoch 23/50\n",
      "1000/1000 [==============================] - ETA: 4s - loss: 3743964.5000 - mae: 0.533 - ETA: 2s - loss: 3837542.6250 - mae: 0.539 - ETA: 1s - loss: 3902942.9167 - mae: 0.545 - 6s 6ms/sample - loss: 3754666.9220 - mae: 0.5382\n",
      "Epoch 24/50\n",
      "1000/1000 [==============================] - ETA: 4s - loss: 3470075.0000 - mae: 0.504 - ETA: 2s - loss: 3747039.2500 - mae: 0.531 - ETA: 1s - loss: 3771539.5000 - mae: 0.534 - 6s 6ms/sample - loss: 3734492.5800 - mae: 0.5371\n",
      "Epoch 25/50\n",
      "1000/1000 [==============================] - ETA: 4s - loss: 3839829.5000 - mae: 0.530 - ETA: 2s - loss: 3765634.5000 - mae: 0.529 - ETA: 1s - loss: 3843726.5833 - mae: 0.539 - 6s 6ms/sample - loss: 3774960.7200 - mae: 0.5426\n",
      "Epoch 26/50\n",
      "1000/1000 [==============================] - ETA: 4s - loss: 4063314.0000 - mae: 0.560 - ETA: 2s - loss: 3985648.8750 - mae: 0.554 - ETA: 1s - loss: 3875700.8333 - mae: 0.545 - 6s 6ms/sample - loss: 3708290.2520 - mae: 0.5368\n",
      "Epoch 27/50\n",
      "1000/1000 [==============================] - ETA: 4s - loss: 3787032.7500 - mae: 0.538 - ETA: 2s - loss: 3741349.2500 - mae: 0.532 - ETA: 1s - loss: 3747226.3333 - mae: 0.535 - 6s 6ms/sample - loss: 3623126.3820 - mae: 0.5304\n",
      "Epoch 28/50\n",
      "1000/1000 [==============================] - ETA: 4s - loss: 3797994.7500 - mae: 0.536 - ETA: 2s - loss: 3603988.5000 - mae: 0.519 - ETA: 1s - loss: 3660206.0833 - mae: 0.524 - 6s 6ms/sample - loss: 3564986.8260 - mae: 0.5240\n",
      "Epoch 29/50\n",
      "1000/1000 [==============================] - ETA: 4s - loss: 3607999.2500 - mae: 0.524 - ETA: 3s - loss: 3528272.7500 - mae: 0.517 - ETA: 1s - loss: 3493978.4167 - mae: 0.515 - 6s 6ms/sample - loss: 3509000.4940 - mae: 0.5241\n",
      "Epoch 30/50\n",
      "1000/1000 [==============================] - ETA: 4s - loss: 3395743.5000 - mae: 0.501 - ETA: 3s - loss: 3560615.2500 - mae: 0.516 - ETA: 1s - loss: 3581277.5833 - mae: 0.518 - 7s 7ms/sample - loss: 3538012.7540 - mae: 0.5198\n",
      "Epoch 31/50\n",
      "1000/1000 [==============================] - ETA: 4s - loss: 3813138.5000 - mae: 0.543 - ETA: 3s - loss: 3769820.0000 - mae: 0.537 - ETA: 1s - loss: 3550474.0000 - mae: 0.518 - 7s 7ms/sample - loss: 3444173.2820 - mae: 0.5148\n",
      "Epoch 32/50\n",
      "1000/1000 [==============================] - ETA: 4s - loss: 3567594.5000 - mae: 0.519 - ETA: 3s - loss: 3644082.7500 - mae: 0.525 - ETA: 1s - loss: 3565244.8333 - mae: 0.518 - 7s 7ms/sample - loss: 3416233.0700 - mae: 0.5115\n",
      "Epoch 33/50\n",
      "1000/1000 [==============================] - ETA: 4s - loss: 3631265.2500 - mae: 0.528 - ETA: 3s - loss: 3510122.3750 - mae: 0.516 - ETA: 1s - loss: 3496798.8333 - mae: 0.515 - 7s 7ms/sample - loss: 3382391.4360 - mae: 0.5096\n",
      "Epoch 34/50\n",
      "1000/1000 [==============================] - ETA: 5s - loss: 3455581.2500 - mae: 0.506 - ETA: 3s - loss: 3250484.1250 - mae: 0.490 - ETA: 1s - loss: 3324318.6667 - mae: 0.498 - 7s 7ms/sample - loss: 3303089.5260 - mae: 0.5035\n",
      "Epoch 35/50\n"
     ]
    },
    {
     "name": "stdout",
     "output_type": "stream",
     "text": [
      "1000/1000 [==============================] - ETA: 5s - loss: 3618299.0000 - mae: 0.523 - ETA: 3s - loss: 3470712.8750 - mae: 0.513 - ETA: 1s - loss: 3406798.6667 - mae: 0.509 - 7s 7ms/sample - loss: 3273738.6820 - mae: 0.5017\n",
      "Epoch 36/50\n",
      "1000/1000 [==============================] - ETA: 5s - loss: 3160548.2500 - mae: 0.481 - ETA: 3s - loss: 3306492.5000 - mae: 0.495 - ETA: 1s - loss: 3289120.6667 - mae: 0.494 - 7s 7ms/sample - loss: 3220240.5240 - mae: 0.4944\n",
      "Epoch 37/50\n",
      "1000/1000 [==============================] - ETA: 5s - loss: 3327928.7500 - mae: 0.505 - ETA: 3s - loss: 3261031.3750 - mae: 0.495 - ETA: 1s - loss: 3195724.2500 - mae: 0.489 - 7s 7ms/sample - loss: 3170130.5320 - mae: 0.4922\n",
      "Epoch 38/50\n",
      "1000/1000 [==============================] - ETA: 5s - loss: 3213292.5000 - mae: 0.488 - ETA: 3s - loss: 3260565.8750 - mae: 0.492 - ETA: 1s - loss: 3231561.4167 - mae: 0.489 - 7s 7ms/sample - loss: 3163442.3500 - mae: 0.4898\n",
      "Epoch 39/50\n",
      "1000/1000 [==============================] - ETA: 5s - loss: 3323235.2500 - mae: 0.498 - ETA: 3s - loss: 3272720.6250 - mae: 0.495 - ETA: 1s - loss: 3211554.5000 - mae: 0.488 - 7s 7ms/sample - loss: 3153788.9360 - mae: 0.4887\n",
      "Epoch 40/50\n",
      "1000/1000 [==============================] - ETA: 4s - loss: 2887502.2500 - mae: 0.455 - ETA: 3s - loss: 3153190.2500 - mae: 0.477 - ETA: 1s - loss: 3067503.5833 - mae: 0.471 - 6s 6ms/sample - loss: 3060035.3680 - mae: 0.4794\n",
      "Epoch 41/50\n",
      "1000/1000 [==============================] - ETA: 5s - loss: 2908170.2500 - mae: 0.457 - ETA: 3s - loss: 3104575.1250 - mae: 0.474 - ETA: 1s - loss: 3147562.6667 - mae: 0.480 - 7s 7ms/sample - loss: 3062916.8480 - mae: 0.4798\n",
      "Epoch 42/50\n",
      "1000/1000 [==============================] - ETA: 5s - loss: 3105952.5000 - mae: 0.483 - ETA: 3s - loss: 2982671.8750 - mae: 0.468 - ETA: 1s - loss: 3031508.7500 - mae: 0.473 - 7s 7ms/sample - loss: 2957097.0700 - mae: 0.4731\n",
      "Epoch 43/50\n",
      "1000/1000 [==============================] - ETA: 4s - loss: 2979408.7500 - mae: 0.471 - ETA: 3s - loss: 3047301.2500 - mae: 0.478 - ETA: 1s - loss: 3041794.5833 - mae: 0.475 - 7s 7ms/sample - loss: 2935579.8600 - mae: 0.4706\n",
      "Epoch 44/50\n",
      "1000/1000 [==============================] - ETA: 4s - loss: 2961642.5000 - mae: 0.465 - ETA: 3s - loss: 2898510.6250 - mae: 0.459 - ETA: 1s - loss: 2882933.6667 - mae: 0.458 - 6s 6ms/sample - loss: 2843525.9340 - mae: 0.4614\n",
      "Epoch 45/50\n",
      "1000/1000 [==============================] - ETA: 4s - loss: 3087610.5000 - mae: 0.473 - ETA: 2s - loss: 2998505.1250 - mae: 0.470 - ETA: 1s - loss: 2863769.1667 - mae: 0.457 - 6s 6ms/sample - loss: 2840905.2960 - mae: 0.4626\n",
      "Epoch 46/50\n",
      "1000/1000 [==============================] - ETA: 4s - loss: 2913103.0000 - mae: 0.457 - ETA: 2s - loss: 2875901.8750 - mae: 0.454 - ETA: 1s - loss: 2828666.7500 - mae: 0.451 - 6s 6ms/sample - loss: 2773174.0320 - mae: 0.4534\n",
      "Epoch 47/50\n",
      "1000/1000 [==============================] - ETA: 4s - loss: 2724279.2500 - mae: 0.437 - ETA: 2s - loss: 2773233.5000 - mae: 0.444 - ETA: 1s - loss: 2781144.8333 - mae: 0.447 - 6s 6ms/sample - loss: 2724541.5700 - mae: 0.4480\n",
      "Epoch 48/50\n",
      "1000/1000 [==============================] - ETA: 4s - loss: 2665304.0000 - mae: 0.443 - ETA: 2s - loss: 2661629.6250 - mae: 0.442 - ETA: 1s - loss: 2706606.3333 - mae: 0.443 - 6s 6ms/sample - loss: 2653982.3340 - mae: 0.4432\n",
      "Epoch 49/50\n",
      "1000/1000 [==============================] - ETA: 4s - loss: 2645186.7500 - mae: 0.432 - ETA: 2s - loss: 2590447.3750 - mae: 0.429 - ETA: 1s - loss: 2639349.6667 - mae: 0.435 - 6s 6ms/sample - loss: 2605160.3100 - mae: 0.4381\n",
      "Epoch 50/50\n",
      "1000/1000 [==============================] - ETA: 4s - loss: 2556084.0000 - mae: 0.426 - ETA: 2s - loss: 2560615.5000 - mae: 0.426 - ETA: 1s - loss: 2566643.6667 - mae: 0.425 - 6s 6ms/sample - loss: 2554322.1080 - mae: 0.4312\n"
     ]
    }
   ],
   "source": [
    "#tf.config.experimental_run_functions_eagerly(False)\n",
    "ptrain = pttest[np.random.choice(pttest.shape[0], 1000, replace=False), :, :]\n",
    "ihistory = ivae.fit(ptrain, ptrain, epochs=50, batch_size=batch_size, verbose=1)"
   ]
  },
  {
   "cell_type": "code",
   "execution_count": 73,
   "metadata": {},
   "outputs": [
    {
     "data": {
      "image/png": "[encoded data removed]",
      "text/plain": [
       "<Figure size 576x396 with 1 Axes>"
      ]
     },
     "metadata": {},
     "output_type": "display_data"
    }
   ],
   "source": [
    "#plt.plot(history.history['mae'], label='Huber + MMD mae')\n",
    "plt.plot(history.history['mae'], label='Huber + KL mae')\n",
    "plt.plot(ihistory.history['mae'], label='Huber + MMD mae')\n",
    "\n",
    "plt.legend()\n",
    "plt.show()"
   ]
  },
  {
   "cell_type": "code",
   "execution_count": 74,
   "metadata": {},
   "outputs": [
    {
     "data": {
      "image/png": "[encoded data removed]",
      "text/plain": [
       "<Figure size 576x396 with 1 Axes>"
      ]
     },
     "metadata": {},
     "output_type": "display_data"
    }
   ],
   "source": [
    "#Huber loss + MMD/ELBO in training data\n",
    "plt.plot(pttest[:1500,0,0], label='data')\n",
    "plt.plot(vae.predict(pttest[:1500])[:,0,0], label='ELBO reconstruction')\n",
    "plt.plot(ivae.predict(pttest[:1500])[:,0,0], label='MMD reconstruction')\n",
    "\n",
    "plt.legend()\n",
    "plt.show()"
   ]
  },
  {
   "cell_type": "code",
   "execution_count": null,
   "metadata": {},
   "outputs": [],
   "source": []
  }
 ],
 "metadata": {
  "kernelspec": {
   "display_name": "Python 3",
   "language": "python",
   "name": "python3"
  },
  "language_info": {
   "codemirror_mode": {
    "name": "ipython",
    "version": 3
   },
   "file_extension": ".py",
   "mimetype": "text/x-python",
   "name": "python",
   "nbconvert_exporter": "python",
   "pygments_lexer": "ipython3",
   "version": "3.6.10"
  }
 },
 "nbformat": 4,
 "nbformat_minor": 4
}
