{
 "cells": [
  {
   "cell_type": "code",
   "execution_count": 1,
   "metadata": {},
   "outputs": [],
   "source": [
    "%load_ext autoreload\n",
    "%autoreload 2\n",
    "\n",
    "import warnings\n",
    "warnings.filterwarnings(\"ignore\")"
   ]
  },
  {
   "cell_type": "code",
   "execution_count": 2,
   "metadata": {},
   "outputs": [],
   "source": [
    "#from source.utils import *\n",
    "from source.classes import *\n",
    "import pickle\n",
    "import matplotlib.pyplot as plt\n",
    "import pandas as pd\n",
    "from collections import defaultdict\n",
    "from tqdm import tqdm_notebook as tqdm"
   ]
  },
  {
   "cell_type": "markdown",
   "metadata": {},
   "source": [
    "# Set up and design the project"
   ]
  },
  {
   "cell_type": "code",
   "execution_count": 3,
   "metadata": {},
   "outputs": [],
   "source": [
    "with open('../../Desktop/DLC_social_1/DLC_social_1_exp_conditions.pickle', 'rb') as handle:\n",
    "    Treatment_dict = pickle.load(handle)"
   ]
  },
  {
   "cell_type": "code",
   "execution_count": 4,
   "metadata": {},
   "outputs": [],
   "source": [
    "#Which angles to compute?\n",
    "bp_dict = {'B_Nose':['B_Left_ear','B_Right_ear'],\n",
    "          'B_Left_ear':['B_Nose','B_Right_ear','B_Center','B_Left_flank'],\n",
    "          'B_Right_ear':['B_Nose','B_Left_ear','B_Center','B_Right_flank'],\n",
    "          'B_Center':['B_Left_ear','B_Right_ear','B_Left_flank','B_Right_flank','B_Tail_base'],\n",
    "          'B_Left_flank':['B_Left_ear','B_Center','B_Tail_base'],\n",
    "          'B_Right_flank':['B_Right_ear','B_Center','B_Tail_base'],\n",
    "          'B_Tail_base':['B_Center','B_Left_flank','B_Right_flank']}"
   ]
  },
  {
   "cell_type": "code",
   "execution_count": 5,
   "metadata": {},
   "outputs": [
    {
     "name": "stdout",
     "output_type": "stream",
     "text": [
      "CPU times: user 2.76 s, sys: 828 ms, total: 3.58 s\n",
      "Wall time: 1.23 s\n"
     ]
    }
   ],
   "source": [
    "%%time\n",
    "DLC_social_1 = project(path='../../Desktop/DLC_social_1/',#Path where to find the required files\n",
    "                   smooth_alpha=0.85,                    #Alpha value for exponentially weighted smoothing\n",
    "                   distances=['B_Center','B_Nose','B_Left_ear','B_Right_ear','B_Left_flank',\n",
    "                              'B_Right_flank','B_Tail_base'],\n",
    "                   ego=False,\n",
    "                   angles=True,\n",
    "                   connectivity=bp_dict,\n",
    "                   arena='circular',                  #Type of arena used in the experiments\n",
    "                   arena_dims=[380],                  #Dimensions of the arena. Just one if it's circular\n",
    "                   video_format='.mp4',\n",
    "                   table_format='.h5',\n",
    "                   exp_conditions=Treatment_dict)"
   ]
  },
  {
   "cell_type": "markdown",
   "metadata": {},
   "source": [
    "# Run project"
   ]
  },
  {
   "cell_type": "code",
   "execution_count": 6,
   "metadata": {},
   "outputs": [
    {
     "name": "stdout",
     "output_type": "stream",
     "text": [
      "Loading trajectories...\n",
      "Smoothing trajectories...\n",
      "Computing distances...\n",
      "Computing angles...\n",
      "Done!\n",
      "Coordinates of 47 videos across 4 conditions\n",
      "CPU times: user 10.3 s, sys: 684 ms, total: 11 s\n",
      "Wall time: 11.3 s\n"
     ]
    },
    {
     "data": {
      "text/plain": [
       "source.classes.coordinates"
      ]
     },
     "execution_count": 6,
     "metadata": {},
     "output_type": "execute_result"
    }
   ],
   "source": [
    "%%time\n",
    "DLC_social_1_coords = DLC_social_1.run(verbose=True)\n",
    "print(DLC_social_1_coords)\n",
    "type(DLC_social_1_coords)"
   ]
  },
  {
   "cell_type": "markdown",
   "metadata": {},
   "source": [
    "# Generate coords"
   ]
  },
  {
   "cell_type": "code",
   "execution_count": 7,
   "metadata": {
    "scrolled": true
   },
   "outputs": [
    {
     "name": "stdout",
     "output_type": "stream",
     "text": [
      "CPU times: user 932 ms, sys: 73.1 ms, total: 1.01 s\n",
      "Wall time: 931 ms\n"
     ]
    },
    {
     "data": {
      "text/plain": [
       "'coords'"
      ]
     },
     "execution_count": 7,
     "metadata": {},
     "output_type": "execute_result"
    }
   ],
   "source": [
    "%%time\n",
    "ptest = DLC_social_1_coords.get_coords(center=True, polar=False, speed=0, length='00:10:00')\n",
    "ptest._type"
   ]
  },
  {
   "cell_type": "code",
   "execution_count": 8,
   "metadata": {},
   "outputs": [
    {
     "name": "stdout",
     "output_type": "stream",
     "text": [
      "CPU times: user 557 ms, sys: 397 ms, total: 953 ms\n",
      "Wall time: 954 ms\n"
     ]
    },
    {
     "data": {
      "text/plain": [
       "'dists'"
      ]
     },
     "execution_count": 8,
     "metadata": {},
     "output_type": "execute_result"
    }
   ],
   "source": [
    "%%time\n",
    "dtest = DLC_social_1_coords.get_distances(speed=0, length='00:10:00')\n",
    "dtest._type"
   ]
  },
  {
   "cell_type": "code",
   "execution_count": 9,
   "metadata": {},
   "outputs": [
    {
     "name": "stdout",
     "output_type": "stream",
     "text": [
      "CPU times: user 138 ms, sys: 83.8 ms, total: 222 ms\n",
      "Wall time: 222 ms\n"
     ]
    },
    {
     "data": {
      "text/plain": [
       "'angles'"
      ]
     },
     "execution_count": 9,
     "metadata": {},
     "output_type": "execute_result"
    }
   ],
   "source": [
    "%%time\n",
    "atest = DLC_social_1_coords.get_angles(degrees=True, speed=0, length='00:10:00')\n",
    "atest._type"
   ]
  },
  {
   "cell_type": "markdown",
   "metadata": {},
   "source": [
    "# Visualization playground"
   ]
  },
  {
   "cell_type": "code",
   "execution_count": null,
   "metadata": {},
   "outputs": [],
   "source": [
    "ptest.plot_heatmaps(['B_Center', 'W_Center'], i=1)"
   ]
  },
  {
   "cell_type": "code",
   "execution_count": null,
   "metadata": {},
   "outputs": [],
   "source": [
    "#Plot animation of trajectory over time with different smoothings\n",
    "plt.plot(ptest['Day2Test13DLC']['B_Center'].iloc[:5000]['x'],\n",
    "         ptest['Day2Test13DLC']['B_Center'].iloc[:5000]['y'], label='alpha=0.85')\n",
    "\n",
    "plt.xlabel('x')\n",
    "plt.ylabel('y')\n",
    "plt.title('Mouse Center Trajectory using different exponential smoothings')\n",
    "plt.legend()\n",
    "plt.show()"
   ]
  },
  {
   "cell_type": "markdown",
   "metadata": {},
   "source": [
    "# Dimensionality reduction playground"
   ]
  },
  {
   "cell_type": "code",
   "execution_count": null,
   "metadata": {},
   "outputs": [],
   "source": [
    "pca = ptest.pca(4, 1000)"
   ]
  },
  {
   "cell_type": "code",
   "execution_count": null,
   "metadata": {},
   "outputs": [],
   "source": [
    "plt.scatter(*pca[0].T)\n",
    "plt.show()"
   ]
  },
  {
   "cell_type": "markdown",
   "metadata": {},
   "source": [
    "# Preprocessing playground"
   ]
  },
  {
   "cell_type": "code",
   "execution_count": 10,
   "metadata": {},
   "outputs": [],
   "source": [
    "mtest = merge_tables(DLC_social_1_coords.get_coords(center=True, polar=True, length='00:10:00'))#,\n",
    "#                      DLC_social_1_coords.get_distances(speed=0, length='00:10:00'),\n",
    "#                      DLC_social_1_coords.get_angles(degrees=True, speed=0, length='00:10:00'))"
   ]
  },
  {
   "cell_type": "code",
   "execution_count": 11,
   "metadata": {},
   "outputs": [],
   "source": [
    "#pptest = mtest.preprocess(window_size=51, filter='gaussian', sigma=10, shift=20)"
   ]
  },
  {
   "cell_type": "code",
   "execution_count": 12,
   "metadata": {},
   "outputs": [
    {
     "data": {
      "text/plain": [
       "(704997, 51, 28)"
      ]
     },
     "execution_count": 12,
     "metadata": {},
     "output_type": "execute_result"
    }
   ],
   "source": [
    "pttest = mtest.preprocess(window_size=51, filter=None)\n",
    "pttest.shape"
   ]
  },
  {
   "cell_type": "code",
   "execution_count": 13,
   "metadata": {},
   "outputs": [
    {
     "ename": "NameError",
     "evalue": "name 'pptest' is not defined",
     "output_type": "error",
     "traceback": [
      "\u001b[0;31m---------------------------------------------------------------------------\u001b[0m",
      "\u001b[0;31mNameError\u001b[0m                                 Traceback (most recent call last)",
      "\u001b[0;32m<ipython-input-13-695c5b6cd604>\u001b[0m in \u001b[0;36m<module>\u001b[0;34m\u001b[0m\n\u001b[1;32m      1\u001b[0m \u001b[0mplt\u001b[0m\u001b[0;34m.\u001b[0m\u001b[0mplot\u001b[0m\u001b[0;34m(\u001b[0m\u001b[0mpttest\u001b[0m\u001b[0;34m[\u001b[0m\u001b[0;36m2\u001b[0m\u001b[0;34m,\u001b[0m\u001b[0;34m:\u001b[0m\u001b[0;34m,\u001b[0m\u001b[0;36m2\u001b[0m\u001b[0;34m]\u001b[0m\u001b[0;34m,\u001b[0m \u001b[0mlabel\u001b[0m\u001b[0;34m=\u001b[0m\u001b[0;34m'normal'\u001b[0m\u001b[0;34m)\u001b[0m\u001b[0;34m\u001b[0m\u001b[0;34m\u001b[0m\u001b[0m\n\u001b[0;32m----> 2\u001b[0;31m \u001b[0mplt\u001b[0m\u001b[0;34m.\u001b[0m\u001b[0mplot\u001b[0m\u001b[0;34m(\u001b[0m\u001b[0mpptest\u001b[0m\u001b[0;34m[\u001b[0m\u001b[0;36m2\u001b[0m\u001b[0;34m,\u001b[0m\u001b[0;34m:\u001b[0m\u001b[0;34m,\u001b[0m\u001b[0;36m2\u001b[0m\u001b[0;34m]\u001b[0m\u001b[0;34m,\u001b[0m \u001b[0mlabel\u001b[0m\u001b[0;34m=\u001b[0m\u001b[0;34m'gaussian'\u001b[0m\u001b[0;34m)\u001b[0m\u001b[0;34m\u001b[0m\u001b[0;34m\u001b[0m\u001b[0m\n\u001b[0m\u001b[1;32m      3\u001b[0m \u001b[0mplt\u001b[0m\u001b[0;34m.\u001b[0m\u001b[0mlegend\u001b[0m\u001b[0;34m(\u001b[0m\u001b[0;34m)\u001b[0m\u001b[0;34m\u001b[0m\u001b[0;34m\u001b[0m\u001b[0m\n\u001b[1;32m      4\u001b[0m \u001b[0mplt\u001b[0m\u001b[0;34m.\u001b[0m\u001b[0mshow\u001b[0m\u001b[0;34m(\u001b[0m\u001b[0;34m)\u001b[0m\u001b[0;34m\u001b[0m\u001b[0;34m\u001b[0m\u001b[0m\n",
      "\u001b[0;31mNameError\u001b[0m: name 'pptest' is not defined"
     ]
    },
    {
     "data": {
      "image/png": "[encoded data removed]",
      "text/plain": [
       "<Figure size 576x396 with 1 Axes>"
      ]
     },
     "metadata": {},
     "output_type": "display_data"
    }
   ],
   "source": [
    "plt.plot(pttest[2,:,2], label='normal')\n",
    "plt.plot(pptest[2,:,2], label='gaussian')\n",
    "plt.legend()\n",
    "plt.show()"
   ]
  },
  {
   "cell_type": "markdown",
   "metadata": {},
   "source": [
    "# Trained models playground"
   ]
  },
  {
   "cell_type": "markdown",
   "metadata": {},
   "source": [
    "### Seq 2 seq Variational Auto Encoder"
   ]
  },
  {
   "cell_type": "code",
   "execution_count": 76,
   "metadata": {},
   "outputs": [],
   "source": [
    "pttest = pttest[:1000]"
   ]
  },
  {
   "cell_type": "code",
   "execution_count": 77,
   "metadata": {},
   "outputs": [],
   "source": [
    "CONV_filters = 64\n",
    "LSTM_units_1 = 128\n",
    "LSTM_units_2 = 64\n",
    "DENSE_1 = 64\n",
    "DENSE_2 = 32\n",
    "ENCODING = 20\n",
    "DROPOUT_RATE = 0.2\n",
    "\n",
    "original_dim = pttest.shape[1:]\n",
    "batch_size = 256"
   ]
  },
  {
   "cell_type": "code",
   "execution_count": 78,
   "metadata": {},
   "outputs": [],
   "source": [
    "from source.hypermodels import *\n",
    "import tensorflow as tf\n",
    "from tensorflow.keras import Input, Model\n",
    "from tensorflow.keras.layers import Dense, Lambda, Bidirectional, LSTM\n",
    "from tensorflow.keras import backend as K\n",
    "\n",
    "# Encoder Layers\n",
    "Model_E0 = tf.keras.layers.Conv1D(\n",
    "    filters=CONV_filters,\n",
    "    kernel_size=5,\n",
    "    strides=1,\n",
    "    padding=\"causal\",\n",
    "    activation=\"relu\",\n",
    ")\n",
    "Model_E1 = Bidirectional(\n",
    "    LSTM(\n",
    "        LSTM_units_1,\n",
    "        activation=\"tanh\",\n",
    "        return_sequences=True,\n",
    "        kernel_constraint=UnitNorm(axis=0),\n",
    "    )\n",
    ")\n",
    "Model_E2 = Bidirectional(\n",
    "    LSTM(\n",
    "        LSTM_units_2,\n",
    "        activation=\"tanh\",\n",
    "        return_sequences=False,\n",
    "        kernel_constraint=UnitNorm(axis=0),\n",
    "    )\n",
    ")\n",
    "Model_E3 = Dense(DENSE_1, activation=\"relu\", kernel_constraint=UnitNorm(axis=0))\n",
    "Model_E4 = Dense(DENSE_2, activation=\"relu\", kernel_constraint=UnitNorm(axis=0))\n",
    "Model_E5 = Dense(\n",
    "            ENCODING,\n",
    "            activation=\"relu\",\n",
    "            kernel_constraint=UnitNorm(axis=1),\n",
    "            activity_regularizer=UncorrelatedFeaturesConstraint(3, weightage=1.0),\n",
    "        )\n",
    "\n",
    "# Decoder layers\n",
    "Model_D4 = Bidirectional(\n",
    "    LSTM(\n",
    "        LSTM_units_1,\n",
    "        activation=\"tanh\",\n",
    "        return_sequences=True,\n",
    "        kernel_constraint=UnitNorm(axis=1),\n",
    "    )\n",
    ")\n",
    "Model_D5 = Bidirectional(\n",
    "    LSTM(\n",
    "        LSTM_units_1,\n",
    "        activation=\"sigmoid\",\n",
    "        return_sequences=True,\n",
    "        kernel_constraint=UnitNorm(axis=1),\n",
    "    )\n",
    ")\n",
    "\n",
    "# Define and instanciate encoder\n",
    "x = Input(shape=original_dim)\n",
    "encoder = Model_E0(x)\n",
    "encoder = Model_E1(encoder)\n",
    "encoder = Model_E2(encoder)\n",
    "encoder = Model_E3(encoder)\n",
    "encoder = Dropout(DROPOUT_RATE)(encoder)\n",
    "encoder = Model_E4(encoder)\n",
    "encoder = Model_E5(encoder)\n",
    "z_mean = Dense(ENCODING)(encoder)\n",
    "z_log_sigma = Dense(ENCODING)(encoder)"
   ]
  },
  {
   "cell_type": "code",
   "execution_count": 79,
   "metadata": {},
   "outputs": [],
   "source": [
    "def sampling(args, epsilon_std=1.):\n",
    "    z_mean, z_log_sigma = args\n",
    "    epsilon = K.random_normal(shape=K.shape(z_mean),\n",
    "                              mean=0., stddev=epsilon_std)\n",
    "    return z_mean + K.exp(z_log_sigma) * epsilon\n",
    "\n",
    "# note that \"output_shape\" isn't necessary with the TensorFlow backend\n",
    "# so you could write `Lambda(sampling)([z_mean, z_log_sigma])`\n",
    "z = Lambda(sampling)([z_mean, z_log_sigma])\n",
    "true_samples = K.random_normal(K.shape(z_mean), mean=0., stddev=1.)"
   ]
  },
  {
   "cell_type": "code",
   "execution_count": 80,
   "metadata": {},
   "outputs": [],
   "source": [
    "# Define and instanciate decoder\n",
    "decoder = DenseTranspose(Model_E5, activation=\"relu\", output_dim=ENCODING)(z)\n",
    "decoder = DenseTranspose(Model_E4, activation=\"relu\", output_dim=DENSE_2)(decoder)\n",
    "decoder = DenseTranspose(Model_E3, activation=\"relu\", output_dim=DENSE_1)(decoder)\n",
    "decoder = RepeatVector(pttest.shape[1])(decoder)\n",
    "decoder = Model_D4(decoder)\n",
    "decoder = Model_D5(decoder)\n",
    "x_decoded_mean = TimeDistributed(Dense(original_dim[1]))(decoder)"
   ]
  },
  {
   "cell_type": "code",
   "execution_count": 81,
   "metadata": {},
   "outputs": [],
   "source": [
    "# end-to-end autoencoder\n",
    "ivae = Model(x, x_decoded_mean)\n",
    "\n",
    "# encoder, from inputs to latent space\n",
    "encoder = Model(x, z_mean)\n",
    "\n",
    "# generator, from latent space to reconstructed inputs\n",
    "decoder_input = Input(shape=(ENCODING,))\n",
    "decoder = DenseTranspose(Model_E5, activation=\"relu\", output_dim=ENCODING)(decoder_input)\n",
    "decoder = DenseTranspose(Model_E4, activation=\"relu\", output_dim=DENSE_2)(decoder)\n",
    "decoder = DenseTranspose(Model_E3, activation=\"relu\", output_dim=DENSE_1)(decoder)\n",
    "decoder = RepeatVector(pttest.shape[1])(decoder)\n",
    "decoder = Model_D4(decoder)\n",
    "decoder = Model_D5(decoder)\n",
    "x_decoded_mean = TimeDistributed(Dense(original_dim[1]))(decoder)\n",
    "generator = Model(decoder_input, x_decoded_mean)"
   ]
  },
  {
   "cell_type": "code",
   "execution_count": 82,
   "metadata": {},
   "outputs": [
    {
     "name": "stdout",
     "output_type": "stream",
     "text": [
      "Model: \"model_3\"\n",
      "__________________________________________________________________________________________________\n",
      "Layer (type)                    Output Shape         Param #     Connected to                     \n",
      "==================================================================================================\n",
      "input_3 (InputLayer)            [(None, 51, 28)]     0                                            \n",
      "__________________________________________________________________________________________________\n",
      "conv1d_1 (Conv1D)               (None, 51, 64)       9024        input_3[0][0]                    \n",
      "__________________________________________________________________________________________________\n",
      "bidirectional_4 (Bidirectional) (None, 51, 256)      197632      conv1d_1[0][0]                   \n",
      "__________________________________________________________________________________________________\n",
      "bidirectional_5 (Bidirectional) (None, 128)          164352      bidirectional_4[0][0]            \n",
      "__________________________________________________________________________________________________\n",
      "dense_7 (Dense)                 (None, 64)           8256        bidirectional_5[0][0]            \n",
      "__________________________________________________________________________________________________\n",
      "dropout_1 (Dropout)             (None, 64)           0           dense_7[0][0]                    \n",
      "__________________________________________________________________________________________________\n",
      "dense_8 (Dense)                 (None, 32)           2080        dropout_1[0][0]                  \n",
      "__________________________________________________________________________________________________\n",
      "dense_9 (Dense)                 (None, 20)           660         dense_8[0][0]                    \n",
      "__________________________________________________________________________________________________\n",
      "dense_10 (Dense)                (None, 20)           420         dense_9[0][0]                    \n",
      "__________________________________________________________________________________________________\n",
      "dense_11 (Dense)                (None, 20)           420         dense_9[0][0]                    \n",
      "__________________________________________________________________________________________________\n",
      "lambda_5 (Lambda)               (None, 20)           0           dense_10[0][0]                   \n",
      "                                                                 dense_11[0][0]                   \n",
      "__________________________________________________________________________________________________\n",
      "dense_transpose_6 (DenseTranspo (None, 32)           692         lambda_5[0][0]                   \n",
      "__________________________________________________________________________________________________\n",
      "dense_transpose_7 (DenseTranspo (None, 64)           2144        dense_transpose_6[0][0]          \n",
      "__________________________________________________________________________________________________\n",
      "dense_transpose_8 (DenseTranspo (None, 128)          8384        dense_transpose_7[0][0]          \n",
      "__________________________________________________________________________________________________\n",
      "repeat_vector_2 (RepeatVector)  (None, 51, 128)      0           dense_transpose_8[0][0]          \n",
      "__________________________________________________________________________________________________\n",
      "bidirectional_6 (Bidirectional) (None, 51, 256)      263168      repeat_vector_2[0][0]            \n",
      "__________________________________________________________________________________________________\n",
      "bidirectional_7 (Bidirectional) (None, 51, 256)      394240      bidirectional_6[0][0]            \n",
      "__________________________________________________________________________________________________\n",
      "time_distributed_2 (TimeDistrib (None, 51, 28)       7196        bidirectional_7[0][0]            \n",
      "==================================================================================================\n",
      "Total params: 1,047,672\n",
      "Trainable params: 1,047,672\n",
      "Non-trainable params: 0\n",
      "__________________________________________________________________________________________________\n"
     ]
    }
   ],
   "source": [
    "vae.summary()"
   ]
  },
  {
   "cell_type": "code",
   "execution_count": 83,
   "metadata": {},
   "outputs": [
    {
     "name": "stdout",
     "output_type": "stream",
     "text": [
      "Failed to import pydot. You must install pydot and graphviz for `pydotprint` to work.\n"
     ]
    }
   ],
   "source": [
    "tf.keras.utils.plot_model(vae)"
   ]
  },
  {
   "cell_type": "code",
   "execution_count": 84,
   "metadata": {},
   "outputs": [],
   "source": [
    "def compute_kernel(x, y):\n",
    "    x_size = K.shape(x)[0]\n",
    "    y_size = K.shape(y)[0]\n",
    "    dim = K.shape(x)[1]\n",
    "    tiled_x = K.tile(K.reshape(x, K.stack([x_size, 1, dim])), K.stack([1, y_size, 1]))\n",
    "    tiled_y = K.tile(K.reshape(y, K.stack([1, y_size, dim])), K.stack([x_size, 1, 1]))\n",
    "    return K.exp(-tf.reduce_mean(K.square(tiled_x - tiled_y), axis=2) / K.cast(dim, tf.float32))\n",
    "\n",
    "def compute_mmd(x, y, sigma_sqr=1.0):\n",
    "    x_kernel = compute_kernel(x, x)\n",
    "    y_kernel = compute_kernel(y, y)\n",
    "    xy_kernel = compute_kernel(x, y)\n",
    "    return tf.reduce_mean(x_kernel) + tf.reduce_mean(y_kernel) - 2 * tf.reduce_mean(xy_kernel)"
   ]
  },
  {
   "cell_type": "code",
   "execution_count": 85,
   "metadata": {},
   "outputs": [],
   "source": [
    "from tensorflow.keras.losses import Huber\n",
    "\n",
    "def vae_loss(x, x_decoded_mean):\n",
    "    huber_loss = Huber(reduction=\"sum\", delta=100.0)\n",
    "    huber_loss = original_dim * huber_loss(x, x_decoded_mean)\n",
    "    kl_loss = - 0.5 * K.mean(1 + z_log_sigma - K.square(z_mean) - K.exp(z_log_sigma), axis=-1)\n",
    "    return K.mean(huber_loss + kl_loss[:, None])\n",
    "\n",
    "def vae_mmd_loss(x, x_decoded_mean):\n",
    "    huber_loss = Huber(reduction=\"sum\", delta=100.0)\n",
    "    huber_loss = original_dim * huber_loss(x, x_decoded_mean)\n",
    "    mmd_loss = compute_mmd(z, true_samples)\n",
    "    return K.mean(huber_loss + mmd_loss)\n",
    "\n",
    "ivae.compile(optimizer='adam', loss=vae_mmd_loss, experimental_run_tf_function=False, metrics=['mae'])"
   ]
  },
  {
   "cell_type": "code",
   "execution_count": 86,
   "metadata": {
    "scrolled": true
   },
   "outputs": [
    {
     "name": "stdout",
     "output_type": "stream",
     "text": [
      "Train on 1000 samples\n",
      "Epoch 1/50\n",
      "1000/1000 [==============================] - ETA: 11s - loss: 10551664.0000 - mae: 0.910 - ETA: 4s - loss: 9730189.0000 - mae: 0.8695  - ETA: 1s - loss: 9112467.6667 - mae: 0.836 - 8s 8ms/sample - loss: 8548739.9920 - mae: 0.8168\n",
      "Epoch 2/50\n",
      "1000/1000 [==============================] - ETA: 3s - loss: 5974769.0000 - mae: 0.692 - ETA: 2s - loss: 6130487.0000 - mae: 0.710 - ETA: 1s - loss: 6200693.3333 - mae: 0.723 - 5s 5ms/sample - loss: 6070884.8480 - mae: 0.7291\n",
      "Epoch 3/50\n",
      "1000/1000 [==============================] - ETA: 3s - loss: 5997750.0000 - mae: 0.734 - ETA: 2s - loss: 6034487.0000 - mae: 0.740 - ETA: 1s - loss: 6044603.0000 - mae: 0.740 - 5s 5ms/sample - loss: 5917452.8480 - mae: 0.7403\n",
      "Epoch 4/50\n",
      "1000/1000 [==============================] - ETA: 3s - loss: 5769962.5000 - mae: 0.715 - ETA: 2s - loss: 5958376.0000 - mae: 0.726 - ETA: 1s - loss: 5852602.5000 - mae: 0.718 - 4s 4ms/sample - loss: 5735810.8000 - mae: 0.7182\n",
      "Epoch 5/50\n",
      "1000/1000 [==============================] - ETA: 3s - loss: 5966707.0000 - mae: 0.721 - ETA: 2s - loss: 5918972.5000 - mae: 0.715 - ETA: 1s - loss: 5846684.6667 - mae: 0.711 - 5s 5ms/sample - loss: 5618511.0040 - mae: 0.7061\n",
      "Epoch 6/50\n",
      "1000/1000 [==============================] - ETA: 3s - loss: 5733892.0000 - mae: 0.709 - ETA: 2s - loss: 5557211.0000 - mae: 0.700 - ETA: 1s - loss: 5487578.3333 - mae: 0.696 - 4s 4ms/sample - loss: 5309952.2120 - mae: 0.6927\n",
      "Epoch 7/50\n",
      "1000/1000 [==============================] - ETA: 3s - loss: 5226421.5000 - mae: 0.684 - ETA: 2s - loss: 5155091.7500 - mae: 0.678 - ETA: 1s - loss: 5054590.1667 - mae: 0.671 - 5s 5ms/sample - loss: 4959197.0640 - mae: 0.6718\n",
      "Epoch 8/50\n",
      "1000/1000 [==============================] - ETA: 3s - loss: 4842765.0000 - mae: 0.653 - ETA: 2s - loss: 4747923.2500 - mae: 0.646 - ETA: 1s - loss: 4761850.5000 - mae: 0.646 - 5s 5ms/sample - loss: 4664704.5600 - mae: 0.6462\n",
      "Epoch 9/50\n",
      "1000/1000 [==============================] - ETA: 3s - loss: 4573750.0000 - mae: 0.631 - ETA: 2s - loss: 4486150.7500 - mae: 0.621 - ETA: 1s - loss: 4557438.1667 - mae: 0.626 - 5s 5ms/sample - loss: 4492793.8800 - mae: 0.6292\n",
      "Epoch 10/50\n",
      "1000/1000 [==============================] - ETA: 3s - loss: 4396120.5000 - mae: 0.615 - ETA: 2s - loss: 4444950.2500 - mae: 0.617 - ETA: 1s - loss: 4431751.8333 - mae: 0.618 - 5s 5ms/sample - loss: 4371543.0580 - mae: 0.6214\n",
      "Epoch 11/50\n",
      "1000/1000 [==============================] - ETA: 3s - loss: 4426440.5000 - mae: 0.615 - ETA: 2s - loss: 4546579.5000 - mae: 0.625 - ETA: 1s - loss: 4444537.6667 - mae: 0.619 - 5s 5ms/sample - loss: 4297769.9040 - mae: 0.6154\n",
      "Epoch 12/50\n",
      "1000/1000 [==============================] - ETA: 3s - loss: 4291882.0000 - mae: 0.608 - ETA: 2s - loss: 4177909.7500 - mae: 0.597 - ETA: 1s - loss: 4304964.0000 - mae: 0.605 - 6s 6ms/sample - loss: 4217246.5400 - mae: 0.6050\n",
      "Epoch 13/50\n",
      "1000/1000 [==============================] - ETA: 4s - loss: 4214775.0000 - mae: 0.589 - ETA: 3s - loss: 4418213.7500 - mae: 0.608 - ETA: 1s - loss: 4302203.6667 - mae: 0.599 - 7s 7ms/sample - loss: 4173810.5360 - mae: 0.5964\n",
      "Epoch 14/50\n",
      "1000/1000 [==============================] - ETA: 5s - loss: 4373451.0000 - mae: 0.605 - ETA: 3s - loss: 4289625.7500 - mae: 0.598 - ETA: 1s - loss: 4212688.5000 - mae: 0.591 - 8s 8ms/sample - loss: 4108035.1560 - mae: 0.5891\n",
      "Epoch 15/50\n",
      "1000/1000 [==============================] - ETA: 5s - loss: 4285054.0000 - mae: 0.591 - ETA: 3s - loss: 4082225.7500 - mae: 0.576 - ETA: 1s - loss: 4098671.0833 - mae: 0.578 - 8s 8ms/sample - loss: 4017256.8120 - mae: 0.5778\n",
      "Epoch 16/50\n",
      "1000/1000 [==============================] - ETA: 6s - loss: 3850522.5000 - mae: 0.553 - ETA: 3s - loss: 3987108.6250 - mae: 0.567 - ETA: 1s - loss: 3992750.9167 - mae: 0.566 - 8s 8ms/sample - loss: 3930992.5940 - mae: 0.5676\n",
      "Epoch 17/50\n",
      "1000/1000 [==============================] - ETA: 5s - loss: 3977527.5000 - mae: 0.561 - ETA: 3s - loss: 3907861.6250 - mae: 0.555 - ETA: 1s - loss: 3898158.5833 - mae: 0.555 - 8s 8ms/sample - loss: 3837646.9320 - mae: 0.5578\n",
      "Epoch 18/50\n",
      "1000/1000 [==============================] - ETA: 5s - loss: 3990621.0000 - mae: 0.558 - ETA: 3s - loss: 3957310.5000 - mae: 0.554 - ETA: 1s - loss: 3886327.5000 - mae: 0.549 - 7s 7ms/sample - loss: 3770919.7960 - mae: 0.5469\n",
      "Epoch 19/50\n",
      "1000/1000 [==============================] - ETA: 4s - loss: 3929148.0000 - mae: 0.551 - ETA: 3s - loss: 3898488.2500 - mae: 0.549 - ETA: 1s - loss: 3878809.3333 - mae: 0.548 - 6s 6ms/sample - loss: 3733476.4520 - mae: 0.5416\n",
      "Epoch 20/50\n",
      "1000/1000 [==============================] - ETA: 4s - loss: 3847585.0000 - mae: 0.534 - ETA: 2s - loss: 3771505.2500 - mae: 0.531 - ETA: 1s - loss: 3729364.3333 - mae: 0.529 - 6s 6ms/sample - loss: 3653758.1240 - mae: 0.5311\n",
      "Epoch 21/50\n",
      "1000/1000 [==============================] - ETA: 4s - loss: 3535572.2500 - mae: 0.511 - ETA: 2s - loss: 3653570.3750 - mae: 0.522 - ETA: 1s - loss: 3710695.3333 - mae: 0.531 - 6s 6ms/sample - loss: 3586730.7540 - mae: 0.5271\n",
      "Epoch 22/50\n",
      "1000/1000 [==============================] - ETA: 4s - loss: 3716129.0000 - mae: 0.534 - ETA: 2s - loss: 3719887.5000 - mae: 0.534 - ETA: 1s - loss: 3631516.6667 - mae: 0.524 - 6s 6ms/sample - loss: 3523475.2720 - mae: 0.5218\n",
      "Epoch 23/50\n",
      "1000/1000 [==============================] - ETA: 4s - loss: 3658162.0000 - mae: 0.534 - ETA: 2s - loss: 3502708.7500 - mae: 0.514 - ETA: 1s - loss: 3471341.2500 - mae: 0.509 - 6s 6ms/sample - loss: 3431439.7440 - mae: 0.5141\n",
      "Epoch 24/50\n",
      "1000/1000 [==============================] - ETA: 4s - loss: 3546426.0000 - mae: 0.516 - ETA: 2s - loss: 3460576.2500 - mae: 0.510 - ETA: 1s - loss: 3440926.5000 - mae: 0.507 - 6s 6ms/sample - loss: 3358040.6720 - mae: 0.5073\n",
      "Epoch 25/50\n",
      "1000/1000 [==============================] - ETA: 4s - loss: 3430921.5000 - mae: 0.504 - ETA: 2s - loss: 3401685.5000 - mae: 0.505 - ETA: 1s - loss: 3323839.2500 - mae: 0.499 - 6s 6ms/sample - loss: 3294784.3240 - mae: 0.5031\n",
      "Epoch 26/50\n",
      "1000/1000 [==============================] - ETA: 4s - loss: 3173674.5000 - mae: 0.485 - ETA: 2s - loss: 3299394.2500 - mae: 0.498 - ETA: 1s - loss: 3301768.6667 - mae: 0.497 - 6s 6ms/sample - loss: 3224765.7400 - mae: 0.4968\n",
      "Epoch 27/50\n",
      "1000/1000 [==============================] - ETA: 4s - loss: 3203749.0000 - mae: 0.487 - ETA: 3s - loss: 3222355.0000 - mae: 0.486 - ETA: 1s - loss: 3278817.6667 - mae: 0.492 - 6s 6ms/sample - loss: 3216572.3760 - mae: 0.4960\n",
      "Epoch 28/50\n",
      "1000/1000 [==============================] - ETA: 4s - loss: 3263871.5000 - mae: 0.497 - ETA: 2s - loss: 3396075.5000 - mae: 0.506 - ETA: 1s - loss: 3270715.6667 - mae: 0.494 - 6s 6ms/sample - loss: 3173880.6840 - mae: 0.4927\n",
      "Epoch 29/50\n",
      "1000/1000 [==============================] - ETA: 4s - loss: 3163081.0000 - mae: 0.487 - ETA: 2s - loss: 3164144.7500 - mae: 0.482 - ETA: 1s - loss: 3196862.8333 - mae: 0.485 - 6s 6ms/sample - loss: 3133509.2400 - mae: 0.4879\n",
      "Epoch 30/50\n",
      "1000/1000 [==============================] - ETA: 4s - loss: 3235974.7500 - mae: 0.485 - ETA: 3s - loss: 3210498.1250 - mae: 0.487 - ETA: 1s - loss: 3210813.0000 - mae: 0.488 - 6s 6ms/sample - loss: 3111531.7320 - mae: 0.4865\n",
      "Epoch 31/50\n",
      "1000/1000 [==============================] - ETA: 4s - loss: 3136983.0000 - mae: 0.486 - ETA: 3s - loss: 3151130.8750 - mae: 0.484 - ETA: 1s - loss: 3153292.0833 - mae: 0.483 - 6s 6ms/sample - loss: 3096524.2160 - mae: 0.4851\n",
      "Epoch 32/50\n",
      "1000/1000 [==============================] - ETA: 4s - loss: 3139129.2500 - mae: 0.484 - ETA: 3s - loss: 3109606.7500 - mae: 0.479 - ETA: 1s - loss: 3063493.0000 - mae: 0.475 - 6s 6ms/sample - loss: 2972810.9860 - mae: 0.4747\n",
      "Epoch 33/50\n",
      "1000/1000 [==============================] - ETA: 4s - loss: 2964209.7500 - mae: 0.460 - ETA: 2s - loss: 2903168.2500 - mae: 0.459 - ETA: 1s - loss: 2944855.5833 - mae: 0.465 - 6s 6ms/sample - loss: 2916939.8740 - mae: 0.4692\n",
      "Epoch 34/50\n",
      "1000/1000 [==============================] - ETA: 4s - loss: 2813568.7500 - mae: 0.452 - ETA: 2s - loss: 2991291.8750 - mae: 0.466 - ETA: 1s - loss: 2929401.1667 - mae: 0.463 - 6s 6ms/sample - loss: 2860293.0260 - mae: 0.4651\n",
      "Epoch 35/50\n"
     ]
    },
    {
     "name": "stdout",
     "output_type": "stream",
     "text": [
      "1000/1000 [==============================] - ETA: 4s - loss: 2947551.5000 - mae: 0.466 - ETA: 3s - loss: 2949753.0000 - mae: 0.462 - ETA: 1s - loss: 2919187.3333 - mae: 0.460 - 6s 6ms/sample - loss: 2849844.7180 - mae: 0.4599\n",
      "Epoch 36/50\n",
      "1000/1000 [==============================] - ETA: 4s - loss: 2877450.0000 - mae: 0.457 - ETA: 3s - loss: 2779896.1250 - mae: 0.446 - ETA: 1s - loss: 2807782.4167 - mae: 0.447 - 7s 7ms/sample - loss: 2780020.2140 - mae: 0.4525\n",
      "Epoch 37/50\n",
      "1000/1000 [==============================] - ETA: 4s - loss: 2833841.5000 - mae: 0.451 - ETA: 3s - loss: 2732582.2500 - mae: 0.443 - ETA: 1s - loss: 2751959.9167 - mae: 0.445 - 6s 6ms/sample - loss: 2679752.0820 - mae: 0.4452\n",
      "Epoch 38/50\n",
      "1000/1000 [==============================] - ETA: 4s - loss: 2920499.5000 - mae: 0.462 - ETA: 3s - loss: 2867326.3750 - mae: 0.455 - ETA: 1s - loss: 2784122.7500 - mae: 0.447 - 7s 7ms/sample - loss: 2702615.2340 - mae: 0.4459\n",
      "Epoch 39/50\n",
      "1000/1000 [==============================] - ETA: 4s - loss: 2820107.5000 - mae: 0.454 - ETA: 3s - loss: 2757914.0000 - mae: 0.447 - ETA: 1s - loss: 2713153.5000 - mae: 0.440 - 7s 7ms/sample - loss: 2650070.6700 - mae: 0.4410\n",
      "Epoch 40/50\n",
      "1000/1000 [==============================] - ETA: 4s - loss: 2666433.5000 - mae: 0.435 - ETA: 3s - loss: 2595723.5000 - mae: 0.430 - ETA: 1s - loss: 2589853.0000 - mae: 0.431 - 7s 7ms/sample - loss: 2556478.0600 - mae: 0.4325\n",
      "Epoch 41/50\n",
      "1000/1000 [==============================] - ETA: 4s - loss: 2526515.7500 - mae: 0.418 - ETA: 3s - loss: 2555953.3750 - mae: 0.422 - ETA: 1s - loss: 2606836.1667 - mae: 0.429 - 6s 6ms/sample - loss: 2516337.0460 - mae: 0.4284\n",
      "Epoch 42/50\n",
      "1000/1000 [==============================] - ETA: 4s - loss: 2529306.5000 - mae: 0.427 - ETA: 2s - loss: 2532847.3750 - mae: 0.424 - ETA: 1s - loss: 2616974.3333 - mae: 0.430 - 6s 6ms/sample - loss: 2604980.7260 - mae: 0.4343\n",
      "Epoch 43/50\n",
      "1000/1000 [==============================] - ETA: 4s - loss: 2616067.7500 - mae: 0.428 - ETA: 2s - loss: 2621972.6250 - mae: 0.429 - ETA: 1s - loss: 2675956.1667 - mae: 0.435 - 6s 6ms/sample - loss: 2580608.1300 - mae: 0.4321\n",
      "Epoch 44/50\n",
      "1000/1000 [==============================] - ETA: 4s - loss: 2605032.7500 - mae: 0.422 - ETA: 2s - loss: 2545100.1250 - mae: 0.418 - ETA: 1s - loss: 2484748.3333 - mae: 0.416 - 6s 6ms/sample - loss: 2480514.6620 - mae: 0.4229\n",
      "Epoch 45/50\n",
      "1000/1000 [==============================] - ETA: 4s - loss: 2300250.5000 - mae: 0.396 - ETA: 2s - loss: 2393296.7500 - mae: 0.406 - ETA: 1s - loss: 2454633.6667 - mae: 0.414 - 6s 6ms/sample - loss: 2409947.0060 - mae: 0.4153\n",
      "Epoch 46/50\n",
      "1000/1000 [==============================] - ETA: 4s - loss: 2433835.5000 - mae: 0.416 - ETA: 2s - loss: 2369560.0000 - mae: 0.408 - ETA: 1s - loss: 2390342.0000 - mae: 0.410 - 6s 6ms/sample - loss: 2369849.8460 - mae: 0.4133\n",
      "Epoch 47/50\n",
      "1000/1000 [==============================] - ETA: 4s - loss: 2365779.7500 - mae: 0.401 - ETA: 2s - loss: 2431403.6250 - mae: 0.409 - ETA: 1s - loss: 2436175.6667 - mae: 0.411 - 6s 6ms/sample - loss: 2353334.4020 - mae: 0.4095\n",
      "Epoch 48/50\n",
      "1000/1000 [==============================] - ETA: 4s - loss: 2549475.0000 - mae: 0.422 - ETA: 2s - loss: 2373514.5000 - mae: 0.405 - ETA: 1s - loss: 2307315.3333 - mae: 0.400 - 6s 6ms/sample - loss: 2250720.2770 - mae: 0.3990\n",
      "Epoch 49/50\n",
      "1000/1000 [==============================] - ETA: 4s - loss: 2325048.5000 - mae: 0.398 - ETA: 2s - loss: 2332296.0000 - mae: 0.400 - ETA: 1s - loss: 2331771.4167 - mae: 0.400 - 6s 6ms/sample - loss: 2247285.6200 - mae: 0.3965\n",
      "Epoch 50/50\n",
      "1000/1000 [==============================] - ETA: 4s - loss: 2228294.0000 - mae: 0.387 - ETA: 2s - loss: 2353761.5000 - mae: 0.400 - ETA: 1s - loss: 2273547.2500 - mae: 0.391 - 6s 6ms/sample - loss: 2236335.6100 - mae: 0.3921\n"
     ]
    }
   ],
   "source": [
    "#tf.config.experimental_run_functions_eagerly(False)\n",
    "ptrain = pttest[np.random.choice(pttest.shape[0], 1000, replace=False), :, :]\n",
    "ihistory = ivae.fit(ptrain, ptrain, epochs=50, batch_size=batch_size, verbose=1)"
   ]
  },
  {
   "cell_type": "code",
   "execution_count": 87,
   "metadata": {
    "scrolled": true
   },
   "outputs": [
    {
     "data": {
      "image/png": "[encoded data removed]",
      "text/plain": [
       "<Figure size 576x396 with 1 Axes>"
      ]
     },
     "metadata": {},
     "output_type": "display_data"
    }
   ],
   "source": [
    "#plt.plot(history.history['mae'], label='Huber + MMD mae')\n",
    "plt.plot(history.history['mae'], label='Huber + KL mae')\n",
    "plt.plot(ihistory.history['mae'], label='Huber + MMD mae')\n",
    "\n",
    "plt.legend()\n",
    "plt.show()"
   ]
  },
  {
   "cell_type": "code",
   "execution_count": 108,
   "metadata": {},
   "outputs": [
    {
     "data": {
      "image/png": "[encoded data removed]",
      "text/plain": [
       "<Figure size 576x396 with 1 Axes>"
      ]
     },
     "metadata": {},
     "output_type": "display_data"
    }
   ],
   "source": [
    "#Huber loss + MMD/ELBO in training data\n",
    "plt.plot(pttest[:1000,0,0], label='data')\n",
    "plt.plot(ivae.predict(pttest[:1000])[:,0,0], label='MMD reconstruction')\n",
    "\n",
    "plt.legend()\n",
    "plt.show()"
   ]
  },
  {
   "cell_type": "code",
   "execution_count": null,
   "metadata": {},
   "outputs": [],
   "source": []
  }
 ],
 "metadata": {
  "kernelspec": {
   "display_name": "Python 3",
   "language": "python",
   "name": "python3"
  },
  "language_info": {
   "codemirror_mode": {
    "name": "ipython",
    "version": 3
   },
   "file_extension": ".py",
   "mimetype": "text/x-python",
   "name": "python",
   "nbconvert_exporter": "python",
   "pygments_lexer": "ipython3",
   "version": "3.6.10"
  }
 },
 "nbformat": 4,
 "nbformat_minor": 4
}
