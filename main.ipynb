{
 "cells": [
  {
   "cell_type": "code",
   "execution_count": 255,
   "metadata": {},
   "outputs": [
    {
     "name": "stdout",
     "output_type": "stream",
     "text": [
      "The autoreload extension is already loaded. To reload it, use:\n",
      "  %reload_ext autoreload\n"
     ]
    }
   ],
   "source": [
    "%load_ext autoreload\n",
    "%autoreload 2\n",
    "\n",
    "import warnings\n",
    "warnings.filterwarnings(\"ignore\")"
   ]
  },
  {
   "cell_type": "code",
   "execution_count": 256,
   "metadata": {},
   "outputs": [],
   "source": [
    "#from source.utils import *\n",
    "from source.classes import *\n",
    "import pickle\n",
    "import matplotlib.pyplot as plt\n",
    "import pandas as pd\n",
    "from collections import defaultdict\n",
    "from tqdm import tqdm_notebook as tqdm"
   ]
  },
  {
   "cell_type": "markdown",
   "metadata": {},
   "source": [
    "# Set up and design the project"
   ]
  },
  {
   "cell_type": "code",
   "execution_count": 115,
   "metadata": {},
   "outputs": [],
   "source": [
    "with open('../../Desktop/DLC_social_1/DLC_social_1_exp_conditions.pickle', 'rb') as handle:\n",
    "    Treatment_dict = pickle.load(handle)"
   ]
  },
  {
   "cell_type": "code",
   "execution_count": 116,
   "metadata": {},
   "outputs": [],
   "source": [
    "#Which angles to compute?\n",
    "bp_dict = {'B_Nose':['B_Left_ear','B_Right_ear'],\n",
    "          'B_Left_ear':['B_Nose','B_Right_ear','B_Center','B_Left_flank'],\n",
    "          'B_Right_ear':['B_Nose','B_Left_ear','B_Center','B_Right_flank'],\n",
    "          'B_Center':['B_Left_ear','B_Right_ear','B_Left_flank','B_Right_flank','B_Tail_base'],\n",
    "          'B_Left_flank':['B_Left_ear','B_Center','B_Tail_base'],\n",
    "          'B_Right_flank':['B_Right_ear','B_Center','B_Tail_base'],\n",
    "          'B_Tail_base':['B_Center','B_Left_flank','B_Right_flank']}"
   ]
  },
  {
   "cell_type": "code",
   "execution_count": 117,
   "metadata": {},
   "outputs": [
    {
     "name": "stdout",
     "output_type": "stream",
     "text": [
      "CPU times: user 2.73 s, sys: 951 ms, total: 3.68 s\n",
      "Wall time: 1.32 s\n"
     ]
    }
   ],
   "source": [
    "%%time\n",
    "DLC_social_1 = project(path='../../Desktop/DLC_social_1/',#Path where to find the required files\n",
    "                   smooth_alpha=0.85,                    #Alpha value for exponentially weighted smoothing\n",
    "                   distances=['B_Center','B_Nose','B_Left_ear','B_Right_ear','B_Left_flank',\n",
    "                              'B_Right_flank','B_Tail_base'],\n",
    "                   ego=False,\n",
    "                   angles=True,\n",
    "                   connectivity=bp_dict,\n",
    "                   arena='circular',                  #Type of arena used in the experiments\n",
    "                   arena_dims=[380],                  #Dimensions of the arena. Just one if it's circular\n",
    "                   video_format='.mp4',\n",
    "                   table_format='.h5',\n",
    "                   exp_conditions=Treatment_dict)"
   ]
  },
  {
   "cell_type": "markdown",
   "metadata": {},
   "source": [
    "# Run project"
   ]
  },
  {
   "cell_type": "code",
   "execution_count": 118,
   "metadata": {},
   "outputs": [
    {
     "name": "stdout",
     "output_type": "stream",
     "text": [
      "Loading trajectories...\n",
      "Smoothing trajectories...\n",
      "Computing distances...\n",
      "Computing angles...\n",
      "Done!\n",
      "Coordinates of 47 videos across 4 conditions\n",
      "CPU times: user 9.72 s, sys: 717 ms, total: 10.4 s\n",
      "Wall time: 10.7 s\n"
     ]
    },
    {
     "data": {
      "text/plain": [
       "source.classes.coordinates"
      ]
     },
     "execution_count": 118,
     "metadata": {},
     "output_type": "execute_result"
    }
   ],
   "source": [
    "%%time\n",
    "DLC_social_1_coords = DLC_social_1.run(verbose=True)\n",
    "print(DLC_social_1_coords)\n",
    "type(DLC_social_1_coords)"
   ]
  },
  {
   "cell_type": "markdown",
   "metadata": {},
   "source": [
    "# Generate coords"
   ]
  },
  {
   "cell_type": "code",
   "execution_count": 119,
   "metadata": {
    "scrolled": true
   },
   "outputs": [
    {
     "name": "stdout",
     "output_type": "stream",
     "text": [
      "CPU times: user 812 ms, sys: 72.7 ms, total: 884 ms\n",
      "Wall time: 854 ms\n"
     ]
    },
    {
     "data": {
      "text/plain": [
       "'coords'"
      ]
     },
     "execution_count": 119,
     "metadata": {},
     "output_type": "execute_result"
    }
   ],
   "source": [
    "%%time\n",
    "ptest = DLC_social_1_coords.get_coords(center=True, polar=False, speed=0, length='00:10:00')\n",
    "ptest._type"
   ]
  },
  {
   "cell_type": "code",
   "execution_count": 120,
   "metadata": {},
   "outputs": [
    {
     "name": "stdout",
     "output_type": "stream",
     "text": [
      "CPU times: user 546 ms, sys: 391 ms, total: 936 ms\n",
      "Wall time: 938 ms\n"
     ]
    },
    {
     "data": {
      "text/plain": [
       "'dists'"
      ]
     },
     "execution_count": 120,
     "metadata": {},
     "output_type": "execute_result"
    }
   ],
   "source": [
    "%%time\n",
    "dtest = DLC_social_1_coords.get_distances(speed=0, length='00:10:00')\n",
    "dtest._type"
   ]
  },
  {
   "cell_type": "code",
   "execution_count": 121,
   "metadata": {},
   "outputs": [
    {
     "name": "stdout",
     "output_type": "stream",
     "text": [
      "CPU times: user 143 ms, sys: 93 ms, total: 236 ms\n",
      "Wall time: 264 ms\n"
     ]
    },
    {
     "data": {
      "text/plain": [
       "'angles'"
      ]
     },
     "execution_count": 121,
     "metadata": {},
     "output_type": "execute_result"
    }
   ],
   "source": [
    "%%time\n",
    "atest = DLC_social_1_coords.get_angles(degrees=True, speed=0, length='00:10:00')\n",
    "atest._type"
   ]
  },
  {
   "cell_type": "markdown",
   "metadata": {},
   "source": [
    "# Visualization playground"
   ]
  },
  {
   "cell_type": "code",
   "execution_count": null,
   "metadata": {},
   "outputs": [],
   "source": [
    "ptest.plot_heatmaps(['B_Center', 'W_Center'], i=1)"
   ]
  },
  {
   "cell_type": "code",
   "execution_count": null,
   "metadata": {},
   "outputs": [],
   "source": [
    "#Plot animation of trajectory over time with different smoothings\n",
    "plt.plot(ptest['Day2Test13DLC']['B_Center'].iloc[:5000]['x'],\n",
    "         ptest['Day2Test13DLC']['B_Center'].iloc[:5000]['y'], label='alpha=0.85')\n",
    "\n",
    "plt.xlabel('x')\n",
    "plt.ylabel('y')\n",
    "plt.title('Mouse Center Trajectory using different exponential smoothings')\n",
    "plt.legend()\n",
    "plt.show()"
   ]
  },
  {
   "cell_type": "markdown",
   "metadata": {},
   "source": [
    "# Dimensionality reduction playground"
   ]
  },
  {
   "cell_type": "code",
   "execution_count": null,
   "metadata": {},
   "outputs": [],
   "source": [
    "pca = ptest.pca(4, 1000)"
   ]
  },
  {
   "cell_type": "code",
   "execution_count": null,
   "metadata": {},
   "outputs": [],
   "source": [
    "plt.scatter(*pca[0].T)\n",
    "plt.show()"
   ]
  },
  {
   "cell_type": "markdown",
   "metadata": {},
   "source": [
    "# Preprocessing playground"
   ]
  },
  {
   "cell_type": "code",
   "execution_count": 12,
   "metadata": {},
   "outputs": [],
   "source": [
    "mtest = merge_tables(DLC_social_1_coords.get_coords(center=True, polar=True, length='00:10:00'))#,\n",
    "#                      DLC_social_1_coords.get_distances(speed=0, length='00:10:00'),\n",
    "#                      DLC_social_1_coords.get_angles(degrees=True, speed=0, length='00:10:00'))"
   ]
  },
  {
   "cell_type": "code",
   "execution_count": 13,
   "metadata": {},
   "outputs": [],
   "source": [
    "#pptest = mtest.preprocess(window_size=51, filter='gaussian', sigma=10, shift=20)"
   ]
  },
  {
   "cell_type": "code",
   "execution_count": 170,
   "metadata": {},
   "outputs": [
    {
     "data": {
      "text/plain": [
       "(704997, 51, 28)"
      ]
     },
     "execution_count": 170,
     "metadata": {},
     "output_type": "execute_result"
    }
   ],
   "source": [
    "pttest = mtest.preprocess(window_size=51, filter=None)\n",
    "pttest.shape"
   ]
  },
  {
   "cell_type": "code",
   "execution_count": null,
   "metadata": {},
   "outputs": [],
   "source": [
    "plt.plot(pttest[2,:,2], label='normal')\n",
    "plt.plot(pptest[2,:,2], label='gaussian')\n",
    "plt.legend()\n",
    "plt.show()"
   ]
  },
  {
   "cell_type": "markdown",
   "metadata": {},
   "source": [
    "# Trained models playground"
   ]
  },
  {
   "cell_type": "markdown",
   "metadata": {},
   "source": [
    "### Seq 2 seq Variational Auto Encoder"
   ]
  },
  {
   "cell_type": "code",
   "execution_count": 154,
   "metadata": {},
   "outputs": [],
   "source": [
    "pttest = pttest[:1000]"
   ]
  },
  {
   "cell_type": "code",
   "execution_count": 240,
   "metadata": {},
   "outputs": [],
   "source": [
    "CONV_filters = 64\n",
    "LSTM_units_1 = 128\n",
    "LSTM_units_2 = 64\n",
    "DENSE_1 = 64\n",
    "DENSE_2 = 32\n",
    "ENCODING = 20\n",
    "DROPOUT_RATE = 0.2\n",
    "\n",
    "original_dim = pttest.shape[1:]\n",
    "batch_size = 256"
   ]
  },
  {
   "cell_type": "code",
   "execution_count": 241,
   "metadata": {},
   "outputs": [],
   "source": [
    "from source.hypermodels import *\n",
    "import tensorflow as tf\n",
    "from tensorflow.keras import Input, Model\n",
    "from tensorflow.keras.layers import Dense, Lambda, Bidirectional, LSTM\n",
    "from tensorflow.keras import backend as K\n",
    "\n",
    "# Encoder Layers\n",
    "Model_E0 = tf.keras.layers.Conv1D(\n",
    "    filters=CONV_filters,\n",
    "    kernel_size=5,\n",
    "    strides=1,\n",
    "    padding=\"causal\",\n",
    "    activation=\"relu\",\n",
    ")\n",
    "Model_E1 = Bidirectional(\n",
    "    LSTM(\n",
    "        LSTM_units_1,\n",
    "        activation=\"tanh\",\n",
    "        return_sequences=True,\n",
    "        kernel_constraint=UnitNorm(axis=0),\n",
    "    )\n",
    ")\n",
    "Model_E2 = Bidirectional(\n",
    "    LSTM(\n",
    "        LSTM_units_2,\n",
    "        activation=\"tanh\",\n",
    "        return_sequences=False,\n",
    "        kernel_constraint=UnitNorm(axis=0),\n",
    "    )\n",
    ")\n",
    "Model_E3 = Dense(DENSE_1, activation=\"relu\", kernel_constraint=UnitNorm(axis=0))\n",
    "Model_E4 = Dense(DENSE_2, activation=\"relu\", kernel_constraint=UnitNorm(axis=0))\n",
    "Model_E5 = Dense(\n",
    "            ENCODING,\n",
    "            activation=\"relu\",\n",
    "            kernel_constraint=UnitNorm(axis=1),\n",
    "            activity_regularizer=UncorrelatedFeaturesConstraint(3, weightage=1.0),\n",
    "        )\n",
    "\n",
    "# Decoder layers\n",
    "Model_D4 = Bidirectional(\n",
    "    LSTM(\n",
    "        LSTM_units_1,\n",
    "        activation=\"tanh\",\n",
    "        return_sequences=True,\n",
    "        kernel_constraint=UnitNorm(axis=1),\n",
    "    )\n",
    ")\n",
    "Model_D5 = Bidirectional(\n",
    "    LSTM(\n",
    "        LSTM_units_1,\n",
    "        activation=\"sigmoid\",\n",
    "        return_sequences=True,\n",
    "        kernel_constraint=UnitNorm(axis=1),\n",
    "    )\n",
    ")\n",
    "\n",
    "# Define and instanciate encoder\n",
    "x = Input(shape=original_dim)\n",
    "encoder = Model_E0(x)\n",
    "encoder = Model_E1(encoder)\n",
    "encoder = Model_E2(encoder)\n",
    "encoder = Model_E3(encoder)\n",
    "encoder = Dropout(DROPOUT_RATE)(encoder)\n",
    "encoder = Model_E4(encoder)\n",
    "encoder = Model_E5(encoder)\n",
    "z_mean = Dense(ENCODING)(encoder)\n",
    "z_log_sigma = Dense(ENCODING)(encoder)"
   ]
  },
  {
   "cell_type": "code",
   "execution_count": 242,
   "metadata": {},
   "outputs": [],
   "source": [
    "def sampling(args, epsilon_std=1.):\n",
    "    z_mean, z_log_sigma = args\n",
    "    epsilon = K.random_normal(shape=K.shape(z_mean),\n",
    "                              mean=0., stddev=epsilon_std)\n",
    "    return z_mean + K.exp(z_log_sigma) * epsilon\n",
    "\n",
    "# note that \"output_shape\" isn't necessary with the TensorFlow backend\n",
    "# so you could write `Lambda(sampling)([z_mean, z_log_sigma])`\n",
    "z = Lambda(sampling)([z_mean, z_log_sigma])"
   ]
  },
  {
   "cell_type": "code",
   "execution_count": 243,
   "metadata": {},
   "outputs": [],
   "source": [
    "# Define and instanciate decoder\n",
    "decoder = DenseTranspose(Model_E5, activation=\"relu\", output_dim=ENCODING)(z)\n",
    "decoder = DenseTranspose(Model_E4, activation=\"relu\", output_dim=DENSE_2)(decoder)\n",
    "decoder = DenseTranspose(Model_E3, activation=\"relu\", output_dim=DENSE_1)(decoder)\n",
    "decoder = RepeatVector(pttest.shape[1])(decoder)\n",
    "decoder = Model_D4(decoder)\n",
    "decoder = Model_D5(decoder)\n",
    "x_decoded_mean = TimeDistributed(Dense(original_dim[1]))(decoder)"
   ]
  },
  {
   "cell_type": "code",
   "execution_count": 244,
   "metadata": {},
   "outputs": [],
   "source": [
    "# end-to-end autoencoder\n",
    "klvae = Model(x, x_decoded_mean)\n",
    "\n",
    "# encoder, from inputs to latent space\n",
    "encoder = Model(x, z_mean)\n",
    "\n",
    "# generator, from latent space to reconstructed inputs\n",
    "decoder_input = Input(shape=(ENCODING,))\n",
    "decoder = DenseTranspose(Model_E5, activation=\"relu\", output_dim=ENCODING)(decoder_input)\n",
    "decoder = DenseTranspose(Model_E4, activation=\"relu\", output_dim=DENSE_2)(decoder)\n",
    "decoder = DenseTranspose(Model_E3, activation=\"relu\", output_dim=DENSE_1)(decoder)\n",
    "decoder = RepeatVector(pttest.shape[1])(decoder)\n",
    "decoder = Model_D4(decoder)\n",
    "decoder = Model_D5(decoder)\n",
    "x_decoded_mean = TimeDistributed(Dense(original_dim[1]))(decoder)\n",
    "generator = Model(decoder_input, x_decoded_mean)"
   ]
  },
  {
   "cell_type": "code",
   "execution_count": 245,
   "metadata": {},
   "outputs": [
    {
     "name": "stdout",
     "output_type": "stream",
     "text": [
      "Model: \"model_3\"\n",
      "__________________________________________________________________________________________________\n",
      "Layer (type)                    Output Shape         Param #     Connected to                     \n",
      "==================================================================================================\n",
      "input_3 (InputLayer)            [(None, 51, 28)]     0                                            \n",
      "__________________________________________________________________________________________________\n",
      "conv1d_1 (Conv1D)               (None, 51, 64)       9024        input_3[0][0]                    \n",
      "__________________________________________________________________________________________________\n",
      "bidirectional_4 (Bidirectional) (None, 51, 256)      197632      conv1d_1[0][0]                   \n",
      "__________________________________________________________________________________________________\n",
      "bidirectional_5 (Bidirectional) (None, 128)          164352      bidirectional_4[0][0]            \n",
      "__________________________________________________________________________________________________\n",
      "dense_7 (Dense)                 (None, 64)           8256        bidirectional_5[0][0]            \n",
      "__________________________________________________________________________________________________\n",
      "dropout_1 (Dropout)             (None, 64)           0           dense_7[0][0]                    \n",
      "__________________________________________________________________________________________________\n",
      "dense_8 (Dense)                 (None, 32)           2080        dropout_1[0][0]                  \n",
      "__________________________________________________________________________________________________\n",
      "dense_9 (Dense)                 (None, 20)           660         dense_8[0][0]                    \n",
      "__________________________________________________________________________________________________\n",
      "dense_10 (Dense)                (None, 20)           420         dense_9[0][0]                    \n",
      "__________________________________________________________________________________________________\n",
      "dense_11 (Dense)                (None, 20)           420         dense_9[0][0]                    \n",
      "__________________________________________________________________________________________________\n",
      "lambda_1 (Lambda)               (None, 20)           0           dense_10[0][0]                   \n",
      "                                                                 dense_11[0][0]                   \n",
      "__________________________________________________________________________________________________\n",
      "dense_transpose_6 (DenseTranspo (None, 32)           692         lambda_1[0][0]                   \n",
      "__________________________________________________________________________________________________\n",
      "dense_transpose_7 (DenseTranspo (None, 64)           2144        dense_transpose_6[0][0]          \n",
      "__________________________________________________________________________________________________\n",
      "dense_transpose_8 (DenseTranspo (None, 128)          8384        dense_transpose_7[0][0]          \n",
      "__________________________________________________________________________________________________\n",
      "repeat_vector_2 (RepeatVector)  (None, 51, 128)      0           dense_transpose_8[0][0]          \n",
      "__________________________________________________________________________________________________\n",
      "bidirectional_6 (Bidirectional) (None, 51, 256)      263168      repeat_vector_2[0][0]            \n",
      "__________________________________________________________________________________________________\n",
      "bidirectional_7 (Bidirectional) (None, 51, 256)      394240      bidirectional_6[0][0]            \n",
      "__________________________________________________________________________________________________\n",
      "time_distributed_2 (TimeDistrib (None, 51, 28)       7196        bidirectional_7[0][0]            \n",
      "==================================================================================================\n",
      "Total params: 1,047,672\n",
      "Trainable params: 1,047,672\n",
      "Non-trainable params: 0\n",
      "__________________________________________________________________________________________________\n"
     ]
    }
   ],
   "source": [
    "vae.summary()"
   ]
  },
  {
   "cell_type": "code",
   "execution_count": 246,
   "metadata": {},
   "outputs": [
    {
     "name": "stdout",
     "output_type": "stream",
     "text": [
      "Failed to import pydot. You must install pydot and graphviz for `pydotprint` to work.\n"
     ]
    }
   ],
   "source": [
    "tf.keras.utils.plot_model(vae)"
   ]
  },
  {
   "cell_type": "code",
   "execution_count": 247,
   "metadata": {},
   "outputs": [],
   "source": [
    "def compute_kernel(x, y):\n",
    "    x_size = K.shape(x)[0]\n",
    "    y_size = K.shape(y)[0]\n",
    "    dim = K.shape(x)[1] * K.shape(x)[2]\n",
    "    tiled_x = K.tile(K.reshape(x, K.stack([x_size, 1, dim])), K.stack([1, y_size, 1]))\n",
    "    tiled_y = K.tile(K.reshape(y, K.stack([1, y_size, dim])), K.stack([x_size, 1, 1]))\n",
    "    return K.exp(-tf.reduce_mean(K.square(tiled_x - tiled_y), axis=2) / K.cast(dim, tf.float32))\n",
    "\n",
    "def compute_mmd(x, y, sigma_sqr=1.0):\n",
    "    x_kernel = compute_kernel(x, x)\n",
    "    y_kernel = compute_kernel(y, y)\n",
    "    xy_kernel = compute_kernel(x, y)\n",
    "    return tf.reduce_mean(x_kernel) + tf.reduce_mean(y_kernel) - 2 * tf.reduce_mean(xy_kernel)"
   ]
  },
  {
   "cell_type": "code",
   "execution_count": 248,
   "metadata": {},
   "outputs": [],
   "source": [
    "from tensorflow.keras.losses import Huber\n",
    "\n",
    "def vae_loss(x, x_decoded_mean):\n",
    "    huber_loss = Huber(reduction=\"sum\", delta=100.0)\n",
    "    huber_loss = original_dim * huber_loss(x, x_decoded_mean)\n",
    "    kl_loss = - 0.5 * K.mean(1 + z_log_sigma - K.square(z_mean) - K.exp(z_log_sigma), axis=-1)\n",
    "    return K.mean(huber_loss + kl_loss[:, None])\n",
    "\n",
    "def vae_mmd_loss(x, x_decoded_mean):\n",
    "    huber_loss = Huber(reduction=\"sum\", delta=100.0)\n",
    "    huber_loss = original_dim * huber_loss(x, x_decoded_mean)\n",
    "    mmd_loss = compute_mmd(x, x_decoded_mean)\n",
    "    return huber_loss + mmd_loss\n",
    "\n",
    "klvae.compile(optimizer='adam', loss=vae_loss, experimental_run_tf_function=False, metrics=['mae'])"
   ]
  },
  {
   "cell_type": "code",
   "execution_count": 249,
   "metadata": {
    "scrolled": true
   },
   "outputs": [
    {
     "name": "stdout",
     "output_type": "stream",
     "text": [
      "Train on 1000 samples\n",
      "Epoch 1/50\n",
      "1000/1000 [==============================] - ETA: 8s - loss: 8408979.0000 - mae: 0.854 - ETA: 3s - loss: 8002490.7500 - mae: 0.836 - ETA: 1s - loss: 7766003.5000 - mae: 0.828 - 6s 6ms/sample - loss: 7414377.2240 - mae: 0.8184\n",
      "Epoch 2/50\n",
      "1000/1000 [==============================] - ETA: 3s - loss: 7399954.0000 - mae: 0.809 - ETA: 2s - loss: 7397771.5000 - mae: 0.811 - ETA: 0s - loss: 7455063.1667 - mae: 0.815 - 4s 4ms/sample - loss: 7111586.0840 - mae: 0.8040\n",
      "Epoch 3/50\n",
      "1000/1000 [==============================] - ETA: 3s - loss: 6872538.5000 - mae: 0.789 - ETA: 2s - loss: 6902108.7500 - mae: 0.784 - ETA: 0s - loss: 7057614.0000 - mae: 0.790 - 4s 4ms/sample - loss: 6881130.4400 - mae: 0.7877\n",
      "Epoch 4/50\n",
      "1000/1000 [==============================] - ETA: 3s - loss: 6744250.5000 - mae: 0.760 - ETA: 2s - loss: 6800989.7500 - mae: 0.762 - ETA: 0s - loss: 6594802.0000 - mae: 0.749 - 4s 4ms/sample - loss: 6437221.5680 - mae: 0.7509\n",
      "Epoch 5/50\n",
      "1000/1000 [==============================] - ETA: 3s - loss: 6401316.5000 - mae: 0.727 - ETA: 1s - loss: 6253006.5000 - mae: 0.724 - ETA: 0s - loss: 5978376.5000 - mae: 0.708 - 4s 4ms/sample - loss: 5936031.7440 - mae: 0.7117\n",
      "Epoch 6/50\n",
      "1000/1000 [==============================] - ETA: 2s - loss: 6046594.0000 - mae: 0.694 - ETA: 1s - loss: 6040055.0000 - mae: 0.698 - ETA: 0s - loss: 5943079.8333 - mae: 0.692 - 4s 4ms/sample - loss: 5781597.8960 - mae: 0.6895\n",
      "Epoch 7/50\n",
      "1000/1000 [==============================] - ETA: 3s - loss: 5705071.5000 - mae: 0.672 - ETA: 2s - loss: 5638382.2500 - mae: 0.669 - ETA: 0s - loss: 5700604.3333 - mae: 0.674 - 4s 4ms/sample - loss: 5638006.9440 - mae: 0.6791\n",
      "Epoch 8/50\n",
      "1000/1000 [==============================] - ETA: 3s - loss: 5732987.0000 - mae: 0.672 - ETA: 1s - loss: 5732905.0000 - mae: 0.674 - ETA: 0s - loss: 5573485.5000 - mae: 0.662 - 4s 4ms/sample - loss: 5518847.7600 - mae: 0.6648\n",
      "Epoch 9/50\n",
      "1000/1000 [==============================] - ETA: 3s - loss: 5780760.5000 - mae: 0.665 - ETA: 2s - loss: 5743825.0000 - mae: 0.664 - ETA: 0s - loss: 5661874.8333 - mae: 0.657 - 4s 4ms/sample - loss: 5386024.5520 - mae: 0.6476\n",
      "Epoch 10/50\n",
      "1000/1000 [==============================] - ETA: 3s - loss: 5471653.0000 - mae: 0.649 - ETA: 2s - loss: 5439660.5000 - mae: 0.648 - ETA: 0s - loss: 5408227.5000 - mae: 0.644 - 4s 4ms/sample - loss: 5300000.4280 - mae: 0.6456\n",
      "Epoch 11/50\n",
      "1000/1000 [==============================] - ETA: 3s - loss: 5247327.0000 - mae: 0.626 - ETA: 2s - loss: 5157528.0000 - mae: 0.620 - ETA: 0s - loss: 5074206.3333 - mae: 0.618 - 4s 4ms/sample - loss: 5174042.2360 - mae: 0.6347\n",
      "Epoch 12/50\n",
      "1000/1000 [==============================] - ETA: 3s - loss: 5204688.0000 - mae: 0.631 - ETA: 2s - loss: 5103146.7500 - mae: 0.629 - ETA: 0s - loss: 5139186.0000 - mae: 0.629 - 4s 4ms/sample - loss: 5091984.3240 - mae: 0.6323\n",
      "Epoch 13/50\n",
      "1000/1000 [==============================] - ETA: 3s - loss: 5007945.0000 - mae: 0.611 - ETA: 2s - loss: 5233741.0000 - mae: 0.628 - ETA: 0s - loss: 5194953.8333 - mae: 0.628 - 4s 4ms/sample - loss: 4993387.9800 - mae: 0.6221\n",
      "Epoch 14/50\n",
      "1000/1000 [==============================] - ETA: 3s - loss: 4943941.5000 - mae: 0.617 - ETA: 2s - loss: 5164677.5000 - mae: 0.624 - ETA: 1s - loss: 5094166.0000 - mae: 0.619 - 5s 5ms/sample - loss: 4915948.8200 - mae: 0.6139\n",
      "Epoch 15/50\n",
      "1000/1000 [==============================] - ETA: 3s - loss: 4990617.5000 - mae: 0.613 - ETA: 2s - loss: 4986560.0000 - mae: 0.608 - ETA: 1s - loss: 4914951.0000 - mae: 0.605 - 5s 5ms/sample - loss: 4805930.7200 - mae: 0.6050\n",
      "Epoch 16/50\n",
      "1000/1000 [==============================] - ETA: 3s - loss: 5181599.5000 - mae: 0.612 - ETA: 2s - loss: 4712377.5000 - mae: 0.589 - ETA: 1s - loss: 4781554.3333 - mae: 0.594 - 5s 5ms/sample - loss: 4777970.5520 - mae: 0.6013\n",
      "Epoch 17/50\n",
      "1000/1000 [==============================] - ETA: 3s - loss: 4666170.0000 - mae: 0.590 - ETA: 2s - loss: 4757377.5000 - mae: 0.590 - ETA: 1s - loss: 4902140.1667 - mae: 0.601 - 5s 5ms/sample - loss: 4733982.0040 - mae: 0.5982\n",
      "Epoch 18/50\n",
      "1000/1000 [==============================] - ETA: 3s - loss: 4431744.5000 - mae: 0.569 - ETA: 2s - loss: 4770432.0000 - mae: 0.590 - ETA: 1s - loss: 4877027.1667 - mae: 0.598 - 5s 5ms/sample - loss: 4711783.3300 - mae: 0.5928\n",
      "Epoch 19/50\n",
      "1000/1000 [==============================] - ETA: 3s - loss: 4435376.0000 - mae: 0.579 - ETA: 2s - loss: 4616696.2500 - mae: 0.585 - ETA: 1s - loss: 4606080.0000 - mae: 0.585 - 5s 5ms/sample - loss: 4639646.1080 - mae: 0.5892\n",
      "Epoch 20/50\n",
      "1000/1000 [==============================] - ETA: 4s - loss: 4275002.0000 - mae: 0.563 - ETA: 3s - loss: 4518598.0000 - mae: 0.578 - ETA: 1s - loss: 4695881.0000 - mae: 0.585 - 7s 7ms/sample - loss: 4597472.7480 - mae: 0.5886\n",
      "Epoch 21/50\n",
      "1000/1000 [==============================] - ETA: 5s - loss: 4870293.5000 - mae: 0.609 - ETA: 3s - loss: 4527534.5000 - mae: 0.589 - ETA: 1s - loss: 4437661.5000 - mae: 0.579 - 8s 8ms/sample - loss: 4504085.0720 - mae: 0.5869\n",
      "Epoch 22/50\n",
      "1000/1000 [==============================] - ETA: 6s - loss: 4684220.5000 - mae: 0.586 - ETA: 4s - loss: 4389910.0000 - mae: 0.570 - ETA: 2s - loss: 4411223.3333 - mae: 0.572 - 9s 9ms/sample - loss: 4289980.8680 - mae: 0.5711\n",
      "Epoch 23/50\n",
      "1000/1000 [==============================] - ETA: 6s - loss: 4400105.5000 - mae: 0.570 - ETA: 3s - loss: 4194724.8750 - mae: 0.560 - ETA: 1s - loss: 4184356.6667 - mae: 0.560 - 8s 8ms/sample - loss: 4113300.8280 - mae: 0.5599\n",
      "Epoch 24/50\n",
      "1000/1000 [==============================] - ETA: 5s - loss: 4596317.5000 - mae: 0.581 - ETA: 3s - loss: 4258156.5000 - mae: 0.566 - ETA: 1s - loss: 4068401.4167 - mae: 0.554 - 7s 7ms/sample - loss: 4001087.5060 - mae: 0.5550\n",
      "Epoch 25/50\n",
      "1000/1000 [==============================] - ETA: 4s - loss: 4021580.2500 - mae: 0.554 - ETA: 3s - loss: 3906021.0000 - mae: 0.542 - ETA: 1s - loss: 3955592.6667 - mae: 0.548 - 6s 6ms/sample - loss: 3884075.9600 - mae: 0.5497\n",
      "Epoch 26/50\n",
      "1000/1000 [==============================] - ETA: 4s - loss: 3726004.5000 - mae: 0.528 - ETA: 2s - loss: 3995150.2500 - mae: 0.543 - ETA: 1s - loss: 3852762.5000 - mae: 0.535 - 6s 6ms/sample - loss: 3763793.4000 - mae: 0.5377\n",
      "Epoch 27/50\n",
      "1000/1000 [==============================] - ETA: 4s - loss: 3558000.5000 - mae: 0.519 - ETA: 2s - loss: 3531334.2500 - mae: 0.515 - ETA: 1s - loss: 3676998.0833 - mae: 0.525 - 5s 5ms/sample - loss: 3617345.7020 - mae: 0.5277\n",
      "Epoch 28/50\n",
      "1000/1000 [==============================] - ETA: 3s - loss: 3280484.2500 - mae: 0.503 - ETA: 2s - loss: 3461872.3750 - mae: 0.515 - ETA: 1s - loss: 3607129.5833 - mae: 0.520 - 5s 5ms/sample - loss: 3544949.2140 - mae: 0.5213\n",
      "Epoch 29/50\n",
      "1000/1000 [==============================] - ETA: 3s - loss: 3687078.0000 - mae: 0.521 - ETA: 2s - loss: 3598044.8750 - mae: 0.522 - ETA: 1s - loss: 3561057.2500 - mae: 0.519 - 5s 5ms/sample - loss: 3445888.7380 - mae: 0.5158\n",
      "Epoch 30/50\n",
      "1000/1000 [==============================] - ETA: 3s - loss: 3627803.5000 - mae: 0.519 - ETA: 2s - loss: 3507221.8750 - mae: 0.512 - ETA: 1s - loss: 3414638.4167 - mae: 0.506 - 5s 5ms/sample - loss: 3327992.2940 - mae: 0.5078\n",
      "Epoch 31/50\n",
      "1000/1000 [==============================] - ETA: 3s - loss: 3389386.0000 - mae: 0.514 - ETA: 2s - loss: 3401470.5000 - mae: 0.510 - ETA: 1s - loss: 3382325.8333 - mae: 0.507 - 5s 5ms/sample - loss: 3281478.0240 - mae: 0.5038\n",
      "Epoch 32/50\n",
      "1000/1000 [==============================] - ETA: 3s - loss: 3144845.2500 - mae: 0.490 - ETA: 2s - loss: 3225727.5000 - mae: 0.496 - ETA: 1s - loss: 3241417.8333 - mae: 0.497 - 5s 5ms/sample - loss: 3207206.8040 - mae: 0.4999\n",
      "Epoch 33/50\n",
      "1000/1000 [==============================] - ETA: 3s - loss: 3077040.5000 - mae: 0.485 - ETA: 2s - loss: 3259386.6250 - mae: 0.500 - ETA: 1s - loss: 3212816.5000 - mae: 0.493 - 5s 5ms/sample - loss: 3176556.6400 - mae: 0.4945\n",
      "Epoch 34/50\n",
      "1000/1000 [==============================] - ETA: 3s - loss: 3286993.7500 - mae: 0.499 - ETA: 2s - loss: 3249922.6250 - mae: 0.496 - ETA: 1s - loss: 3336135.8333 - mae: 0.504 - 5s 5ms/sample - loss: 3185179.0980 - mae: 0.4981\n",
      "Epoch 35/50\n"
     ]
    },
    {
     "name": "stdout",
     "output_type": "stream",
     "text": [
      "1000/1000 [==============================] - ETA: 3s - loss: 3257291.2500 - mae: 0.498 - ETA: 2s - loss: 3162630.8750 - mae: 0.489 - ETA: 1s - loss: 3233137.9167 - mae: 0.493 - 5s 5ms/sample - loss: 3116109.6540 - mae: 0.4890\n",
      "Epoch 36/50\n",
      "1000/1000 [==============================] - ETA: 4s - loss: 3286134.2500 - mae: 0.497 - ETA: 2s - loss: 3176050.3750 - mae: 0.489 - ETA: 1s - loss: 3101230.4167 - mae: 0.483 - 6s 6ms/sample - loss: 3041818.3680 - mae: 0.4834\n",
      "Epoch 37/50\n",
      "1000/1000 [==============================] - ETA: 4s - loss: 3259794.7500 - mae: 0.494 - ETA: 2s - loss: 3164856.3750 - mae: 0.485 - ETA: 1s - loss: 3119920.3333 - mae: 0.483 - 6s 6ms/sample - loss: 2998101.0580 - mae: 0.4792\n",
      "Epoch 38/50\n",
      "1000/1000 [==============================] - ETA: 4s - loss: 2828948.0000 - mae: 0.463 - ETA: 2s - loss: 3066356.0000 - mae: 0.480 - ETA: 1s - loss: 3029096.7500 - mae: 0.475 - 6s 6ms/sample - loss: 2973703.2700 - mae: 0.4763\n",
      "Epoch 39/50\n",
      "1000/1000 [==============================] - ETA: 4s - loss: 2953450.2500 - mae: 0.468 - ETA: 2s - loss: 2999416.8750 - mae: 0.471 - ETA: 1s - loss: 3045839.1667 - mae: 0.474 - 6s 6ms/sample - loss: 2962594.2220 - mae: 0.4748\n",
      "Epoch 40/50\n",
      "1000/1000 [==============================] - ETA: 4s - loss: 3139871.5000 - mae: 0.482 - ETA: 2s - loss: 3065726.6250 - mae: 0.476 - ETA: 1s - loss: 3065391.0000 - mae: 0.478 - 6s 6ms/sample - loss: 2957699.3840 - mae: 0.4748\n",
      "Epoch 41/50\n",
      "1000/1000 [==============================] - ETA: 4s - loss: 2881193.0000 - mae: 0.463 - ETA: 2s - loss: 3033663.6250 - mae: 0.475 - ETA: 1s - loss: 2981624.9167 - mae: 0.470 - 5s 5ms/sample - loss: 2895216.5360 - mae: 0.4690\n",
      "Epoch 42/50\n",
      "1000/1000 [==============================] - ETA: 4s - loss: 2827177.7500 - mae: 0.458 - ETA: 2s - loss: 2910864.1250 - mae: 0.464 - ETA: 1s - loss: 2969197.3333 - mae: 0.466 - 6s 6ms/sample - loss: 2850053.0760 - mae: 0.4621\n",
      "Epoch 43/50\n",
      "1000/1000 [==============================] - ETA: 4s - loss: 2707495.5000 - mae: 0.448 - ETA: 2s - loss: 2873625.1250 - mae: 0.460 - ETA: 1s - loss: 2915105.9167 - mae: 0.465 - 6s 6ms/sample - loss: 2829650.4760 - mae: 0.4623\n",
      "Epoch 44/50\n",
      "1000/1000 [==============================] - ETA: 4s - loss: 2896139.2500 - mae: 0.462 - ETA: 2s - loss: 2853675.1250 - mae: 0.457 - ETA: 1s - loss: 2838635.5833 - mae: 0.457 - 6s 6ms/sample - loss: 2775639.1540 - mae: 0.4582\n",
      "Epoch 45/50\n",
      "1000/1000 [==============================] - ETA: 4s - loss: 2935518.0000 - mae: 0.463 - ETA: 2s - loss: 2780148.7500 - mae: 0.454 - ETA: 1s - loss: 2754931.3333 - mae: 0.451 - 6s 6ms/sample - loss: 2718175.2640 - mae: 0.4516\n",
      "Epoch 46/50\n",
      "1000/1000 [==============================] - ETA: 4s - loss: 2673814.2500 - mae: 0.438 - ETA: 2s - loss: 2733193.6250 - mae: 0.442 - ETA: 1s - loss: 2737251.9167 - mae: 0.445 - 6s 6ms/sample - loss: 2699133.2920 - mae: 0.4483\n",
      "Epoch 47/50\n",
      "1000/1000 [==============================] - ETA: 4s - loss: 2807026.7500 - mae: 0.451 - ETA: 2s - loss: 2881694.6250 - mae: 0.461 - ETA: 1s - loss: 2802192.1667 - mae: 0.453 - 6s 6ms/sample - loss: 2684393.6060 - mae: 0.4465\n",
      "Epoch 48/50\n",
      "1000/1000 [==============================] - ETA: 3s - loss: 2719536.5000 - mae: 0.443 - ETA: 2s - loss: 2699019.5000 - mae: 0.440 - ETA: 1s - loss: 2646913.1667 - mae: 0.436 - 5s 5ms/sample - loss: 2667083.4400 - mae: 0.4446\n",
      "Epoch 49/50\n",
      "1000/1000 [==============================] - ETA: 3s - loss: 2822908.2500 - mae: 0.456 - ETA: 2s - loss: 2741352.6250 - mae: 0.447 - ETA: 1s - loss: 2749324.8333 - mae: 0.446 - 5s 5ms/sample - loss: 2645802.8180 - mae: 0.4421\n",
      "Epoch 50/50\n",
      "1000/1000 [==============================] - ETA: 3s - loss: 2699620.5000 - mae: 0.439 - ETA: 2s - loss: 2690283.1250 - mae: 0.440 - ETA: 1s - loss: 2649846.1667 - mae: 0.436 - 5s 5ms/sample - loss: 2632294.9220 - mae: 0.4398\n"
     ]
    }
   ],
   "source": [
    "#tf.config.experimental_run_functions_eagerly(False)\n",
    "#ptrain = pttest[np.random.choice(pttest.shape[0], 1000, replace=False), :, :]\n",
    "klhistory = klvae.fit(ptrain, ptrain, epochs=50, batch_size=batch_size, verbose=1)"
   ]
  },
  {
   "cell_type": "code",
   "execution_count": 250,
   "metadata": {},
   "outputs": [
    {
     "data": {
      "image/png": "[encoded data removed]",
      "text/plain": [
       "<Figure size 576x396 with 1 Axes>"
      ]
     },
     "metadata": {},
     "output_type": "display_data"
    }
   ],
   "source": [
    "plt.plot(history.history['mae'], label='Huber + MMD mae')\n",
    "plt.plot(klhistory.history['mae'], label='Huber + KL mae')\n",
    "plt.plot(hhistory.history['mae'], label='Huber mae')\n",
    "\n",
    "plt.legend()\n",
    "plt.show()"
   ]
  },
  {
   "cell_type": "code",
   "execution_count": 251,
   "metadata": {},
   "outputs": [
    {
     "data": {
      "image/png": "[encoded data removed]",
      "text/plain": [
       "<Figure size 576x396 with 1 Axes>"
      ]
     },
     "metadata": {},
     "output_type": "display_data"
    }
   ],
   "source": [
    "#Huber loss + MMD/ELBO in training data\n",
    "plt.plot(pttest[:500,0,0], label='data')\n",
    "plt.plot(vae.predict(pttest[:500])[:,0,0], label='MMD reconstruction')\n",
    "plt.plot(klvae.predict(pttest[:500])[:,0,0], label='ELBO reconstruction')\n",
    "plt.plot(hvae.predict(pttest[:500])[:,0,0], label='Huber reconstruction')\n",
    "\n",
    "plt.legend()\n",
    "plt.show()"
   ]
  },
  {
   "cell_type": "code",
   "execution_count": 259,
   "metadata": {},
   "outputs": [
    {
     "ename": "AssertionError",
     "evalue": "sos un gilillo",
     "output_type": "error",
     "traceback": [
      "\u001b[0;31m---------------------------------------------------------------------------\u001b[0m",
      "\u001b[0;31mAssertionError\u001b[0m                            Traceback (most recent call last)",
      "\u001b[0;32m<ipython-input-259-05a631193c06>\u001b[0m in \u001b[0;36m<module>\u001b[0;34m\u001b[0m\n\u001b[0;32m----> 1\u001b[0;31m \u001b[0;32massert\u001b[0m \u001b[0;36m1\u001b[0m\u001b[0;34m==\u001b[0m\u001b[0;36m2\u001b[0m\u001b[0;34m,\u001b[0m \u001b[0;34m'sos un gilillo'\u001b[0m\u001b[0;34m\u001b[0m\u001b[0;34m\u001b[0m\u001b[0m\n\u001b[0m",
      "\u001b[0;31mAssertionError\u001b[0m: sos un gilillo"
     ]
    }
   ],
   "source": [
    "assert 1==2, 'sos un gilillo'"
   ]
  },
  {
   "cell_type": "code",
   "execution_count": null,
   "metadata": {},
   "outputs": [],
   "source": []
  }
 ],
 "metadata": {
  "kernelspec": {
   "display_name": "Python 3",
   "language": "python",
   "name": "python3"
  },
  "language_info": {
   "codemirror_mode": {
    "name": "ipython",
    "version": 3
   },
   "file_extension": ".py",
   "mimetype": "text/x-python",
   "name": "python",
   "nbconvert_exporter": "python",
   "pygments_lexer": "ipython3",
   "version": "3.6.10"
  }
 },
 "nbformat": 4,
 "nbformat_minor": 4
}
