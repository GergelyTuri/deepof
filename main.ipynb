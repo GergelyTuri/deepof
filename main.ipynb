{
 "cells": [
  {
   "cell_type": "code",
   "execution_count": 39,
   "metadata": {},
   "outputs": [],
   "source": [
    "%load_ext autoreload\n",
    "%autoreload 2\n",
    "\n",
    "import warnings\n",
    "warnings.filterwarnings(\"ignore\")"
   ]
  },
  {
   "cell_type": "code",
   "execution_count": 40,
   "metadata": {},
   "outputs": [],
   "source": [
    "#from source.utils import *\n",
    "from source.preprocess import *\n",
    "import pickle\n",
    "import matplotlib.pyplot as plt\n",
    "import pandas as pd\n",
    "from collections import defaultdict\n",
    "from tqdm import tqdm_notebook as tqdm"
   ]
  },
  {
   "cell_type": "code",
   "execution_count": 41,
   "metadata": {
    "tags": [
     "parameters"
    ]
   },
   "outputs": [],
   "source": [
    "path = \"../../Desktop/DLC_social_1/\"\n",
    "path2 = \"../../Desktop/DLC_social_2/\""
   ]
  },
  {
   "cell_type": "markdown",
   "metadata": {},
   "source": [
    "# Set up and design the project"
   ]
  },
  {
   "cell_type": "code",
   "execution_count": 42,
   "metadata": {},
   "outputs": [],
   "source": [
    "with open('{}DLC_social_1_exp_conditions.pickle'.format(path), 'rb') as handle:\n",
    "    Treatment_dict = pickle.load(handle)"
   ]
  },
  {
   "cell_type": "code",
   "execution_count": 43,
   "metadata": {},
   "outputs": [],
   "source": [
    "#Which angles to compute?\n",
    "bp_dict = {'B_Nose':['B_Left_ear','B_Right_ear'],\n",
    "          'B_Left_ear':['B_Nose','B_Right_ear','B_Center','B_Left_flank'],\n",
    "          'B_Right_ear':['B_Nose','B_Left_ear','B_Center','B_Right_flank'],\n",
    "          'B_Center':['B_Left_ear','B_Right_ear','B_Left_flank','B_Right_flank','B_Tail_base'],\n",
    "          'B_Left_flank':['B_Left_ear','B_Center','B_Tail_base'],\n",
    "          'B_Right_flank':['B_Right_ear','B_Center','B_Tail_base'],\n",
    "          'B_Tail_base':['B_Center','B_Left_flank','B_Right_flank']}"
   ]
  },
  {
   "cell_type": "code",
   "execution_count": 304,
   "metadata": {},
   "outputs": [
    {
     "name": "stdout",
     "output_type": "stream",
     "text": [
      "CPU times: user 2.61 s, sys: 800 ms, total: 3.41 s\n",
      "Wall time: 1.14 s\n"
     ]
    }
   ],
   "source": [
    "%%time\n",
    "DLC_social_1 = project(path=path,#Path where to find the required files\n",
    "                   smooth_alpha=0.85,                    #Alpha value for exponentially weighted smoothing\n",
    "                   distances=['B_Center','B_Nose','B_Left_ear','B_Right_ear','B_Left_flank',\n",
    "                              'B_Right_flank','B_Tail_base'],\n",
    "                   ego=False,\n",
    "                   angles=True,\n",
    "                   connectivity=bp_dict,\n",
    "                   arena='circular',                  #Type of arena used in the experiments\n",
    "                   arena_dims=[380],                  #Dimensions of the arena. Just one if it's circular\n",
    "                   subset_condition=\"B\",\n",
    "                   video_format='.mp4',\n",
    "                   table_format='.h5',\n",
    "                   exp_conditions=Treatment_dict)"
   ]
  },
  {
   "cell_type": "code",
   "execution_count": 404,
   "metadata": {},
   "outputs": [
    {
     "name": "stdout",
     "output_type": "stream",
     "text": [
      "CPU times: user 9.54 s, sys: 1.45 s, total: 11 s\n",
      "Wall time: 2.29 s\n"
     ]
    }
   ],
   "source": [
    "%%time\n",
    "DLC_social_2 = project(path=path2,#Path where to find the required files\n",
    "                   smooth_alpha=0.90,                    #Alpha value for exponentially weighted smoothing\n",
    "                   distances=['B_Center','B_Nose','B_Left_ear','B_Right_ear','B_Left_flank',\n",
    "                              'B_Right_flank','B_Tail_base'],\n",
    "                   ego=False,\n",
    "                   angles=True,\n",
    "                   connectivity=bp_dict,\n",
    "                   arena='circular',                  #Type of arena used in the experiments\n",
    "                   arena_dims=[380],                  #Dimensions of the arena. Just one if it's circular\n",
    "                   subset_condition=\"B\",\n",
    "                   video_format='.mp4',\n",
    "                   table_format='.h5')"
   ]
  },
  {
   "cell_type": "markdown",
   "metadata": {},
   "source": [
    "# Run project"
   ]
  },
  {
   "cell_type": "code",
   "execution_count": 405,
   "metadata": {},
   "outputs": [
    {
     "name": "stdout",
     "output_type": "stream",
     "text": [
      "Loading trajectories...\n",
      "Smoothing trajectories...\n",
      "Computing distances...\n",
      "Computing angles...\n",
      "Done!\n",
      "Coordinates of 47 videos across 4 conditions\n",
      "CPU times: user 7.34 s, sys: 581 ms, total: 7.92 s\n",
      "Wall time: 7.93 s\n"
     ]
    },
    {
     "data": {
      "text/plain": [
       "source.preprocess.coordinates"
      ]
     },
     "execution_count": 405,
     "metadata": {},
     "output_type": "execute_result"
    }
   ],
   "source": [
    "%%time\n",
    "DLC_social_1_coords = DLC_social_1.run(verbose=True)\n",
    "print(DLC_social_1_coords)\n",
    "type(DLC_social_1_coords)"
   ]
  },
  {
   "cell_type": "code",
   "execution_count": 406,
   "metadata": {},
   "outputs": [
    {
     "name": "stdout",
     "output_type": "stream",
     "text": [
      "Loading trajectories...\n",
      "Smoothing trajectories...\n",
      "Computing distances...\n",
      "Computing angles...\n",
      "Done!\n",
      "DLC analysis of 31 videos\n",
      "CPU times: user 4.83 s, sys: 384 ms, total: 5.21 s\n",
      "Wall time: 5.22 s\n"
     ]
    },
    {
     "data": {
      "text/plain": [
       "source.preprocess.coordinates"
      ]
     },
     "execution_count": 406,
     "metadata": {},
     "output_type": "execute_result"
    }
   ],
   "source": [
    "%%time\n",
    "DLC_social_2_coords = DLC_social_2.run(verbose=True)\n",
    "print(DLC_social_2_coords)\n",
    "type(DLC_social_2_coords)"
   ]
  },
  {
   "cell_type": "markdown",
   "metadata": {},
   "source": [
    "# Generate coords"
   ]
  },
  {
   "cell_type": "code",
   "execution_count": 407,
   "metadata": {
    "scrolled": true
   },
   "outputs": [
    {
     "name": "stdout",
     "output_type": "stream",
     "text": [
      "CPU times: user 1.26 s, sys: 48.1 ms, total: 1.31 s\n",
      "Wall time: 1.32 s\n"
     ]
    },
    {
     "data": {
      "text/plain": [
       "'coords'"
      ]
     },
     "execution_count": 407,
     "metadata": {},
     "output_type": "execute_result"
    }
   ],
   "source": [
    "%%time\n",
    "ptest = DLC_social_1_coords.get_coords(center=\"B_Center\", polar=False, speed=0, length='00:10:00')\n",
    "ptest._type\n",
    "\n",
    "ptest2 = DLC_social_2_coords.get_coords(center=\"B_Center\", polar=False, speed=0, length='00:10:00')\n",
    "ptest2._type"
   ]
  },
  {
   "cell_type": "code",
   "execution_count": 408,
   "metadata": {},
   "outputs": [
    {
     "data": {
      "text/html": [
       "<div>\n",
       "<style scoped>\n",
       "    .dataframe tbody tr th:only-of-type {\n",
       "        vertical-align: middle;\n",
       "    }\n",
       "\n",
       "    .dataframe tbody tr th {\n",
       "        vertical-align: top;\n",
       "    }\n",
       "\n",
       "    .dataframe thead tr th {\n",
       "        text-align: left;\n",
       "    }\n",
       "</style>\n",
       "<table border=\"1\" class=\"dataframe\">\n",
       "  <thead>\n",
       "    <tr>\n",
       "      <th>bodyparts</th>\n",
       "      <th colspan=\"2\" halign=\"left\">B_Left_ear</th>\n",
       "      <th colspan=\"2\" halign=\"left\">B_Left_flank</th>\n",
       "      <th colspan=\"2\" halign=\"left\">B_Nose</th>\n",
       "      <th colspan=\"2\" halign=\"left\">B_Right_ear</th>\n",
       "      <th colspan=\"2\" halign=\"left\">B_Right_flank</th>\n",
       "      <th colspan=\"2\" halign=\"left\">B_Tail_base</th>\n",
       "    </tr>\n",
       "    <tr>\n",
       "      <th>coords</th>\n",
       "      <th>x</th>\n",
       "      <th>y</th>\n",
       "      <th>x</th>\n",
       "      <th>y</th>\n",
       "      <th>x</th>\n",
       "      <th>y</th>\n",
       "      <th>x</th>\n",
       "      <th>y</th>\n",
       "      <th>x</th>\n",
       "      <th>y</th>\n",
       "      <th>x</th>\n",
       "      <th>y</th>\n",
       "    </tr>\n",
       "  </thead>\n",
       "  <tbody>\n",
       "    <tr>\n",
       "      <th>00:00:00</th>\n",
       "      <td>-35.205536</td>\n",
       "      <td>37.620239</td>\n",
       "      <td>-3.903473</td>\n",
       "      <td>29.819794</td>\n",
       "      <td>-64.471527</td>\n",
       "      <td>31.364624</td>\n",
       "      <td>-45.079285</td>\n",
       "      <td>16.857147</td>\n",
       "      <td>-24.695648</td>\n",
       "      <td>-1.085846</td>\n",
       "      <td>20.006744</td>\n",
       "      <td>-32.650421</td>\n",
       "    </tr>\n",
       "    <tr>\n",
       "      <th>00:00:00.040005</th>\n",
       "      <td>-35.205536</td>\n",
       "      <td>37.620239</td>\n",
       "      <td>-3.903473</td>\n",
       "      <td>29.819794</td>\n",
       "      <td>-64.471527</td>\n",
       "      <td>31.364624</td>\n",
       "      <td>-45.079285</td>\n",
       "      <td>16.857147</td>\n",
       "      <td>-24.695648</td>\n",
       "      <td>-1.085846</td>\n",
       "      <td>20.006744</td>\n",
       "      <td>-32.650421</td>\n",
       "    </tr>\n",
       "    <tr>\n",
       "      <th>00:00:00.080010</th>\n",
       "      <td>-35.338004</td>\n",
       "      <td>37.465195</td>\n",
       "      <td>-4.019846</td>\n",
       "      <td>29.838031</td>\n",
       "      <td>-64.399429</td>\n",
       "      <td>30.870020</td>\n",
       "      <td>-44.990515</td>\n",
       "      <td>16.926718</td>\n",
       "      <td>-24.632339</td>\n",
       "      <td>-1.009244</td>\n",
       "      <td>19.988644</td>\n",
       "      <td>-32.702469</td>\n",
       "    </tr>\n",
       "    <tr>\n",
       "      <th>00:00:00.120016</th>\n",
       "      <td>-35.200839</td>\n",
       "      <td>37.456021</td>\n",
       "      <td>-4.368222</td>\n",
       "      <td>30.057867</td>\n",
       "      <td>-64.392041</td>\n",
       "      <td>30.940030</td>\n",
       "      <td>-44.902817</td>\n",
       "      <td>16.848825</td>\n",
       "      <td>-24.553897</td>\n",
       "      <td>-1.079501</td>\n",
       "      <td>19.987381</td>\n",
       "      <td>-32.738779</td>\n",
       "    </tr>\n",
       "    <tr>\n",
       "      <th>00:00:00.160021</th>\n",
       "      <td>-35.240563</td>\n",
       "      <td>37.447246</td>\n",
       "      <td>-4.141236</td>\n",
       "      <td>29.928157</td>\n",
       "      <td>-64.385545</td>\n",
       "      <td>30.892739</td>\n",
       "      <td>-44.967768</td>\n",
       "      <td>16.991985</td>\n",
       "      <td>-24.559431</td>\n",
       "      <td>-0.986642</td>\n",
       "      <td>19.980270</td>\n",
       "      <td>-32.734535</td>\n",
       "    </tr>\n",
       "    <tr>\n",
       "      <th>...</th>\n",
       "      <td>...</td>\n",
       "      <td>...</td>\n",
       "      <td>...</td>\n",
       "      <td>...</td>\n",
       "      <td>...</td>\n",
       "      <td>...</td>\n",
       "      <td>...</td>\n",
       "      <td>...</td>\n",
       "      <td>...</td>\n",
       "      <td>...</td>\n",
       "      <td>...</td>\n",
       "      <td>...</td>\n",
       "    </tr>\n",
       "    <tr>\n",
       "      <th>00:09:59.799973</th>\n",
       "      <td>16.596216</td>\n",
       "      <td>-29.233944</td>\n",
       "      <td>-4.415812</td>\n",
       "      <td>-23.476344</td>\n",
       "      <td>39.455130</td>\n",
       "      <td>-28.006730</td>\n",
       "      <td>29.929880</td>\n",
       "      <td>-14.385750</td>\n",
       "      <td>29.261573</td>\n",
       "      <td>0.463075</td>\n",
       "      <td>-11.814102</td>\n",
       "      <td>32.915553</td>\n",
       "    </tr>\n",
       "    <tr>\n",
       "      <th>00:09:59.839978</th>\n",
       "      <td>16.196432</td>\n",
       "      <td>-29.275083</td>\n",
       "      <td>-4.425490</td>\n",
       "      <td>-23.693198</td>\n",
       "      <td>39.419487</td>\n",
       "      <td>-28.380804</td>\n",
       "      <td>29.743943</td>\n",
       "      <td>-14.516991</td>\n",
       "      <td>29.283121</td>\n",
       "      <td>0.281757</td>\n",
       "      <td>-11.808250</td>\n",
       "      <td>32.618499</td>\n",
       "    </tr>\n",
       "    <tr>\n",
       "      <th>00:09:59.879983</th>\n",
       "      <td>16.106410</td>\n",
       "      <td>-29.438307</td>\n",
       "      <td>-4.513719</td>\n",
       "      <td>-23.720485</td>\n",
       "      <td>39.467800</td>\n",
       "      <td>-28.369759</td>\n",
       "      <td>29.731060</td>\n",
       "      <td>-14.520895</td>\n",
       "      <td>29.330025</td>\n",
       "      <td>0.297098</td>\n",
       "      <td>-11.903435</td>\n",
       "      <td>32.627221</td>\n",
       "    </tr>\n",
       "    <tr>\n",
       "      <th>00:09:59.919989</th>\n",
       "      <td>16.154198</td>\n",
       "      <td>-29.610807</td>\n",
       "      <td>-4.879281</td>\n",
       "      <td>-23.608089</td>\n",
       "      <td>39.721632</td>\n",
       "      <td>-28.524452</td>\n",
       "      <td>29.754475</td>\n",
       "      <td>-14.564033</td>\n",
       "      <td>29.192242</td>\n",
       "      <td>0.228264</td>\n",
       "      <td>-11.300964</td>\n",
       "      <td>32.193961</td>\n",
       "    </tr>\n",
       "    <tr>\n",
       "      <th>00:09:59.959994</th>\n",
       "      <td>16.500672</td>\n",
       "      <td>-29.798241</td>\n",
       "      <td>-4.710291</td>\n",
       "      <td>-23.416772</td>\n",
       "      <td>40.347685</td>\n",
       "      <td>-29.738346</td>\n",
       "      <td>30.146402</td>\n",
       "      <td>-14.644479</td>\n",
       "      <td>29.326406</td>\n",
       "      <td>0.455320</td>\n",
       "      <td>-12.163131</td>\n",
       "      <td>32.691621</td>\n",
       "    </tr>\n",
       "  </tbody>\n",
       "</table>\n",
       "<p>14998 rows × 12 columns</p>\n",
       "</div>"
      ],
      "text/plain": [
       "bodyparts       B_Left_ear            B_Left_flank                B_Nose  \\\n",
       "coords                   x          y            x          y          x   \n",
       "00:00:00        -35.205536  37.620239    -3.903473  29.819794 -64.471527   \n",
       "00:00:00.040005 -35.205536  37.620239    -3.903473  29.819794 -64.471527   \n",
       "00:00:00.080010 -35.338004  37.465195    -4.019846  29.838031 -64.399429   \n",
       "00:00:00.120016 -35.200839  37.456021    -4.368222  30.057867 -64.392041   \n",
       "00:00:00.160021 -35.240563  37.447246    -4.141236  29.928157 -64.385545   \n",
       "...                    ...        ...          ...        ...        ...   \n",
       "00:09:59.799973  16.596216 -29.233944    -4.415812 -23.476344  39.455130   \n",
       "00:09:59.839978  16.196432 -29.275083    -4.425490 -23.693198  39.419487   \n",
       "00:09:59.879983  16.106410 -29.438307    -4.513719 -23.720485  39.467800   \n",
       "00:09:59.919989  16.154198 -29.610807    -4.879281 -23.608089  39.721632   \n",
       "00:09:59.959994  16.500672 -29.798241    -4.710291 -23.416772  40.347685   \n",
       "\n",
       "bodyparts                  B_Right_ear            B_Right_flank            \\\n",
       "coords                   y           x          y             x         y   \n",
       "00:00:00         31.364624  -45.079285  16.857147    -24.695648 -1.085846   \n",
       "00:00:00.040005  31.364624  -45.079285  16.857147    -24.695648 -1.085846   \n",
       "00:00:00.080010  30.870020  -44.990515  16.926718    -24.632339 -1.009244   \n",
       "00:00:00.120016  30.940030  -44.902817  16.848825    -24.553897 -1.079501   \n",
       "00:00:00.160021  30.892739  -44.967768  16.991985    -24.559431 -0.986642   \n",
       "...                    ...         ...        ...           ...       ...   \n",
       "00:09:59.799973 -28.006730   29.929880 -14.385750     29.261573  0.463075   \n",
       "00:09:59.839978 -28.380804   29.743943 -14.516991     29.283121  0.281757   \n",
       "00:09:59.879983 -28.369759   29.731060 -14.520895     29.330025  0.297098   \n",
       "00:09:59.919989 -28.524452   29.754475 -14.564033     29.192242  0.228264   \n",
       "00:09:59.959994 -29.738346   30.146402 -14.644479     29.326406  0.455320   \n",
       "\n",
       "bodyparts       B_Tail_base             \n",
       "coords                    x          y  \n",
       "00:00:00          20.006744 -32.650421  \n",
       "00:00:00.040005   20.006744 -32.650421  \n",
       "00:00:00.080010   19.988644 -32.702469  \n",
       "00:00:00.120016   19.987381 -32.738779  \n",
       "00:00:00.160021   19.980270 -32.734535  \n",
       "...                     ...        ...  \n",
       "00:09:59.799973  -11.814102  32.915553  \n",
       "00:09:59.839978  -11.808250  32.618499  \n",
       "00:09:59.879983  -11.903435  32.627221  \n",
       "00:09:59.919989  -11.300964  32.193961  \n",
       "00:09:59.959994  -12.163131  32.691621  \n",
       "\n",
       "[14998 rows x 12 columns]"
      ]
     },
     "execution_count": 408,
     "metadata": {},
     "output_type": "execute_result"
    }
   ],
   "source": [
    "ptest2['Test 13DLC']"
   ]
  },
  {
   "cell_type": "code",
   "execution_count": 409,
   "metadata": {},
   "outputs": [
    {
     "name": "stdout",
     "output_type": "stream",
     "text": [
      "CPU times: user 79 ms, sys: 38.6 ms, total: 118 ms\n",
      "Wall time: 117 ms\n"
     ]
    },
    {
     "data": {
      "text/plain": [
       "'dists'"
      ]
     },
     "execution_count": 409,
     "metadata": {},
     "output_type": "execute_result"
    }
   ],
   "source": [
    "%%time\n",
    "dtest = DLC_social_1_coords.get_distances(speed=0, length='00:10:00')\n",
    "dtest._type\n",
    "\n",
    "dtest2 = DLC_social_2_coords.get_distances(speed=0, length='00:10:00')\n",
    "dtest2._type"
   ]
  },
  {
   "cell_type": "code",
   "execution_count": 410,
   "metadata": {},
   "outputs": [
    {
     "name": "stdout",
     "output_type": "stream",
     "text": [
      "CPU times: user 264 ms, sys: 148 ms, total: 412 ms\n",
      "Wall time: 412 ms\n"
     ]
    },
    {
     "data": {
      "text/plain": [
       "'angles'"
      ]
     },
     "execution_count": 410,
     "metadata": {},
     "output_type": "execute_result"
    }
   ],
   "source": [
    "%%time\n",
    "atest = DLC_social_1_coords.get_angles(degrees=True, speed=0, length='00:10:00')\n",
    "atest._type\n",
    "\n",
    "atest2 = DLC_social_2_coords.get_angles(degrees=True, speed=0, length='00:10:00')\n",
    "atest2._type"
   ]
  },
  {
   "cell_type": "markdown",
   "metadata": {},
   "source": [
    "# Visualization playground"
   ]
  },
  {
   "cell_type": "code",
   "execution_count": 413,
   "metadata": {},
   "outputs": [
    {
     "data": {
      "image/png": "[encoded data removed]",
      "text/plain": [
       "<Figure size 576x396 with 1 Axes>"
      ]
     },
     "metadata": {},
     "output_type": "display_data"
    }
   ],
   "source": [
    "ptest.plot_heatmaps(['B_Nose'], i=2)"
   ]
  },
  {
   "cell_type": "code",
   "execution_count": null,
   "metadata": {},
   "outputs": [],
   "source": [
    "#Plot animation of trajectory over time with different smoothings\n",
    "#plt.plot(ptest['Day2Test13DLC']['B_Center'].iloc[:5000]['x'],\n",
    "#         ptest['Day2Test13DLC']['B_Center'].iloc[:5000]['y'], label='alpha=0.85')\n",
    "\n",
    "#plt.xlabel('x')\n",
    "#plt.ylabel('y')\n",
    "#plt.title('Mouse Center Trajectory using different exponential smoothings')\n",
    "#plt.legend()\n",
    "#plt.show()"
   ]
  },
  {
   "cell_type": "markdown",
   "metadata": {},
   "source": [
    "# Dimensionality reduction playground"
   ]
  },
  {
   "cell_type": "code",
   "execution_count": null,
   "metadata": {},
   "outputs": [],
   "source": [
    "#pca = ptest.pca(4, 1000)"
   ]
  },
  {
   "cell_type": "code",
   "execution_count": null,
   "metadata": {},
   "outputs": [],
   "source": [
    "#plt.scatter(*pca[0].T)\n",
    "#plt.show()"
   ]
  },
  {
   "cell_type": "markdown",
   "metadata": {},
   "source": [
    "# Preprocessing playground"
   ]
  },
  {
   "cell_type": "code",
   "execution_count": null,
   "metadata": {},
   "outputs": [],
   "source": [
    "mtest = merge_tables(\n",
    "                      DLC_social_1_coords.get_coords(center=True, polar=True, length='00:10:00'),\n",
    "                      #DLC_social_1_coords.get_distances(speed=0, length='00:10:00'),\n",
    "                      #DLC_social_1_coords.get_angles(degrees=True, speed=0, length='00:10:00'),\n",
    "                    )"
   ]
  },
  {
   "cell_type": "code",
   "execution_count": null,
   "metadata": {},
   "outputs": [],
   "source": [
    "mtest2 = merge_tables(\n",
    "                      DLC_social_2_coords.get_coords(center=True, polar=True, length='00:10:00'),\n",
    "                      #DLC_social_2_coords.get_distances(speed=0, length='00:10:00'),\n",
    "                      #DLC_social_2_coords.get_angles(degrees=True, speed=0, length='00:10:00'),\n",
    "                    )"
   ]
  },
  {
   "cell_type": "code",
   "execution_count": null,
   "metadata": {},
   "outputs": [],
   "source": [
    "#pptest = mtest.preprocess(window_size=51, filter='gaussian', sigma=10, shift=20)"
   ]
  },
  {
   "cell_type": "code",
   "execution_count": null,
   "metadata": {},
   "outputs": [],
   "source": [
    "pttest = mtest.preprocess(window_size=11, window_step=10, filter=\"gaussian\", sigma=10,\n",
    "                          shift=0, standard_scaler=True)\n",
    "pttest.shape"
   ]
  },
  {
   "cell_type": "code",
   "execution_count": null,
   "metadata": {},
   "outputs": [],
   "source": [
    "pttest2 = mtest2.preprocess(window_size=11, window_step=1, filter=\"gaussian\", sigma=55,\n",
    "                            shift=0, standard_scaler=True)\n",
    "pttest2.shape"
   ]
  },
  {
   "cell_type": "code",
   "execution_count": null,
   "metadata": {},
   "outputs": [],
   "source": [
    "pttest3 = mtest2.preprocess(window_size=11, window_step=1, filter=\"gauss\", sigma=100,\n",
    "                            shift=0, standard_scaler=True)\n",
    "pttest3.shape"
   ]
  },
  {
   "cell_type": "code",
   "execution_count": null,
   "metadata": {},
   "outputs": [],
   "source": [
    "plt.plot(pttest2[2,:,3], label='gaussian')\n",
    "plt.plot(pttest3[2,:,3], label='normal')\n",
    "plt.legend()\n",
    "plt.show()"
   ]
  },
  {
   "cell_type": "markdown",
   "metadata": {},
   "source": [
    "# Trained models playground"
   ]
  },
  {
   "cell_type": "markdown",
   "metadata": {},
   "source": [
    "### Seq 2 seq Variational Auto Encoder"
   ]
  },
  {
   "cell_type": "code",
   "execution_count": null,
   "metadata": {},
   "outputs": [],
   "source": [
    "from datetime import datetime\n",
    "import tensorflow.keras as k\n",
    "import tensorflow as tf"
   ]
  },
  {
   "cell_type": "code",
   "execution_count": null,
   "metadata": {},
   "outputs": [],
   "source": [
    "NAME = 'Baseline_AE_512_wu10_slide10_gauss_fullval'\n",
    "log_dir = os.path.abspath(\n",
    "    \"logs/fit/{}_{}\".format(NAME, datetime.now().strftime(\"%Y%m%d-%H%M%S\"))\n",
    ")\n",
    "tensorboard_callback = k.callbacks.TensorBoard(log_dir=log_dir, histogram_freq=1)"
   ]
  },
  {
   "cell_type": "code",
   "execution_count": null,
   "metadata": {},
   "outputs": [],
   "source": [
    "from source.models import SEQ_2_SEQ_AE, SEQ_2_SEQ_GMVAE"
   ]
  },
  {
   "cell_type": "code",
   "execution_count": null,
   "metadata": {},
   "outputs": [],
   "source": [
    "encoder, decoder, ae = SEQ_2_SEQ_AE(pttest.shape).build()\n",
    "ae.build(pttest.shape)"
   ]
  },
  {
   "cell_type": "code",
   "execution_count": null,
   "metadata": {},
   "outputs": [],
   "source": [
    "ae.summary()"
   ]
  },
  {
   "cell_type": "code",
   "execution_count": null,
   "metadata": {},
   "outputs": [],
   "source": [
    "encoder, generator, grouper, gmvaep, kl_warmup_callback, mmd_warmup_callback = SEQ_2_SEQ_GMVAE(pttest.shape,\n",
    "                                                                               loss='ELBO+MMD',\n",
    "                                                                               number_of_components=5,\n",
    "                                                                               kl_warmup_epochs=10,\n",
    "                                                                               mmd_warmup_epochs=10,\n",
    "                                                                               encoding=8,\n",
    "                                                                               predictor=False).build()\n",
    "gmvaep.build(pttest.shape)"
   ]
  },
  {
   "cell_type": "code",
   "execution_count": null,
   "metadata": {},
   "outputs": [],
   "source": [
    "#gmvaep.summary()"
   ]
  },
  {
   "cell_type": "code",
   "execution_count": null,
   "metadata": {},
   "outputs": [],
   "source": [
    "tf.keras.utils.plot_model(gmvaep, show_shapes=True)"
   ]
  },
  {
   "cell_type": "code",
   "execution_count": null,
   "metadata": {},
   "outputs": [],
   "source": [
    "#lr_schedule = tf.keras.callbacks.LearningRateScheduler(\n",
    "#    lambda epoch: 1e-3 * 10**(epoch / 20))"
   ]
  },
  {
   "cell_type": "code",
   "execution_count": null,
   "metadata": {
    "scrolled": true
   },
   "outputs": [],
   "source": [
    "# tf.config.experimental_run_functions_eagerly(False)\n",
    "# history = ae.fit(x=pttest[:-1], y=[pttest[:-1],pttest[1:]], epochs=100, batch_size=512, verbose=1,\n",
    "#                    validation_data=(pttest2[:-1], [pttest2[:-1],pttest2[1:]]),\n",
    "#                    callbacks=[tensorboard_callback])"
   ]
  },
  {
   "cell_type": "code",
   "execution_count": null,
   "metadata": {},
   "outputs": [],
   "source": [
    "# #GMVAEP witout prediction\n",
    "#tf.config.experimental_run_functions_eagerly(False)\n",
    "# history = gmvaep.fit(x=pttest[:-1], y=pttest[:-1], epochs=100, batch_size=512, verbose=1,\n",
    "#                   validation_data=(pttest2[:-1], pttest2[:-1]),\n",
    "#                   callbacks=[tensorboard_callback, kl_warmup_callback, mmd_warmup_callback])"
   ]
  },
  {
   "cell_type": "code",
   "execution_count": null,
   "metadata": {},
   "outputs": [],
   "source": [
    "gmvaep.summary()"
   ]
  },
  {
   "cell_type": "code",
   "execution_count": null,
   "metadata": {},
   "outputs": [],
   "source": [
    "# GMVAEP with prediction\n",
    "# tf.config.experimental_run_functions_eagerly(False)\n",
    "# history = gmvaep.fit(x=pttest[:-1], y=[pttest[:-1],pttest[1:]], epochs=100, batch_size=512, verbose=1,\n",
    "#                      validation_data=(pttest2[:-1], [pttest2[:-1],pttest2[1:]]),\n",
    "#                      callbacks=[tensorboard_callback, kl_warmup_callback, mmd_warmup_callback])"
   ]
  },
  {
   "cell_type": "markdown",
   "metadata": {},
   "source": [
    "## Encoding interpretation playground"
   ]
  },
  {
   "cell_type": "code",
   "execution_count": null,
   "metadata": {},
   "outputs": [],
   "source": [
    "#The main goal of this section is to explore how to retrieve a given set of frames from the corresponding video"
   ]
  },
  {
   "cell_type": "code",
   "execution_count": null,
   "metadata": {},
   "outputs": [],
   "source": [
    "interpret = pd.read_hdf(\"./visualizations/dash_data_1.h5\")\n",
    "interpret = interpret.astype(float)\n",
    "interpret"
   ]
  },
  {
   "cell_type": "code",
   "execution_count": null,
   "metadata": {},
   "outputs": [],
   "source": [
    "confidence = interpret.confidence[interpret.epoch]"
   ]
  },
  {
   "cell_type": "code",
   "execution_count": null,
   "metadata": {},
   "outputs": [],
   "source": [
    "import plotly.express as px"
   ]
  },
  {
   "cell_type": "code",
   "execution_count": null,
   "metadata": {},
   "outputs": [],
   "source": [
    "fig = px.histogram(interpret.loc[interpret[\"epoch\"] > 1], x=\"confidence\", animation_frame=\"epoch\")\n",
    "\n",
    "fig.show()"
   ]
  },
  {
   "cell_type": "code",
   "execution_count": null,
   "metadata": {},
   "outputs": [],
   "source": [
    "fig = px.histogram(\n",
    "    data_frame=interpret,\n",
    "    x=\"confidence\",\n",
    "    animation_frame=\"epoch\",\n",
    "    labels={\"confidence\": \"Confidence in best cluster\"},\n",
    "    width=550,\n",
    "    height=500,\n",
    "    color_discrete_sequence=px.colors.qualitative.T10,\n",
    ")\n",
    "\n",
    "fig.layout.updatemenus[0].buttons[0].args[1][\"frame\"][\"duration\"] = 1\n",
    "fig.update_xaxes(showgrid=True, range=[-0.05, 1.05])\n",
    "\n",
    "fig.update_layout({\"paper_bgcolor\": \"rgba(0, 0, 0, 0)\"})"
   ]
  },
  {
   "cell_type": "markdown",
   "metadata": {},
   "source": [
    "# Post clustering analysis playground"
   ]
  },
  {
   "cell_type": "code",
   "execution_count": 1,
   "metadata": {},
   "outputs": [],
   "source": [
    "# Adjusted Rand Index (ARI) for subsequent clustering rounds (how stable are the retrieved clusters?)"
   ]
  },
  {
   "cell_type": "code",
   "execution_count": 414,
   "metadata": {},
   "outputs": [],
   "source": [
    "import pandas as pd\n",
    "from sklearn.metrics import adjusted_rand_score"
   ]
  },
  {
   "cell_type": "code",
   "execution_count": 437,
   "metadata": {},
   "outputs": [
    {
     "data": {
      "text/html": [
       "<div>\n",
       "<style scoped>\n",
       "    .dataframe tbody tr th:only-of-type {\n",
       "        vertical-align: middle;\n",
       "    }\n",
       "\n",
       "    .dataframe tbody tr th {\n",
       "        vertical-align: top;\n",
       "    }\n",
       "\n",
       "    .dataframe thead th {\n",
       "        text-align: right;\n",
       "    }\n",
       "</style>\n",
       "<table border=\"1\" class=\"dataframe\">\n",
       "  <thead>\n",
       "    <tr style=\"text-align: right;\">\n",
       "      <th></th>\n",
       "      <th>0</th>\n",
       "      <th>1</th>\n",
       "      <th>2</th>\n",
       "      <th>3</th>\n",
       "      <th>4</th>\n",
       "    </tr>\n",
       "  </thead>\n",
       "  <tbody>\n",
       "    <tr>\n",
       "      <th>0</th>\n",
       "      <td>2</td>\n",
       "      <td>1</td>\n",
       "      <td>1</td>\n",
       "      <td>3</td>\n",
       "      <td>0</td>\n",
       "    </tr>\n",
       "    <tr>\n",
       "      <th>1</th>\n",
       "      <td>2</td>\n",
       "      <td>1</td>\n",
       "      <td>1</td>\n",
       "      <td>3</td>\n",
       "      <td>0</td>\n",
       "    </tr>\n",
       "    <tr>\n",
       "      <th>2</th>\n",
       "      <td>2</td>\n",
       "      <td>1</td>\n",
       "      <td>1</td>\n",
       "      <td>3</td>\n",
       "      <td>3</td>\n",
       "    </tr>\n",
       "    <tr>\n",
       "      <th>3</th>\n",
       "      <td>2</td>\n",
       "      <td>1</td>\n",
       "      <td>1</td>\n",
       "      <td>3</td>\n",
       "      <td>3</td>\n",
       "    </tr>\n",
       "    <tr>\n",
       "      <th>4</th>\n",
       "      <td>2</td>\n",
       "      <td>2</td>\n",
       "      <td>1</td>\n",
       "      <td>3</td>\n",
       "      <td>3</td>\n",
       "    </tr>\n",
       "  </tbody>\n",
       "</table>\n",
       "</div>"
      ],
      "text/plain": [
       "   0  1  2  3  4\n",
       "0  2  1  1  3  0\n",
       "1  2  1  1  3  0\n",
       "2  2  1  1  3  3\n",
       "3  2  1  1  3  3\n",
       "4  2  2  1  3  3"
      ]
     },
     "execution_count": 437,
     "metadata": {},
     "output_type": "execute_result"
    }
   ],
   "source": [
    "labels = pd.read_csv(\"./DeepOF_cluster_assignments_across_5_runs_20200714-164723.csv\", index_col=0)\n",
    "labels.head()"
   ]
  },
  {
   "cell_type": "code",
   "execution_count": 429,
   "metadata": {},
   "outputs": [],
   "source": [
    "from itertools import combinations"
   ]
  },
  {
   "cell_type": "code",
   "execution_count": 438,
   "metadata": {},
   "outputs": [],
   "source": [
    "ari_dist = []\n",
    "for i in combinations(range(5), 2):\n",
    "    ari_dist.append(adjusted_rand_score(labels[str(i[0])], labels[str(i[1])]))"
   ]
  },
  {
   "cell_type": "code",
   "execution_count": 439,
   "metadata": {},
   "outputs": [],
   "source": [
    "import matplotlib.pyplot as plt\n",
    "import seaborn as sns"
   ]
  },
  {
   "cell_type": "code",
   "execution_count": 440,
   "metadata": {},
   "outputs": [
    {
     "data": {
      "text/plain": [
       "[0.4262931604784681,\n",
       " -0.03901352418549313,\n",
       " 0.13322282121451462,\n",
       " 0.0703731378090514,\n",
       " -0.014999275267537037,\n",
       " 0.06286294192461284,\n",
       " 0.15631251975391805,\n",
       " 0.011290437663969472,\n",
       " 0.263531841144154,\n",
       " 0.22767276953679622]"
      ]
     },
     "execution_count": 440,
     "metadata": {},
     "output_type": "execute_result"
    }
   ],
   "source": [
    "ari_dist"
   ]
  },
  {
   "cell_type": "code",
   "execution_count": 442,
   "metadata": {},
   "outputs": [
    {
     "name": "stdout",
     "output_type": "stream",
     "text": [
      "Counter({0: 43116, 2: 22103, 3: 3331, 1: 1954})\n",
      "Counter({0: 39741, 1: 16014, 3: 9382, 2: 5367})\n",
      "Counter({1: 57650, 0: 11463, 2: 1133, 3: 258})\n",
      "Counter({3: 41117, 2: 27463, 1: 1880, 0: 44})\n",
      "Counter({0: 40812, 2: 18337, 3: 11111, 1: 244})\n"
     ]
    }
   ],
   "source": [
    "for i in range(5):\n",
    "    print(Counter(labels[str(i)]))"
   ]
  },
  {
   "cell_type": "code",
   "execution_count": 288,
   "metadata": {},
   "outputs": [
    {
     "data": {
      "text/plain": [
       "0.22547371757613913"
      ]
     },
     "execution_count": 288,
     "metadata": {},
     "output_type": "execute_result"
    }
   ],
   "source": [
    "adjusted_rand_score(labels[0], labels[3])"
   ]
  },
  {
   "cell_type": "code",
   "execution_count": 443,
   "metadata": {},
   "outputs": [
    {
     "data": {
      "image/png": "[encoded data removed]",
      "text/plain": [
       "<Figure size 576x396 with 1 Axes>"
      ]
     },
     "metadata": {},
     "output_type": "display_data"
    }
   ],
   "source": [
    "sns.distplot(ari_dist)\n",
    "plt.xlabel(\"Adjusted Rand Index\")\n",
    "plt.ylabel(\"Count\")\n",
    "plt.show()"
   ]
  },
  {
   "cell_type": "code",
   "execution_count": null,
   "metadata": {},
   "outputs": [],
   "source": []
  }
 ],
 "metadata": {
  "kernelspec": {
   "display_name": "Python 3",
   "language": "python",
   "name": "python3"
  },
  "language_info": {
   "codemirror_mode": {
    "name": "ipython",
    "version": 3
   },
   "file_extension": ".py",
   "mimetype": "text/x-python",
   "name": "python",
   "nbconvert_exporter": "python",
   "pygments_lexer": "ipython3",
   "version": "3.6.10"
  }
 },
 "nbformat": 4,
 "nbformat_minor": 4
}
