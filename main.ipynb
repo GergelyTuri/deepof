{
 "cells": [
  {
   "cell_type": "code",
   "execution_count": 1,
   "metadata": {},
   "outputs": [],
   "source": [
    "%load_ext autoreload\n",
    "%autoreload 2\n",
    "\n",
    "import warnings\n",
    "warnings.filterwarnings(\"ignore\")"
   ]
  },
  {
   "cell_type": "code",
   "execution_count": 2,
   "metadata": {},
   "outputs": [],
   "source": [
    "from source.utils import *\n",
    "from source.classes import *\n",
    "import pickle\n",
    "import matplotlib.pyplot as plt\n",
    "import pandas as pd\n",
    "from collections import defaultdict"
   ]
  },
  {
   "cell_type": "code",
   "execution_count": 3,
   "metadata": {},
   "outputs": [],
   "source": [
    "with open('../../Desktop/DLC_social_1/DLC_social_1_exp_conditions.pickle', 'rb') as handle:\n",
    "    Treatment_dict = pickle.load(handle)"
   ]
  },
  {
   "cell_type": "code",
   "execution_count": 4,
   "metadata": {},
   "outputs": [],
   "source": [
    "#Which angles to compute?\n",
    "bp_dict = {'B_Nose':['B_Left_ear','B_Right_ear'],\n",
    "          'B_Left_ear':['B_Nose','B_Right_ear','B_Center','B_Left_flank'],\n",
    "          'B_Right_ear':['B_Nose','B_Left_ear','B_Center','B_Right_flank'],\n",
    "          'B_Center':['B_Left_ear','B_Right_ear','B_Left_flank','B_Right_flank','B_Tail_base'],\n",
    "          'B_Left_flank':['B_Left_ear','B_Center','B_Tail_base'],\n",
    "          'B_Right_flank':['B_Right_ear','B_Center','B_Tail_base'],\n",
    "          'B_Tail_base':['B_Center','B_Left_flank','B_Right_flank']}"
   ]
  },
  {
   "cell_type": "code",
   "execution_count": 15,
   "metadata": {},
   "outputs": [],
   "source": [
    "DLC_social_1 = get_coordinates(path='../../Desktop/DLC_social_1/',#Path where to find the required files\n",
    "                               p=16,                              #Number of processes used for parallelization\n",
    "                               smooth_alpha=0,                    #Alpha value for exponentially weighted smoothing\n",
    "                               distances=False,#['B_Center','B_Nose','B_Left_ear','B_Right_ear','B_Left_flank',\n",
    "                                          #'B_Right_flank','B_Tail_base'],\n",
    "                               ego=False,\n",
    "                               angles=True,\n",
    "                               connectivity=bp_dict,\n",
    "                               arena='circular',                  #Type of arena used in the experiments\n",
    "                               arena_dims=[380],                  #Dimensions of the arena. Just one if it's circular\n",
    "                               video_format='.mp4',\n",
    "                               table_format='.h5',\n",
    "                               exp_conditions=Treatment_dict)"
   ]
  },
  {
   "cell_type": "code",
   "execution_count": 43,
   "metadata": {},
   "outputs": [
    {
     "name": "stdout",
     "output_type": "stream",
     "text": [
      "Loading and smoothing trajectories...\n",
      "Done!\n",
      "CPU times: user 2.3 s, sys: 565 ms, total: 2.87 s\n",
      "Wall time: 3.21 s\n"
     ]
    }
   ],
   "source": [
    "%%time\n",
    "DLC_social_1_coords = DLC_social_1.run(verbose=True)"
   ]
  },
  {
   "cell_type": "code",
   "execution_count": 47,
   "metadata": {
    "scrolled": true
   },
   "outputs": [
    {
     "name": "stdout",
     "output_type": "stream",
     "text": [
      "CPU times: user 13.9 s, sys: 82.5 ms, total: 14 s\n",
      "Wall time: 14 s\n"
     ]
    },
    {
     "data": {
      "text/plain": [
       "'coords'"
      ]
     },
     "execution_count": 47,
     "metadata": {},
     "output_type": "execute_result"
    }
   ],
   "source": [
    "%%time\n",
    "test = DLC_social_1_coords.get_coords(center=True, polar=False)\n",
    "test._type"
   ]
  },
  {
   "cell_type": "code",
   "execution_count": 21,
   "metadata": {},
   "outputs": [
    {
     "data": {
      "image/png": "[encoded data removed]",
      "text/plain": [
       "<Figure size 576x396 with 2 Axes>"
      ]
     },
     "metadata": {},
     "output_type": "display_data"
    }
   ],
   "source": [
    "test.plot_heatmaps(['B_Center', 'W_Center'], i=2)"
   ]
  },
  {
   "cell_type": "code",
   "execution_count": 22,
   "metadata": {},
   "outputs": [
    {
     "ename": "ValueError",
     "evalue": "Distances not computed. Read the documentation for more details",
     "output_type": "error",
     "traceback": [
      "\u001b[0;31m---------------------------------------------------------------------------\u001b[0m",
      "\u001b[0;31mValueError\u001b[0m                                Traceback (most recent call last)",
      "\u001b[0;32m<timed exec>\u001b[0m in \u001b[0;36m<module>\u001b[0;34m\u001b[0m\n",
      "\u001b[0;32m~/PycharmProjects/acrona/source/classes.py\u001b[0m in \u001b[0;36mget_distances\u001b[0;34m(self)\u001b[0m\n\u001b[1;32m    315\u001b[0m             \u001b[0;32mreturn\u001b[0m \u001b[0mtable_dict\u001b[0m\u001b[0;34m(\u001b[0m\u001b[0mself\u001b[0m\u001b[0;34m.\u001b[0m\u001b[0mdistances\u001b[0m\u001b[0;34m,\u001b[0m \u001b[0mtyp\u001b[0m\u001b[0;34m=\u001b[0m\u001b[0;34m\"dist\"\u001b[0m\u001b[0;34m)\u001b[0m\u001b[0;34m\u001b[0m\u001b[0;34m\u001b[0m\u001b[0m\n\u001b[1;32m    316\u001b[0m         raise ValueError(\n\u001b[0;32m--> 317\u001b[0;31m             \u001b[0;34m\"Distances not computed. Read the documentation for more details\"\u001b[0m\u001b[0;34m\u001b[0m\u001b[0;34m\u001b[0m\u001b[0m\n\u001b[0m\u001b[1;32m    318\u001b[0m         )\n\u001b[1;32m    319\u001b[0m \u001b[0;34m\u001b[0m\u001b[0m\n",
      "\u001b[0;31mValueError\u001b[0m: Distances not computed. Read the documentation for more details"
     ]
    }
   ],
   "source": [
    "%%time\n",
    "test = DLC_social_1_coords.get_distances()"
   ]
  },
  {
   "cell_type": "code",
   "execution_count": 46,
   "metadata": {},
   "outputs": [
    {
     "name": "stdout",
     "output_type": "stream",
     "text": [
      "CPU times: user 40.5 ms, sys: 21.3 ms, total: 61.8 ms\n",
      "Wall time: 61.2 ms\n"
     ]
    },
    {
     "data": {
      "text/plain": [
       "'angles'"
      ]
     },
     "execution_count": 46,
     "metadata": {},
     "output_type": "execute_result"
    }
   ],
   "source": [
    "%%time\n",
    "test = DLC_social_1_coords.get_angles(degrees=True)\n",
    "test._type"
   ]
  },
  {
   "cell_type": "markdown",
   "metadata": {},
   "source": [
    "# Angle computing draft "
   ]
  },
  {
   "cell_type": "code",
   "execution_count": null,
   "metadata": {},
   "outputs": [],
   "source": [
    "import numpy as np\n",
    "from numpy.core.umath_tests import inner1d\n",
    "\n",
    "def angle(a,b,c, degrees=False):\n",
    "\n",
    "    ba = a - b\n",
    "    bc = c - b\n",
    "\n",
    "    cosine_angle = inner1d(ba, bc) / (np.linalg.norm(ba, axis=1) * np.linalg.norm(bc, axis=1))\n",
    "    angle = np.arccos(cosine_angle)\n",
    "    \n",
    "    if degrees:\n",
    "        return np.degrees(angle)\n",
    "    \n",
    "    return angle"
   ]
  },
  {
   "cell_type": "code",
   "execution_count": null,
   "metadata": {},
   "outputs": [],
   "source": [
    "def angle_trio(array, degrees=False):\n",
    "    \n",
    "    a, b, c = array\n",
    "    \n",
    "    return np.array([angle(a, b, c, degrees=degrees),\n",
    "                     angle(a, c, b, degrees=degrees),\n",
    "                     angle(b, a, c, degrees=degrees)])"
   ]
  },
  {
   "cell_type": "code",
   "execution_count": null,
   "metadata": {},
   "outputs": [],
   "source": [
    "def table_dict_angles(connectivity, table_dict, degrees=False):\n",
    "    '''\n",
    "    \n",
    "    Computes all the angles between adjacent bodypart trios per video and per frame in the data.\n",
    "    Parameters:\n",
    "        connectivity (dictionary): dict stating to which bodyparts each bodypart is connected;\n",
    "        table_dict (dict of dataframes): tables loaded from the data;\n",
    "        degrees (bool): Flag stating if the result should be in degrees. Radians if False.\n",
    "        draw (bool): Draws a simple connectivity graph if True. False by default.\n",
    "        \n",
    "    Output:\n",
    "        angle_dict (dictionary): dict containing angle dataframes per video\n",
    "    \n",
    "    '''\n",
    "    \n",
    "    bp_net = nx.Graph(connectivity)\n",
    "    cliques = nx.enumerate_all_cliques(bp_net)\n",
    "    cliques = [i for i in cliques if len(i) == 3]\n",
    "    \n",
    "    angle_dict = {}\n",
    "    for key,tab in table_dict.items():\n",
    "    \n",
    "        dats = []\n",
    "        for clique in cliques:\n",
    "            dat = pd.DataFrame(angle_trio(np.array(tab[clique]).reshape(3,tab.shape[0],2), degrees=degrees)).T\n",
    "            \n",
    "            orders = [[0,1,2],[0,2,1],[1,0,2]]\n",
    "            dat.columns = [tuple(clique[i] for i in order) for order in orders]\n",
    "            \n",
    "            dats.append(dat)\n",
    "            \n",
    "        dats = pd.concat(dats, axis=1)\n",
    "        \n",
    "        angle_dict[key] = dats\n",
    "        \n",
    "    return angle_dict"
   ]
  },
  {
   "cell_type": "code",
   "execution_count": null,
   "metadata": {},
   "outputs": [],
   "source": [
    "example = DLC_social_1_coords.get_coords(center=False, polar=False)"
   ]
  },
  {
   "cell_type": "code",
   "execution_count": null,
   "metadata": {},
   "outputs": [],
   "source": [
    "%%time\n",
    "table_dict_angles(bp_dict, example, degrees=True)"
   ]
  },
  {
   "cell_type": "code",
   "execution_count": null,
   "metadata": {},
   "outputs": [],
   "source": [
    "ba = a - b\n",
    "bc = c - b\n",
    "\n",
    "print(ba)\n",
    "print(bc)\n",
    "\n",
    "dots = []\n",
    "for a in range(len(ba)):\n",
    "    dots.append(np.dot(ba[a], bc[a]))\n",
    "    \n",
    "print(dots)\n",
    "\n",
    "from numpy.core.umath_tests import inner1d\n",
    "\n",
    "cosine_angle = inner1d(ba, bc)\n",
    "print(np.linalg.norm(ba, axis=1))\n",
    "\n",
    "print(cosine_angle)"
   ]
  },
  {
   "cell_type": "code",
   "execution_count": null,
   "metadata": {},
   "outputs": [],
   "source": [
    "%%time\n",
    "angle_trio(np.array([a[0], b[0], c[0]]), degrees=True)"
   ]
  },
  {
   "cell_type": "code",
   "execution_count": null,
   "metadata": {},
   "outputs": [],
   "source": [
    "%%time\n",
    "angle_trio([a, b, c], degrees=False).shape"
   ]
  },
  {
   "cell_type": "code",
   "execution_count": null,
   "metadata": {},
   "outputs": [],
   "source": [
    "np.array([a, b, c]).shape"
   ]
  },
  {
   "cell_type": "code",
   "execution_count": null,
   "metadata": {},
   "outputs": [],
   "source": [
    "example"
   ]
  },
  {
   "cell_type": "code",
   "execution_count": null,
   "metadata": {},
   "outputs": [],
   "source": [
    "example[all_cliques[0]]"
   ]
  },
  {
   "cell_type": "code",
   "execution_count": null,
   "metadata": {},
   "outputs": [],
   "source": [
    "%%time\n",
    "dats = []\n",
    "for clique in all_cliques:\n",
    "    dats.append(pd.DataFrame(angle_trio(np.array(example[clique]).reshape(3,14999,2), degrees=True)))\n",
    "dats = pd.concat(dats).T"
   ]
  },
  {
   "cell_type": "code",
   "execution_count": null,
   "metadata": {},
   "outputs": [],
   "source": [
    "dats"
   ]
  },
  {
   "cell_type": "code",
   "execution_count": null,
   "metadata": {},
   "outputs": [],
   "source": [
    "plt.plot(dats.iloc[:,0])"
   ]
  },
  {
   "cell_type": "code",
   "execution_count": null,
   "metadata": {},
   "outputs": [],
   "source": [
    "example"
   ]
  },
  {
   "cell_type": "code",
   "execution_count": null,
   "metadata": {},
   "outputs": [],
   "source": []
  }
 ],
 "metadata": {
  "kernelspec": {
   "display_name": "Python 3",
   "language": "python",
   "name": "python3"
  },
  "language_info": {
   "codemirror_mode": {
    "name": "ipython",
    "version": 3
   },
   "file_extension": ".py",
   "mimetype": "text/x-python",
   "name": "python",
   "nbconvert_exporter": "python",
   "pygments_lexer": "ipython3",
   "version": "3.6.10"
  }
 },
 "nbformat": 4,
 "nbformat_minor": 4
}
