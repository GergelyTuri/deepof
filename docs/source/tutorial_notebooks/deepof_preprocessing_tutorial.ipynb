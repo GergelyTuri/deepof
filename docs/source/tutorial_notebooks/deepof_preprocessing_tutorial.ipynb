{
 "cells": [
  {
   "cell_type": "code",
   "execution_count": null,
   "id": "4d85f5bf",
   "metadata": {
    "scrolled": false
   },
   "outputs": [],
   "source": [
    "import os\n",
    "os.chdir(\"../../..\")\n",
    "import deepof.data"
   ]
  },
  {
   "cell_type": "code",
   "execution_count": null,
   "id": "7625ec90",
   "metadata": {},
   "outputs": [],
   "source": [
    "%load_ext autoreload\n",
    "%autoreload 2"
   ]
  },
  {
   "cell_type": "markdown",
   "id": "2780fd26",
   "metadata": {},
   "source": [
    "# Formatting your data: feature extraction from motion tracking output"
   ]
  },
  {
   "cell_type": "markdown",
   "id": "b059b912",
   "metadata": {},
   "source": [
    "##### Tutorial index:\n",
    "    \n",
    "* Create and run a project.\n",
    "* Load a previously generated project.\n",
    "* Interact with your project: generate coordinates, distances, angles, and areas.\n",
    "* Exploratory visualizations: heatmaps, basic embeddings, and processed animations.\n",
    "* Data preprocessing: generate datasets for machine learning."
   ]
  },
  {
   "cell_type": "markdown",
   "id": "9fd9cdbb",
   "metadata": {},
   "source": [
    "### Create and run a project"
   ]
  },
  {
   "cell_type": "markdown",
   "id": "1465ef19",
   "metadata": {},
   "source": [
    "Project creation should be more automatic. Specify a project path, a video and a tab path. Running the project should create the needed directories automatically, and store any further files in place to keep everything tidy! Shouldn't be much work."
   ]
  },
  {
   "cell_type": "code",
   "execution_count": null,
   "id": "927165c5",
   "metadata": {},
   "outputs": [],
   "source": [
    "# Create and run a project. Explore different processing parameters (smoothing, imputation)"
   ]
  },
  {
   "cell_type": "code",
   "execution_count": null,
   "id": "1bcd1fcd",
   "metadata": {
    "scrolled": false
   },
   "outputs": [],
   "source": [
    "my_deepof_project = deepof.data.Project(\n",
    "                project_path=os.path.join(\"../../../NatComm_trained_models/\"),\n",
    "                video_path=os.path.join(\"../../../NatComm_trained_models/deepof_SI_project/Videos/\"),\n",
    "                table_path=os.path.join(\"../../../NatComm_trained_models/deepof_SI_project/Tables/\"),\n",
    "                project_name=\"deepof_SI_project_manual\",\n",
    "                arena=\"circular-manual\",\n",
    "                animal_ids=[\"B\", \"W\"],\n",
    "                video_format=\".mp4\",\n",
    "                exclude_bodyparts=[\"Tail_1\", \"Tail_2\", \"Tail_tip\"],\n",
    "                video_scale=380,\n",
    "                enable_iterative_imputation=10,\n",
    ")"
   ]
  },
  {
   "cell_type": "code",
   "execution_count": null,
   "id": "0b042bd7",
   "metadata": {
    "scrolled": false
   },
   "outputs": [],
   "source": [
    "my_deepof_project = my_deepof_project.create()"
   ]
  },
  {
   "cell_type": "markdown",
   "id": "a99d8cf5",
   "metadata": {},
   "source": [
    "### Load a previously generated project"
   ]
  },
  {
   "cell_type": "code",
   "execution_count": null,
   "id": "899cbab7",
   "metadata": {},
   "outputs": [],
   "source": [
    "# Load a previously saved project\n",
    "my_deepof_project = deepof.data.load_project(\"../../Desktop/deepOF_CSDS_tutorial_dataset/deepof_tutorial/\")"
   ]
  },
  {
   "cell_type": "code",
   "execution_count": null,
   "id": "a3f4bbad",
   "metadata": {
    "scrolled": false
   },
   "outputs": [],
   "source": [
    "import networkx as nx\n",
    "tt = my_deepof_project.get_graph_dataset(\n",
    "    animal_id=\"mouse_black_tail\"\n",
    ")\n",
    "my_deepof_project.deep_unsupervised_embedding(tt[0], nx.adjacency_matrix(tt[1]).todense(), epochs=1)"
   ]
  },
  {
   "cell_type": "markdown",
   "id": "7079cbfb",
   "metadata": {},
   "source": [
    "### Interact with your project: generate coordinates, distances, angles, and areas."
   ]
  },
  {
   "cell_type": "code",
   "execution_count": null,
   "id": "ee51de4a",
   "metadata": {},
   "outputs": [],
   "source": [
    "# Get and plot coordinates, distances, angles, and areas. Try and visualizing different centering and rotations"
   ]
  },
  {
   "cell_type": "code",
   "execution_count": null,
   "id": "5f61b4ce",
   "metadata": {},
   "outputs": [],
   "source": [
    "my_deepof_project.get_angles()['20191204_Day2_SI_JB08_Test_54']"
   ]
  },
  {
   "cell_type": "code",
   "execution_count": null,
   "id": "e94d1215",
   "metadata": {},
   "outputs": [],
   "source": [
    "my_deepof_project.get_coords(polar=True)['20191204_Day2_SI_JB08_Test_54']"
   ]
  },
  {
   "cell_type": "code",
   "execution_count": null,
   "id": "3a8c3e50",
   "metadata": {},
   "outputs": [],
   "source": [
    "my_deepof_project.deep_unsupervised_embedding()"
   ]
  },
  {
   "cell_type": "code",
   "execution_count": null,
   "id": "5098c222",
   "metadata": {},
   "outputs": [],
   "source": [
    "my_deepof_project.get_distances()['20191204_Day2_SI_JB08_Test_54']"
   ]
  },
  {
   "cell_type": "code",
   "execution_count": null,
   "id": "21a7e7ca",
   "metadata": {},
   "outputs": [],
   "source": [
    "my_deepof_project.get_angles()['20191204_Day2_SI_JB08_Test_54']"
   ]
  },
  {
   "cell_type": "code",
   "execution_count": null,
   "id": "00081401",
   "metadata": {},
   "outputs": [],
   "source": [
    "my_deepof_project.get_areas()"
   ]
  },
  {
   "cell_type": "code",
   "execution_count": null,
   "id": "b376cb32",
   "metadata": {},
   "outputs": [],
   "source": [
    "my_deepof_project.get_areas()['20191204_Day2_SI_JB08_Test_54']"
   ]
  },
  {
   "cell_type": "code",
   "execution_count": null,
   "id": "087b5d58",
   "metadata": {},
   "outputs": [],
   "source": [
    "# Show how to merge different feature objects\n",
    "\n",
    "my_deepof_project.get_coords().pca()"
   ]
  },
  {
   "cell_type": "markdown",
   "id": "a0cd3693",
   "metadata": {},
   "source": [
    "### Exploratory visualizations: heatmaps, basic embeddings, and processed animations."
   ]
  },
  {
   "cell_type": "code",
   "execution_count": null,
   "id": "69d82405",
   "metadata": {
    "scrolled": false
   },
   "outputs": [],
   "source": [
    "import matplotlib.pyplot as plt\n",
    "import seaborn as sns\n",
    "import deepof.visuals\n",
    "from matplotlib.patches import Ellipse\n",
    "\n",
    "sns.set_context(\"talk\")\n",
    "\n",
    "fig, (ax1, ax2) = plt.subplots(1, 2, figsize=(12, 6))\n",
    "\n",
    "deepof.visuals.plot_heatmaps(\n",
    "    my_deepof_project, \n",
    "    [\"B_Nose\"],\n",
    "    center=\"arena\", \n",
    "    exp_condition=\"Nonstressed\",\n",
    "    ax=ax1,\n",
    "    show=False,\n",
    "    display_arena=True,\n",
    "    experiment_id=\"average\",\n",
    ")\n",
    "\n",
    "deepof.visuals.plot_heatmaps(\n",
    "    my_deepof_project, \n",
    "    [\"B_Nose\"],\n",
    "    center=\"arena\", \n",
    "    exp_condition=\"Stressed\",\n",
    "    ax=ax2,\n",
    "    show=False,\n",
    "    display_arena=True,\n",
    "    experiment_id=\"average\",\n",
    ")\n",
    "\n",
    "plt.tight_layout()\n",
    "plt.show()"
   ]
  },
  {
   "cell_type": "code",
   "execution_count": null,
   "id": "aa3d0f82",
   "metadata": {
    "scrolled": false
   },
   "outputs": [],
   "source": [
    "# Create a preprocessed version of the dataset we're after\n",
    "pp, _, _ = my_deepof_project.get_graph_dataset(\n",
    "  #  animal_id=\"B\",\n",
    "    center=\"Center\",\n",
    "    align=\"Spine_1\",\n",
    "    preprocess=True,\n",
    "    scale=\"robust\",\n",
    ")"
   ]
  },
  {
   "cell_type": "code",
   "execution_count": null,
   "id": "d710bef3",
   "metadata": {},
   "outputs": [],
   "source": [
    "pp[2]"
   ]
  },
  {
   "cell_type": "code",
   "execution_count": null,
   "id": "8b6966d5",
   "metadata": {},
   "outputs": [],
   "source": [
    "from ipywidgets import interact, IntSlider\n",
    "\n",
    "@interact()\n",
    "def plot_mouse(i=IntSlider(min=0, max=100)):\n",
    "\n",
    "    sns.scatterplot(x=pp[0][i][0][:11], y=pp[0][i][0][22:33])\n",
    "    sns.scatterplot(x=pp[0][i][0][11:22], y=pp[0][i][0][33:44])\n",
    "#     sns.scatterplot(x=pp[0][15000 + i][0][:11], y=pp[0][15000 + i][0][11:22])\n",
    "#     sns.scatterplot(x=pp[0][30000 + i][0][:11], y=pp[0][30000 + i][0][11:22])\n",
    "#     sns.scatterplot(x=pp[0][45000 + i][0][:11], y=pp[0][45000 + i][0][11:22])\n",
    "#     sns.scatterplot(x=pp[0][60000 + i][0][:11], y=pp[0][60000 + i][0][11:22])\n",
    "#     sns.scatterplot(x=pp[0][75000 + i][0][:11], y=pp[0][75000 + i][0][11:22])\n",
    "    \n",
    "    plt.xlim(-3, 3)\n",
    "    plt.ylim(-4, 5)\n",
    "    \n",
    "    plt.show()"
   ]
  },
  {
   "cell_type": "code",
   "execution_count": null,
   "id": "a3a07441",
   "metadata": {},
   "outputs": [],
   "source": [
    "ss = (pp[0][:25000], pp[1][:25000], pp[2][:25000], pp[3][:25000], pp[4][:25000], pp[5][:25000])"
   ]
  },
  {
   "cell_type": "code",
   "execution_count": null,
   "id": "a2ad7d7f",
   "metadata": {
    "scrolled": false
   },
   "outputs": [],
   "source": [
    "%%time\n",
    "cons = my_deepof_project.deep_unsupervised_embedding(\n",
    "    preprocessed_data,\n",
    "    embedding_model=\"VaDE\",\n",
    "    epochs=5,\n",
    "    encoder_type=\"TCN\",\n",
    "    n_components=15,\n",
    "    batch_size=128,\n",
    "    latent_dim=2,\n",
    "    kl_warmup=10,\n",
    "    kl_annealing_mode=\"linear\",\n",
    "    kmeans_loss=0.0,\n",
    "    reg_cat_clusters=0.0,\n",
    ")"
   ]
  },
  {
   "cell_type": "code",
   "execution_count": null,
   "id": "4b829788",
   "metadata": {},
   "outputs": [],
   "source": [
    "tt = cons.encoder([ss[0], ss[1]])\n",
    "qq = cons.grouper([ss[0], ss[1]])"
   ]
  },
  {
   "cell_type": "code",
   "execution_count": null,
   "id": "f3c731d2",
   "metadata": {},
   "outputs": [],
   "source": [
    "import umap\n",
    "umap = tt.numpy()#umap.UMAP(n_components=2, n_neighbors=250).fit_transform(tt.numpy())"
   ]
  },
  {
   "cell_type": "code",
   "execution_count": null,
   "id": "802922f7",
   "metadata": {},
   "outputs": [],
   "source": [
    "means = cons.get_gmm_params['means'].numpy()\n",
    "\n",
    "sns.scatterplot(x=umap[:, 0], y=umap[:, 1], hue=qq.numpy().argmax(axis=1), palette=\"tab20\")\n",
    "means = cons.get_layer(\"grouper\").get_layer(\"gaussian_mixture_latent\").c_mu.numpy()\n",
    "sns.scatterplot(x=means[:,0], y=means[:,1], s=250, c=\"black\")\n",
    "\n",
    "plt.title(\"VQVAE embeddings\")\n",
    "\n",
    "plt.legend(\"\")\n",
    "plt.show()"
   ]
  },
  {
   "cell_type": "code",
   "execution_count": null,
   "id": "b0f13977",
   "metadata": {
    "scrolled": false
   },
   "outputs": [],
   "source": [
    "from IPython import display\n",
    "\n",
    "video = deepof.visuals.animate_skeleton(\n",
    "    my_deepof_project,\n",
    "    #embedding=emb,\n",
    "    #cluster_assignments=clust_ass,\n",
    "    #animal_id=\"W\",\n",
    "    experiment_id=\"20191204_Day2_SI_JB08_Test_54\",\n",
    "    frame_limit=250,\n",
    "    # selected_cluster=0,\n",
    "    dpi=60,\n",
    "    # center=\"Center\",\n",
    "    # align=\"Spine_1\",\n",
    "    #embedding=[emb_B, emb_W],\n",
    "    save=\"SAB_multi_animal_example.mp4\",\n",
    ")\n",
    "\n",
    "html = display.HTML(video)\n",
    "display.display(html)\n",
    "plt.close()"
   ]
  },
  {
   "cell_type": "code",
   "execution_count": null,
   "id": "07d7100f",
   "metadata": {},
   "outputs": [],
   "source": [
    "# Single animal display"
   ]
  },
  {
   "cell_type": "code",
   "execution_count": null,
   "id": "5c8a2ee7",
   "metadata": {},
   "outputs": [],
   "source": [
    "from sklearn.decomposition import PCA\n",
    "\n",
    "emb = PCA(n_components=3).fit_transform(my_deepof_project.get_coords().filter_id(\"B\")['20191204_Day2_SI_JB08_Test_56'])"
   ]
  },
  {
   "cell_type": "code",
   "execution_count": null,
   "id": "e84c1462",
   "metadata": {},
   "outputs": [],
   "source": [
    "from IPython import display\n",
    "\n",
    "video = deepof.visuals.animate_skeleton(\n",
    "    my_deepof_project,\n",
    "    animal_id=\"B\",\n",
    "    embedding=emb,\n",
    "    experiment_id=\"20191204_Day2_SI_JB08_Test_56\",\n",
    "    frame_limit=750,\n",
    "    dpi=60,\n",
    ")\n",
    "\n",
    "html = display.HTML(video)\n",
    "display.display(html)\n",
    "plt.close()"
   ]
  },
  {
   "cell_type": "code",
   "execution_count": null,
   "id": "9edd3b27",
   "metadata": {},
   "outputs": [],
   "source": [
    "emb = PCA(n_components=3).fit_transform(my_deepof_project.get_coords(center=\"Center\", align=\"Spine_1\").filter_id(\"B\")['20191204_Day2_SI_JB08_Test_56'])"
   ]
  },
  {
   "cell_type": "code",
   "execution_count": null,
   "id": "b7d40c85",
   "metadata": {},
   "outputs": [],
   "source": [
    "from IPython import display\n",
    "\n",
    "video = deepof.visuals.animate_skeleton(\n",
    "    my_deepof_project,\n",
    "    center=\"Center\",\n",
    "    align=\"Spine_1\",\n",
    "    animal_id=\"B\",\n",
    "    embedding=emb,\n",
    "    experiment_id=\"20191204_Day2_SI_JB08_Test_56\",\n",
    "    frame_limit=750,\n",
    "    dpi=60,\n",
    ")\n",
    "\n",
    "html = display.HTML(video)\n",
    "display.display(html)\n",
    "plt.close()"
   ]
  },
  {
   "cell_type": "code",
   "execution_count": null,
   "id": "f11d88fe",
   "metadata": {},
   "outputs": [],
   "source": [
    "# Get and plot coordinates, distances, angles, and areas. Try and visualizing different centering and rotations"
   ]
  },
  {
   "cell_type": "code",
   "execution_count": null,
   "id": "9aa0be87",
   "metadata": {},
   "outputs": [],
   "source": [
    "my_deepof_project.get_coords(polar=True)['20191204_Day2_SI_JB08_Test_54']"
   ]
  },
  {
   "cell_type": "code",
   "execution_count": null,
   "id": "2bce68cb",
   "metadata": {},
   "outputs": [],
   "source": [
    "my_deepof_project.get_distances()['20191204_Day2_SI_JB08_Test_54']"
   ]
  },
  {
   "cell_type": "code",
   "execution_count": null,
   "id": "1f377ce2",
   "metadata": {},
   "outputs": [],
   "source": [
    "my_deepof_project.get_angles()['20191204_Day2_SI_JB08_Test_54']"
   ]
  },
  {
   "cell_type": "code",
   "execution_count": null,
   "id": "6920c9fa",
   "metadata": {},
   "outputs": [],
   "source": [
    "my_deepof_project.get_areas()"
   ]
  },
  {
   "cell_type": "code",
   "execution_count": null,
   "id": "bd76f9d7",
   "metadata": {},
   "outputs": [],
   "source": [
    "my_deepof_project.get_areas()['20191204_Day2_SI_JB08_Test_54']"
   ]
  },
  {
   "cell_type": "code",
   "execution_count": null,
   "id": "3317e013",
   "metadata": {},
   "outputs": [],
   "source": [
    "# Show how to merge different feature objects\n",
    "\n",
    "my_deepof_project.get_coords().pca()"
   ]
  },
  {
   "cell_type": "markdown",
   "id": "7a974c36",
   "metadata": {},
   "source": [
    "### Data preprocessing: generate datasets for machine learning."
   ]
  },
  {
   "cell_type": "code",
   "execution_count": null,
   "id": "2d33a5c8",
   "metadata": {
    "scrolled": false
   },
   "outputs": [],
   "source": [
    "import networkx as nx\n",
    "from deepof.utils import connect_mouse_topview\n",
    "\n",
    "G = connect_mouse_topview(animal_ids=[\"B\", \"W\"], exclude_bodyparts=[\"Tail_1\", \"Tail_2\", \"Tail_tip\"])\n",
    "\n",
    "# Include a (nicer) version of this plot in the tutorial\n",
    "nx.draw(G, \n",
    "        with_labels=True,\n",
    "        pos=nx.spring_layout(G), \n",
    "        node_color=[\"red\" if i.startswith(\"B\") else \"blue\" for i in G.nodes()])"
   ]
  }
 ],
 "metadata": {
  "kernelspec": {
   "display_name": "Python 3 (ipykernel)",
   "language": "python",
   "name": "python3"
  },
  "language_info": {
   "codemirror_mode": {
    "name": "ipython",
    "version": 3
   },
   "file_extension": ".py",
   "mimetype": "text/x-python",
   "name": "python",
   "nbconvert_exporter": "python",
   "pygments_lexer": "ipython3",
   "version": "3.9.12"
  }
 },
 "nbformat": 4,
 "nbformat_minor": 5
}
