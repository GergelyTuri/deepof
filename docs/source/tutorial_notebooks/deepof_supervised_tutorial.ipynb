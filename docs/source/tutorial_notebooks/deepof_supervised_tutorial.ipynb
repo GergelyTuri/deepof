{
 "cells": [
  {
   "cell_type": "code",
   "execution_count": 1,
   "id": "d64823a2",
   "metadata": {},
   "outputs": [],
   "source": [
    "import os\n",
    "os.chdir(\"../../..\")\n",
    "import deepof.data"
   ]
  },
  {
   "cell_type": "code",
   "execution_count": 2,
   "id": "3227f178",
   "metadata": {},
   "outputs": [],
   "source": [
    "import warnings\n",
    "warnings.filterwarnings(\"ignore\")"
   ]
  },
  {
   "cell_type": "code",
   "execution_count": 3,
   "id": "7a68dc94",
   "metadata": {},
   "outputs": [],
   "source": [
    "%load_ext autoreload\n",
    "%autoreload 2"
   ]
  },
  {
   "cell_type": "markdown",
   "id": "1763ab7f",
   "metadata": {},
   "source": [
    "# DeepOF supervised pipeline: detecting pre-defined behaviors"
   ]
  },
  {
   "cell_type": "markdown",
   "id": "8a0170cc",
   "metadata": {},
   "source": [
    "##### Tutorial index:\n",
    "    \n",
    "    * Brief introduction to supervised analysis, including the figure with all tracked behaviors.\n",
    "    * Load the previous project.\n",
    "    * Run the supervised annotation pipeline.\n",
    "    * Visualize global embeddings using the retrieved traits.\n",
    "    * Visualize animated unsupervised embeddings, coloured by specific traits.\n",
    "    * Explore trait enrichment across conditions.\n",
    "    * Generate Gantt plots with all traits.\n",
    "    * Export video snippets."
   ]
  },
  {
   "cell_type": "markdown",
   "id": "e14673fa",
   "metadata": {},
   "source": [
    "### Supervised annotation in DeepOF - search for pre-established patterns"
   ]
  },
  {
   "cell_type": "code",
   "execution_count": null,
   "id": "7b57bdf8",
   "metadata": {},
   "outputs": [],
   "source": []
  },
  {
   "cell_type": "markdown",
   "id": "60b9158e",
   "metadata": {},
   "source": [
    "### Load a previously initiated project"
   ]
  },
  {
   "cell_type": "code",
   "execution_count": 4,
   "id": "6382da27",
   "metadata": {},
   "outputs": [],
   "source": [
    "import pickle\n",
    "\n",
    "# # FC data\n",
    "# my_deepof_project = deepof.data.load_project(\"./deepof_FC_project_files/\")\n",
    "\n",
    "# with open(\"./deepof_FC_project_files/Coordinates/FC_dataset_experimental_conditions.pkl\", \"rb\") as handle:\n",
    "#     exp_conditions = pickle.load(handle)\n",
    "# my_deepof_project._exp_conditions = exp_conditions\n",
    "\n",
    "# SI data\n",
    "my_deepof_project = deepof.data.load_project(\"NatComm_trained_models/deepof_SI_project/\")\n",
    "with open(\"deepof_SI_exp_conds.pkl\", \"rb\") as handle:\n",
    "    exp_conds = pickle.load(handle)\n",
    "my_deepof_project._exp_conditions = exp_conds\n",
    "\n",
    "# Update project path to a local path\n",
    "my_deepof_project._project_path = \"NatComm_trained_models/\"\n",
    "my_deepof_project._project_name = \"deepof_SI_project\"\n",
    "my_deepof_project._trained_model_path = \"./deepof/trained_models/\""
   ]
  },
  {
   "cell_type": "markdown",
   "id": "10776701",
   "metadata": {},
   "source": [
    "### Run the supervised annotation pipeline."
   ]
  },
  {
   "cell_type": "code",
   "execution_count": 5,
   "id": "d368119b",
   "metadata": {
    "scrolled": false
   },
   "outputs": [
    {
     "name": "stderr",
     "output_type": "stream",
     "text": [
      "100%|███████████████████████████████████████████████████████████████████████████████████████████████████████████████████████████████████████████████████████████████████████████| 53/53 [04:01<00:00,  4.57s/it]\n",
      "  0%|                                                                                                                                                                                    | 0/53 [00:00<?, ?it/s]OpenCV: Couldn't read video stream from file \"NatComm_trained_models/deepof_SI_project/Videos/20191203_Day1_SI_JB08_Test_13DLC_resnet50_20210323_BWnetwork_Joeri_lucas_dualMar23shuffle1_1030000_labeled.mp4\"\n",
      "  2%|███▏                                                                                                                                                                        | 1/53 [00:00<00:10,  4.82it/s]OpenCV: Couldn't read video stream from file \"NatComm_trained_models/deepof_SI_project/Videos/20191203_Day1_SI_JB08_Test_14DLC_resnet50_20210323_BWnetwork_Joeri_lucas_dualMar23shuffle1_1030000_labeled.mp4\"\n",
      "OpenCV: Couldn't read video stream from file \"NatComm_trained_models/deepof_SI_project/Videos/20191203_Day1_SI_JB08_Test_15DLC_resnet50_20210323_BWnetwork_Joeri_lucas_dualMar23shuffle1_1030000_labeled.mp4\"\n",
      "OpenCV: Couldn't read video stream from file \"NatComm_trained_models/deepof_SI_project/Videos/20191203_Day1_SI_JB08_Test_16DLC_resnet50_20210323_BWnetwork_Joeri_lucas_dualMar23shuffle1_1030000_labeled.mp4\"\n",
      "OpenCV: Couldn't read video stream from file \"NatComm_trained_models/deepof_SI_project/Videos/20191203_Day1_SI_JB08_Test_22DLC_resnet50_20210323_BWnetwork_Joeri_lucas_dualMar23shuffle1_1030000_labeled.mp4\"\n",
      "OpenCV: Couldn't read video stream from file \"NatComm_trained_models/deepof_SI_project/Videos/20191203_Day1_SI_JB08_Test_23DLC_resnet50_20210323_BWnetwork_Joeri_lucas_dualMar23shuffle1_1030000_labeled.mp4\"\n",
      "OpenCV: Couldn't read video stream from file \"NatComm_trained_models/deepof_SI_project/Videos/20191203_Day1_SI_JB08_Test_24DLC_resnet50_20210323_BWnetwork_Joeri_lucas_dualMar23shuffle1_1030000_labeled.mp4\"\n",
      "OpenCV: Couldn't read video stream from file \"NatComm_trained_models/deepof_SI_project/Videos/20191203_Day1_SI_JB08_Test_29DLC_resnet50_20210323_BWnetwork_Joeri_lucas_dualMar23shuffle1_1030000_labeled.mp4\"\n",
      "OpenCV: Couldn't read video stream from file \"NatComm_trained_models/deepof_SI_project/Videos/20191203_Day1_SI_JB08_Test_30DLC_resnet50_20210323_BWnetwork_Joeri_lucas_dualMar23shuffle1_1030000_labeled.mp4\"\n",
      "OpenCV: Couldn't read video stream from file \"NatComm_trained_models/deepof_SI_project/Videos/20191203_Day1_SI_JB08_Test_31DLC_resnet50_20210323_BWnetwork_Joeri_lucas_dualMar23shuffle1_1030000_labeled.mp4\"\n",
      "OpenCV: Couldn't read video stream from file \"NatComm_trained_models/deepof_SI_project/Videos/20191203_Day1_SI_JB08_Test_32DLC_resnet50_20210323_BWnetwork_Joeri_lucas_dualMar23shuffle1_1030000_labeled.mp4\"\n",
      "OpenCV: Couldn't read video stream from file \"NatComm_trained_models/deepof_SI_project/Videos/20191203_Day1_SI_JB08_Test_37DLC_resnet50_20210323_BWnetwork_Joeri_lucas_dualMar23shuffle1_1030000_labeled.mp4\"\n",
      "OpenCV: Couldn't read video stream from file \"NatComm_trained_models/deepof_SI_project/Videos/20191203_Day1_SI_JB08_Test_38DLC_resnet50_20210323_BWnetwork_Joeri_lucas_dualMar23shuffle1_1030000_labeled.mp4\"\n",
      "OpenCV: Couldn't read video stream from file \"NatComm_trained_models/deepof_SI_project/Videos/20191203_Day1_SI_JB08_Test_39DLC_resnet50_20210323_BWnetwork_Joeri_lucas_dualMar23shuffle1_1030000_labeled.mp4\"\n",
      "OpenCV: Couldn't read video stream from file \"NatComm_trained_models/deepof_SI_project/Videos/20191203_Day1_SI_JB08_Test_40DLC_resnet50_20210323_BWnetwork_Joeri_lucas_dualMar23shuffle1_1030000_labeled.mp4\"\n",
      "OpenCV: Couldn't read video stream from file \"NatComm_trained_models/deepof_SI_project/Videos/20191203_Day1_SI_JB08_Test_45DLC_resnet50_20210323_BWnetwork_Joeri_lucas_dualMar23shuffle1_1030000_labeled.mp4\"\n",
      "OpenCV: Couldn't read video stream from file \"NatComm_trained_models/deepof_SI_project/Videos/20191203_Day1_SI_JB08_Test_46DLC_resnet50_20210323_BWnetwork_Joeri_lucas_dualMar23shuffle1_1030000_labeled.mp4\"\n",
      "OpenCV: Couldn't read video stream from file \"NatComm_trained_models/deepof_SI_project/Videos/20191203_Day1_SI_JB08_Test_47DLC_resnet50_20210323_BWnetwork_Joeri_lucas_dualMar23shuffle1_1030000_labeled.mp4\"\n",
      "OpenCV: Couldn't read video stream from file \"NatComm_trained_models/deepof_SI_project/Videos/20191203_Day1_SI_JB08_Test_53DLC_resnet50_20210323_BWnetwork_Joeri_lucas_dualMar23shuffle1_1030000_labeled.mp4\"\n",
      "OpenCV: Couldn't read video stream from file \"NatComm_trained_models/deepof_SI_project/Videos/20191203_Day1_SI_JB08_Test_54DLC_resnet50_20210323_BWnetwork_Joeri_lucas_dualMar23shuffle1_1030000_labeled.mp4\"\n",
      "OpenCV: Couldn't read video stream from file \"NatComm_trained_models/deepof_SI_project/Videos/20191203_Day1_SI_JB08_Test_55DLC_resnet50_20210323_BWnetwork_Joeri_lucas_dualMar23shuffle1_1030000_labeled.mp4\"\n",
      "OpenCV: Couldn't read video stream from file \"NatComm_trained_models/deepof_SI_project/Videos/20191203_Day1_SI_JB08_Test_56DLC_resnet50_20210323_BWnetwork_Joeri_lucas_dualMar23shuffle1_1030000_labeled.mp4\"\n",
      "OpenCV: Couldn't read video stream from file \"NatComm_trained_models/deepof_SI_project/Videos/20191203_Day1_SI_JB08_Test_5DLC_resnet50_20210323_BWnetwork_Joeri_lucas_dualMar23shuffle1_1030000_labeled.mp4\"\n",
      "OpenCV: Couldn't read video stream from file \"NatComm_trained_models/deepof_SI_project/Videos/20191203_Day1_SI_JB08_Test_6DLC_resnet50_20210323_BWnetwork_Joeri_lucas_dualMar23shuffle1_1030000_labeled.mp4\"\n",
      "OpenCV: Couldn't read video stream from file \"NatComm_trained_models/deepof_SI_project/Videos/20191203_Day1_SI_JB08_Test_7DLC_resnet50_20210323_BWnetwork_Joeri_lucas_dualMar23shuffle1_1030000_labeled.mp4\"\n",
      "OpenCV: Couldn't read video stream from file \"NatComm_trained_models/deepof_SI_project/Videos/20191203_Day1_SI_JB08_Test_8DLC_resnet50_20210323_BWnetwork_Joeri_lucas_dualMar23shuffle1_1030000_labeled.mp4\"\n",
      "OpenCV: Couldn't read video stream from file \"NatComm_trained_models/deepof_SI_project/Videos/20191204_Day2_SI_JB08_Test_13DLC_resnet50_20210323_BWnetwork_Joeri_lucas_dualMar23shuffle1_1030000_labeled.mp4\"\n",
      "OpenCV: Couldn't read video stream from file \"NatComm_trained_models/deepof_SI_project/Videos/20191204_Day2_SI_JB08_Test_14DLC_resnet50_20210323_BWnetwork_Joeri_lucas_dualMar23shuffle1_1030000_labeled.mp4\"\n",
      "OpenCV: Couldn't read video stream from file \"NatComm_trained_models/deepof_SI_project/Videos/20191204_Day2_SI_JB08_Test_15DLC_resnet50_20210323_BWnetwork_Joeri_lucas_dualMar23shuffle1_1030000_labeled.mp4\"\n",
      "OpenCV: Couldn't read video stream from file \"NatComm_trained_models/deepof_SI_project/Videos/20191204_Day2_SI_JB08_Test_16DLC_resnet50_20210323_BWnetwork_Joeri_lucas_dualMar23shuffle1_1030000_labeled.mp4\"\n",
      "OpenCV: Couldn't read video stream from file \"NatComm_trained_models/deepof_SI_project/Videos/20191204_Day2_SI_JB08_Test_21DLC_resnet50_20210323_BWnetwork_Joeri_lucas_dualMar23shuffle1_1030000_labeled.mp4\"\n",
      "OpenCV: Couldn't read video stream from file \"NatComm_trained_models/deepof_SI_project/Videos/20191204_Day2_SI_JB08_Test_22DLC_resnet50_20210323_BWnetwork_Joeri_lucas_dualMar23shuffle1_1030000_labeled.mp4\"\n",
      "OpenCV: Couldn't read video stream from file \"NatComm_trained_models/deepof_SI_project/Videos/20191204_Day2_SI_JB08_Test_23DLC_resnet50_20210323_BWnetwork_Joeri_lucas_dualMar23shuffle1_1030000_labeled.mp4\"\n",
      "OpenCV: Couldn't read video stream from file \"NatComm_trained_models/deepof_SI_project/Videos/20191204_Day2_SI_JB08_Test_24DLC_resnet50_20210323_BWnetwork_Joeri_lucas_dualMar23shuffle1_1030000_labeled.mp4\"\n",
      "OpenCV: Couldn't read video stream from file \"NatComm_trained_models/deepof_SI_project/Videos/20191204_Day2_SI_JB08_Test_30DLC_resnet50_20210323_BWnetwork_Joeri_lucas_dualMar23shuffle1_1030000_labeled.mp4\"\n",
      "OpenCV: Couldn't read video stream from file \"NatComm_trained_models/deepof_SI_project/Videos/20191204_Day2_SI_JB08_Test_37DLC_resnet50_20210323_BWnetwork_Joeri_lucas_dualMar23shuffle1_1030000_labeled.mp4\"\n",
      "OpenCV: Couldn't read video stream from file \"NatComm_trained_models/deepof_SI_project/Videos/20191204_Day2_SI_JB08_Test_38DLC_resnet50_20210323_BWnetwork_Joeri_lucas_dualMar23shuffle1_1030000_labeled.mp4\"\n",
      "OpenCV: Couldn't read video stream from file \"NatComm_trained_models/deepof_SI_project/Videos/20191204_Day2_SI_JB08_Test_39DLC_resnet50_20210323_BWnetwork_Joeri_lucas_dualMar23shuffle1_1030000_labeled.mp4\"\n",
      "OpenCV: Couldn't read video stream from file \"NatComm_trained_models/deepof_SI_project/Videos/20191204_Day2_SI_JB08_Test_40DLC_resnet50_20210323_BWnetwork_Joeri_lucas_dualMar23shuffle1_1030000_labeled.mp4\"\n",
      "OpenCV: Couldn't read video stream from file \"NatComm_trained_models/deepof_SI_project/Videos/20191204_Day2_SI_JB08_Test_45DLC_resnet50_20210323_BWnetwork_Joeri_lucas_dualMar23shuffle1_1030000_labeled.mp4\"\n",
      "OpenCV: Couldn't read video stream from file \"NatComm_trained_models/deepof_SI_project/Videos/20191204_Day2_SI_JB08_Test_46DLC_resnet50_20210323_BWnetwork_Joeri_lucas_dualMar23shuffle1_1030000_labeled.mp4\"\n",
      "OpenCV: Couldn't read video stream from file \"NatComm_trained_models/deepof_SI_project/Videos/20191204_Day2_SI_JB08_Test_47DLC_resnet50_20210323_BWnetwork_Joeri_lucas_dualMar23shuffle1_1030000_labeled.mp4\"\n",
      "OpenCV: Couldn't read video stream from file \"NatComm_trained_models/deepof_SI_project/Videos/20191204_Day2_SI_JB08_Test_53DLC_resnet50_20210323_BWnetwork_Joeri_lucas_dualMar23shuffle1_1030000_labeled.mp4\"\n",
      "OpenCV: Couldn't read video stream from file \"NatComm_trained_models/deepof_SI_project/Videos/20191204_Day2_SI_JB08_Test_54DLC_resnet50_20210323_BWnetwork_Joeri_lucas_dualMar23shuffle1_1030000_labeled.mp4\"\n",
      "OpenCV: Couldn't read video stream from file \"NatComm_trained_models/deepof_SI_project/Videos/20191204_Day2_SI_JB08_Test_55DLC_resnet50_20210323_BWnetwork_Joeri_lucas_dualMar23shuffle1_1030000_labeled.mp4\"\n",
      "OpenCV: Couldn't read video stream from file \"NatComm_trained_models/deepof_SI_project/Videos/20191204_Day2_SI_JB08_Test_56DLC_resnet50_20210323_BWnetwork_Joeri_lucas_dualMar23shuffle1_1030000_labeled.mp4\"\n"
     ]
    },
    {
     "name": "stderr",
     "output_type": "stream",
     "text": [
      "100%|██████████████████████████████████████████████████████████████████████████████████████████████████████████████████████████████████████████████████████████████████████████| 53/53 [00:00<00:00, 237.78it/s]\n",
      "shuffle1_1030000_labeled.mp4\"\n",
      "OpenCV: Couldn't read video stream from file \"NatComm_trained_models/deepof_SI_project/Videos/20191204_Day2_SI_JB08_Test_62DLC_resnet50_20210323_BWnetwork_Joeri_lucas_dualMar23shuffle1_1030000_labeled.mp4\"\n",
      "OpenCV: Couldn't read video stream from file \"NatComm_trained_models/deepof_SI_project/Videos/20191204_Day2_SI_JB08_Test_63DLC_resnet50_20210323_BWnetwork_Joeri_lucas_dualMar23shuffle1_1030000_labeled.mp4\"\n",
      "OpenCV: Couldn't read video stream from file \"NatComm_trained_models/deepof_SI_project/Videos/20191204_Day2_SI_JB08_Test_64DLC_resnet50_20210323_BWnetwork_Joeri_lucas_dualMar23shuffle1_1030000_labeled.mp4\"\n",
      "OpenCV: Couldn't read video stream from file \"NatComm_trained_models/deepof_SI_project/Videos/20191204_Day2_SI_JB08_Test_6DLC_resnet50_20210323_BWnetwork_Joeri_lucas_dualMar23shuffle1_1030000_labeled.mp4\"\n",
      "OpenCV: Couldn't read video stream from file \"NatComm_trained_models/deepof_SI_project/Videos/20191204_Day2_SI_JB08_Test_7DLC_resnet50_20210323_BWnetwork_Joeri_lucas_dualMar23shuffle1_1030000_labeled.mp4\"\n",
      "OpenCV: Couldn't read video stream from file \"NatComm_trained_models/deepof_SI_project/Videos/20191204_Day2_SI_JB08_Test_8DLC_resnet50_20210323_BWnetwork_Joeri_lucas_dualMar23shuffle1_1030000_labeled.mp4\"\n"
     ]
    }
   ],
   "source": [
    "supervised_annotation = my_deepof_project.supervised_annotation(\n",
    "    video_output='all', frame_limit=100, debug=True,\n",
    ")"
   ]
  },
  {
   "cell_type": "code",
   "execution_count": 23,
   "id": "340912bd",
   "metadata": {},
   "outputs": [
    {
     "data": {
      "text/plain": [
       "1.5893628058945124"
      ]
     },
     "execution_count": 23,
     "metadata": {},
     "output_type": "execute_result"
    }
   ],
   "source": [
    "\n",
    "my_deepof_project.get_coords(speed=1)[\"20191204_Day2_SI_JB08_Test_40\"][\"B_Center\"].mean()"
   ]
  },
  {
   "cell_type": "code",
   "execution_count": 14,
   "id": "afe7b90c",
   "metadata": {},
   "outputs": [
    {
     "name": "stdout",
     "output_type": "stream",
     "text": [
      "20191203_Day1_SI_JB08_Test_13 4693.0\n",
      "20191203_Day1_SI_JB08_Test_14 4365.0\n",
      "20191203_Day1_SI_JB08_Test_15 4191.0\n",
      "20191203_Day1_SI_JB08_Test_16 3520.0\n",
      "20191203_Day1_SI_JB08_Test_22 0.0\n",
      "20191203_Day1_SI_JB08_Test_23 4515.0\n",
      "20191203_Day1_SI_JB08_Test_24 5810.0\n",
      "20191203_Day1_SI_JB08_Test_29 5103.0\n",
      "20191203_Day1_SI_JB08_Test_30 5655.0\n",
      "20191203_Day1_SI_JB08_Test_31 0.0\n",
      "20191203_Day1_SI_JB08_Test_32 0.0\n",
      "20191203_Day1_SI_JB08_Test_37 7011.0\n",
      "20191203_Day1_SI_JB08_Test_38 6955.0\n",
      "20191203_Day1_SI_JB08_Test_39 5950.0\n",
      "20191203_Day1_SI_JB08_Test_40 6755.0\n",
      "20191203_Day1_SI_JB08_Test_45 4591.0\n",
      "20191203_Day1_SI_JB08_Test_46 4795.0\n",
      "20191203_Day1_SI_JB08_Test_47 7426.0\n",
      "20191203_Day1_SI_JB08_Test_53 5851.0\n",
      "20191203_Day1_SI_JB08_Test_54 6375.0\n",
      "20191203_Day1_SI_JB08_Test_55 5676.0\n",
      "20191203_Day1_SI_JB08_Test_56 6883.0\n",
      "20191203_Day1_SI_JB08_Test_5 6055.0\n",
      "20191203_Day1_SI_JB08_Test_6 6917.0\n",
      "20191203_Day1_SI_JB08_Test_7 6455.0\n",
      "20191203_Day1_SI_JB08_Test_8 5288.0\n",
      "20191204_Day2_SI_JB08_Test_13 5785.0\n",
      "20191204_Day2_SI_JB08_Test_14 6866.0\n",
      "20191204_Day2_SI_JB08_Test_15 5050.0\n",
      "20191204_Day2_SI_JB08_Test_16 5587.0\n",
      "20191204_Day2_SI_JB08_Test_21 5863.0\n",
      "20191204_Day2_SI_JB08_Test_22 6131.0\n",
      "20191204_Day2_SI_JB08_Test_23 4056.0\n",
      "20191204_Day2_SI_JB08_Test_24 7178.0\n",
      "20191204_Day2_SI_JB08_Test_30 0.0\n",
      "20191204_Day2_SI_JB08_Test_37 6286.0\n",
      "20191204_Day2_SI_JB08_Test_38 6595.0\n",
      "20191204_Day2_SI_JB08_Test_39 4092.0\n",
      "20191204_Day2_SI_JB08_Test_40 0.0\n",
      "20191204_Day2_SI_JB08_Test_45 5651.0\n",
      "20191204_Day2_SI_JB08_Test_46 7294.0\n",
      "20191204_Day2_SI_JB08_Test_47 5860.0\n",
      "20191204_Day2_SI_JB08_Test_53 4568.0\n",
      "20191204_Day2_SI_JB08_Test_54 5266.0\n",
      "20191204_Day2_SI_JB08_Test_55 0.0\n",
      "20191204_Day2_SI_JB08_Test_56 7105.0\n",
      "20191204_Day2_SI_JB08_Test_61 0.0\n",
      "20191204_Day2_SI_JB08_Test_62 0.0\n",
      "20191204_Day2_SI_JB08_Test_63 5054.0\n",
      "20191204_Day2_SI_JB08_Test_64 5575.0\n",
      "20191204_Day2_SI_JB08_Test_6 5523.0\n",
      "20191204_Day2_SI_JB08_Test_7 7076.0\n",
      "20191204_Day2_SI_JB08_Test_8 7145.0\n"
     ]
    }
   ],
   "source": [
    "for key in supervised_annotation.keys():\n",
    "    print(key, supervised_annotation[key].sum()[\"B_lookaround\"])"
   ]
  },
  {
   "cell_type": "code",
   "execution_count": null,
   "id": "7c22549f",
   "metadata": {},
   "outputs": [],
   "source": []
  },
  {
   "cell_type": "markdown",
   "id": "2efa63dc",
   "metadata": {},
   "source": [
    "### Explore trait enrichment across conditions."
   ]
  },
  {
   "cell_type": "code",
   "execution_count": null,
   "id": "bf2b6c38",
   "metadata": {
    "scrolled": false
   },
   "outputs": [],
   "source": [
    "import matplotlib.pyplot as plt\n",
    "import seaborn as sns\n",
    "\n",
    "fig = plt.figure(figsize=(14, 5)).subplot_mosaic(\n",
    "    mosaic=\"\"\"\n",
    "           AAAAB\n",
    "           AAAAB\n",
    "           \"\"\",\n",
    ")\n",
    "\n",
    "deepof.visuals.plot_enrichment(\n",
    "    my_deepof_project,\n",
    "    supervised_annotations=supervised_annotation,\n",
    "    add_stats=\"Mann-Whitney\",\n",
    "    plot_proportions=True,\n",
    "    ax = fig[\"A\"],\n",
    ")\n",
    "\n",
    "deepof.visuals.plot_enrichment(\n",
    "    my_deepof_project,\n",
    "    supervised_annotations=supervised_annotation,\n",
    "    add_stats=\"Mann-Whitney\",\n",
    "    plot_proportions=False,\n",
    "    ax = fig[\"B\"],\n",
    ")\n",
    "\n",
    "for ax in fig:\n",
    "    fig[ax].set_xticklabels(fig[ax].get_xticklabels(), rotation=45, ha='right')\n",
    "    fig[ax].set_title(\"\")\n",
    "    \n",
    "fig[\"A\"].get_legend().remove()\n",
    "\n",
    "plt.tight_layout()    \n",
    "plt.show()"
   ]
  },
  {
   "cell_type": "markdown",
   "id": "ae58169c",
   "metadata": {},
   "source": [
    "### PCA embedding of supervised traits"
   ]
  },
  {
   "cell_type": "code",
   "execution_count": null,
   "id": "8f8175d4",
   "metadata": {},
   "outputs": [],
   "source": []
  },
  {
   "cell_type": "markdown",
   "id": "5dbdc821",
   "metadata": {},
   "source": [
    "### Generate Gantt plots with all traits."
   ]
  },
  {
   "cell_type": "code",
   "execution_count": null,
   "id": "b0e60f6c",
   "metadata": {},
   "outputs": [],
   "source": []
  },
  {
   "cell_type": "markdown",
   "id": "7b88d253",
   "metadata": {},
   "source": [
    "### Exporting video snippets"
   ]
  },
  {
   "cell_type": "code",
   "execution_count": null,
   "id": "6b75e5e5",
   "metadata": {},
   "outputs": [],
   "source": []
  }
 ],
 "metadata": {
  "kernelspec": {
   "display_name": "Python 3 (ipykernel)",
   "language": "python",
   "name": "python3"
  },
  "language_info": {
   "codemirror_mode": {
    "name": "ipython",
    "version": 3
   },
   "file_extension": ".py",
   "mimetype": "text/x-python",
   "name": "python",
   "nbconvert_exporter": "python",
   "pygments_lexer": "ipython3",
   "version": "3.9.12"
  }
 },
 "nbformat": 4,
 "nbformat_minor": 5
}
