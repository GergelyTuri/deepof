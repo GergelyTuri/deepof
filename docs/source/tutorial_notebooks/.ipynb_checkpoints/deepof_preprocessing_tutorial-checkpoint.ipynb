{
 "cells": [
  {
   "cell_type": "code",
   "execution_count": null,
   "id": "4d85f5bf",
   "metadata": {
    "scrolled": false
   },
   "outputs": [],
   "source": [
    "import os\n",
    "os.chdir(\"../../..\")\n",
    "import deepof.data"
   ]
  },
  {
   "cell_type": "code",
   "execution_count": null,
   "id": "7625ec90",
   "metadata": {},
   "outputs": [],
   "source": [
    "%load_ext autoreload\n",
    "%autoreload 2"
   ]
  },
  {
   "cell_type": "markdown",
   "id": "2780fd26",
   "metadata": {},
   "source": [
    "# Formatting your data: feature extraction from motion tracking output"
   ]
  },
  {
   "cell_type": "markdown",
   "id": "b059b912",
   "metadata": {},
   "source": [
    "##### Tutorial index:\n",
    "    \n",
    "* Create and run a project.\n",
    "* Load a previously generated project.\n",
    "* Interact with your project: generate coordinates, distances, angles, and areas.\n",
    "* Exploratory visualizations: heatmaps, basic embeddings, and processed animations.\n",
    "* Data preprocessing: generate datasets for machine learning."
   ]
  },
  {
   "cell_type": "markdown",
   "id": "9fd9cdbb",
   "metadata": {},
   "source": [
    "### Create and run a project"
   ]
  },
  {
   "cell_type": "markdown",
   "id": "1465ef19",
   "metadata": {},
   "source": [
    "Project creation should be more automatic. Specify a project path, a video and a tab path. Running the project should create the needed directories automatically, and store any further files in place to keep everything tidy! Shouldn't be much work."
   ]
  },
  {
   "cell_type": "code",
   "execution_count": 3,
   "id": "927165c5",
   "metadata": {},
   "outputs": [],
   "source": [
    "# Create and run a project. Explore different processing parameters (smoothing, imputation)"
   ]
  },
  {
   "cell_type": "code",
   "execution_count": 7,
   "id": "1bcd1fcd",
   "metadata": {
    "scrolled": false
   },
   "outputs": [],
   "source": [
    "my_deepof_project = deepof.data.Project(\n",
    "                project_path=os.path.join(\"../../Desktop/deepOF_CSDS_tutorial_dataset/\"),\n",
    "                video_path=os.path.join(\"./tests/test_examples/test_single_topview/Videos/\"),\n",
    "                table_path=os.path.join(\"./tests/test_examples/test_single_topview/Tables/\"),\n",
    "                project_name=\"deepof_tutorial22d\",\n",
    "                arena=\"circular-autodetect\",\n",
    "             #   animal_ids=[\"B\", \"W\"],\n",
    "                video_format=\".mp4\",\n",
    "                exclude_bodyparts=[\"Tail_1\", \"Tail_2\", \"Tail_tip\"],\n",
    "                video_scale=380,\n",
    "                enable_iterative_imputation=True,\n",
    "#                 exp_conditions={\n",
    "#                     '20191204_Day2_SI_JB08_Test_56': 'Stressed',\n",
    "#                     '20191204_Day2_SI_JB08_Test_61': 'Stressed',\n",
    "#                     '20191204_Day2_SI_JB08_Test_62': 'Stressed',\n",
    "#                     '20191204_Day2_SI_JB08_Test_54': 'Nonstressed',\n",
    "#                     '20191204_Day2_SI_JB08_Test_63': 'Nonstressed',\n",
    "#                     '20191204_Day2_SI_JB08_Test_64': 'Nonstressed'\n",
    "#                 }\n",
    ")"
   ]
  },
  {
   "cell_type": "code",
   "execution_count": 11,
   "id": "7ad23098",
   "metadata": {},
   "outputs": [
    {
     "data": {
      "image/png": "[encoded data removed]",
      "text/plain": [
       "<Figure size 640x480 with 1 Axes>"
      ]
     },
     "metadata": {},
     "output_type": "display_data"
    }
   ],
   "source": [
    "import deepof.utils\n",
    "import networkx as nx\n",
    "nx.draw(deepof.utils.connect_mouse_topview(animal_ids=None, exclude_bodyparts=['Tail_1', 'Tail_2', 'Tail_tip']))"
   ]
  },
  {
   "cell_type": "code",
   "execution_count": 9,
   "id": "0b042bd7",
   "metadata": {
    "scrolled": false
   },
   "outputs": [
    {
     "name": "stdout",
     "output_type": "stream",
     "text": [
      "Setting up project directories...\n",
      "Loading trajectories...\n"
     ]
    },
    {
     "ename": "ImportError",
     "evalue": "Missing optional dependency 'pytables'.  Use pip or conda to install pytables.",
     "output_type": "error",
     "traceback": [
      "\u001b[0;31m---------------------------------------------------------------------------\u001b[0m",
      "\u001b[0;31mModuleNotFoundError\u001b[0m                       Traceback (most recent call last)",
      "File \u001b[0;32m~/Library/Caches/pypoetry/virtualenvs/deepof-qxwF8hwh-py3.10/lib/python3.10/site-packages/pandas/compat/_optional.py:142\u001b[0m, in \u001b[0;36mimport_optional_dependency\u001b[0;34m(name, extra, errors, min_version)\u001b[0m\n\u001b[1;32m    141\u001b[0m \u001b[38;5;28;01mtry\u001b[39;00m:\n\u001b[0;32m--> 142\u001b[0m     module \u001b[38;5;241m=\u001b[39m \u001b[43mimportlib\u001b[49m\u001b[38;5;241;43m.\u001b[39;49m\u001b[43mimport_module\u001b[49m\u001b[43m(\u001b[49m\u001b[43mname\u001b[49m\u001b[43m)\u001b[49m\n\u001b[1;32m    143\u001b[0m \u001b[38;5;28;01mexcept\u001b[39;00m \u001b[38;5;167;01mImportError\u001b[39;00m:\n",
      "File \u001b[0;32m/opt/homebrew/Cellar/python@3.10/3.10.7/Frameworks/Python.framework/Versions/3.10/lib/python3.10/importlib/__init__.py:126\u001b[0m, in \u001b[0;36mimport_module\u001b[0;34m(name, package)\u001b[0m\n\u001b[1;32m    125\u001b[0m         level \u001b[38;5;241m+\u001b[39m\u001b[38;5;241m=\u001b[39m \u001b[38;5;241m1\u001b[39m\n\u001b[0;32m--> 126\u001b[0m \u001b[38;5;28;01mreturn\u001b[39;00m \u001b[43m_bootstrap\u001b[49m\u001b[38;5;241;43m.\u001b[39;49m\u001b[43m_gcd_import\u001b[49m\u001b[43m(\u001b[49m\u001b[43mname\u001b[49m\u001b[43m[\u001b[49m\u001b[43mlevel\u001b[49m\u001b[43m:\u001b[49m\u001b[43m]\u001b[49m\u001b[43m,\u001b[49m\u001b[43m \u001b[49m\u001b[43mpackage\u001b[49m\u001b[43m,\u001b[49m\u001b[43m \u001b[49m\u001b[43mlevel\u001b[49m\u001b[43m)\u001b[49m\n",
      "File \u001b[0;32m<frozen importlib._bootstrap>:1050\u001b[0m, in \u001b[0;36m_gcd_import\u001b[0;34m(name, package, level)\u001b[0m\n",
      "File \u001b[0;32m<frozen importlib._bootstrap>:1027\u001b[0m, in \u001b[0;36m_find_and_load\u001b[0;34m(name, import_)\u001b[0m\n",
      "File \u001b[0;32m<frozen importlib._bootstrap>:1004\u001b[0m, in \u001b[0;36m_find_and_load_unlocked\u001b[0;34m(name, import_)\u001b[0m\n",
      "\u001b[0;31mModuleNotFoundError\u001b[0m: No module named 'tables'",
      "\nDuring handling of the above exception, another exception occurred:\n",
      "\u001b[0;31mImportError\u001b[0m                               Traceback (most recent call last)",
      "Cell \u001b[0;32mIn [9], line 1\u001b[0m\n\u001b[0;32m----> 1\u001b[0m my_deepof_project \u001b[38;5;241m=\u001b[39m my_deepof_project\u001b[38;5;241m.\u001b[39mcreate()\n",
      "File \u001b[0;32m~/PycharmProjects/deepof/deepof/data.py:742\u001b[0m, in \u001b[0;36mProject.create\u001b[0;34m(self, verbose)\u001b[0m\n\u001b[1;32m    733\u001b[0m \u001b[38;5;28mself\u001b[39m\u001b[38;5;241m.\u001b[39mset_up_project_directory()\n\u001b[1;32m    734\u001b[0m \u001b[38;5;28mself\u001b[39m\u001b[38;5;241m.\u001b[39mframe_rate \u001b[38;5;241m=\u001b[39m \u001b[38;5;28mint\u001b[39m(\n\u001b[1;32m    735\u001b[0m     np\u001b[38;5;241m.\u001b[39mround(\n\u001b[1;32m    736\u001b[0m         pims\u001b[38;5;241m.\u001b[39mImageIOReader(\n\u001b[0;32m   (...)\u001b[0m\n\u001b[1;32m    739\u001b[0m     )\n\u001b[1;32m    740\u001b[0m )\n\u001b[0;32m--> 742\u001b[0m tables, quality \u001b[38;5;241m=\u001b[39m \u001b[38;5;28;43mself\u001b[39;49m\u001b[38;5;241;43m.\u001b[39;49m\u001b[43mload_tables\u001b[49m\u001b[43m(\u001b[49m\u001b[43mverbose\u001b[49m\u001b[43m)\u001b[49m\n\u001b[1;32m    743\u001b[0m \u001b[38;5;28;01mif\u001b[39;00m \u001b[38;5;28mself\u001b[39m\u001b[38;5;241m.\u001b[39mexp_conditions \u001b[38;5;129;01mis\u001b[39;00m \u001b[38;5;129;01mnot\u001b[39;00m \u001b[38;5;28;01mNone\u001b[39;00m:\n\u001b[1;32m    744\u001b[0m     \u001b[38;5;28;01massert\u001b[39;00m (\n\u001b[1;32m    745\u001b[0m         tables\u001b[38;5;241m.\u001b[39mkeys() \u001b[38;5;241m==\u001b[39m \u001b[38;5;28mself\u001b[39m\u001b[38;5;241m.\u001b[39mexp_conditions\u001b[38;5;241m.\u001b[39mkeys()\n\u001b[1;32m    746\u001b[0m     ), \u001b[38;5;124m\"\u001b[39m\u001b[38;5;124mexperimental IDs in exp_conditions do not match\u001b[39m\u001b[38;5;124m\"\u001b[39m\n",
      "File \u001b[0;32m~/PycharmProjects/deepof/deepof/data.py:423\u001b[0m, in \u001b[0;36mProject.load_tables\u001b[0;34m(self, verbose)\u001b[0m\n\u001b[1;32m    421\u001b[0m tab_dict \u001b[38;5;241m=\u001b[39m {}\n\u001b[1;32m    422\u001b[0m \u001b[38;5;28;01mfor\u001b[39;00m tab \u001b[38;5;129;01min\u001b[39;00m \u001b[38;5;28mself\u001b[39m\u001b[38;5;241m.\u001b[39mtables:\n\u001b[0;32m--> 423\u001b[0m     loaded_tab \u001b[38;5;241m=\u001b[39m \u001b[43mpd\u001b[49m\u001b[38;5;241;43m.\u001b[39;49m\u001b[43mread_hdf\u001b[49m\u001b[43m(\u001b[49m\n\u001b[1;32m    424\u001b[0m \u001b[43m        \u001b[49m\u001b[43mdeepof\u001b[49m\u001b[38;5;241;43m.\u001b[39;49m\u001b[43mutils\u001b[49m\u001b[38;5;241;43m.\u001b[39;49m\u001b[43mos\u001b[49m\u001b[38;5;241;43m.\u001b[39;49m\u001b[43mpath\u001b[49m\u001b[38;5;241;43m.\u001b[39;49m\u001b[43mjoin\u001b[49m\u001b[43m(\u001b[49m\u001b[38;5;28;43mself\u001b[39;49m\u001b[38;5;241;43m.\u001b[39;49m\u001b[43mtable_path\u001b[49m\u001b[43m,\u001b[49m\u001b[43m \u001b[49m\u001b[43mtab\u001b[49m\u001b[43m)\u001b[49m\u001b[43m,\u001b[49m\u001b[43m \u001b[49m\u001b[43mdtype\u001b[49m\u001b[38;5;241;43m=\u001b[39;49m\u001b[38;5;28;43mfloat\u001b[39;49m\n\u001b[1;32m    425\u001b[0m \u001b[43m    \u001b[49m\u001b[43m)\u001b[49m\n\u001b[1;32m    427\u001b[0m     \u001b[38;5;66;03m# Adapt index to be compatible with downstream processing\u001b[39;00m\n\u001b[1;32m    428\u001b[0m     loaded_tab \u001b[38;5;241m=\u001b[39m loaded_tab\u001b[38;5;241m.\u001b[39mT\u001b[38;5;241m.\u001b[39mreset_index(drop\u001b[38;5;241m=\u001b[39m\u001b[38;5;28;01mFalse\u001b[39;00m)\u001b[38;5;241m.\u001b[39mT\n",
      "File \u001b[0;32m~/Library/Caches/pypoetry/virtualenvs/deepof-qxwF8hwh-py3.10/lib/python3.10/site-packages/pandas/io/pytables.py:416\u001b[0m, in \u001b[0;36mread_hdf\u001b[0;34m(path_or_buf, key, mode, errors, where, start, stop, columns, iterator, chunksize, **kwargs)\u001b[0m\n\u001b[1;32m    413\u001b[0m \u001b[38;5;28;01mif\u001b[39;00m \u001b[38;5;129;01mnot\u001b[39;00m exists:\n\u001b[1;32m    414\u001b[0m     \u001b[38;5;28;01mraise\u001b[39;00m \u001b[38;5;167;01mFileNotFoundError\u001b[39;00m(\u001b[38;5;124mf\u001b[39m\u001b[38;5;124m\"\u001b[39m\u001b[38;5;124mFile \u001b[39m\u001b[38;5;132;01m{\u001b[39;00mpath_or_buf\u001b[38;5;132;01m}\u001b[39;00m\u001b[38;5;124m does not exist\u001b[39m\u001b[38;5;124m\"\u001b[39m)\n\u001b[0;32m--> 416\u001b[0m store \u001b[38;5;241m=\u001b[39m \u001b[43mHDFStore\u001b[49m\u001b[43m(\u001b[49m\u001b[43mpath_or_buf\u001b[49m\u001b[43m,\u001b[49m\u001b[43m \u001b[49m\u001b[43mmode\u001b[49m\u001b[38;5;241;43m=\u001b[39;49m\u001b[43mmode\u001b[49m\u001b[43m,\u001b[49m\u001b[43m \u001b[49m\u001b[43merrors\u001b[49m\u001b[38;5;241;43m=\u001b[39;49m\u001b[43merrors\u001b[49m\u001b[43m,\u001b[49m\u001b[43m \u001b[49m\u001b[38;5;241;43m*\u001b[39;49m\u001b[38;5;241;43m*\u001b[39;49m\u001b[43mkwargs\u001b[49m\u001b[43m)\u001b[49m\n\u001b[1;32m    417\u001b[0m \u001b[38;5;66;03m# can't auto open/close if we are using an iterator\u001b[39;00m\n\u001b[1;32m    418\u001b[0m \u001b[38;5;66;03m# so delegate to the iterator\u001b[39;00m\n\u001b[1;32m    419\u001b[0m auto_close \u001b[38;5;241m=\u001b[39m \u001b[38;5;28;01mTrue\u001b[39;00m\n",
      "File \u001b[0;32m~/Library/Caches/pypoetry/virtualenvs/deepof-qxwF8hwh-py3.10/lib/python3.10/site-packages/pandas/io/pytables.py:559\u001b[0m, in \u001b[0;36mHDFStore.__init__\u001b[0;34m(self, path, mode, complevel, complib, fletcher32, **kwargs)\u001b[0m\n\u001b[1;32m    556\u001b[0m \u001b[38;5;28;01mif\u001b[39;00m \u001b[38;5;124m\"\u001b[39m\u001b[38;5;124mformat\u001b[39m\u001b[38;5;124m\"\u001b[39m \u001b[38;5;129;01min\u001b[39;00m kwargs:\n\u001b[1;32m    557\u001b[0m     \u001b[38;5;28;01mraise\u001b[39;00m \u001b[38;5;167;01mValueError\u001b[39;00m(\u001b[38;5;124m\"\u001b[39m\u001b[38;5;124mformat is not a defined argument for HDFStore\u001b[39m\u001b[38;5;124m\"\u001b[39m)\n\u001b[0;32m--> 559\u001b[0m tables \u001b[38;5;241m=\u001b[39m \u001b[43mimport_optional_dependency\u001b[49m\u001b[43m(\u001b[49m\u001b[38;5;124;43m\"\u001b[39;49m\u001b[38;5;124;43mtables\u001b[39;49m\u001b[38;5;124;43m\"\u001b[39;49m\u001b[43m)\u001b[49m\n\u001b[1;32m    561\u001b[0m \u001b[38;5;28;01mif\u001b[39;00m complib \u001b[38;5;129;01mis\u001b[39;00m \u001b[38;5;129;01mnot\u001b[39;00m \u001b[38;5;28;01mNone\u001b[39;00m \u001b[38;5;129;01mand\u001b[39;00m complib \u001b[38;5;129;01mnot\u001b[39;00m \u001b[38;5;129;01min\u001b[39;00m tables\u001b[38;5;241m.\u001b[39mfilters\u001b[38;5;241m.\u001b[39mall_complibs:\n\u001b[1;32m    562\u001b[0m     \u001b[38;5;28;01mraise\u001b[39;00m \u001b[38;5;167;01mValueError\u001b[39;00m(\n\u001b[1;32m    563\u001b[0m         \u001b[38;5;124mf\u001b[39m\u001b[38;5;124m\"\u001b[39m\u001b[38;5;124mcomplib only supports \u001b[39m\u001b[38;5;132;01m{\u001b[39;00mtables\u001b[38;5;241m.\u001b[39mfilters\u001b[38;5;241m.\u001b[39mall_complibs\u001b[38;5;132;01m}\u001b[39;00m\u001b[38;5;124m compression.\u001b[39m\u001b[38;5;124m\"\u001b[39m\n\u001b[1;32m    564\u001b[0m     )\n",
      "File \u001b[0;32m~/Library/Caches/pypoetry/virtualenvs/deepof-qxwF8hwh-py3.10/lib/python3.10/site-packages/pandas/compat/_optional.py:145\u001b[0m, in \u001b[0;36mimport_optional_dependency\u001b[0;34m(name, extra, errors, min_version)\u001b[0m\n\u001b[1;32m    143\u001b[0m \u001b[38;5;28;01mexcept\u001b[39;00m \u001b[38;5;167;01mImportError\u001b[39;00m:\n\u001b[1;32m    144\u001b[0m     \u001b[38;5;28;01mif\u001b[39;00m errors \u001b[38;5;241m==\u001b[39m \u001b[38;5;124m\"\u001b[39m\u001b[38;5;124mraise\u001b[39m\u001b[38;5;124m\"\u001b[39m:\n\u001b[0;32m--> 145\u001b[0m         \u001b[38;5;28;01mraise\u001b[39;00m \u001b[38;5;167;01mImportError\u001b[39;00m(msg)\n\u001b[1;32m    146\u001b[0m     \u001b[38;5;28;01melse\u001b[39;00m:\n\u001b[1;32m    147\u001b[0m         \u001b[38;5;28;01mreturn\u001b[39;00m \u001b[38;5;28;01mNone\u001b[39;00m\n",
      "\u001b[0;31mImportError\u001b[0m: Missing optional dependency 'pytables'.  Use pip or conda to install pytables."
     ]
    }
   ],
   "source": [
    "my_deepof_project = my_deepof_project.create()"
   ]
  },
  {
   "cell_type": "code",
   "execution_count": null,
   "id": "2fdc4a2d",
   "metadata": {},
   "outputs": [],
   "source": [
    "my_deepof_project.get_coords()"
   ]
  },
  {
   "cell_type": "markdown",
   "id": "a99d8cf5",
   "metadata": {},
   "source": [
    "### Load a previously generated project"
   ]
  },
  {
   "cell_type": "code",
   "execution_count": null,
   "id": "1c9803f0",
   "metadata": {},
   "outputs": [],
   "source": [
    "# Save your project to avoid laborious repetitions"
   ]
  },
  {
   "cell_type": "code",
   "execution_count": null,
   "id": "dde951d1",
   "metadata": {},
   "outputs": [],
   "source": [
    "# my_deepof_project.save(\"../../Desktop/deepOF_CSDS_tutorial_dataset/deepof_tutorial_saved_project\")"
   ]
  },
  {
   "cell_type": "code",
   "execution_count": null,
   "id": "899cbab7",
   "metadata": {},
   "outputs": [],
   "source": [
    "# Load a previously saved project\n",
    "my_deepof_project = deepof.data.load_project(\"../../Desktop/deepOF_CSDS_tutorial_dataset/deepof_tutorial/\")"
   ]
  },
  {
   "cell_type": "code",
   "execution_count": null,
   "id": "8e8de09f",
   "metadata": {},
   "outputs": [],
   "source": [
    "my_deepof_project"
   ]
  },
  {
   "cell_type": "markdown",
   "id": "7079cbfb",
   "metadata": {},
   "source": [
    "### Interact with your project: generate coordinates, distances, angles, and areas."
   ]
  },
  {
   "cell_type": "code",
   "execution_count": null,
   "id": "ee51de4a",
   "metadata": {},
   "outputs": [],
   "source": [
    "# Get and plot coordinates, distances, angles, and areas. Try and visualizing different centering and rotations"
   ]
  },
  {
   "cell_type": "code",
   "execution_count": null,
   "id": "e94d1215",
   "metadata": {},
   "outputs": [],
   "source": [
    "my_deepof_project.get_coords(polar=True)['20191204_Day2_SI_JB08_Test_54']"
   ]
  },
  {
   "cell_type": "code",
   "execution_count": null,
   "id": "5098c222",
   "metadata": {},
   "outputs": [],
   "source": [
    "my_deepof_project.get_distances()['20191204_Day2_SI_JB08_Test_54']"
   ]
  },
  {
   "cell_type": "code",
   "execution_count": null,
   "id": "21a7e7ca",
   "metadata": {},
   "outputs": [],
   "source": [
    "my_deepof_project.get_angles()['20191204_Day2_SI_JB08_Test_54']"
   ]
  },
  {
   "cell_type": "code",
   "execution_count": null,
   "id": "00081401",
   "metadata": {},
   "outputs": [],
   "source": [
    "my_deepof_project.get_areas()"
   ]
  },
  {
   "cell_type": "code",
   "execution_count": null,
   "id": "b376cb32",
   "metadata": {},
   "outputs": [],
   "source": [
    "my_deepof_project.get_areas()['20191204_Day2_SI_JB08_Test_54']"
   ]
  },
  {
   "cell_type": "code",
   "execution_count": null,
   "id": "087b5d58",
   "metadata": {},
   "outputs": [],
   "source": [
    "# Show how to merge different feature objects\n",
    "\n",
    "my_deepof_project.get_coords().pca()"
   ]
  },
  {
   "cell_type": "markdown",
   "id": "a0cd3693",
   "metadata": {},
   "source": [
    "### Exploratory visualizations: heatmaps, basic embeddings, and processed animations."
   ]
  },
  {
   "cell_type": "code",
   "execution_count": null,
   "id": "69d82405",
   "metadata": {
    "scrolled": false
   },
   "outputs": [],
   "source": [
    "import matplotlib.pyplot as plt\n",
    "import seaborn as sns\n",
    "import deepof.visuals\n",
    "from matplotlib.patches import Ellipse\n",
    "\n",
    "sns.set_context(\"talk\")\n",
    "\n",
    "fig, (ax1, ax2) = plt.subplots(1, 2, figsize=(12, 6))\n",
    "\n",
    "deepof.visuals.plot_heatmaps(\n",
    "    my_deepof_project, \n",
    "    [\"B_Nose\"],\n",
    "    center=\"arena\", \n",
    "    exp_condition=\"Nonstressed\",\n",
    "    ax=ax1,\n",
    "    show=False,\n",
    "    display_arena=True,\n",
    "    experiment_id=\"average\",\n",
    ")\n",
    "\n",
    "deepof.visuals.plot_heatmaps(\n",
    "    my_deepof_project, \n",
    "    [\"B_Nose\"],\n",
    "    center=\"arena\", \n",
    "    exp_condition=\"Stressed\",\n",
    "    ax=ax2,\n",
    "    show=False,\n",
    "    display_arena=True,\n",
    "    experiment_id=\"average\",\n",
    ")\n",
    "\n",
    "plt.tight_layout()\n",
    "plt.show()"
   ]
  },
  {
   "cell_type": "code",
   "execution_count": null,
   "id": "aa3d0f82",
   "metadata": {
    "scrolled": false
   },
   "outputs": [],
   "source": [
    "# Create a preprocessed version of the dataset we're after\n",
    "pp, _, _ = my_deepof_project.get_graph_dataset(\n",
    "  #  animal_id=\"B\",\n",
    "    center=\"Center\",\n",
    "    align=\"Spine_1\",\n",
    "    preprocess=True,\n",
    "    scale=\"robust\",\n",
    ")"
   ]
  },
  {
   "cell_type": "code",
   "execution_count": null,
   "id": "d710bef3",
   "metadata": {},
   "outputs": [],
   "source": [
    "pp[2]"
   ]
  },
  {
   "cell_type": "code",
   "execution_count": null,
   "id": "8b6966d5",
   "metadata": {},
   "outputs": [],
   "source": [
    "from ipywidgets import interact, IntSlider\n",
    "\n",
    "@interact()\n",
    "def plot_mouse(i=IntSlider(min=0, max=100)):\n",
    "\n",
    "    sns.scatterplot(x=pp[0][i][0][:11], y=pp[0][i][0][22:33])\n",
    "    sns.scatterplot(x=pp[0][i][0][11:22], y=pp[0][i][0][33:44])\n",
    "#     sns.scatterplot(x=pp[0][15000 + i][0][:11], y=pp[0][15000 + i][0][11:22])\n",
    "#     sns.scatterplot(x=pp[0][30000 + i][0][:11], y=pp[0][30000 + i][0][11:22])\n",
    "#     sns.scatterplot(x=pp[0][45000 + i][0][:11], y=pp[0][45000 + i][0][11:22])\n",
    "#     sns.scatterplot(x=pp[0][60000 + i][0][:11], y=pp[0][60000 + i][0][11:22])\n",
    "#     sns.scatterplot(x=pp[0][75000 + i][0][:11], y=pp[0][75000 + i][0][11:22])\n",
    "    \n",
    "    plt.xlim(-3, 3)\n",
    "    plt.ylim(-4, 5)\n",
    "    \n",
    "    plt.show()"
   ]
  },
  {
   "cell_type": "code",
   "execution_count": null,
   "id": "a3a07441",
   "metadata": {},
   "outputs": [],
   "source": [
    "ss = (pp[0][:25000], pp[1][:25000], pp[2][:25000], pp[3][:25000], pp[4][:25000], pp[5][:25000])"
   ]
  },
  {
   "cell_type": "code",
   "execution_count": null,
   "id": "a2ad7d7f",
   "metadata": {
    "scrolled": false
   },
   "outputs": [],
   "source": [
    "%%time\n",
    "cons = my_deepof_project.deep_unsupervised_embedding(\n",
    "    ss,\n",
    "    embedding_model=\"VaDE\",\n",
    "    epochs=5,\n",
    "    encoder_type=\"recurrent\",\n",
    "    n_components=15,\n",
    "    latent_dim=2,\n",
    "    kl_warmup=10,\n",
    "    kl_annealing_mode=\"linear\",\n",
    "    batch_size=128,\n",
    "    kmeans_loss=0.0,\n",
    "    reg_cat_clusters=0.0,\n",
    ")"
   ]
  },
  {
   "cell_type": "code",
   "execution_count": null,
   "id": "4b829788",
   "metadata": {},
   "outputs": [],
   "source": [
    "tt = cons.encoder([ss[0], ss[1]])\n",
    "qq = cons.grouper([ss[0], ss[1]])"
   ]
  },
  {
   "cell_type": "code",
   "execution_count": null,
   "id": "f3c731d2",
   "metadata": {},
   "outputs": [],
   "source": [
    "import umap\n",
    "umap = tt.numpy()#umap.UMAP(n_components=2, n_neighbors=250).fit_transform(tt.numpy())"
   ]
  },
  {
   "cell_type": "code",
   "execution_count": null,
   "id": "802922f7",
   "metadata": {},
   "outputs": [],
   "source": [
    "means = cons.get_gmm_params['means'].numpy()\n",
    "\n",
    "sns.scatterplot(x=umap[:, 0], y=umap[:, 1], hue=qq.numpy().argmax(axis=1), palette=\"tab20\")\n",
    "means = cons.get_layer(\"grouper\").get_layer(\"gaussian_mixture_latent\").c_mu.numpy()\n",
    "sns.scatterplot(x=means[:,0], y=means[:,1], s=250, c=\"black\")\n",
    "\n",
    "plt.title(\"VQVAE embeddings\")\n",
    "\n",
    "plt.legend(\"\")\n",
    "plt.show()"
   ]
  },
  {
   "cell_type": "code",
   "execution_count": null,
   "id": "b0f13977",
   "metadata": {
    "scrolled": false
   },
   "outputs": [],
   "source": [
    "from IPython import display\n",
    "\n",
    "video = deepof.visuals.animate_skeleton(\n",
    "    my_deepof_project,\n",
    "    #embedding=emb,\n",
    "    #cluster_assignments=clust_ass,\n",
    "    #animal_id=\"W\",\n",
    "    experiment_id=\"20191204_Day2_SI_JB08_Test_54\",\n",
    "    frame_limit=250,\n",
    "    # selected_cluster=0,\n",
    "    dpi=60,\n",
    "    # center=\"Center\",\n",
    "    # align=\"Spine_1\",\n",
    "    #embedding=[emb_B, emb_W],\n",
    "    save=\"SAB_multi_animal_example.mp4\",\n",
    ")\n",
    "\n",
    "html = display.HTML(video)\n",
    "display.display(html)\n",
    "plt.close()"
   ]
  },
  {
   "cell_type": "code",
   "execution_count": null,
   "id": "07d7100f",
   "metadata": {},
   "outputs": [],
   "source": [
    "# Single animal display"
   ]
  },
  {
   "cell_type": "code",
   "execution_count": null,
   "id": "5c8a2ee7",
   "metadata": {},
   "outputs": [],
   "source": [
    "from sklearn.decomposition import PCA\n",
    "\n",
    "emb = PCA(n_components=3).fit_transform(my_deepof_project.get_coords().filter_id(\"B\")['20191204_Day2_SI_JB08_Test_56'])"
   ]
  },
  {
   "cell_type": "code",
   "execution_count": null,
   "id": "e84c1462",
   "metadata": {},
   "outputs": [],
   "source": [
    "from IPython import display\n",
    "\n",
    "video = deepof.visuals.animate_skeleton(\n",
    "    my_deepof_project,\n",
    "    animal_id=\"B\",\n",
    "    embedding=emb,\n",
    "    experiment_id=\"20191204_Day2_SI_JB08_Test_56\",\n",
    "    frame_limit=750,\n",
    "    dpi=60,\n",
    ")\n",
    "\n",
    "html = display.HTML(video)\n",
    "display.display(html)\n",
    "plt.close()"
   ]
  },
  {
   "cell_type": "code",
   "execution_count": null,
   "id": "9edd3b27",
   "metadata": {},
   "outputs": [],
   "source": [
    "emb = PCA(n_components=3).fit_transform(my_deepof_project.get_coords(center=\"Center\", align=\"Spine_1\").filter_id(\"B\")['20191204_Day2_SI_JB08_Test_56'])"
   ]
  },
  {
   "cell_type": "code",
   "execution_count": null,
   "id": "b7d40c85",
   "metadata": {},
   "outputs": [],
   "source": [
    "from IPython import display\n",
    "\n",
    "video = deepof.visuals.animate_skeleton(\n",
    "    my_deepof_project,\n",
    "    center=\"Center\",\n",
    "    align=\"Spine_1\",\n",
    "    animal_id=\"B\",\n",
    "    embedding=emb,\n",
    "    experiment_id=\"20191204_Day2_SI_JB08_Test_56\",\n",
    "    frame_limit=750,\n",
    "    dpi=60,\n",
    ")\n",
    "\n",
    "html = display.HTML(video)\n",
    "display.display(html)\n",
    "plt.close()"
   ]
  },
  {
   "cell_type": "code",
   "execution_count": null,
   "id": "f11d88fe",
   "metadata": {},
   "outputs": [],
   "source": [
    "# Get and plot coordinates, distances, angles, and areas. Try and visualizing different centering and rotations"
   ]
  },
  {
   "cell_type": "code",
   "execution_count": null,
   "id": "9aa0be87",
   "metadata": {},
   "outputs": [],
   "source": [
    "my_deepof_project.get_coords(polar=True)['20191204_Day2_SI_JB08_Test_54']"
   ]
  },
  {
   "cell_type": "code",
   "execution_count": null,
   "id": "2bce68cb",
   "metadata": {},
   "outputs": [],
   "source": [
    "my_deepof_project.get_distances()['20191204_Day2_SI_JB08_Test_54']"
   ]
  },
  {
   "cell_type": "code",
   "execution_count": null,
   "id": "1f377ce2",
   "metadata": {},
   "outputs": [],
   "source": [
    "my_deepof_project.get_angles()['20191204_Day2_SI_JB08_Test_54']"
   ]
  },
  {
   "cell_type": "code",
   "execution_count": null,
   "id": "6920c9fa",
   "metadata": {},
   "outputs": [],
   "source": [
    "my_deepof_project.get_areas()"
   ]
  },
  {
   "cell_type": "code",
   "execution_count": null,
   "id": "bd76f9d7",
   "metadata": {},
   "outputs": [],
   "source": [
    "my_deepof_project.get_areas()['20191204_Day2_SI_JB08_Test_54']"
   ]
  },
  {
   "cell_type": "code",
   "execution_count": null,
   "id": "3317e013",
   "metadata": {},
   "outputs": [],
   "source": [
    "# Show how to merge different feature objects\n",
    "\n",
    "my_deepof_project.get_coords().pca()"
   ]
  },
  {
   "cell_type": "markdown",
   "id": "7a974c36",
   "metadata": {},
   "source": [
    "### Data preprocessing: generate datasets for machine learning."
   ]
  },
  {
   "cell_type": "code",
   "execution_count": null,
   "id": "2d33a5c8",
   "metadata": {
    "scrolled": false
   },
   "outputs": [],
   "source": [
    "import networkx as nx\n",
    "from deepof.utils import connect_mouse_topview\n",
    "\n",
    "G = connect_mouse_topview(animal_ids=[\"B\", \"W\"], exclude_bodyparts=[\"Tail_1\", \"Tail_2\", \"Tail_tip\"])\n",
    "\n",
    "# Include a (nicer) version of this plot in the tutorial\n",
    "nx.draw(G, \n",
    "        with_labels=True,\n",
    "        pos=nx.spring_layout(G), \n",
    "        node_color=[\"red\" if i.startswith(\"B\") else \"blue\" for i in G.nodes()])"
   ]
  },
  {
   "cell_type": "code",
   "execution_count": null,
   "id": "b0b55f5d",
   "metadata": {},
   "outputs": [],
   "source": []
  }
 ],
 "metadata": {
  "kernelspec": {
   "display_name": "Python 3 (ipykernel)",
   "language": "python",
   "name": "python3"
  },
  "language_info": {
   "codemirror_mode": {
    "name": "ipython",
    "version": 3
   },
   "file_extension": ".py",
   "mimetype": "text/x-python",
   "name": "python",
   "nbconvert_exporter": "python",
   "pygments_lexer": "ipython3",
   "version": "3.9.12"
  }
 },
 "nbformat": 4,
 "nbformat_minor": 5
}
