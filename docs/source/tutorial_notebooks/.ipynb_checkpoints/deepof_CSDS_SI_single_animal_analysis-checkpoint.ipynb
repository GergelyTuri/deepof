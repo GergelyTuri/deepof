{
 "cells": [
  {
   "cell_type": "code",
   "execution_count": null,
   "id": "a2b46f72",
   "metadata": {},
   "outputs": [],
   "source": [
    "import os\n",
    "os.chdir(\"../../..\")\n",
    "os.chdir(\"./\")\n",
    "import deepof.data"
   ]
  },
  {
   "cell_type": "code",
   "execution_count": null,
   "id": "e85be887",
   "metadata": {},
   "outputs": [],
   "source": [
    "import warnings\n",
    "warnings.filterwarnings(\"ignore\")"
   ]
  },
  {
   "cell_type": "code",
   "execution_count": null,
   "id": "1ed73656",
   "metadata": {},
   "outputs": [],
   "source": [
    "%load_ext autoreload\n",
    "%autoreload 2"
   ]
  },
  {
   "cell_type": "markdown",
   "id": "8d41506e",
   "metadata": {},
   "source": [
    "# DeepOF unsupervised pipeline: exploring the behavioral space"
   ]
  },
  {
   "cell_type": "markdown",
   "id": "11e24f1d",
   "metadata": {},
   "source": [
    "##### Tutorial index:\n",
    "    \n",
    "* Brief introduction to unsupervised analysis.\n",
    "* Load your previous project.\n",
    "* Running an unsupervised analysis with default parameters.\n",
    "* Understanding the different available models.\n",
    "* Cluster number selection.\n",
    "* Temporal and global embeddings.\n",
    "* Global separation dynamics.\n",
    "* Exploring cluster enrichment across conditions.\n",
    "* Exploring cluster dynamics across conditions.\n",
    "* Interpreting clusters using SHAP.\n",
    "* Exporting cluster video snippets."
   ]
  },
  {
   "cell_type": "markdown",
   "id": "366bcf28",
   "metadata": {},
   "source": [
    "### Brief introduction to unsupervised analysis"
   ]
  },
  {
   "cell_type": "markdown",
   "id": "b58a7f23",
   "metadata": {},
   "source": [
    "### Load your previous project"
   ]
  },
  {
   "cell_type": "code",
   "execution_count": null,
   "id": "1ce3f645",
   "metadata": {},
   "outputs": [],
   "source": [
    "import pickle\n",
    "\n",
    "# SI data\n",
    "my_deepof_project = deepof.data.load_project(\"./NatComm_trained_models/deepof_SI_project/\")\n",
    "\n",
    "with open(\"deepof_SI_exp_conds.pkl\", \"rb\") as handle:\n",
    "    exp_conds = pickle.load(handle)\n",
    "my_deepof_project._exp_conditions = exp_conds\n",
    "\n",
    "# Update project path to a local path\n",
    "my_deepof_project._project_path = \"./NatComm_trained_models/\"\n",
    "my_deepof_project._project_name = \"deepof_SI_project\"\n",
    "my_deepof_project._trained_model_path = \"./deepof/trained_models/\""
   ]
  },
  {
   "cell_type": "markdown",
   "id": "515bc6d3",
   "metadata": {},
   "source": [
    "### Running an unsupervised analysis with default parameters"
   ]
  },
  {
   "cell_type": "code",
   "execution_count": null,
   "id": "f581f691",
   "metadata": {},
   "outputs": [],
   "source": [
    "# Load results\n",
    "# with open(\n",
    "#     \"NatComm_trained_models/SI_single_animal_train_models/deepof_unsupervised_VaDE_encoder_recurrent_encodings_input=graph_k=10_latdim=8_changepoints_False_kmeans_loss=0.0_run=0.pkl\", \"rb\"\n",
    "# ) as handle:\n",
    "#     embeddings, soft_counts, breaks = pickle.load(handle)\n",
    "\n",
    "with open(\n",
    "    \"./NatComm_trained_models/SI_single_animal_train_models/deepof_unsupervised_VaDE_encoder_recurrent_encodings_input=graph_k=10_latdim=8_changepoints_False_kmeans_loss=0.0_run=0.pkl\", \"rb\"\n",
    ") as handle:\n",
    "    embeddings, soft_counts, breaks = pickle.load(handle)"
   ]
  },
  {
   "cell_type": "code",
   "execution_count": null,
   "id": "027e584b",
   "metadata": {},
   "outputs": [],
   "source": [
    "import numpy as np\n",
    "embeddings = {key: val.numpy() for key, val in embeddings.items()}\n",
    "soft_counts = {key: val.numpy() for key, val in soft_counts.items()}\n",
    "breaks = {key: np.ones(soft_counts[key].shape[0]).astype(int) for key in soft_counts.keys()}"
   ]
  },
  {
   "cell_type": "markdown",
   "id": "8a7ec89d",
   "metadata": {},
   "source": [
    "### Cluster number selection"
   ]
  },
  {
   "cell_type": "code",
   "execution_count": null,
   "id": "9b75acea",
   "metadata": {},
   "outputs": [],
   "source": [
    "from collections import defaultdict\n",
    "\n",
    "# For each computed model, train a logistic regression able to predict the class (CSDS / NS) based on the vector of\n",
    "# cluster population per video. Use the performance of the classifier as a metric for model selection\n",
    "def get_cluster_selection_training_data(\n",
    "    # Model selection parameters\n",
    "    deepof_project,\n",
    "    min_clusters=5,\n",
    "    max_clusters=25,\n",
    "    max_id=5,\n",
    "):\n",
    "\n",
    "    meta_counts = defaultdict(list)\n",
    "    labels = None\n",
    "\n",
    "    # Iteratively load all the models in question and set\n",
    "    for cluster_number in range(min_clusters, max_clusters + 1):\n",
    "\n",
    "        for run_id in range(max_id):\n",
    "            \n",
    "            try:\n",
    "                # Load model results\n",
    "                emb_path = \"./NatComm_trained_models/SI_single_animal_train_models/deepof_unsupervised_VaDE_encoder_recurrent_encodings_input=graph_k={}_latdim=8_changepoints_False_kmeans_loss=0.0_run={}.pkl\".format(\n",
    "                    cluster_number,\n",
    "                    run_id,\n",
    "                )\n",
    "\n",
    "\n",
    "                with open(emb_path, \"rb\") as handle:\n",
    "                    _, soft_counts, breaks = pickle.load(handle)\n",
    "\n",
    "                if labels is None:\n",
    "                    labels = np.array(\n",
    "                        [\n",
    "                            deepof_project.get_exp_conditions[key]\n",
    "                            for key in soft_counts.keys()\n",
    "                        ]\n",
    "                    )\n",
    "\n",
    "                time_on_cluster = deepof.post_hoc.get_time_on_cluster(soft_counts, breaks)\n",
    "                meta_counts[\"{}_{}\".format(cluster_number, run_id)] = np.stack(\n",
    "                    [tab for tab in time_on_cluster.values]\n",
    "                )\n",
    "\n",
    "            except FileNotFoundError:\n",
    "                continue\n",
    "\n",
    "    return meta_counts, labels.flatten()"
   ]
  },
  {
   "cell_type": "code",
   "execution_count": null,
   "id": "69831933",
   "metadata": {},
   "outputs": [],
   "source": [
    "%%time\n",
    "model_selection_X, model_selection_y = get_cluster_selection_training_data(my_deepof_project)"
   ]
  },
  {
   "cell_type": "code",
   "execution_count": null,
   "id": "72c424ab",
   "metadata": {},
   "outputs": [],
   "source": [
    "from sklearn.linear_model import LogisticRegression\n",
    "from sklearn.metrics import roc_auc_score\n",
    "import pandas as pd\n",
    "\n",
    "def train_cluster_selection_classifiers(X_dict, y):\n",
    "\n",
    "    auc_dict = defaultdict(list)\n",
    "\n",
    "    for key, X in tqdm.tqdm(X_dict.items()):\n",
    "\n",
    "        clf = LogisticRegression(penalty=None)\n",
    "        clf.fit(X, y)\n",
    "\n",
    "        auc_dict[key.split(\"_\")[0]].append(roc_auc_score(y, clf.predict_proba(X)[:, 1]))\n",
    "        \n",
    "    max_keys = np.max([len(v) for v in auc_dict.values()])\n",
    "    for key, val in auc_dict.items():\n",
    "        for j in range(max_keys - len(val)):\n",
    "            auc_dict[key].append(np.nan)\n",
    "\n",
    "    return pd.DataFrame(auc_dict).melt(var_name=\"number of clusters\", value_name=\"AUC\")"
   ]
  },
  {
   "cell_type": "code",
   "execution_count": null,
   "id": "5f0c70fd",
   "metadata": {},
   "outputs": [],
   "source": [
    "%%time\n",
    "import tqdm\n",
    "model_selection = train_cluster_selection_classifiers(model_selection_X, model_selection_y)\n",
    "agg = model_selection.groupby(\"number of clusters\").AUC.median()\n",
    "agg.index = agg.index.astype(int)\n",
    "agg.sort_index(inplace=True)"
   ]
  },
  {
   "cell_type": "markdown",
   "id": "c14d9aef",
   "metadata": {},
   "source": [
    "### Paper figure layout"
   ]
  },
  {
   "cell_type": "code",
   "execution_count": null,
   "id": "0a69662a",
   "metadata": {},
   "outputs": [],
   "source": [
    "def identify_axes(ax_dict, fontsize=48):\n",
    "    \"\"\"\n",
    "    Helper to identify the Axes in the examples below.\n",
    "\n",
    "    Draws the label in a large font in the center of the Axes.\n",
    "\n",
    "    Parameters\n",
    "    ----------\n",
    "    ax_dict : dict[str, Axes]\n",
    "        Mapping between the title / label and the Axes.\n",
    "    fontsize : int, optional\n",
    "        How big the label should be.\n",
    "    \"\"\"\n",
    "    kw = dict(ha=\"center\", va=\"center\", fontsize=fontsize, color=\"darkgrey\")\n",
    "    for k, ax in ax_dict.items():\n",
    "        ax.text(0.5, 0.5, k, transform=ax.transAxes, **kw)"
   ]
  },
  {
   "cell_type": "code",
   "execution_count": null,
   "id": "2ec0f6a2",
   "metadata": {
    "scrolled": false
   },
   "outputs": [],
   "source": [
    "import matplotlib.pyplot as plt\n",
    "import seaborn as sns\n",
    "\n",
    "# Create paper layout figure\n",
    "sns.set_context(\"talk\")\n",
    "paper_canvas = plt.figure(layout=\"constrained\", figsize=(24, 24)).subplot_mosaic(\n",
    "    mosaic=\"\"\"\n",
    "           AAACC\n",
    "           BBBCC\n",
    "           DDEEE\n",
    "           DDFGH\n",
    "           \"\"\",\n",
    "    gridspec_kw={\n",
    "    \"bottom\": 0.25,\n",
    "    \"top\": 0.95,\n",
    "    \"left\": 0.1,\n",
    "    \"right\": 0.9,\n",
    "    \"wspace\": 0.5,\n",
    "    \"hspace\": 0.5,\n",
    "},\n",
    ")\n",
    "\n",
    "# Populate panels\n",
    "\n",
    "# Panel A\n",
    "sns.boxplot(data=model_selection, x=\"number of clusters\", y=\"AUC\", color=\"lightgrey\", ax=paper_canvas[\"A\"])\n",
    "sns.lineplot(\n",
    "    data=model_selection, \n",
    "    x=\"number of clusters\", \n",
    "    y=\"AUC\", \n",
    "    estimator=np.median, \n",
    "    ci=0, \n",
    "    linewidth=3.5,\n",
    "    zorder=10,\n",
    "    color=\"#0b7189\",\n",
    "    ax=paper_canvas[\"A\"],\n",
    ")\n",
    "sns.scatterplot(\n",
    "    x=[5], \n",
    "    y=model_selection.loc[model_selection[\"number of clusters\"] == \"7\", \"AUC\"].median(), \n",
    "    zorder=10, \n",
    "    s=350,\n",
    "    linewidth=2,\n",
    "    color=\"#0b7189\",\n",
    "    ax=paper_canvas[\"A\"],\n",
    ")\n",
    "paper_canvas[\"A\"].set_ylim(0.85, 1.025)\n",
    "\n",
    "# Panel B\n",
    "deepof.visuals.plot_distance_between_conditions(\n",
    "    my_deepof_project,\n",
    "    embeddings,\n",
    "    soft_counts,\n",
    "    breaks,\n",
    "    \"CSDS\",\n",
    "    distance_metric=\"wasserstein\",\n",
    "    n_jobs=-1,\n",
    "    ax=paper_canvas[\"B\"],\n",
    ")\n",
    "\n",
    "\n",
    "# Panel C\n",
    "deepof.visuals.plot_embeddings(\n",
    "    my_deepof_project, \n",
    "    embeddings, \n",
    "    soft_counts,\n",
    "    breaks,\n",
    "    aggregate_experiments=False,\n",
    "    samples=250,\n",
    "    ax=paper_canvas[\"C\"],\n",
    ")\n",
    "\n",
    "# Panel D\n",
    "deepof.visuals.plot_embeddings(\n",
    "    my_deepof_project,\n",
    "    embeddings, \n",
    "    soft_counts,\n",
    "    breaks,\n",
    "    aggregate_experiments=\"time on cluster\",\n",
    "    exp_condition=\"CSDS\",\n",
    "    show_aggregated_density=False,\n",
    "    ax=paper_canvas[\"D\"],\n",
    "    bin_index=0,\n",
    "    bin_size=126,\n",
    ")\n",
    "\n",
    "# Panel E\n",
    "deepof.visuals.plot_enrichment(\n",
    "    my_deepof_project,\n",
    "    embeddings,\n",
    "    soft_counts,\n",
    "    breaks,\n",
    "    normalize=True,\n",
    "    bin_size=126,\n",
    "    bin_index=0,\n",
    "    add_stats=\"Mann-Whitney\",\n",
    "    exp_condition=\"CSDS\",\n",
    "    verbose=True,\n",
    "    ax=paper_canvas[\"E\"],\n",
    ")\n",
    "\n",
    "# Panel F\n",
    "deepof.visuals.plot_transitions(\n",
    "    my_deepof_project,\n",
    "    embeddings,\n",
    "    soft_counts,\n",
    "    visualization=\"networks\",\n",
    "    silence_diagonal=True,\n",
    "    exp_condition=None,\n",
    "    axes=paper_canvas[\"F\"],\n",
    ")\n",
    "\n",
    "# Panels G and H\n",
    "deepof.visuals.plot_transitions(\n",
    "    my_deepof_project,\n",
    "    embeddings,\n",
    "    soft_counts,\n",
    "    visualization=\"networks\",\n",
    "    silence_diagonal=True,\n",
    "    exp_condition=\"CSDS\",\n",
    "    axes=[paper_canvas[\"G\"], paper_canvas[\"H\"]],\n",
    ")\n",
    "\n",
    "# identify_axes(paper_canvas)\n",
    "plt.tight_layout()\n",
    "plt.savefig(\"CSDS_SI_sa_figure.pdf\")\n",
    "\n",
    "plt.show()"
   ]
  },
  {
   "cell_type": "markdown",
   "id": "eef4f6d5",
   "metadata": {},
   "source": [
    "### Associated supplementary figures"
   ]
  },
  {
   "cell_type": "code",
   "execution_count": null,
   "id": "8e2e4d1b",
   "metadata": {
    "scrolled": false
   },
   "outputs": [],
   "source": [
    "fig, ((ax1, ax2), (ax3, ax4)) = plt.subplots(2, 2, figsize=(18, 18))\n",
    "\n",
    "\n",
    "for i, ax in zip(range(4), [ax1, ax2, ax3, ax4]):\n",
    "\n",
    "    deepof.visuals.plot_embeddings(\n",
    "        my_deepof_project,\n",
    "        embeddings, \n",
    "        soft_counts,\n",
    "        breaks,\n",
    "        aggregate_experiments=\"time on cluster\",\n",
    "        exp_condition=\"CSDS\",\n",
    "        show_aggregated_density=True,\n",
    "        bin_index=i,\n",
    "        bin_size=126,\n",
    "        ax=ax,\n",
    "        save=False, # Set to True, or give a custom name, to save the plot,\n",
    "    )\n",
    "\n",
    "    ax.set_xlim(-4, 5)\n",
    "    ax.set_ylim(-4, 5)\n",
    "    \n",
    "plt.tight_layout()\n",
    "plt.savefig(\"CSDS_SI_sa_habituation.pdf\")\n",
    "\n",
    "plt.show()"
   ]
  },
  {
   "cell_type": "code",
   "execution_count": null,
   "id": "7abbfbeb",
   "metadata": {
    "scrolled": false
   },
   "outputs": [],
   "source": [
    "fig, (ax1, ax2, ax3) = plt.subplots(3, 1, figsize=(16, 12))\n",
    "sns.set_context(\"talk\")\n",
    "\n",
    "for i, ax in zip(range(3), [ax1, ax2, ax3]):\n",
    "\n",
    "    deepof.visuals.plot_enrichment(\n",
    "        my_deepof_project,\n",
    "        embeddings, \n",
    "        soft_counts,\n",
    "        breaks,\n",
    "        exp_condition=\"CSDS\",\n",
    "        bin_index=i+1,\n",
    "        bin_size=126,\n",
    "        ax=ax,\n",
    "        verbose=False,\n",
    "        save=False, # Set to True, or give a custom name, to save the plot,\n",
    "    )\n",
    "    ax.legend().remove()\n",
    "\n",
    "plt.tight_layout()\n",
    "\n",
    "plt.savefig(\"CSDS_sa_habituation_bars.pdf\")\n",
    "plt.show()"
   ]
  },
  {
   "cell_type": "code",
   "execution_count": null,
   "id": "7c5ce1ba",
   "metadata": {
    "scrolled": false
   },
   "outputs": [],
   "source": [
    "# Check for spatial cluster arrangement in the arena\n",
    "fig, axes = plt.subplots(4, 3, figsize=(12, 12))\n",
    "axes = [item for sublist in axes for item in sublist]\n",
    "\n",
    "def get_cluster_mask(cluster):\n",
    "    return {key:val.argmax(axis=1) == cluster for key, val in soft_counts.items()}\n",
    "\n",
    "deepof.visuals.heatmap(\n",
    "    my_deepof_project.get_coords(),\n",
    "    [\"B_Nose\"],\n",
    "    ax=axes[0],\n",
    ")\n",
    "axes[0].set_title(\"All\")\n",
    "\n",
    "for i in tqdm.tqdm(range(10)):\n",
    "    \n",
    "    deepof.visuals.heatmap(\n",
    "        my_deepof_project.get_coords(),\n",
    "        [\"B_Nose\"],\n",
    "        mask=get_cluster_mask(i),\n",
    "        ax=axes[i + 1],\n",
    "    )\n",
    "    axes[i+1].set_title(\"cluster {}\".format(i))\n",
    "\n",
    "plt.tight_layout()\n",
    "plt.savefig(\"CSDS_SI_sa_cluster_heatmaps.pdf\")\n",
    "plt.show()"
   ]
  },
  {
   "cell_type": "markdown",
   "id": "66ffb1d3",
   "metadata": {},
   "source": [
    "### Interpreting clusters using SHAP"
   ]
  },
  {
   "cell_type": "code",
   "execution_count": null,
   "id": "dde8dd52",
   "metadata": {},
   "outputs": [],
   "source": [
    "# supervised_annotations = my_deepof_project.supervised_annotation()"
   ]
  },
  {
   "cell_type": "code",
   "execution_count": null,
   "id": "d7c72b75",
   "metadata": {
    "scrolled": false
   },
   "outputs": [],
   "source": [
    "# %%time\n",
    "# csds_chunk_stats, hard_counts, sampled_breaks = deepof.post_hoc.annotate_time_chunks(\n",
    "#     deepof_project=my_deepof_project,\n",
    "#     soft_counts=soft_counts,\n",
    "#     breaks=breaks,\n",
    "#     supervised_annotations=supervised_annotations,\n",
    "#     kin_derivative=1,\n",
    "#     window_size=25,\n",
    "#     include_distances=True,\n",
    "#     min_confidence=0.9,\n",
    "#     include_angles=True,\n",
    "#     include_areas=True,\n",
    "#     aggregate=\"mean\",\n",
    "#     samples=10000,\n",
    "# )"
   ]
  },
  {
   "cell_type": "code",
   "execution_count": null,
   "id": "302b1c70",
   "metadata": {
    "scrolled": false
   },
   "outputs": [],
   "source": [
    "# %%time\n",
    "# full_cluster_clf, cluster_gbm_performance, groups = deepof.post_hoc.train_supervised_cluster_detectors(\n",
    "#     csds_chunk_stats, hard_counts, sampled_breaks, n_folds=5, verbose=2,\n",
    "# )"
   ]
  },
  {
   "cell_type": "code",
   "execution_count": null,
   "id": "0211a0a9",
   "metadata": {},
   "outputs": [],
   "source": [
    "# with open(\"SHAP_analysis_results_SI_sa.pkl\", \"wb\") as handle:\n",
    "#     pickle.dump([\n",
    "#         shap_values, \n",
    "#         explainer, \n",
    "#         data_to_explain,\n",
    "#         csds_chunk_stats, \n",
    "#         hard_counts, \n",
    "#         full_cluster_clf,\n",
    "#         cluster_gbm_performance, \n",
    "#         groups,\n",
    "#     ], handle, protocol=pickle.HIGHEST_PROTOCOL)\n",
    "    \n",
    "with open(\"NatComm_trained_models/SHAP_analysis_results_SI_sa.pkl\", \"rb\") as handle:\n",
    "    (\n",
    "        shap_values, \n",
    "        explainer, \n",
    "        data_to_explain,\n",
    "        csds_chunk_stats, \n",
    "        hard_counts, \n",
    "        full_cluster_clf,\n",
    "        cluster_gbm_performance, \n",
    "        groups\n",
    "    ) = pickle.load(handle)"
   ]
  },
  {
   "cell_type": "code",
   "execution_count": null,
   "id": "e456f801",
   "metadata": {},
   "outputs": [],
   "source": [
    "data_to_explain"
   ]
  },
  {
   "cell_type": "code",
   "execution_count": null,
   "id": "c896d3d6",
   "metadata": {},
   "outputs": [],
   "source": [
    "[i for i in csds_chunk_stats.columns if \"nose\" in i]"
   ]
  },
  {
   "cell_type": "code",
   "execution_count": null,
   "id": "c630e00e",
   "metadata": {},
   "outputs": [],
   "source": [
    "from matplotlib import colors as plt_colors\n",
    "from ipywidgets import interact\n",
    "import copy\n",
    "import numpy as np\n",
    "\n",
    "shap_canvas = plt.figure(figsize=(20, 30)).subplot_mosaic(\n",
    "    mosaic=\"\"\"\n",
    "           AABB\n",
    "           AABB\n",
    "           CCDD\n",
    "           CCDD\n",
    "           EEFF\n",
    "           EEFF\n",
    "           \"\"\",\n",
    "    gridspec_kw={\n",
    "    \"bottom\": 0.25,\n",
    "    \"top\": 0.95,\n",
    "    \"left\": 0.1,\n",
    "    \"right\": 0.9,\n",
    "    \"wspace\": 0.5,\n",
    "    \"hspace\": 0.5,\n",
    "},\n",
    ")\n",
    "\n",
    "sns.set_context(\"paper\")\n",
    "\n",
    "deepof.visuals.plot_cluster_detection_performance(\n",
    "    my_deepof_project,\n",
    "    csds_chunk_stats,\n",
    "    cluster_gbm_performance,\n",
    "    hard_counts,\n",
    "    groups,\n",
    "    visualization=\"confusion_matrix\",\n",
    "    ax=shap_canvas[\"A\"],\n",
    "    save=False,\n",
    ")\n",
    "shap_canvas[\"A\"].set_xticklabels(shap_canvas[\"A\"].get_xticklabels(), rotation=90)\n",
    "shap_canvas[\"A\"].set_yticklabels(shap_canvas[\"A\"].get_yticklabels(), rotation=0)\n",
    "\n",
    "deepof.visuals.plot_cluster_detection_performance(\n",
    "    my_deepof_project,\n",
    "    csds_chunk_stats,\n",
    "    cluster_gbm_performance,\n",
    "    hard_counts,\n",
    "    groups,\n",
    "    visualization=\"balanced_accuracy\",\n",
    "    save=False,\n",
    "    ax=shap_canvas[\"B\"],\n",
    ")\n",
    "\n",
    "plt.tight_layout()\n",
    "plt.savefig(\"SHAP_SI_sa_template.pdf\")\n",
    "\n",
    "plt.show()"
   ]
  },
  {
   "cell_type": "code",
   "execution_count": null,
   "id": "1e425d78",
   "metadata": {},
   "outputs": [],
   "source": [
    "# shap_values, explainer, data_to_explain = deepof.post_hoc.explain_clusters(\n",
    "#     csds_chunk_stats, hard_counts, full_cluster_clf, samples=1000,\n",
    "# )"
   ]
  },
  {
   "cell_type": "code",
   "execution_count": null,
   "id": "ce17c2cd",
   "metadata": {},
   "outputs": [],
   "source": [
    "# with open(\"SHAP_analysis_results_OF.pkl\", \"wb\") as handle:\n",
    "#     pickle.dump([\n",
    "#         shap_values, \n",
    "#         explainer, \n",
    "#         data_to_explain,\n",
    "#         csds_chunk_stats, \n",
    "#         hard_counts, \n",
    "#         full_cluster_clf,\n",
    "#         cluster_gbm_performance, \n",
    "#         groups,\n",
    "#     ], handle, protocol=pickle.HIGHEST_PROTOCOL)"
   ]
  },
  {
   "cell_type": "code",
   "execution_count": null,
   "id": "e87279c0",
   "metadata": {
    "scrolled": false
   },
   "outputs": [],
   "source": [
    "from matplotlib import colors as plt_colors\n",
    "from ipywidgets import interact\n",
    "import copy\n",
    "import numpy as np\n",
    "\n",
    "# Plot swarm plots per cluster\n",
    "@interact()\n",
    "def plot_shap_swarm_per_cluster(\n",
    "    cluster=[\"all\"] + list(range(10)), save=False,\n",
    "):\n",
    "    \n",
    "    with open(\"NatComm_trained_models/SHAP_analysis_results_SI_sa.pkl\", \"rb\") as handle:\n",
    "        (\n",
    "            shap_values, \n",
    "            explainer, \n",
    "            data_to_explain,\n",
    "            csds_chunk_stats, \n",
    "            hard_counts, \n",
    "            full_cluster_clf,\n",
    "            cluster_gbm_performance, \n",
    "            groups,\n",
    "        ) = pickle.load(handle)\n",
    "    \n",
    "    deepof.visuals.plot_shap_swarm_per_cluster(\n",
    "        my_deepof_project, \n",
    "        data_to_explain, \n",
    "        shap_values, cluster, \n",
    "        save=save,\n",
    "        show=False,\n",
    "        max_display=8,\n",
    "    )\n",
    "    \n",
    "    plt.legend(loc=\"lower right\")\n",
    "    plt.tight_layout()\n",
    "    plt.savefig(\"./NatComm_trained_models/deepof_SI_project/Figures/SHAP_results_{}.pdf\".format(cluster))\n",
    "    \n",
    "    plt.show()"
   ]
  },
  {
   "cell_type": "markdown",
   "id": "80d28f02",
   "metadata": {},
   "source": [
    "### Export animations and videos"
   ]
  },
  {
   "cell_type": "code",
   "execution_count": null,
   "id": "04e61418",
   "metadata": {
    "scrolled": false
   },
   "outputs": [],
   "source": [
    "from IPython import display\n",
    "\n",
    "video = deepof.visuals.animate_skeleton(\n",
    "    my_deepof_project,\n",
    "    embedding=embeddings,\n",
    "    cluster_assignments=soft_counts,\n",
    "    experiment_id=\"20191203_Day1_SI_JB08_Test_13\",\n",
    "    frame_limit=150,\n",
    "    selected_cluster=1,\n",
    "    dpi=60,\n",
    "    center=\"arena\",    \n",
    ")\n",
    "\n",
    "html = display.HTML(video)\n",
    "display.display(html)\n",
    "plt.close()"
   ]
  },
  {
   "cell_type": "code",
   "execution_count": null,
   "id": "e7ac4dea",
   "metadata": {
    "scrolled": false
   },
   "outputs": [],
   "source": [
    "from IPython import display\n",
    "\n",
    "video = deepof.visuals.animate_skeleton(\n",
    "    my_deepof_project,\n",
    "    embedding=embeddings,\n",
    "    cluster_assignments=soft_counts,\n",
    "    experiment_id=\"20191203_Day1_SI_JB08_Test_5\",\n",
    "    frame_limit=150,\n",
    "    selected_cluster=3,\n",
    "    dpi=60,\n",
    "    center=\"arena\",\n",
    ")\n",
    "\n",
    "html = display.HTML(video)\n",
    "display.display(html)\n",
    "plt.close()"
   ]
  },
  {
   "cell_type": "code",
   "execution_count": null,
   "id": "a3f8a30f",
   "metadata": {},
   "outputs": [],
   "source": [
    "deepof.visuals.export_annotated_video(\n",
    "    my_deepof_project,\n",
    "    soft_counts,\n",
    "    breaks,\n",
    "    frame_limit_per_video=100,\n",
    "    min_confidence=0.75,\n",
    "    min_bout_duration=13,\n",
    ")"
   ]
  }
 ],
 "metadata": {
  "kernelspec": {
   "display_name": "deepof",
   "language": "python",
   "name": "deepof"
  },
  "language_info": {
   "codemirror_mode": {
    "name": "ipython",
    "version": 3
   },
   "file_extension": ".py",
   "mimetype": "text/x-python",
   "name": "python",
   "nbconvert_exporter": "python",
   "pygments_lexer": "ipython3",
   "version": "3.9.12"
  }
 },
 "nbformat": 4,
 "nbformat_minor": 5
}
