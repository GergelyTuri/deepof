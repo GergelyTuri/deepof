{
 "cells": [
  {
   "cell_type": "code",
   "execution_count": 1,
   "id": "d27cbaf8",
   "metadata": {},
   "outputs": [],
   "source": [
    "import os\n",
    "os.chdir(\"../../..\")\n",
    "import deepof.data"
   ]
  },
  {
   "cell_type": "code",
   "execution_count": 2,
   "id": "8c3db2a7",
   "metadata": {},
   "outputs": [],
   "source": [
    "import warnings\n",
    "warnings.filterwarnings(\"ignore\")"
   ]
  },
  {
   "cell_type": "code",
   "execution_count": 3,
   "id": "fc02f8c4",
   "metadata": {},
   "outputs": [],
   "source": [
    "%load_ext autoreload\n",
    "%autoreload 2"
   ]
  },
  {
   "cell_type": "markdown",
   "id": "1763ab7f",
   "metadata": {},
   "source": [
    "# DeepOF supervised pipeline: detecting pre-defined behaviors"
   ]
  },
  {
   "cell_type": "markdown",
   "id": "8a0170cc",
   "metadata": {},
   "source": [
    "##### Tutorial index:\n",
    "    \n",
    "    * Brief introduction to supervised analysis, including the figure with all tracked behaviors.\n",
    "    * Load the previous project.\n",
    "    * Run the supervised annotation pipeline.\n",
    "    * Visualize global embeddings using the retrieved traits.\n",
    "    * Visualize animated unsupervised embeddings, coloured by specific traits.\n",
    "    * Explore trait enrichment across conditions.\n",
    "    * Generate Gantt plots with all traits.\n",
    "    * Export video snippets."
   ]
  },
  {
   "cell_type": "markdown",
   "id": "c33f9fcf",
   "metadata": {},
   "source": [
    "### Supervised annotation in DeepOF - search for pre-established patterns"
   ]
  },
  {
   "cell_type": "code",
   "execution_count": null,
   "id": "7b57bdf8",
   "metadata": {},
   "outputs": [],
   "source": []
  },
  {
   "cell_type": "markdown",
   "id": "ed6c19af",
   "metadata": {},
   "source": [
    "### Load a previously initiated project"
   ]
  },
  {
   "cell_type": "code",
   "execution_count": 4,
   "id": "6382da27",
   "metadata": {},
   "outputs": [],
   "source": [
    "import pickle\n",
    "\n",
    "# # FC data\n",
    "# my_deepof_project = deepof.data.load_project(\"./deepof_FC_project_files/\")\n",
    "\n",
    "# with open(\"./deepof_FC_project_files/Coordinates/FC_dataset_experimental_conditions.pkl\", \"rb\") as handle:\n",
    "#     exp_conditions = pickle.load(handle)\n",
    "# my_deepof_project._exp_conditions = exp_conditions\n",
    "\n",
    "# SI data\n",
    "my_deepof_project = deepof.data.load_project(\"../../Desktop/deepOF_datasets/Tagged_videos/Data_for_deepof_SI/deepof_SI_project/\")\n",
    "with open(\"deepof_SI_exp_conds.pkl\", \"rb\") as handle:\n",
    "    exp_conds = pickle.load(handle)\n",
    "my_deepof_project._exp_conditions = exp_conds\n",
    "\n",
    "# Update project path to a local path\n",
    "my_deepof_project._project_path = \"../../Desktop/deepOF_datasets/Tagged_videos/Data_for_deepof_SI/\"\n",
    "my_deepof_project._project_name = \"deepof_SI_project\""
   ]
  },
  {
   "cell_type": "markdown",
   "id": "fcacaf3c",
   "metadata": {},
   "source": [
    "### Run the supervised annotation pipeline."
   ]
  },
  {
   "cell_type": "code",
   "execution_count": null,
   "id": "a5c2367b",
   "metadata": {},
   "outputs": [],
   "source": []
  },
  {
   "cell_type": "markdown",
   "id": "7c1fe5a9",
   "metadata": {},
   "source": [
    "### Visualize global embeddings using the retrieved traits."
   ]
  },
  {
   "cell_type": "code",
   "execution_count": null,
   "id": "5c42579d",
   "metadata": {},
   "outputs": [],
   "source": []
  },
  {
   "cell_type": "markdown",
   "id": "1c670aaf",
   "metadata": {},
   "source": [
    "### Visualize animated unsupervised embeddings, coloured by specific traits."
   ]
  },
  {
   "cell_type": "code",
   "execution_count": null,
   "id": "9472dd3a",
   "metadata": {},
   "outputs": [],
   "source": []
  },
  {
   "cell_type": "markdown",
   "id": "fe0bcb7b",
   "metadata": {},
   "source": [
    "### Explore trait enrichment across conditions."
   ]
  },
  {
   "cell_type": "code",
   "execution_count": null,
   "id": "eb1dd8fd",
   "metadata": {},
   "outputs": [],
   "source": []
  },
  {
   "cell_type": "markdown",
   "id": "23ad90f1",
   "metadata": {},
   "source": [
    "### Generate Gantt plots with all traits."
   ]
  },
  {
   "cell_type": "code",
   "execution_count": null,
   "id": "11c6ffed",
   "metadata": {},
   "outputs": [],
   "source": []
  },
  {
   "cell_type": "code",
   "execution_count": null,
   "id": "21868993",
   "metadata": {},
   "outputs": [],
   "source": []
  }
 ],
 "metadata": {
  "kernelspec": {
   "display_name": "Python 3 (ipykernel)",
   "language": "python",
   "name": "python3"
  },
  "language_info": {
   "codemirror_mode": {
    "name": "ipython",
    "version": 3
   },
   "file_extension": ".py",
   "mimetype": "text/x-python",
   "name": "python",
   "nbconvert_exporter": "python",
   "pygments_lexer": "ipython3",
   "version": "3.9.12"
  }
 },
 "nbformat": 4,
 "nbformat_minor": 5
}
