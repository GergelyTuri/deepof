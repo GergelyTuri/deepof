{
 "cells": [
  {
   "cell_type": "code",
   "execution_count": null,
   "id": "d64823a2",
   "metadata": {},
   "outputs": [],
   "source": [
    "import os\n",
    "os.chdir(\"../../..\")\n",
    "import deepof.data"
   ]
  },
  {
   "cell_type": "code",
   "execution_count": null,
   "id": "3227f178",
   "metadata": {},
   "outputs": [],
   "source": [
    "import warnings\n",
    "warnings.filterwarnings(\"ignore\")"
   ]
  },
  {
   "cell_type": "code",
   "execution_count": null,
   "id": "7a68dc94",
   "metadata": {},
   "outputs": [],
   "source": [
    "%load_ext autoreload\n",
    "%autoreload 2"
   ]
  },
  {
   "cell_type": "markdown",
   "id": "1763ab7f",
   "metadata": {},
   "source": [
    "# DeepOF supervised pipeline: detecting pre-defined behaviors"
   ]
  },
  {
   "cell_type": "markdown",
   "id": "8a0170cc",
   "metadata": {},
   "source": [
    "##### Tutorial index:\n",
    "    \n",
    "    * Brief introduction to supervised analysis, including the figure with all tracked behaviors.\n",
    "    * Load the previous project.\n",
    "    * Run the supervised annotation pipeline.\n",
    "    * Visualize global embeddings using the retrieved traits.\n",
    "    * Visualize animated unsupervised embeddings, coloured by specific traits.\n",
    "    * Explore trait enrichment across conditions.\n",
    "    * Generate Gantt plots with all traits.\n",
    "    * Export video snippets."
   ]
  },
  {
   "cell_type": "markdown",
   "id": "e14673fa",
   "metadata": {},
   "source": [
    "### Supervised annotation in DeepOF - search for pre-established patterns"
   ]
  },
  {
   "cell_type": "code",
   "execution_count": null,
   "id": "7b57bdf8",
   "metadata": {},
   "outputs": [],
   "source": []
  },
  {
   "cell_type": "markdown",
   "id": "60b9158e",
   "metadata": {},
   "source": [
    "### Load a previously initiated project"
   ]
  },
  {
   "cell_type": "code",
   "execution_count": null,
   "id": "6382da27",
   "metadata": {},
   "outputs": [],
   "source": [
    "import pickle\n",
    "\n",
    "# # FC data\n",
    "# my_deepof_project = deepof.data.load_project(\"./deepof_FC_project_files/\")\n",
    "\n",
    "# with open(\"./deepof_FC_project_files/Coordinates/FC_dataset_experimental_conditions.pkl\", \"rb\") as handle:\n",
    "#     exp_conditions = pickle.load(handle)\n",
    "# my_deepof_project._exp_conditions = exp_conditions\n",
    "\n",
    "# SI data\n",
    "my_deepof_project = deepof.data.load_project(\"NatComm_trained_models/deepof_SI_project/\")\n",
    "with open(\"deepof_SI_exp_conds.pkl\", \"rb\") as handle:\n",
    "    exp_conds = pickle.load(handle)\n",
    "my_deepof_project._exp_conditions = exp_conds\n",
    "\n",
    "# Update project path to a local path\n",
    "my_deepof_project._project_path = \"../../Desktop/deepOF_datasets/Tagged_videos/Data_for_deepof_SI/\"\n",
    "my_deepof_project._project_name = \"deepof_SI_project\"\n",
    "my_deepof_project._trained_model_path = \"./deepof/trained_models/\""
   ]
  },
  {
   "cell_type": "markdown",
   "id": "10776701",
   "metadata": {},
   "source": [
    "### Run the supervised annotation pipeline."
   ]
  },
  {
   "cell_type": "code",
   "execution_count": null,
   "id": "d368119b",
   "metadata": {
    "scrolled": false
   },
   "outputs": [],
   "source": [
    "supervised_annotation = my_deepof_project.supervised_annotation(\n",
    "    video_output=['20191203_Day1_SI_JB08_Test_14'], frame_limit=150, debug=True,\n",
    ")"
   ]
  },
  {
   "cell_type": "code",
   "execution_count": null,
   "id": "857ae740",
   "metadata": {},
   "outputs": [],
   "source": [
    "for key, val in supervised_annotation.items():\n",
    "    val.to_csv(\"../../Desktop/\" + key + \"_supervised_labels.csv\")"
   ]
  },
  {
   "cell_type": "code",
   "execution_count": null,
   "id": "f4a53eb8",
   "metadata": {},
   "outputs": [],
   "source": [
    "my_deepof_project._project_name"
   ]
  },
  {
   "cell_type": "markdown",
   "id": "2efa63dc",
   "metadata": {},
   "source": [
    "### Explore trait enrichment across conditions."
   ]
  },
  {
   "cell_type": "code",
   "execution_count": null,
   "id": "3802f7bd",
   "metadata": {},
   "outputs": [],
   "source": [
    "tt = pd.read_csv(\n",
    "    \"../../Desktop/deepOF_datasets/Tagged_videos/Data_for_deepof_OF/deepof_OF_classifiers/project_folder/csv/targets_inserted/20191203_Day1_OF_JB08_Test_12.csv\", index_col=0\n",
    ")"
   ]
  },
  {
   "cell_type": "code",
   "execution_count": null,
   "id": "f7390cd4",
   "metadata": {},
   "outputs": [],
   "source": [
    "tt.sum()"
   ]
  },
  {
   "cell_type": "code",
   "execution_count": null,
   "id": "efd83049",
   "metadata": {},
   "outputs": [],
   "source": [
    "tt"
   ]
  },
  {
   "cell_type": "code",
   "execution_count": null,
   "id": "52f0a8f8",
   "metadata": {},
   "outputs": [],
   "source": [
    "tt.to_csv(\n",
    "    \"../../Desktop/deepOF_datasets/Tagged_videos/Data_for_deepof_OF/deepof_OF_classifiers/project_folder/csv/targets_inserted/20191203_Day1_OF_JB08_Test_12.csv\",\n",
    ")"
   ]
  },
  {
   "cell_type": "markdown",
   "id": "5dbdc821",
   "metadata": {},
   "source": [
    "### Generate Gantt plots with all traits."
   ]
  },
  {
   "cell_type": "code",
   "execution_count": null,
   "id": "b0e60f6c",
   "metadata": {},
   "outputs": [],
   "source": []
  },
  {
   "cell_type": "markdown",
   "id": "7b88d253",
   "metadata": {},
   "source": [
    "### Exporting video snippets"
   ]
  },
  {
   "cell_type": "code",
   "execution_count": null,
   "id": "6b75e5e5",
   "metadata": {},
   "outputs": [],
   "source": []
  }
 ],
 "metadata": {
  "kernelspec": {
   "display_name": "Python 3 (ipykernel)",
   "language": "python",
   "name": "python3"
  },
  "language_info": {
   "codemirror_mode": {
    "name": "ipython",
    "version": 3
   },
   "file_extension": ".py",
   "mimetype": "text/x-python",
   "name": "python",
   "nbconvert_exporter": "python",
   "pygments_lexer": "ipython3",
   "version": "3.9.12"
  }
 },
 "nbformat": 4,
 "nbformat_minor": 5
}
