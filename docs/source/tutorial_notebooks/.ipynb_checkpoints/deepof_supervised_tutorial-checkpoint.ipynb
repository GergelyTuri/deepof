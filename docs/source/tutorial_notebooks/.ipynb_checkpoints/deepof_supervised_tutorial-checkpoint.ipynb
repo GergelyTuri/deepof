{
 "cells": [
  {
   "cell_type": "code",
   "execution_count": 1,
   "id": "d64823a2",
   "metadata": {},
   "outputs": [],
   "source": [
    "import os\n",
    "os.chdir(\"../../..\")\n",
    "import deepof.data"
   ]
  },
  {
   "cell_type": "code",
   "execution_count": 2,
   "id": "3227f178",
   "metadata": {},
   "outputs": [],
   "source": [
    "import warnings\n",
    "warnings.filterwarnings(\"ignore\")"
   ]
  },
  {
   "cell_type": "code",
   "execution_count": 3,
   "id": "7a68dc94",
   "metadata": {},
   "outputs": [],
   "source": [
    "%load_ext autoreload\n",
    "%autoreload 2"
   ]
  },
  {
   "cell_type": "markdown",
   "id": "1763ab7f",
   "metadata": {},
   "source": [
    "# DeepOF supervised pipeline: detecting pre-defined behaviors"
   ]
  },
  {
   "cell_type": "markdown",
   "id": "8a0170cc",
   "metadata": {},
   "source": [
    "##### Tutorial index:\n",
    "    \n",
    "    * Brief introduction to supervised analysis, including the figure with all tracked behaviors.\n",
    "    * Load the previous project.\n",
    "    * Run the supervised annotation pipeline.\n",
    "    * Visualize global embeddings using the retrieved traits.\n",
    "    * Visualize animated unsupervised embeddings, coloured by specific traits.\n",
    "    * Explore trait enrichment across conditions.\n",
    "    * Generate Gantt plots with all traits.\n",
    "    * Export video snippets."
   ]
  },
  {
   "cell_type": "markdown",
   "id": "e14673fa",
   "metadata": {},
   "source": [
    "### Supervised annotation in DeepOF - search for pre-established patterns"
   ]
  },
  {
   "cell_type": "code",
   "execution_count": null,
   "id": "7b57bdf8",
   "metadata": {},
   "outputs": [],
   "source": []
  },
  {
   "cell_type": "markdown",
   "id": "60b9158e",
   "metadata": {},
   "source": [
    "### Load a previously initiated project"
   ]
  },
  {
   "cell_type": "code",
   "execution_count": 12,
   "id": "6382da27",
   "metadata": {},
   "outputs": [],
   "source": [
    "import pickle\n",
    "\n",
    "# # FC data\n",
    "# my_deepof_project = deepof.data.load_project(\"./deepof_FC_project_files/\")\n",
    "\n",
    "# with open(\"./deepof_FC_project_files/Coordinates/FC_dataset_experimental_conditions.pkl\", \"rb\") as handle:\n",
    "#     exp_conditions = pickle.load(handle)\n",
    "# my_deepof_project._exp_conditions = exp_conditions\n",
    "\n",
    "# SI data\n",
    "my_deepof_project = deepof.data.load_project(\"NatComm_trained_models/deepof_SI_project/\")\n",
    "with open(\"deepof_SI_exp_conds.pkl\", \"rb\") as handle:\n",
    "    exp_conds = pickle.load(handle)\n",
    "my_deepof_project._exp_conditions = exp_conds\n",
    "\n",
    "# Update project path to a local path\n",
    "my_deepof_project._project_path = \"NatComm_trained_models/\"\n",
    "my_deepof_project._project_name = \"deepof_SI_project\"\n",
    "my_deepof_project._trained_model_path = \"./deepof/trained_models/\""
   ]
  },
  {
   "cell_type": "markdown",
   "id": "10776701",
   "metadata": {},
   "source": [
    "### Run the supervised annotation pipeline."
   ]
  },
  {
   "cell_type": "code",
   "execution_count": null,
   "id": "d368119b",
   "metadata": {
    "scrolled": false
   },
   "outputs": [],
   "source": [
    "supervised_annotation = my_deepof_project.supervised_annotation(\n",
    "    #video_output=['20191203_Day1_SI_JB08_Test_14'], frame_limit=150, debug=True,\n",
    ")"
   ]
  },
  {
   "cell_type": "code",
   "execution_count": null,
   "id": "78a1a48f",
   "metadata": {},
   "outputs": [],
   "source": [
    "list(supervised_annotation.values())[0].head()"
   ]
  },
  {
   "cell_type": "markdown",
   "id": "2efa63dc",
   "metadata": {},
   "source": [
    "### Explore trait enrichment across conditions."
   ]
  },
  {
   "cell_type": "code",
   "execution_count": null,
   "id": "bf2b6c38",
   "metadata": {
    "scrolled": false
   },
   "outputs": [],
   "source": [
    "import matplotlib.pyplot as plt\n",
    "import seaborn as sns\n",
    "\n",
    "fig = plt.figure(figsize=(14, 5)).subplot_mosaic(\n",
    "    mosaic=\"\"\"\n",
    "           AAAAB\n",
    "           AAAAB\n",
    "           \"\"\",\n",
    ")\n",
    "\n",
    "deepof.visuals.plot_enrichment(\n",
    "    my_deepof_project,\n",
    "    supervised_annotations=supervised_annotation,\n",
    "    add_stats=\"Mann-Whitney\",\n",
    "    plot_proportions=True,\n",
    "    ax = fig[\"A\"],\n",
    ")\n",
    "\n",
    "deepof.visuals.plot_enrichment(\n",
    "    my_deepof_project,\n",
    "    supervised_annotations=supervised_annotation,\n",
    "    add_stats=\"Mann-Whitney\",\n",
    "    plot_proportions=False,\n",
    "    ax = fig[\"B\"],\n",
    ")\n",
    "\n",
    "for ax in fig:\n",
    "    fig[ax].set_xticklabels(fig[ax].get_xticklabels(), rotation=45, ha='right')\n",
    "    fig[ax].set_title(\"\")\n",
    "    \n",
    "fig[\"A\"].get_legend().remove()\n",
    "\n",
    "plt.tight_layout()    \n",
    "plt.show()"
   ]
  },
  {
   "cell_type": "markdown",
   "id": "ae58169c",
   "metadata": {},
   "source": [
    "### PCA embedding of supervised traits"
   ]
  },
  {
   "cell_type": "code",
   "execution_count": null,
   "id": "8f8175d4",
   "metadata": {},
   "outputs": [],
   "source": []
  },
  {
   "cell_type": "markdown",
   "id": "5dbdc821",
   "metadata": {},
   "source": [
    "### Generate Gantt plots with all traits."
   ]
  },
  {
   "cell_type": "code",
   "execution_count": null,
   "id": "b0e60f6c",
   "metadata": {},
   "outputs": [],
   "source": []
  },
  {
   "cell_type": "markdown",
   "id": "7b88d253",
   "metadata": {},
   "source": [
    "### Exporting video snippets"
   ]
  },
  {
   "cell_type": "code",
   "execution_count": null,
   "id": "6b75e5e5",
   "metadata": {},
   "outputs": [],
   "source": []
  }
 ],
 "metadata": {
  "kernelspec": {
   "display_name": "Python 3 (ipykernel)",
   "language": "python",
   "name": "python3"
  },
  "language_info": {
   "codemirror_mode": {
    "name": "ipython",
    "version": 3
   },
   "file_extension": ".py",
   "mimetype": "text/x-python",
   "name": "python",
   "nbconvert_exporter": "python",
   "pygments_lexer": "ipython3",
   "version": "3.9.12"
  }
 },
 "nbformat": 4,
 "nbformat_minor": 5
}
