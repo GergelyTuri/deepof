{
 "cells": [
  {
   "cell_type": "markdown",
   "id": "8d41506e",
   "metadata": {},
   "source": [
    "# DeepOF unsupervised pipeline: exploring the behavioral space"
   ]
  },
  {
   "cell_type": "code",
   "execution_count": 1,
   "id": "e036dfba",
   "metadata": {},
   "outputs": [],
   "source": [
    "# Testing tutorial"
   ]
  },
  {
   "cell_type": "code",
   "execution_count": 2,
   "id": "1ff78cb4",
   "metadata": {},
   "outputs": [
    {
     "data": {
      "text/plain": [
       "2"
      ]
     },
     "execution_count": 2,
     "metadata": {},
     "output_type": "execute_result"
    }
   ],
   "source": [
    "1+1"
   ]
  },
  {
   "cell_type": "code",
   "execution_count": 3,
   "id": "40d2dfbe",
   "metadata": {},
   "outputs": [],
   "source": [
    "# More coming soon!"
   ]
  },
  {
   "cell_type": "code",
   "execution_count": null,
   "id": "7c2095dd",
   "metadata": {},
   "outputs": [],
   "source": []
  }
 ],
 "metadata": {
  "kernelspec": {
   "display_name": "Python 3 (ipykernel)",
   "language": "python",
   "name": "python3"
  },
  "language_info": {
   "codemirror_mode": {
    "name": "ipython",
    "version": 3
   },
   "file_extension": ".py",
   "mimetype": "text/x-python",
   "name": "python",
   "nbconvert_exporter": "python",
   "pygments_lexer": "ipython3",
   "version": "3.9.12"
  }
 },
 "nbformat": 4,
 "nbformat_minor": 5
}
