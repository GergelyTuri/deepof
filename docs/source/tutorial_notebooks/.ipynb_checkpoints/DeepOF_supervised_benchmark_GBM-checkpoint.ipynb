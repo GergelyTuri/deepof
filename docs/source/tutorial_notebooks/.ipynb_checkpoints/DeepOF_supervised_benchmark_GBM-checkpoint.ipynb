{
 "cells": [
  {
   "cell_type": "code",
   "execution_count": null,
   "id": "3a601d2e",
   "metadata": {
    "execution": {
     "iopub.execute_input": "2023-03-09T20:43:39.175262Z",
     "iopub.status.busy": "2023-03-09T20:43:39.174770Z",
     "iopub.status.idle": "2023-03-09T20:43:53.556162Z",
     "shell.execute_reply": "2023-03-09T20:43:53.554667Z"
    },
    "papermill": {
     "duration": 14.399234,
     "end_time": "2023-03-09T20:43:53.560056",
     "exception": false,
     "start_time": "2023-03-09T20:43:39.160822",
     "status": "completed"
    },
    "tags": []
   },
   "outputs": [],
   "source": [
    "import os\n",
    "os.chdir(\"./\")\n",
    "import deepof.data"
   ]
  },
  {
   "cell_type": "code",
   "execution_count": null,
   "id": "7fb94770",
   "metadata": {
    "execution": {
     "iopub.execute_input": "2023-03-09T20:43:53.587502Z",
     "iopub.status.busy": "2023-03-09T20:43:53.587156Z",
     "iopub.status.idle": "2023-03-09T20:43:53.592303Z",
     "shell.execute_reply": "2023-03-09T20:43:53.591296Z"
    },
    "papermill": {
     "duration": 0.019769,
     "end_time": "2023-03-09T20:43:53.595234",
     "exception": false,
     "start_time": "2023-03-09T20:43:53.575465",
     "status": "completed"
    },
    "tags": []
   },
   "outputs": [],
   "source": [
    "import warnings\n",
    "warnings.filterwarnings(\"ignore\")"
   ]
  },
  {
   "cell_type": "code",
   "execution_count": null,
   "id": "8cb00e90",
   "metadata": {
    "execution": {
     "iopub.execute_input": "2023-03-09T20:43:53.614783Z",
     "iopub.status.busy": "2023-03-09T20:43:53.614458Z",
     "iopub.status.idle": "2023-03-09T20:43:53.714604Z",
     "shell.execute_reply": "2023-03-09T20:43:53.713615Z"
    },
    "papermill": {
     "duration": 0.112913,
     "end_time": "2023-03-09T20:43:53.717584",
     "exception": false,
     "start_time": "2023-03-09T20:43:53.604671",
     "status": "completed"
    },
    "tags": []
   },
   "outputs": [],
   "source": [
    "%load_ext autoreload\n",
    "%autoreload 2"
   ]
  },
  {
   "cell_type": "code",
   "execution_count": null,
   "id": "12d36c31",
   "metadata": {},
   "outputs": [],
   "source": [
    "def stratified_kfold(k=10, dataset=\"SI\"):\n",
    "    \n",
    "    X, y = [], []\n",
    "    for exp in supervised_benchmark_labels[dataset].keys():\n",
    "        X.append(supervised_benchmark_features[dataset][exp])\n",
    "        y.append(supervised_benchmark_labels[dataset][exp])\n",
    "        \n",
    "    X = np.concatenate(X)\n",
    "    y = np.concatenate(y)\n",
    "    \n",
    "    cv = StratifiedGroupKFold(n_splits=k)\n",
    "    repeated_exps = np.repeat(\n",
    "        list(supervised_benchmark_labels[dataset].keys()),\n",
    "        [len(i) for i in supervised_benchmark_labels[dataset].values()],\n",
    "    )\n",
    "    splits = cv.split(X, y, repeated_exps)\n",
    "    \n",
    "    return X, y, list(splits)\n",
    "    \n",
    "    \n",
    "def plot_cm(labels, predictions, p=0.5, ax=None, title=\"\"):\n",
    "        \n",
    "    cm = confusion_matrix(np.concatenate(labels), np.concatenate(predictions)[:, 1] > p, labels=[0, 1])\n",
    "        \n",
    "    sns.heatmap(cm, annot=True, fmt=\"d\", ax=ax)\n",
    "    \n",
    "    ax.set_title('{} confusion matrix @{:.2f}'.format(title, p))\n",
    "    ax.set_ylabel('Actual label')\n",
    "    ax.set_xlabel('Predicted label')\n",
    "    \n",
    "    \n",
    "def plot_roc(name, labels, predictions, axis, train=False, **kwargs):\n",
    "    \n",
    "    tprs, aucs = [], []\n",
    "    mean_fp = np.linspace(0, 100, 100)\n",
    "    for fold in range(len(labels)):\n",
    "\n",
    "        fp, tp, _ = sklearn.metrics.roc_curve(\n",
    "            labels[fold], \n",
    "            predictions[fold][:, 1], \n",
    "        )\n",
    "        \n",
    "        fp, tp = fp*100, tp*100\n",
    "        interp_tpr = np.interp(mean_fp, fp, tp)\n",
    "        interp_tpr[0] = 0.0\n",
    "        tprs.append(interp_tpr)\n",
    "        aucs.append(sklearn.metrics.auc(fp/100, tp/100))\n",
    "            \n",
    "    mean_tp = np.nanmean(tprs, axis=0)    \n",
    "    mean_auc = np.nanmean(aucs)\n",
    "    std_auc = np.nanstd(aucs)\n",
    "    \n",
    "    axis.plot(\n",
    "        mean_fp,\n",
    "        mean_tp,\n",
    "        label=r\"%s (AUC = %0.2f $\\pm$ %0.2f)\" % ((\"Train\" if train else \"Test\"), mean_auc, std_auc),\n",
    "        lw=2,\n",
    "    )\n",
    "\n",
    "    std_tp = np.nanstd(tprs, axis=0)\n",
    "        \n",
    "    tprs_upper = np.minimum(mean_tp + std_tp, 100)\n",
    "    tprs_lower = np.maximum(mean_tp - std_tp, 0)\n",
    "    axis.fill_between(\n",
    "        mean_fp,\n",
    "        tprs_lower,\n",
    "        tprs_upper,\n",
    "        alpha=0.2,\n",
    "    )\n",
    "\n",
    "    axis.plot([0,100], [0,100], linestyle='--', color=\"black\")\n",
    "    axis.set_xlabel('False positives [%]')\n",
    "    axis.set_ylabel('True positives [%]')\n",
    "    axis.grid(True)\n",
    "    \n",
    "    \n",
    "def plot_prc(name, labels, predictions, axis, train=False, **kwargs):\n",
    "    \n",
    "    y_real, y_proba = [], []\n",
    "    precisions, recalls, aucs = [], [], []\n",
    "    for fold in range(len(labels)):\n",
    "\n",
    "        precision, recall, _ = sklearn.metrics.precision_recall_curve(\n",
    "            labels[fold], \n",
    "            predictions[fold][:, 1],\n",
    "        )\n",
    "                \n",
    "        y_real.append(labels[fold])\n",
    "        y_proba.append(predictions[fold][:, 1])\n",
    "        precisions.append(precision)\n",
    "        recalls.append(recall)\n",
    "        aucs.append(sklearn.metrics.average_precision_score(\n",
    "            labels[fold], \n",
    "            predictions[fold][:, 1],\n",
    "        )\n",
    "                   )\n",
    "    \n",
    "    y_real = np.concatenate(y_real)\n",
    "    y_proba = np.concatenate(y_proba)\n",
    "    mean_auc = np.nanmean(aucs)\n",
    "    std_auc = np.nanstd(aucs)\n",
    "    \n",
    "    mean_precision, mean_recall, _ = sklearn.metrics.precision_recall_curve(y_real, y_proba)\n",
    "    axis.plot(\n",
    "        mean_recall,\n",
    "        mean_precision,\n",
    "        label=r\"Mean PR (AUC = %0.2f $\\pm$ %0.2f)\" % (mean_auc, std_auc),\n",
    "        lw=2,\n",
    "    )\n",
    "    \n",
    "    axis.axhline(y_real.mean(), linestyle='--', color=\"black\")\n",
    "    plt.xlabel('Recall')\n",
    "    plt.ylabel('Precision')\n",
    "    plt.grid(True)"
   ]
  },
  {
   "cell_type": "markdown",
   "id": "032e454b",
   "metadata": {
    "papermill": {
     "duration": 0.009824,
     "end_time": "2023-03-09T20:43:53.738484",
     "exception": false,
     "start_time": "2023-03-09T20:43:53.728660",
     "status": "completed"
    },
    "tags": []
   },
   "source": [
    "# DeepOF - supervised training and cross-dataset benchmarking"
   ]
  },
  {
   "cell_type": "code",
   "execution_count": null,
   "id": "54954b25",
   "metadata": {
    "execution": {
     "iopub.execute_input": "2023-03-09T20:43:53.757817Z",
     "iopub.status.busy": "2023-03-09T20:43:53.757454Z",
     "iopub.status.idle": "2023-03-09T20:43:53.853661Z",
     "shell.execute_reply": "2023-03-09T20:43:53.852577Z"
    },
    "papermill": {
     "duration": 0.108839,
     "end_time": "2023-03-09T20:43:53.856645",
     "exception": false,
     "start_time": "2023-03-09T20:43:53.747806",
     "status": "completed"
    },
    "tags": []
   },
   "outputs": [],
   "source": [
    "from collections import defaultdict\n",
    "from tqdm import tqdm_notebook as tqdm\n",
    "import numpy as np\n",
    "import os\n",
    "import pandas as pd\n",
    "import pickle"
   ]
  },
  {
   "cell_type": "code",
   "execution_count": 6,
   "id": "a7d4e67a",
   "metadata": {
    "execution": {
     "iopub.execute_input": "2023-03-09T20:43:53.879066Z",
     "iopub.status.busy": "2023-03-09T20:43:53.878859Z",
     "iopub.status.idle": "2023-03-09T20:43:53.967350Z",
     "shell.execute_reply": "2023-03-09T20:43:53.966083Z"
    },
    "papermill": {
     "duration": 0.102635,
     "end_time": "2023-03-09T20:43:53.970415",
     "exception": false,
     "start_time": "2023-03-09T20:43:53.867780",
     "status": "completed"
    },
    "tags": []
   },
   "outputs": [],
   "source": [
    "# benchmark_path = \"./DeepOF_paper_benchmark_labels/\"\n",
    "benchmark_path = \"../../../../../Desktop/DeepOF_paper_benchmark_labels/\""
   ]
  },
  {
   "cell_type": "code",
   "execution_count": 7,
   "id": "d7143936",
   "metadata": {
    "execution": {
     "iopub.execute_input": "2023-03-09T20:43:53.994435Z",
     "iopub.status.busy": "2023-03-09T20:43:53.994199Z",
     "iopub.status.idle": "2023-03-09T20:43:54.082435Z",
     "shell.execute_reply": "2023-03-09T20:43:54.081318Z"
    },
    "papermill": {
     "duration": 0.102183,
     "end_time": "2023-03-09T20:43:54.085387",
     "exception": false,
     "start_time": "2023-03-09T20:43:53.983204",
     "status": "completed"
    },
    "tags": []
   },
   "outputs": [],
   "source": [
    "# Define hyperparameters\n",
    "window_length = 25"
   ]
  },
  {
   "cell_type": "markdown",
   "id": "6f087ab1",
   "metadata": {
    "papermill": {
     "duration": 0.010016,
     "end_time": "2023-03-09T20:43:54.106804",
     "exception": false,
     "start_time": "2023-03-09T20:43:54.096788",
     "status": "completed"
    },
    "tags": []
   },
   "source": [
    "### Load datasets into a nested dictionary and pickle to disk"
   ]
  },
  {
   "cell_type": "code",
   "execution_count": 8,
   "id": "4cd3bea2",
   "metadata": {
    "execution": {
     "iopub.execute_input": "2023-03-09T20:43:54.126588Z",
     "iopub.status.busy": "2023-03-09T20:43:54.126352Z",
     "iopub.status.idle": "2023-03-09T20:44:29.156293Z",
     "shell.execute_reply": "2023-03-09T20:44:29.154793Z"
    },
    "papermill": {
     "duration": 35.043482,
     "end_time": "2023-03-09T20:44:29.159903",
     "exception": false,
     "start_time": "2023-03-09T20:43:54.116421",
     "status": "completed"
    },
    "tags": []
   },
   "outputs": [],
   "source": [
    "supervised_benchmark_labels = {}\n",
    "\n",
    "for datasets, col_name in zip([\"SI\", \"SA\", \"OF\", \"EX\"], [\"B_huddle\", \"huddling\", \"huddling\", \"TotalFreeze\"]):\n",
    "        \n",
    "    # Retrieve files\n",
    "    to_load = [i for i in os.listdir(os.path.join(benchmark_path, datasets)) if i.endswith(\"csv\")]\n",
    "    \n",
    "    # Load to disk and save relevant columns\n",
    "    supervised_benchmark_labels[datasets] = {\n",
    "        key.replace(\".csv\", \"\"): np.array(pd.read_csv(os.path.join(benchmark_path, datasets, key), index_col=0)[\n",
    "            col_name]) for key in to_load\n",
    "    }"
   ]
  },
  {
   "cell_type": "code",
   "execution_count": 9,
   "id": "0997ce4e",
   "metadata": {
    "execution": {
     "iopub.execute_input": "2023-03-09T20:44:29.192805Z",
     "iopub.status.busy": "2023-03-09T20:44:29.192570Z",
     "iopub.status.idle": "2023-03-09T20:47:31.392323Z",
     "shell.execute_reply": "2023-03-09T20:47:31.391241Z"
    },
    "papermill": {
     "duration": 182.216842,
     "end_time": "2023-03-09T20:47:31.397276",
     "exception": false,
     "start_time": "2023-03-09T20:44:29.180434",
     "status": "completed"
    },
    "tags": []
   },
   "outputs": [
    {
     "name": "stdout",
     "output_type": "stream",
     "text": [
      "CPU times: user 52.3 s, sys: 2.66 s, total: 54.9 s\n",
      "Wall time: 55.5 s\n"
     ]
    }
   ],
   "source": [
    "%%time\n",
    "\n",
    "# Get features per dataset and video\n",
    "supervised_benchmark_features = defaultdict(dict)\n",
    "\n",
    "SI_project = deepof.data.load_project(\n",
    "    \"../../../NatComm_trained_models/deepof_SI_project/\"\n",
    ")\n",
    "OF_project = deepof.data.load_project(\n",
    "    \"../../../NatComm_trained_models/deepof_OF_project/\"\n",
    ")\n",
    "SA_project = deepof.data.load_project(\n",
    "    \"../../../NatComm_trained_models/deepof_SA_project/\"\n",
    ")\n",
    "EX_project = deepof.data.load_project(\n",
    "    \"../../../NatComm_trained_models/deepof_EX_project/\"\n",
    ")\n",
    "\n",
    "supervised_benchmark_features[\n",
    "    \"SI\"\n",
    "] = deepof.post_hoc.align_deepof_kinematics_with_unsupervised_labels(\n",
    "    SI_project, animal_id=\"B\",\n",
    "    include_angles=False,\n",
    ")\n",
    "supervised_benchmark_features[\n",
    "    \"OF\"\n",
    "] = deepof.post_hoc.align_deepof_kinematics_with_unsupervised_labels(OF_project, include_angles=False)\n",
    "supervised_benchmark_features[\n",
    "    \"SA\"\n",
    "] = deepof.post_hoc.align_deepof_kinematics_with_unsupervised_labels(SA_project, include_angles=False)\n",
    "supervised_benchmark_features[\n",
    "    \"EX\"\n",
    "] = deepof.post_hoc.align_deepof_kinematics_with_unsupervised_labels(\n",
    "    EX_project, animal_id=\"B\", include_angles=False\n",
    ")\n"
   ]
  },
  {
   "cell_type": "code",
   "execution_count": 10,
   "id": "8162886e",
   "metadata": {},
   "outputs": [],
   "source": [
    "# Keep only videos with labels\n",
    "for dataset in supervised_benchmark_features.keys():\n",
    "    supervised_benchmark_features[dataset] = supervised_benchmark_features[dataset].filter_videos(\n",
    "        list(supervised_benchmark_labels[dataset].keys())\n",
    "    )"
   ]
  },
  {
   "cell_type": "code",
   "execution_count": 11,
   "id": "61ed7476",
   "metadata": {
    "execution": {
     "iopub.execute_input": "2023-03-09T20:47:31.673700Z",
     "iopub.status.busy": "2023-03-09T20:47:31.672982Z",
     "iopub.status.idle": "2023-03-09T20:47:40.446034Z",
     "shell.execute_reply": "2023-03-09T20:47:40.444510Z"
    },
    "papermill": {
     "duration": 8.788709,
     "end_time": "2023-03-09T20:47:40.449733",
     "exception": false,
     "start_time": "2023-03-09T20:47:31.661024",
     "status": "completed"
    },
    "tags": []
   },
   "outputs": [],
   "source": [
    "# Save\n",
    "with open(os.path.join(benchmark_path, \"Huddle_benchmark_data_GBM.pkl\"), \"wb\") as handle:\n",
    "    pickle.dump([supervised_benchmark_features, supervised_benchmark_labels], handle, protocol=pickle.HIGHEST_PROTOCOL)\n",
    "    \n",
    "# Load\n",
    "with open(os.path.join(benchmark_path, \"Huddle_benchmark_data_GBM.pkl\"), \"rb\") as handle:\n",
    "    supervised_benchmark_features, supervised_benchmark_labels = pickle.load(handle)"
   ]
  },
  {
   "cell_type": "markdown",
   "id": "ee75c7fe",
   "metadata": {
    "papermill": {
     "duration": 0.010483,
     "end_time": "2023-03-09T20:47:40.475247",
     "exception": false,
     "start_time": "2023-03-09T20:47:40.464764",
     "status": "completed"
    },
    "tags": []
   },
   "source": [
    "### Explore class imbalance per dataset"
   ]
  },
  {
   "cell_type": "code",
   "execution_count": 12,
   "id": "c8edbf02",
   "metadata": {
    "execution": {
     "iopub.execute_input": "2023-03-09T20:47:40.507914Z",
     "iopub.status.busy": "2023-03-09T20:47:40.507371Z",
     "iopub.status.idle": "2023-03-09T20:47:40.637804Z",
     "shell.execute_reply": "2023-03-09T20:47:40.636773Z"
    },
    "papermill": {
     "duration": 0.151735,
     "end_time": "2023-03-09T20:47:40.642567",
     "exception": false,
     "start_time": "2023-03-09T20:47:40.490832",
     "status": "completed"
    },
    "tags": []
   },
   "outputs": [
    {
     "name": "stdout",
     "output_type": "stream",
     "text": [
      "10.83 % of 299350 frames correspond to huddling in SI samples\n",
      "4.36 % of 22488 frames correspond to huddling in SA samples\n",
      "2.75 % of 179979 frames correspond to huddling in OF samples\n",
      "14.95 % of 65550 frames correspond to huddling in EX samples\n"
     ]
    }
   ],
   "source": [
    "for dataset in supervised_benchmark_labels.keys():\n",
    "    labels = np.concatenate(list(supervised_benchmark_labels[dataset].values())).shape[0]\n",
    "    imbalance = (\n",
    "        np.concatenate(list(supervised_benchmark_labels[dataset].values())).mean() * 100\n",
    "    )\n",
    "\n",
    "    print(\n",
    "        f\"{'{:0.2f}'.format(imbalance)} % of {labels} frames correspond to huddling in {dataset} samples\"\n",
    "    )"
   ]
  },
  {
   "cell_type": "code",
   "execution_count": 19,
   "id": "b042d5a6",
   "metadata": {},
   "outputs": [
    {
     "data": {
      "text/plain": [
       "567367"
      ]
     },
     "execution_count": 19,
     "metadata": {},
     "output_type": "execute_result"
    }
   ],
   "source": [
    "299350 + 22488 + 179979 + 65550"
   ]
  },
  {
   "cell_type": "markdown",
   "id": "e017fff2",
   "metadata": {},
   "source": [
    "### Normalize all features per video per dataset to remove differences in scale"
   ]
  },
  {
   "cell_type": "code",
   "execution_count": 13,
   "id": "114d30d2",
   "metadata": {},
   "outputs": [],
   "source": [
    "from sklearn.preprocessing import StandardScaler\n",
    "\n",
    "for dataset in supervised_benchmark_features:\n",
    "    for video in supervised_benchmark_features[dataset]:\n",
    "        cur_video = supervised_benchmark_features[dataset][video]\n",
    "        supervised_benchmark_features[dataset][video] = pd.DataFrame(\n",
    "            StandardScaler().fit_transform(cur_video),\n",
    "            index = cur_video.index,\n",
    "            columns = cur_video.columns,\n",
    "        )"
   ]
  },
  {
   "cell_type": "markdown",
   "id": "0532cf73",
   "metadata": {},
   "source": [
    "### Generate sklearn compatible datasets for stratified CV"
   ]
  },
  {
   "cell_type": "code",
   "execution_count": 14,
   "id": "ff9f8cc2",
   "metadata": {},
   "outputs": [],
   "source": [
    "from sklearn.model_selection import StratifiedGroupKFold\n",
    "from sklearn.preprocessing import OneHotEncoder"
   ]
  },
  {
   "cell_type": "code",
   "execution_count": 15,
   "id": "a19fea34",
   "metadata": {},
   "outputs": [],
   "source": [
    "SI_internal_X, SI_internal_y, SI_internal_cv = stratified_kfold(k=10, dataset=\"SI\")"
   ]
  },
  {
   "cell_type": "markdown",
   "id": "d4c2c398",
   "metadata": {
    "papermill": {
     "duration": 0.010639,
     "end_time": "2023-03-09T20:47:40.666584",
     "exception": false,
     "start_time": "2023-03-09T20:47:40.655945",
     "status": "completed"
    },
    "tags": []
   },
   "source": [
    "### Define models and run an internal CV loop on the SI dataset"
   ]
  },
  {
   "cell_type": "code",
   "execution_count": 18,
   "id": "7e184d33",
   "metadata": {},
   "outputs": [],
   "source": [
    "from imblearn.pipeline import Pipeline\n",
    "from imblearn.over_sampling import SMOTE\n",
    "from sklearn.model_selection import cross_validate\n",
    "from sklearn.ensemble import GradientBoostingClassifier"
   ]
  },
  {
   "cell_type": "code",
   "execution_count": 19,
   "id": "982e611d",
   "metadata": {},
   "outputs": [],
   "source": [
    "huddle_clf = Pipeline(\n",
    "    [\n",
    "        (\"normalization\", StandardScaler()),\n",
    "        (\"oversampling\", SMOTE()),\n",
    "        (\"classifier\", GradientBoostingClassifier()),\n",
    "    ]\n",
    ")"
   ]
  },
  {
   "cell_type": "code",
   "execution_count": 20,
   "id": "2f12429e",
   "metadata": {
    "scrolled": true
   },
   "outputs": [
    {
     "name": "stdout",
     "output_type": "stream",
     "text": [
      "CPU times: user 70.5 ms, sys: 201 ms, total: 272 ms\n",
      "Wall time: 8min 54s\n"
     ]
    }
   ],
   "source": [
    "%%time\n",
    "\n",
    "huddle_SI_internal_cv_predictions = cross_validate(\n",
    "    huddle_clf,\n",
    "    SI_internal_X,\n",
    "    SI_internal_y,\n",
    "    cv=SI_internal_cv,\n",
    "    n_jobs=-1,\n",
    "    return_estimator=True,\n",
    "    return_train_score=True,\n",
    ")"
   ]
  },
  {
   "cell_type": "code",
   "execution_count": 21,
   "id": "80d4e12e",
   "metadata": {
    "execution": {
     "iopub.execute_input": "2023-03-10T01:08:19.708523Z",
     "iopub.status.busy": "2023-03-10T01:08:19.707822Z",
     "iopub.status.idle": "2023-03-10T01:08:20.089791Z",
     "shell.execute_reply": "2023-03-10T01:08:20.088262Z"
    },
    "papermill": {
     "duration": 1.691827,
     "end_time": "2023-03-10T01:08:20.093707",
     "exception": false,
     "start_time": "2023-03-10T01:08:18.401880",
     "status": "completed"
    },
    "tags": []
   },
   "outputs": [],
   "source": [
    "# Save\n",
    "with open(os.path.join(benchmark_path, \"Huddle_clf_predictions_SI_GBM.pkl\"), \"wb\") as handle:\n",
    "    pickle.dump(huddle_SI_internal_cv_predictions, handle, protocol=pickle.HIGHEST_PROTOCOL)\n",
    "    \n",
    "# Load\n",
    "with open(os.path.join(benchmark_path, \"Huddle_clf_predictions_SI_GBM.pkl\"), \"rb\") as handle:\n",
    "    huddle_SI_internal_cv_predictions  = pickle.load(handle)"
   ]
  },
  {
   "cell_type": "markdown",
   "id": "9097a9bc",
   "metadata": {},
   "source": [
    "### Cross-validation and benchmarking across datasets"
   ]
  },
  {
   "cell_type": "code",
   "execution_count": null,
   "id": "7766bbe5",
   "metadata": {},
   "outputs": [],
   "source": [
    "cross_dset_benchmarking_X = {}\n",
    "cross_dset_benchmarking_y = {}\n",
    "cross_dset_benchmarking_estimators = {}\n",
    "cross_dset_benchmarking_train_preds = {}\n",
    "cross_dset_benchmarking_val_preds = {}\n",
    "\n",
    "for dataset in supervised_benchmark_labels.keys():\n",
    "    train_X = []\n",
    "    train_y = []\n",
    "    val_X = []\n",
    "    val_y = []\n",
    "    \n",
    "    for d in supervised_benchmark_labels.keys():\n",
    "        for exp in supervised_benchmark_labels[d].keys():\n",
    "            if d != dataset:\n",
    "                train_X.append(supervised_benchmark_features[d][exp])\n",
    "                train_y.append(supervised_benchmark_labels[d][exp])\n",
    "            else:\n",
    "                val_X.append(supervised_benchmark_features[d][exp])\n",
    "                val_y.append(supervised_benchmark_labels[d][exp])\n",
    "                \n",
    "    train_X = np.concatenate(train_X)\n",
    "    train_y = np.concatenate(train_y)\n",
    "    val_X = np.concatenate(val_X)\n",
    "    val_y = np.concatenate(val_y)\n",
    "    \n",
    "    print(\"Fitting model excluding {} dataset\".format(dataset))\n",
    "    huddle_clf = huddle_clf = Pipeline(\n",
    "    [\n",
    "        (\"normalization\", StandardScaler()),\n",
    "        (\"oversampling\", SMOTE()),\n",
    "        (\"classifier\", GradientBoostingClassifier()),\n",
    "    ]\n",
    "    )\n",
    "    \n",
    "    huddle_clf.fit(train_X, train_y)\n",
    "    \n",
    "    # Get predictions and save results\n",
    "    cross_dset_benchmarking_X[dataset] = val_X\n",
    "    cross_dset_benchmarking_y[dataset] = val_y\n",
    "    cross_dset_benchmarking_estimators[dataset] = huddle_clf\n",
    "    cross_dset_benchmarking_train_preds[dataset] = huddle_clf.predict_proba(train_X)\n",
    "    cross_dset_benchmarking_val_preds[dataset] = huddle_clf.predict_proba(val_X)"
   ]
  },
  {
   "cell_type": "code",
   "execution_count": 26,
   "id": "48325b4f",
   "metadata": {},
   "outputs": [],
   "source": [
    "# Save cross-dataset results\n",
    "# with open(os.path.join(benchmark_path, \"Huddle_clf_predictions_cross_GBM.pkl\"), \"wb\") as handle:\n",
    "#     pickle.dump([\n",
    "#         cross_dset_benchmarking_X,\n",
    "#         cross_dset_benchmarking_y,\n",
    "#         cross_dset_benchmarking_estimators,\n",
    "#         cross_dset_benchmarking_train_preds,\n",
    "#         cross_dset_benchmarking_val_preds,\n",
    "#     ], handle, protocol=pickle.HIGHEST_PROTOCOL)\n",
    "    \n",
    "# Load\n",
    "with open(os.path.join(benchmark_path, \"Huddle_clf_predictions_cross_GBM.pkl\"), \"rb\") as handle:\n",
    "    (\n",
    "        cross_dset_benchmarking_X,\n",
    "        cross_dset_benchmarking_y,\n",
    "        cross_dset_benchmarking_estimators,\n",
    "        cross_dset_benchmarking_train_preds,\n",
    "        cross_dset_benchmarking_val_preds,\n",
    "    )  = pickle.load(handle)"
   ]
  },
  {
   "cell_type": "markdown",
   "id": "4305273b",
   "metadata": {
    "papermill": {
     "duration": 1.376746,
     "end_time": "2023-03-10T01:08:22.896344",
     "exception": false,
     "start_time": "2023-03-10T01:08:21.519598",
     "status": "completed"
    },
    "tags": []
   },
   "source": [
    "### Plot metrics"
   ]
  },
  {
   "cell_type": "code",
   "execution_count": 27,
   "id": "40f654ed",
   "metadata": {
    "execution": {
     "iopub.execute_input": "2023-03-10T01:08:25.837643Z",
     "iopub.status.busy": "2023-03-10T01:08:25.836391Z",
     "iopub.status.idle": "2023-03-10T01:08:25.961218Z",
     "shell.execute_reply": "2023-03-10T01:08:25.960063Z"
    },
    "papermill": {
     "duration": 1.576913,
     "end_time": "2023-03-10T01:08:25.964172",
     "exception": false,
     "start_time": "2023-03-10T01:08:24.387259",
     "status": "completed"
    },
    "tags": []
   },
   "outputs": [],
   "source": [
    "from sklearn.metrics import roc_auc_score, average_precision_score, matthews_corrcoef, balanced_accuracy_score\n",
    "import matplotlib.pyplot as plt\n",
    "import seaborn as sns"
   ]
  },
  {
   "cell_type": "code",
   "execution_count": 28,
   "id": "6b3f9290",
   "metadata": {},
   "outputs": [],
   "source": [
    "def get_cv_metrics(X, y, cv_object, cv_folds):\n",
    "    train_cv_preds = []\n",
    "    val_cv_preds = []\n",
    "    train_labels = []\n",
    "    val_labels = []\n",
    "    train_scores = {'bacc': [], 'roc-auc': [], 'pr-auc': [], 'mcc': []}\n",
    "    val_scores = {'bacc': [], 'roc-auc': [], 'pr-auc': [], 'mcc': []}\n",
    "    \n",
    "    for f, fold in enumerate(cv_folds):\n",
    "        train_cv_preds.append(cv_object['estimator'][f].predict_proba(X[fold[0]]))\n",
    "        val_cv_preds.append(cv_object['estimator'][f].predict_proba(X[fold[1]]))\n",
    "        train_labels.append(y[fold[0]])\n",
    "        val_labels.append(y[fold[1]])\n",
    "        \n",
    "        train_scores['bacc'].append(balanced_accuracy_score(y[fold[0]], train_cv_preds[f].argmax(axis=1)))\n",
    "        val_scores['bacc'].append(balanced_accuracy_score(y[fold[1]], val_cv_preds[f].argmax(axis=1)))\n",
    "        train_scores['roc-auc'].append(roc_auc_score(y[fold[0]], train_cv_preds[f][:, 1]))\n",
    "        val_scores['roc-auc'].append(roc_auc_score(y[fold[1]], val_cv_preds[f][:, 1]))\n",
    "        train_scores['pr-auc'].append(average_precision_score(y[fold[0]], train_cv_preds[f][:, 1]))\n",
    "        val_scores['pr-auc'].append(average_precision_score(y[fold[1]], val_cv_preds[f][:, 1]))\n",
    "        train_scores['mcc'].append(matthews_corrcoef(y[fold[0]], train_cv_preds[f].argmax(axis=1)))\n",
    "        val_scores['mcc'].append(matthews_corrcoef(y[fold[1]], val_cv_preds[f].argmax(axis=1)))\n",
    "        \n",
    "    return train_labels, val_labels, train_cv_preds, val_cv_preds, train_scores, val_scores\n",
    "\n",
    "\n",
    "def get_cross_metrics(Y, labels):\n",
    "    \n",
    "    scores = {'bacc': [], 'roc-auc': [], 'pr-auc': [], 'mcc': []}\n",
    "    \n",
    "    for y, l in zip(Y.values(), labels.values()):\n",
    "        \n",
    "        scores['bacc'].append(balanced_accuracy_score(l, y.argmax(axis=1)))\n",
    "        scores['roc-auc'].append(roc_auc_score(l, y[:, 1]))\n",
    "        scores['pr-auc'].append(average_precision_score(l, y[:, 1]))\n",
    "        scores['mcc'].append(matthews_corrcoef(l, y.argmax(axis=1)))\n",
    "        \n",
    "        \n",
    "    return scores"
   ]
  },
  {
   "cell_type": "code",
   "execution_count": 24,
   "id": "58ba87cb",
   "metadata": {},
   "outputs": [],
   "source": [
    "# Compute cross-validated scores (ROC-AUC, PR-AUC, MCC, BACC)\n",
    "huddle_SI_scores = get_cv_metrics(\n",
    "    SI_internal_X,\n",
    "    SI_internal_y,\n",
    "    huddle_SI_internal_cv_predictions,\n",
    "    SI_internal_cv,\n",
    ")"
   ]
  },
  {
   "cell_type": "code",
   "execution_count": 29,
   "id": "4f6696d5",
   "metadata": {},
   "outputs": [],
   "source": [
    "train_internal = pd.DataFrame(huddle_SI_scores[4])\n",
    "train_internal[\"set\"] = \"Train\"\n",
    "val_internal = pd.DataFrame(huddle_SI_scores[5])\n",
    "val_internal[\"set\"] = \"Validation\"\n",
    "val_external = pd.DataFrame(get_cross_metrics(cross_dset_benchmarking_val_preds, cross_dset_benchmarking_y))\n",
    "val_external[\"set\"] = \"External\"\n",
    "\n",
    "scores_df = pd.concat([train_internal, val_internal, val_external])\n",
    "scores_df = scores_df.melt(id_vars=\"set\")"
   ]
  },
  {
   "cell_type": "code",
   "execution_count": 45,
   "id": "283f539e",
   "metadata": {},
   "outputs": [
    {
     "data": {
      "text/html": [
       "<div>\n",
       "<style scoped>\n",
       "    .dataframe tbody tr th:only-of-type {\n",
       "        vertical-align: middle;\n",
       "    }\n",
       "\n",
       "    .dataframe tbody tr th {\n",
       "        vertical-align: top;\n",
       "    }\n",
       "\n",
       "    .dataframe thead th {\n",
       "        text-align: right;\n",
       "    }\n",
       "</style>\n",
       "<table border=\"1\" class=\"dataframe\">\n",
       "  <thead>\n",
       "    <tr style=\"text-align: right;\">\n",
       "      <th></th>\n",
       "      <th>set</th>\n",
       "      <th>variable</th>\n",
       "      <th>value</th>\n",
       "    </tr>\n",
       "  </thead>\n",
       "  <tbody>\n",
       "    <tr>\n",
       "      <th>0</th>\n",
       "      <td>Train</td>\n",
       "      <td>bacc</td>\n",
       "      <td>0.784397</td>\n",
       "    </tr>\n",
       "    <tr>\n",
       "      <th>1</th>\n",
       "      <td>Train</td>\n",
       "      <td>bacc</td>\n",
       "      <td>0.780524</td>\n",
       "    </tr>\n",
       "    <tr>\n",
       "      <th>2</th>\n",
       "      <td>Train</td>\n",
       "      <td>bacc</td>\n",
       "      <td>0.783386</td>\n",
       "    </tr>\n",
       "    <tr>\n",
       "      <th>3</th>\n",
       "      <td>Train</td>\n",
       "      <td>bacc</td>\n",
       "      <td>0.782235</td>\n",
       "    </tr>\n",
       "    <tr>\n",
       "      <th>4</th>\n",
       "      <td>Train</td>\n",
       "      <td>bacc</td>\n",
       "      <td>0.778090</td>\n",
       "    </tr>\n",
       "    <tr>\n",
       "      <th>...</th>\n",
       "      <td>...</td>\n",
       "      <td>...</td>\n",
       "      <td>...</td>\n",
       "    </tr>\n",
       "    <tr>\n",
       "      <th>91</th>\n",
       "      <td>Validation</td>\n",
       "      <td>mcc</td>\n",
       "      <td>0.405828</td>\n",
       "    </tr>\n",
       "    <tr>\n",
       "      <th>92</th>\n",
       "      <td>External</td>\n",
       "      <td>mcc</td>\n",
       "      <td>0.305623</td>\n",
       "    </tr>\n",
       "    <tr>\n",
       "      <th>93</th>\n",
       "      <td>External</td>\n",
       "      <td>mcc</td>\n",
       "      <td>0.314122</td>\n",
       "    </tr>\n",
       "    <tr>\n",
       "      <th>94</th>\n",
       "      <td>External</td>\n",
       "      <td>mcc</td>\n",
       "      <td>0.241488</td>\n",
       "    </tr>\n",
       "    <tr>\n",
       "      <th>95</th>\n",
       "      <td>External</td>\n",
       "      <td>mcc</td>\n",
       "      <td>0.304242</td>\n",
       "    </tr>\n",
       "  </tbody>\n",
       "</table>\n",
       "<p>96 rows × 3 columns</p>\n",
       "</div>"
      ],
      "text/plain": [
       "           set variable     value\n",
       "0        Train     bacc  0.784397\n",
       "1        Train     bacc  0.780524\n",
       "2        Train     bacc  0.783386\n",
       "3        Train     bacc  0.782235\n",
       "4        Train     bacc  0.778090\n",
       "..         ...      ...       ...\n",
       "91  Validation      mcc  0.405828\n",
       "92    External      mcc  0.305623\n",
       "93    External      mcc  0.314122\n",
       "94    External      mcc  0.241488\n",
       "95    External      mcc  0.304242\n",
       "\n",
       "[96 rows x 3 columns]"
      ]
     },
     "execution_count": 45,
     "metadata": {},
     "output_type": "execute_result"
    }
   ],
   "source": [
    "scores_df"
   ]
  },
  {
   "cell_type": "code",
   "execution_count": 65,
   "id": "d2ca9c17",
   "metadata": {},
   "outputs": [
    {
     "data": {
      "text/plain": [
       "Ttest_indResult(statistic=-0.03416856608444014, pvalue=0.5131057725589495)"
      ]
     },
     "execution_count": 65,
     "metadata": {},
     "output_type": "execute_result"
    }
   ],
   "source": [
    "from scipy.stats import ttest_ind\n",
    "ttest_ind(\n",
    "    scores_df.loc[(scores_df.set==\"Validation\") & (scores_df.variable == \"bacc\"), \"value\"],\n",
    "    scores_df.loc[(scores_df.set==\"External\") & (scores_df.variable == \"bacc\"), \"value\"],\n",
    "    equal_var=False, alternative=\"greater\"\n",
    ")"
   ]
  },
  {
   "cell_type": "code",
   "execution_count": 67,
   "id": "5974ccb2",
   "metadata": {},
   "outputs": [
    {
     "name": "stdout",
     "output_type": "stream",
     "text": [
      "0.0021858907124851757\n"
     ]
    }
   ],
   "source": [
    "print(scores_df.loc[(scores_df.set==\"Validation\") & (scores_df.variable == \"bacc\"), \"value\"].var())"
   ]
  },
  {
   "cell_type": "code",
   "execution_count": 69,
   "id": "dba9d178",
   "metadata": {},
   "outputs": [
    {
     "data": {
      "text/plain": [
       "7.341568137372976"
      ]
     },
     "execution_count": 69,
     "metadata": {},
     "output_type": "execute_result"
    }
   ],
   "source": [
    "def degrees_of_freedom(s1, n1, s2, n2):\n",
    "    numerator = (s1**2 / n1 + s2**2 / n2)**2\n",
    "    denominator = (s1**2 / n1)**2 / (n1 - 1) + (s2**2 / n2)**2 / (n2 - 1)\n",
    "    df = numerator / denominator\n",
    "    return df\n",
    "\n",
    "degrees_of_freedom(\n",
    "    scores_df.loc[(scores_df.set==\"Validation\") & (scores_df.variable == \"bacc\"), \"value\"].var(),\n",
    "    10,\n",
    "    scores_df.loc[(scores_df.set==\"External\") & (scores_df.variable == \"bacc\"), \"value\"].var(),\n",
    "    4,\n",
    ")"
   ]
  },
  {
   "cell_type": "code",
   "execution_count": 31,
   "id": "11ba263a",
   "metadata": {
    "scrolled": false
   },
   "outputs": [
    {
     "data": {
      "image/png": "[encoded data removed]",
      "text/plain": [
       "<Figure size 300x400 with 1 Axes>"
      ]
     },
     "metadata": {},
     "output_type": "display_data"
    }
   ],
   "source": [
    "plt.figure(figsize=(3, 4))\n",
    "\n",
    "sns.set_context(\"paper\")\n",
    "sns.barplot(\n",
    "    data=scores_df.loc[scores_df.variable == \"bacc\"], \n",
    "    x=\"variable\", \n",
    "    y=\"value\", \n",
    "    hue=\"set\",\n",
    "    palette=\"Blues\",\n",
    ")\n",
    "sns.stripplot(\n",
    "    data=scores_df.loc[scores_df.variable == \"bacc\"], \n",
    "    x=\"variable\", \n",
    "    y=\"value\", \n",
    "    hue=\"set\",\n",
    "    dodge=True,\n",
    "    color=\"black\",\n",
    ")\n",
    "\n",
    "plt.tight_layout()\n",
    "plt.ylim(0, 1)\n",
    "\n",
    "plt.savefig(\"huddle_performance.pdf\")\n",
    "\n",
    "plt.show()"
   ]
  },
  {
   "cell_type": "markdown",
   "id": "27ad40ac",
   "metadata": {
    "papermill": {
     "duration": 1.277872,
     "end_time": "2023-03-10T01:09:05.761591",
     "exception": false,
     "start_time": "2023-03-10T01:09:04.483719",
     "status": "completed"
    },
    "tags": []
   },
   "source": [
    "### Train and deploy full model"
   ]
  },
  {
   "cell_type": "code",
   "execution_count": null,
   "id": "54711570",
   "metadata": {
    "papermill": {
     "duration": 1.355588,
     "end_time": "2023-03-10T01:09:08.472753",
     "exception": false,
     "start_time": "2023-03-10T01:09:07.117165",
     "status": "completed"
    },
    "tags": []
   },
   "outputs": [],
   "source": [
    "huddle_clf = Pipeline(\n",
    "    [\n",
    "        (\"normalization\", StandardScaler()),\n",
    "        (\"oversampling\", SMOTE()),\n",
    "        (\"classifier\", GradientBoostingClassifier()),\n",
    "    ]\n",
    ")"
   ]
  },
  {
   "cell_type": "code",
   "execution_count": null,
   "id": "37854a72",
   "metadata": {},
   "outputs": [],
   "source": [
    "full_train_X = []\n",
    "full_train_y = []\n",
    "\n",
    "for dataset in supervised_benchmark_labels.keys():\n",
    "    for exp in supervised_benchmark_labels[dataset]:\n",
    "        full_train_X.append(supervised_benchmark_features[dataset][exp].values)\n",
    "        full_train_y.append(supervised_benchmark_labels[dataset][exp])\n",
    "    \n",
    "full_train_X = np.concatenate(full_train_X)\n",
    "full_train_y = np.concatenate(full_train_y)"
   ]
  },
  {
   "cell_type": "code",
   "execution_count": null,
   "id": "879f6c0b",
   "metadata": {},
   "outputs": [],
   "source": [
    "%%time\n",
    "huddle_clf.fit(full_train_X, full_train_y)"
   ]
  },
  {
   "cell_type": "code",
   "execution_count": null,
   "id": "c741415f",
   "metadata": {},
   "outputs": [],
   "source": [
    "with open(os.path.join(\"../../../deepof/trained_models/deepof_supervised/deepof_supervised_huddle_estimator.pkl\"), \"wb\") as handle:\n",
    "    pickle.dump(huddle_clf, handle, protocol=pickle.HIGHEST_PROTOCOL)"
   ]
  },
  {
   "cell_type": "markdown",
   "id": "72ceea95",
   "metadata": {},
   "source": [
    "### SHAP explanations of results"
   ]
  },
  {
   "cell_type": "code",
   "execution_count": null,
   "id": "11f94076",
   "metadata": {},
   "outputs": [],
   "source": [
    "import shap"
   ]
  },
  {
   "cell_type": "code",
   "execution_count": null,
   "id": "78825f14",
   "metadata": {},
   "outputs": [],
   "source": [
    "shap_X = pd.DataFrame(SI_internal_X).sample(2500).values"
   ]
  },
  {
   "cell_type": "code",
   "execution_count": null,
   "id": "f75e3ed9",
   "metadata": {},
   "outputs": [],
   "source": [
    "%%time\n",
    "explainer = shap.KernelExplainer(\n",
    "    huddle_clf.predict_proba,\n",
    "    data=shap.kmeans(SI_internal_X, 10),\n",
    "    normalize=False,\n",
    ")"
   ]
  },
  {
   "cell_type": "code",
   "execution_count": null,
   "id": "9d22896c",
   "metadata": {
    "scrolled": true
   },
   "outputs": [],
   "source": [
    "huddle_shap_values = explainer.shap_values(shap_X, nsamples=2500, n_jobs=-1)"
   ]
  },
  {
   "cell_type": "code",
   "execution_count": null,
   "id": "abce079c",
   "metadata": {},
   "outputs": [],
   "source": [
    "# with open(os.path.join(\"Huddle_clf_shap_GBM.pkl\"), \"wb\") as handle:\n",
    "#     pickle.dump(huddle_shap_values, handle, protocol=pickle.HIGHEST_PROTOCOL)\n",
    "    \n",
    "with open(os.path.join(\"Huddle_clf_shap_GBM.pkl\"), \"rb\") as handle:\n",
    "    huddle_shap_values = pickle.load(handle)"
   ]
  },
  {
   "cell_type": "code",
   "execution_count": null,
   "id": "10d04905",
   "metadata": {},
   "outputs": [],
   "source": [
    "# Plot shap results\n",
    "shap.summary_plot(\n",
    "    huddle_shap_values[1],\n",
    "    shap_X,\n",
    "    max_display=8,\n",
    "    show=False,\n",
    "    feature_names=list(list(supervised_benchmark_features.values())[0].values())[0].columns,\n",
    ")\n",
    "\n",
    "plt.tight_layout()\n",
    "plt.savefig(\"Huddle_shap.pdf\")"
   ]
  },
  {
   "cell_type": "code",
   "execution_count": null,
   "id": "68a99b6f",
   "metadata": {},
   "outputs": [],
   "source": []
  }
 ],
 "metadata": {
  "kernelspec": {
   "display_name": "deepof",
   "language": "python",
   "name": "deepof"
  },
  "language_info": {
   "codemirror_mode": {
    "name": "ipython",
    "version": 3
   },
   "file_extension": ".py",
   "mimetype": "text/x-python",
   "name": "python",
   "nbconvert_exporter": "python",
   "pygments_lexer": "ipython3",
   "version": "3.9.12"
  },
  "papermill": {
   "default_parameters": {},
   "duration": 15936.099046,
   "end_time": "2023-03-10T01:09:13.100057",
   "environment_variables": {},
   "exception": null,
   "input_path": "DeepOF_supervised_benchmark.ipynb",
   "output_path": "DeepOF_supervised_benchmark_out.ipynb",
   "parameters": {},
   "start_time": "2023-03-09T20:43:37.001011",
   "version": "2.4.0"
  },
  "widgets": {
   "application/vnd.jupyter.widget-state+json": {
    "state": {
     "12b5a987e59740a8ae659d2ed24a76bb": {
      "model_module": "@jupyter-widgets/base",
      "model_module_version": "2.0.0",
      "model_name": "LayoutModel",
      "state": {
       "_model_module": "@jupyter-widgets/base",
       "_model_module_version": "2.0.0",
       "_model_name": "LayoutModel",
       "_view_count": null,
       "_view_module": "@jupyter-widgets/base",
       "_view_module_version": "2.0.0",
       "_view_name": "LayoutView",
       "align_content": null,
       "align_items": null,
       "align_self": null,
       "border_bottom": null,
       "border_left": null,
       "border_right": null,
       "border_top": null,
       "bottom": null,
       "display": null,
       "flex": null,
       "flex_flow": null,
       "grid_area": null,
       "grid_auto_columns": null,
       "grid_auto_flow": null,
       "grid_auto_rows": null,
       "grid_column": null,
       "grid_gap": null,
       "grid_row": null,
       "grid_template_areas": null,
       "grid_template_columns": null,
       "grid_template_rows": null,
       "height": null,
       "justify_content": null,
       "justify_items": null,
       "left": null,
       "margin": null,
       "max_height": null,
       "max_width": null,
       "min_height": null,
       "min_width": null,
       "object_fit": null,
       "object_position": null,
       "order": null,
       "overflow": null,
       "padding": null,
       "right": null,
       "top": null,
       "visibility": null,
       "width": null
      }
     },
     "1717c79754bd49239a971b189be2b0f5": {
      "model_module": "@jupyter-widgets/base",
      "model_module_version": "2.0.0",
      "model_name": "LayoutModel",
      "state": {
       "_model_module": "@jupyter-widgets/base",
       "_model_module_version": "2.0.0",
       "_model_name": "LayoutModel",
       "_view_count": null,
       "_view_module": "@jupyter-widgets/base",
       "_view_module_version": "2.0.0",
       "_view_name": "LayoutView",
       "align_content": null,
       "align_items": null,
       "align_self": null,
       "border_bottom": null,
       "border_left": null,
       "border_right": null,
       "border_top": null,
       "bottom": null,
       "display": null,
       "flex": null,
       "flex_flow": null,
       "grid_area": null,
       "grid_auto_columns": null,
       "grid_auto_flow": null,
       "grid_auto_rows": null,
       "grid_column": null,
       "grid_gap": null,
       "grid_row": null,
       "grid_template_areas": null,
       "grid_template_columns": null,
       "grid_template_rows": null,
       "height": null,
       "justify_content": null,
       "justify_items": null,
       "left": null,
       "margin": null,
       "max_height": null,
       "max_width": null,
       "min_height": null,
       "min_width": null,
       "object_fit": null,
       "object_position": null,
       "order": null,
       "overflow": null,
       "padding": null,
       "right": null,
       "top": null,
       "visibility": null,
       "width": null
      }
     },
     "1a38b07322c8494881164188928c5c9e": {
      "model_module": "@jupyter-widgets/controls",
      "model_module_version": "2.0.0",
      "model_name": "HTMLStyleModel",
      "state": {
       "_model_module": "@jupyter-widgets/controls",
       "_model_module_version": "2.0.0",
       "_model_name": "HTMLStyleModel",
       "_view_count": null,
       "_view_module": "@jupyter-widgets/base",
       "_view_module_version": "2.0.0",
       "_view_name": "StyleView",
       "background": null,
       "description_width": "",
       "font_size": null,
       "text_color": null
      }
     },
     "2b543cea0a254f89adc5520cc14ccba3": {
      "model_module": "@jupyter-widgets/controls",
      "model_module_version": "2.0.0",
      "model_name": "HTMLModel",
      "state": {
       "_dom_classes": [],
       "_model_module": "@jupyter-widgets/controls",
       "_model_module_version": "2.0.0",
       "_model_name": "HTMLModel",
       "_view_count": null,
       "_view_module": "@jupyter-widgets/controls",
       "_view_module_version": "2.0.0",
       "_view_name": "HTMLView",
       "description": "",
       "description_allow_html": false,
       "layout": "IPY_MODEL_ff1c062ea7f94369a2cf5fb908afe0ae",
       "placeholder": "​",
       "style": "IPY_MODEL_9d6315869ba94d4ab68ab52655ec596f",
       "tabbable": null,
       "tooltip": null,
       "value": "100%"
      }
     },
     "2fd26a85d2dd4de4aa54739ba46e0604": {
      "model_module": "@jupyter-widgets/base",
      "model_module_version": "2.0.0",
      "model_name": "LayoutModel",
      "state": {
       "_model_module": "@jupyter-widgets/base",
       "_model_module_version": "2.0.0",
       "_model_name": "LayoutModel",
       "_view_count": null,
       "_view_module": "@jupyter-widgets/base",
       "_view_module_version": "2.0.0",
       "_view_name": "LayoutView",
       "align_content": null,
       "align_items": null,
       "align_self": null,
       "border_bottom": null,
       "border_left": null,
       "border_right": null,
       "border_top": null,
       "bottom": null,
       "display": null,
       "flex": null,
       "flex_flow": null,
       "grid_area": null,
       "grid_auto_columns": null,
       "grid_auto_flow": null,
       "grid_auto_rows": null,
       "grid_column": null,
       "grid_gap": null,
       "grid_row": null,
       "grid_template_areas": null,
       "grid_template_columns": null,
       "grid_template_rows": null,
       "height": null,
       "justify_content": null,
       "justify_items": null,
       "left": null,
       "margin": null,
       "max_height": null,
       "max_width": null,
       "min_height": null,
       "min_width": null,
       "object_fit": null,
       "object_position": null,
       "order": null,
       "overflow": null,
       "padding": null,
       "right": null,
       "top": null,
       "visibility": null,
       "width": null
      }
     },
     "4005a839ef2249dfa59bafc6da39fcce": {
      "model_module": "@jupyter-widgets/base",
      "model_module_version": "2.0.0",
      "model_name": "LayoutModel",
      "state": {
       "_model_module": "@jupyter-widgets/base",
       "_model_module_version": "2.0.0",
       "_model_name": "LayoutModel",
       "_view_count": null,
       "_view_module": "@jupyter-widgets/base",
       "_view_module_version": "2.0.0",
       "_view_name": "LayoutView",
       "align_content": null,
       "align_items": null,
       "align_self": null,
       "border_bottom": null,
       "border_left": null,
       "border_right": null,
       "border_top": null,
       "bottom": null,
       "display": null,
       "flex": null,
       "flex_flow": null,
       "grid_area": null,
       "grid_auto_columns": null,
       "grid_auto_flow": null,
       "grid_auto_rows": null,
       "grid_column": null,
       "grid_gap": null,
       "grid_row": null,
       "grid_template_areas": null,
       "grid_template_columns": null,
       "grid_template_rows": null,
       "height": null,
       "justify_content": null,
       "justify_items": null,
       "left": null,
       "margin": null,
       "max_height": null,
       "max_width": null,
       "min_height": null,
       "min_width": null,
       "object_fit": null,
       "object_position": null,
       "order": null,
       "overflow": null,
       "padding": null,
       "right": null,
       "top": null,
       "visibility": null,
       "width": null
      }
     },
     "478439ca673d4db6ba6cc2efa55515ef": {
      "model_module": "@jupyter-widgets/controls",
      "model_module_version": "2.0.0",
      "model_name": "FloatProgressModel",
      "state": {
       "_dom_classes": [],
       "_model_module": "@jupyter-widgets/controls",
       "_model_module_version": "2.0.0",
       "_model_name": "FloatProgressModel",
       "_view_count": null,
       "_view_module": "@jupyter-widgets/controls",
       "_view_module_version": "2.0.0",
       "_view_name": "ProgressView",
       "bar_style": "success",
       "description": "",
       "description_allow_html": false,
       "layout": "IPY_MODEL_2fd26a85d2dd4de4aa54739ba46e0604",
       "max": 20,
       "min": 0,
       "orientation": "horizontal",
       "style": "IPY_MODEL_feb21c4ff35f4b7ea9786da5d5b2d568",
       "tabbable": null,
       "tooltip": null,
       "value": 20
      }
     },
     "4c935957abee4b5a85fe6fd9dc0777bf": {
      "model_module": "@jupyter-widgets/base",
      "model_module_version": "2.0.0",
      "model_name": "LayoutModel",
      "state": {
       "_model_module": "@jupyter-widgets/base",
       "_model_module_version": "2.0.0",
       "_model_name": "LayoutModel",
       "_view_count": null,
       "_view_module": "@jupyter-widgets/base",
       "_view_module_version": "2.0.0",
       "_view_name": "LayoutView",
       "align_content": null,
       "align_items": null,
       "align_self": null,
       "border_bottom": null,
       "border_left": null,
       "border_right": null,
       "border_top": null,
       "bottom": null,
       "display": null,
       "flex": null,
       "flex_flow": null,
       "grid_area": null,
       "grid_auto_columns": null,
       "grid_auto_flow": null,
       "grid_auto_rows": null,
       "grid_column": null,
       "grid_gap": null,
       "grid_row": null,
       "grid_template_areas": null,
       "grid_template_columns": null,
       "grid_template_rows": null,
       "height": null,
       "justify_content": null,
       "justify_items": null,
       "left": null,
       "margin": null,
       "max_height": null,
       "max_width": null,
       "min_height": null,
       "min_width": null,
       "object_fit": null,
       "object_position": null,
       "order": null,
       "overflow": null,
       "padding": null,
       "right": null,
       "top": null,
       "visibility": null,
       "width": null
      }
     },
     "5e40f09eab2145ddb178f4240cfc6af9": {
      "model_module": "@jupyter-widgets/controls",
      "model_module_version": "2.0.0",
      "model_name": "HTMLModel",
      "state": {
       "_dom_classes": [],
       "_model_module": "@jupyter-widgets/controls",
       "_model_module_version": "2.0.0",
       "_model_name": "HTMLModel",
       "_view_count": null,
       "_view_module": "@jupyter-widgets/controls",
       "_view_module_version": "2.0.0",
       "_view_name": "HTMLView",
       "description": "",
       "description_allow_html": false,
       "layout": "IPY_MODEL_dae16b14abaa488abbed1c50e97b22dd",
       "placeholder": "​",
       "style": "IPY_MODEL_846197eb32154d8b8ca8791d7b420a0b",
       "tabbable": null,
       "tooltip": null,
       "value": "100%"
      }
     },
     "71d3265c298b47329c35b4df73acfcbd": {
      "model_module": "@jupyter-widgets/controls",
      "model_module_version": "2.0.0",
      "model_name": "ProgressStyleModel",
      "state": {
       "_model_module": "@jupyter-widgets/controls",
       "_model_module_version": "2.0.0",
       "_model_name": "ProgressStyleModel",
       "_view_count": null,
       "_view_module": "@jupyter-widgets/base",
       "_view_module_version": "2.0.0",
       "_view_name": "StyleView",
       "bar_color": null,
       "description_width": ""
      }
     },
     "7be4f30d54aa4d5eb47dfb2eb73257f2": {
      "model_module": "@jupyter-widgets/controls",
      "model_module_version": "2.0.0",
      "model_name": "HTMLStyleModel",
      "state": {
       "_model_module": "@jupyter-widgets/controls",
       "_model_module_version": "2.0.0",
       "_model_name": "HTMLStyleModel",
       "_view_count": null,
       "_view_module": "@jupyter-widgets/base",
       "_view_module_version": "2.0.0",
       "_view_name": "StyleView",
       "background": null,
       "description_width": "",
       "font_size": null,
       "text_color": null
      }
     },
     "82e7ef709b064563bfe127e48d5dc66c": {
      "model_module": "@jupyter-widgets/controls",
      "model_module_version": "2.0.0",
      "model_name": "HTMLModel",
      "state": {
       "_dom_classes": [],
       "_model_module": "@jupyter-widgets/controls",
       "_model_module_version": "2.0.0",
       "_model_name": "HTMLModel",
       "_view_count": null,
       "_view_module": "@jupyter-widgets/controls",
       "_view_module_version": "2.0.0",
       "_view_name": "HTMLView",
       "description": "",
       "description_allow_html": false,
       "layout": "IPY_MODEL_4c935957abee4b5a85fe6fd9dc0777bf",
       "placeholder": "​",
       "style": "IPY_MODEL_7be4f30d54aa4d5eb47dfb2eb73257f2",
       "tabbable": null,
       "tooltip": null,
       "value": " 20/20 [01:27&lt;00:00,  4.42s/it]"
      }
     },
     "846197eb32154d8b8ca8791d7b420a0b": {
      "model_module": "@jupyter-widgets/controls",
      "model_module_version": "2.0.0",
      "model_name": "HTMLStyleModel",
      "state": {
       "_model_module": "@jupyter-widgets/controls",
       "_model_module_version": "2.0.0",
       "_model_name": "HTMLStyleModel",
       "_view_count": null,
       "_view_module": "@jupyter-widgets/base",
       "_view_module_version": "2.0.0",
       "_view_name": "StyleView",
       "background": null,
       "description_width": "",
       "font_size": null,
       "text_color": null
      }
     },
     "85c48b3da1c84971974ffce538c67609": {
      "model_module": "@jupyter-widgets/base",
      "model_module_version": "2.0.0",
      "model_name": "LayoutModel",
      "state": {
       "_model_module": "@jupyter-widgets/base",
       "_model_module_version": "2.0.0",
       "_model_name": "LayoutModel",
       "_view_count": null,
       "_view_module": "@jupyter-widgets/base",
       "_view_module_version": "2.0.0",
       "_view_name": "LayoutView",
       "align_content": null,
       "align_items": null,
       "align_self": null,
       "border_bottom": null,
       "border_left": null,
       "border_right": null,
       "border_top": null,
       "bottom": null,
       "display": null,
       "flex": null,
       "flex_flow": null,
       "grid_area": null,
       "grid_auto_columns": null,
       "grid_auto_flow": null,
       "grid_auto_rows": null,
       "grid_column": null,
       "grid_gap": null,
       "grid_row": null,
       "grid_template_areas": null,
       "grid_template_columns": null,
       "grid_template_rows": null,
       "height": null,
       "justify_content": null,
       "justify_items": null,
       "left": null,
       "margin": null,
       "max_height": null,
       "max_width": null,
       "min_height": null,
       "min_width": null,
       "object_fit": null,
       "object_position": null,
       "order": null,
       "overflow": null,
       "padding": null,
       "right": null,
       "top": null,
       "visibility": null,
       "width": null
      }
     },
     "9d6315869ba94d4ab68ab52655ec596f": {
      "model_module": "@jupyter-widgets/controls",
      "model_module_version": "2.0.0",
      "model_name": "HTMLStyleModel",
      "state": {
       "_model_module": "@jupyter-widgets/controls",
       "_model_module_version": "2.0.0",
       "_model_name": "HTMLStyleModel",
       "_view_count": null,
       "_view_module": "@jupyter-widgets/base",
       "_view_module_version": "2.0.0",
       "_view_name": "StyleView",
       "background": null,
       "description_width": "",
       "font_size": null,
       "text_color": null
      }
     },
     "a5cf8013711b434eb18b3063c14a3439": {
      "model_module": "@jupyter-widgets/controls",
      "model_module_version": "2.0.0",
      "model_name": "HBoxModel",
      "state": {
       "_dom_classes": [],
       "_model_module": "@jupyter-widgets/controls",
       "_model_module_version": "2.0.0",
       "_model_name": "HBoxModel",
       "_view_count": null,
       "_view_module": "@jupyter-widgets/controls",
       "_view_module_version": "2.0.0",
       "_view_name": "HBoxView",
       "box_style": "",
       "children": [
        "IPY_MODEL_5e40f09eab2145ddb178f4240cfc6af9",
        "IPY_MODEL_df8c09e4d1284659aaeadca7f44ffa80",
        "IPY_MODEL_82e7ef709b064563bfe127e48d5dc66c"
       ],
       "layout": "IPY_MODEL_12b5a987e59740a8ae659d2ed24a76bb",
       "tabbable": null,
       "tooltip": null
      }
     },
     "dae16b14abaa488abbed1c50e97b22dd": {
      "model_module": "@jupyter-widgets/base",
      "model_module_version": "2.0.0",
      "model_name": "LayoutModel",
      "state": {
       "_model_module": "@jupyter-widgets/base",
       "_model_module_version": "2.0.0",
       "_model_name": "LayoutModel",
       "_view_count": null,
       "_view_module": "@jupyter-widgets/base",
       "_view_module_version": "2.0.0",
       "_view_name": "LayoutView",
       "align_content": null,
       "align_items": null,
       "align_self": null,
       "border_bottom": null,
       "border_left": null,
       "border_right": null,
       "border_top": null,
       "bottom": null,
       "display": null,
       "flex": null,
       "flex_flow": null,
       "grid_area": null,
       "grid_auto_columns": null,
       "grid_auto_flow": null,
       "grid_auto_rows": null,
       "grid_column": null,
       "grid_gap": null,
       "grid_row": null,
       "grid_template_areas": null,
       "grid_template_columns": null,
       "grid_template_rows": null,
       "height": null,
       "justify_content": null,
       "justify_items": null,
       "left": null,
       "margin": null,
       "max_height": null,
       "max_width": null,
       "min_height": null,
       "min_width": null,
       "object_fit": null,
       "object_position": null,
       "order": null,
       "overflow": null,
       "padding": null,
       "right": null,
       "top": null,
       "visibility": null,
       "width": null
      }
     },
     "deac4344bc8a44578270889d617fb60c": {
      "model_module": "@jupyter-widgets/controls",
      "model_module_version": "2.0.0",
      "model_name": "HTMLModel",
      "state": {
       "_dom_classes": [],
       "_model_module": "@jupyter-widgets/controls",
       "_model_module_version": "2.0.0",
       "_model_name": "HTMLModel",
       "_view_count": null,
       "_view_module": "@jupyter-widgets/controls",
       "_view_module_version": "2.0.0",
       "_view_name": "HTMLView",
       "description": "",
       "description_allow_html": false,
       "layout": "IPY_MODEL_85c48b3da1c84971974ffce538c67609",
       "placeholder": "​",
       "style": "IPY_MODEL_1a38b07322c8494881164188928c5c9e",
       "tabbable": null,
       "tooltip": null,
       "value": " 20/20 [23:54&lt;00:00, 78.03s/it]"
      }
     },
     "df8c09e4d1284659aaeadca7f44ffa80": {
      "model_module": "@jupyter-widgets/controls",
      "model_module_version": "2.0.0",
      "model_name": "FloatProgressModel",
      "state": {
       "_dom_classes": [],
       "_model_module": "@jupyter-widgets/controls",
       "_model_module_version": "2.0.0",
       "_model_name": "FloatProgressModel",
       "_view_count": null,
       "_view_module": "@jupyter-widgets/controls",
       "_view_module_version": "2.0.0",
       "_view_name": "ProgressView",
       "bar_style": "success",
       "description": "",
       "description_allow_html": false,
       "layout": "IPY_MODEL_4005a839ef2249dfa59bafc6da39fcce",
       "max": 20,
       "min": 0,
       "orientation": "horizontal",
       "style": "IPY_MODEL_71d3265c298b47329c35b4df73acfcbd",
       "tabbable": null,
       "tooltip": null,
       "value": 20
      }
     },
     "f1ff0199c50a4d4785bd7962ae4a6b65": {
      "model_module": "@jupyter-widgets/controls",
      "model_module_version": "2.0.0",
      "model_name": "HBoxModel",
      "state": {
       "_dom_classes": [],
       "_model_module": "@jupyter-widgets/controls",
       "_model_module_version": "2.0.0",
       "_model_name": "HBoxModel",
       "_view_count": null,
       "_view_module": "@jupyter-widgets/controls",
       "_view_module_version": "2.0.0",
       "_view_name": "HBoxView",
       "box_style": "",
       "children": [
        "IPY_MODEL_2b543cea0a254f89adc5520cc14ccba3",
        "IPY_MODEL_478439ca673d4db6ba6cc2efa55515ef",
        "IPY_MODEL_deac4344bc8a44578270889d617fb60c"
       ],
       "layout": "IPY_MODEL_1717c79754bd49239a971b189be2b0f5",
       "tabbable": null,
       "tooltip": null
      }
     },
     "feb21c4ff35f4b7ea9786da5d5b2d568": {
      "model_module": "@jupyter-widgets/controls",
      "model_module_version": "2.0.0",
      "model_name": "ProgressStyleModel",
      "state": {
       "_model_module": "@jupyter-widgets/controls",
       "_model_module_version": "2.0.0",
       "_model_name": "ProgressStyleModel",
       "_view_count": null,
       "_view_module": "@jupyter-widgets/base",
       "_view_module_version": "2.0.0",
       "_view_name": "StyleView",
       "bar_color": null,
       "description_width": ""
      }
     },
     "ff1c062ea7f94369a2cf5fb908afe0ae": {
      "model_module": "@jupyter-widgets/base",
      "model_module_version": "2.0.0",
      "model_name": "LayoutModel",
      "state": {
       "_model_module": "@jupyter-widgets/base",
       "_model_module_version": "2.0.0",
       "_model_name": "LayoutModel",
       "_view_count": null,
       "_view_module": "@jupyter-widgets/base",
       "_view_module_version": "2.0.0",
       "_view_name": "LayoutView",
       "align_content": null,
       "align_items": null,
       "align_self": null,
       "border_bottom": null,
       "border_left": null,
       "border_right": null,
       "border_top": null,
       "bottom": null,
       "display": null,
       "flex": null,
       "flex_flow": null,
       "grid_area": null,
       "grid_auto_columns": null,
       "grid_auto_flow": null,
       "grid_auto_rows": null,
       "grid_column": null,
       "grid_gap": null,
       "grid_row": null,
       "grid_template_areas": null,
       "grid_template_columns": null,
       "grid_template_rows": null,
       "height": null,
       "justify_content": null,
       "justify_items": null,
       "left": null,
       "margin": null,
       "max_height": null,
       "max_width": null,
       "min_height": null,
       "min_width": null,
       "object_fit": null,
       "object_position": null,
       "order": null,
       "overflow": null,
       "padding": null,
       "right": null,
       "top": null,
       "visibility": null,
       "width": null
      }
     }
    },
    "version_major": 2,
    "version_minor": 0
   }
  }
 },
 "nbformat": 4,
 "nbformat_minor": 5
}
