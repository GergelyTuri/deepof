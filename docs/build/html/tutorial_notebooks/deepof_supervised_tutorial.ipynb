{
 "cells": [
  {
   "cell_type": "markdown",
   "id": "1763ab7f",
   "metadata": {},
   "source": [
    "# DeepOF supervised pipeline: detecting pre-defined behaviors"
   ]
  },
  {
   "cell_type": "code",
   "execution_count": 1,
   "id": "5e676662",
   "metadata": {},
   "outputs": [],
   "source": [
    "# Testing tutorial"
   ]
  },
  {
   "cell_type": "code",
   "execution_count": 2,
   "id": "7b57bdf8",
   "metadata": {},
   "outputs": [
    {
     "data": {
      "text/plain": [
       "2"
      ]
     },
     "execution_count": 2,
     "metadata": {},
     "output_type": "execute_result"
    }
   ],
   "source": [
    "1+1"
   ]
  },
  {
   "cell_type": "code",
   "execution_count": 4,
   "id": "7a500aee",
   "metadata": {},
   "outputs": [],
   "source": [
    "# More coming soon!"
   ]
  },
  {
   "cell_type": "code",
   "execution_count": null,
   "id": "6382da27",
   "metadata": {},
   "outputs": [],
   "source": []
  }
 ],
 "metadata": {
  "kernelspec": {
   "display_name": "Python 3 (ipykernel)",
   "language": "python",
   "name": "python3"
  },
  "language_info": {
   "codemirror_mode": {
    "name": "ipython",
    "version": 3
   },
   "file_extension": ".py",
   "mimetype": "text/x-python",
   "name": "python",
   "nbconvert_exporter": "python",
   "pygments_lexer": "ipython3",
   "version": "3.9.12"
  }
 },
 "nbformat": 4,
 "nbformat_minor": 5
}
