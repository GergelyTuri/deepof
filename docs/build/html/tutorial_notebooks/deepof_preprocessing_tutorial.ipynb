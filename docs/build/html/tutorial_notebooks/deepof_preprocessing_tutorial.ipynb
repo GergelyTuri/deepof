{
 "cells": [
  {
   "cell_type": "markdown",
   "id": "3db3b346",
   "metadata": {},
   "source": [
    "# Formatting your data: feature extraction from DLC output"
   ]
  },
  {
   "cell_type": "code",
   "execution_count": 1,
   "id": "1bcd1fcd",
   "metadata": {},
   "outputs": [],
   "source": [
    "# Testing tutorial"
   ]
  },
  {
   "cell_type": "code",
   "execution_count": 2,
   "id": "ba43a589",
   "metadata": {},
   "outputs": [
    {
     "data": {
      "text/plain": [
       "2"
      ]
     },
     "execution_count": 2,
     "metadata": {},
     "output_type": "execute_result"
    }
   ],
   "source": [
    "1+1"
   ]
  },
  {
   "cell_type": "code",
   "execution_count": null,
   "id": "4922790f",
   "metadata": {},
   "outputs": [],
   "source": []
  }
 ],
 "metadata": {
  "kernelspec": {
   "display_name": "Python 3 (ipykernel)",
   "language": "python",
   "name": "python3"
  },
  "language_info": {
   "codemirror_mode": {
    "name": "ipython",
    "version": 3
   },
   "file_extension": ".py",
   "mimetype": "text/x-python",
   "name": "python",
   "nbconvert_exporter": "python",
   "pygments_lexer": "ipython3",
   "version": "3.9.12"
  }
 },
 "nbformat": 4,
 "nbformat_minor": 5
}
